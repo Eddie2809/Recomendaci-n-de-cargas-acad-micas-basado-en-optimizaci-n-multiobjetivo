{
 "cells": [
  {
   "cell_type": "code",
   "execution_count": null,
   "id": "aaed8d4c",
   "metadata": {},
   "outputs": [],
   "source": [
    "import pandas as pd\n",
    "import numpy as np\n",
    "from bitarray import bitarray\n",
    "import sys"
   ]
  },
  {
   "cell_type": "markdown",
   "id": "f12237a9",
   "metadata": {},
   "source": [
    "# Limpieza y preparación de los datos"
   ]
  },
  {
   "cell_type": "markdown",
   "id": "2e6f04ef",
   "metadata": {},
   "source": [
    "## Lectura de datos"
   ]
  },
  {
   "cell_type": "code",
   "execution_count": null,
   "id": "5628e655",
   "metadata": {},
   "outputs": [],
   "source": [
    "d16 = pd.read_csv('./datos/datos_2016.csv')\n",
    "d17 = pd.read_csv('./datos/datos_2017.csv')\n",
    "d18 = pd.read_csv('./datos/datos_2018.csv')\n",
    "d19 = pd.read_csv('./datos/datos_2019.csv')\n",
    "d2021 = pd.read_csv('./datos/2020_2021.csv')"
   ]
  },
  {
   "cell_type": "code",
   "execution_count": null,
   "id": "b24a593a",
   "metadata": {},
   "outputs": [],
   "source": [
    "asignaturas = pd.read_csv('asignaturas2.csv',encoding = 'ISO-8859-1')"
   ]
  },
  {
   "cell_type": "code",
   "execution_count": null,
   "id": "6aeaecee",
   "metadata": {},
   "outputs": [],
   "source": [
    "plan_2016 = asignaturas.query('plan == \"IDP2016\"')"
   ]
  },
  {
   "cell_type": "code",
   "execution_count": null,
   "id": "fdebc6aa",
   "metadata": {},
   "outputs": [],
   "source": [
    "oferta = pd.read_csv('oferta_ideio.csv',encoding = 'ISO-8859-1')"
   ]
  },
  {
   "cell_type": "code",
   "execution_count": null,
   "id": "80f9af9b",
   "metadata": {},
   "outputs": [],
   "source": [
    "seriaciones = pd.read_csv('seriacion.csv')"
   ]
  },
  {
   "cell_type": "markdown",
   "id": "a2775745",
   "metadata": {},
   "source": [
    "## Visualización de datos"
   ]
  },
  {
   "cell_type": "code",
   "execution_count": null,
   "id": "6a3468fc",
   "metadata": {},
   "outputs": [],
   "source": [
    "d16.head()"
   ]
  },
  {
   "cell_type": "code",
   "execution_count": null,
   "id": "83b94bec",
   "metadata": {},
   "outputs": [],
   "source": [
    "d2021.head()"
   ]
  },
  {
   "cell_type": "code",
   "execution_count": null,
   "id": "620bc9da",
   "metadata": {},
   "outputs": [],
   "source": [
    "asignaturas.head()"
   ]
  },
  {
   "cell_type": "code",
   "execution_count": null,
   "id": "d7592332",
   "metadata": {},
   "outputs": [],
   "source": [
    "plan_2016.head()"
   ]
  },
  {
   "cell_type": "code",
   "execution_count": null,
   "id": "56dfe1db",
   "metadata": {},
   "outputs": [],
   "source": [
    "oferta.head()"
   ]
  },
  {
   "cell_type": "code",
   "execution_count": null,
   "id": "43714bb4",
   "metadata": {},
   "outputs": [],
   "source": [
    "seriaciones.head()"
   ]
  },
  {
   "cell_type": "markdown",
   "id": "bfd69931",
   "metadata": {},
   "source": [
    "## Limpieza de datos"
   ]
  },
  {
   "cell_type": "code",
   "execution_count": null,
   "id": "df8e39c4",
   "metadata": {},
   "outputs": [],
   "source": [
    "cargas16_19 = pd.concat([d16,d17,d18,d19])\n",
    "cargas20_21 = d2021"
   ]
  },
  {
   "cell_type": "code",
   "execution_count": null,
   "id": "4ae45e39",
   "metadata": {},
   "outputs": [],
   "source": [
    "cargas16_19 = cargas16_19.query('carrera == \"Ingeniería en Datos e Inteligencia Organizacional\"')"
   ]
  },
  {
   "cell_type": "code",
   "execution_count": null,
   "id": "d39831e8",
   "metadata": {},
   "outputs": [],
   "source": [
    "cargas16_19 = cargas16_19[['Unnamed: 0', 'carrera', 'periodo', 'clave', 'asignatura',\n",
    "       'promediofinal', 'docente', 'ceveval_global', 'ceneval_analitico',\n",
    "       'ceneval_matematico', 'ceneval_lengua', 'ceneval_esp',\n",
    "       'n_matricula']]"
   ]
  },
  {
   "cell_type": "code",
   "execution_count": null,
   "id": "7cc3c245",
   "metadata": {},
   "outputs": [],
   "source": [
    "matriculas16 = cargas16_19.query('n_matricula > 160000000 and n_matricula < 170000000')['n_matricula'].unique()\n",
    "matriculas17 = cargas16_19.query('n_matricula > 170000000 and n_matricula < 180000000')['n_matricula'].unique()\n",
    "matriculas18 = cargas16_19.query('n_matricula > 180000000 and n_matricula < 190000000')['n_matricula'].unique()\n",
    "matriculas19 = cargas16_19.query('n_matricula > 190000000 and n_matricula < 200000000')['n_matricula'].unique()\n",
    "matriculas20 = cargas20_21.query('n_matricula > 200000000 and n_matricula < 210000000')['n_matricula'].unique()\n",
    "matriculas21 = cargas20_21.query('n_matricula > 210000000 and n_matricula < 220000000')['n_matricula'].unique()"
   ]
  },
  {
   "cell_type": "code",
   "execution_count": null,
   "id": "d73ab148",
   "metadata": {},
   "outputs": [],
   "source": [
    "matriculas = np.concatenate((matriculas16, matriculas17,matriculas18,matriculas19,matriculas20,matriculas21))"
   ]
  },
  {
   "cell_type": "code",
   "execution_count": null,
   "id": "ef8cdacc",
   "metadata": {},
   "outputs": [],
   "source": [
    "cargas20_21 = cargas20_21.rename(columns={'programa': 'carrera'})"
   ]
  },
  {
   "cell_type": "code",
   "execution_count": null,
   "id": "44964db8",
   "metadata": {},
   "outputs": [],
   "source": [
    "formato_cargas20_21 = cargas20_21[['carrera', 'periodo', 'clave', 'asignatura','docente','n_matricula','promediofinal']]\n",
    "formato_cargas16_19 = cargas16_19[['carrera', 'periodo', 'clave', 'asignatura','docente','n_matricula','promediofinal']]\n",
    "\n",
    "formato_cargas = pd.concat([formato_cargas16_19,formato_cargas20_21])"
   ]
  },
  {
   "cell_type": "code",
   "execution_count": null,
   "id": "633c5c03",
   "metadata": {},
   "outputs": [],
   "source": [
    "oferta = oferta[['Clave','Nombre', 'Maestro', 'Lunes','Martes', 'Miercoles', 'Jueves', 'Viernes', 'Sabado']]"
   ]
  },
  {
   "cell_type": "code",
   "execution_count": null,
   "id": "ccdf4d3c",
   "metadata": {},
   "outputs": [],
   "source": [
    "oferta['Lunes'].unique()"
   ]
  },
  {
   "cell_type": "code",
   "execution_count": null,
   "id": "e66bb055",
   "metadata": {},
   "outputs": [],
   "source": [
    "oferta['Martes'].unique()"
   ]
  },
  {
   "cell_type": "code",
   "execution_count": null,
   "id": "95d37d10",
   "metadata": {},
   "outputs": [],
   "source": [
    "oferta['Miercoles'].unique()"
   ]
  },
  {
   "cell_type": "code",
   "execution_count": null,
   "id": "4012117e",
   "metadata": {},
   "outputs": [],
   "source": [
    "oferta['Jueves'].unique()"
   ]
  },
  {
   "cell_type": "code",
   "execution_count": null,
   "id": "f49a2152",
   "metadata": {},
   "outputs": [],
   "source": [
    "oferta['Viernes'].unique()"
   ]
  },
  {
   "cell_type": "code",
   "execution_count": null,
   "id": "45eecfeb",
   "metadata": {},
   "outputs": [],
   "source": [
    "oferta.loc[36,'Miercoles'] = '13:00-15:00'"
   ]
  },
  {
   "cell_type": "code",
   "execution_count": null,
   "id": "ef6278f8",
   "metadata": {},
   "outputs": [],
   "source": [
    "oferta['Miercoles'].unique()"
   ]
  },
  {
   "cell_type": "code",
   "execution_count": null,
   "id": "733f2c7d",
   "metadata": {},
   "outputs": [],
   "source": [
    "def formatoHora(hora):\n",
    "    if len(hora) == 11:\n",
    "        return hora\n",
    "    elif len(hora) == 10:\n",
    "        return '0' + hora\n",
    "    elif len(hora) == 9:\n",
    "        return '0' + hora[0:5] + '0' + hora[5:]\n",
    "    elif len(hora) == 1:\n",
    "        return '-'"
   ]
  },
  {
   "cell_type": "code",
   "execution_count": null,
   "id": "cbbef837",
   "metadata": {},
   "outputs": [],
   "source": [
    "oferta['Lunes'] = oferta['Lunes'].apply(lambda horas: formatoHora(horas))\n",
    "oferta['Martes'] = oferta['Martes'].apply(lambda horas: formatoHora(horas))\n",
    "oferta['Miercoles'] = oferta['Miercoles'].apply(lambda horas: formatoHora(horas))\n",
    "oferta['Jueves'] = oferta['Jueves'].apply(lambda horas: formatoHora(horas))\n",
    "oferta['Viernes'] = oferta['Viernes'].apply(lambda horas: formatoHora(horas))"
   ]
  },
  {
   "cell_type": "markdown",
   "id": "e270f83a",
   "metadata": {},
   "source": [
    "# Definición de funciones útiles"
   ]
  },
  {
   "cell_type": "markdown",
   "id": "650e1224",
   "metadata": {},
   "source": [
    "## Función para obtener un Kardex aleatorio"
   ]
  },
  {
   "cell_type": "code",
   "execution_count": null,
   "id": "a693ee2c",
   "metadata": {},
   "outputs": [],
   "source": [
    "def obtenerKardex(mat = -1):\n",
    "    if(mat == -1):\n",
    "        mat = np.random.choice(matriculas)\n",
    "    return formato_cargas.query('n_matricula == ' + str(mat)).sort_values('periodo')"
   ]
  },
  {
   "cell_type": "code",
   "execution_count": null,
   "id": "9e6b7984",
   "metadata": {},
   "outputs": [],
   "source": [
    "kardex = obtenerKardex()"
   ]
  },
  {
   "cell_type": "markdown",
   "id": "6bdec6b6",
   "metadata": {},
   "source": [
    "## Obtención de oferta útil"
   ]
  },
  {
   "cell_type": "markdown",
   "id": "405891da",
   "metadata": {},
   "source": [
    "En este sección se crea la función \"obtenerOfertaUtil\" la cual filtra la oferta académica para eliminar las materias que no cumplen con la restricción de llevar materias aprobadas y la restricción de llevar materias que no respeten la seriación."
   ]
  },
  {
   "cell_type": "code",
   "execution_count": null,
   "id": "1c9e8089",
   "metadata": {},
   "outputs": [],
   "source": [
    "def materiaHaSidoAprobada(kardex,clave):\n",
    "    if len(kardex.query('clave == \"' + clave + '\" and promediofinal >= 7')) == 0:\n",
    "        return False\n",
    "    else:\n",
    "        return True"
   ]
  },
  {
   "cell_type": "code",
   "execution_count": null,
   "id": "53bcefea",
   "metadata": {},
   "outputs": [],
   "source": [
    "def respetaSeriacion(clave,kardex):\n",
    "    if len(seriaciones.query('ser2 == \"' + clave + '\"')) == 0:\n",
    "        return True\n",
    "    else:\n",
    "        #Se guarda en necesarias la lista de asignaturas necesarias para llevar la asignura \"clave\"\n",
    "        necesarias = seriaciones.query('ser2 == \"' + clave + '\"')['ser1'].unique()\n",
    "        \n",
    "        #Se recorre la lista para comprobar si el estudiante ya pasó las asignaturas necesarias, en caso de que le falte \n",
    "        #al menos una, entonces no se respeta la seriación.\n",
    "        for necesaria in necesarias:\n",
    "            if materiaHaSidoAprobada(kardex,necesaria):\n",
    "                return False\n",
    "        return True"
   ]
  },
  {
   "cell_type": "code",
   "execution_count": null,
   "id": "636cba1b",
   "metadata": {},
   "outputs": [],
   "source": [
    "#Filtra las materias que no cumplen las restricciones 1 y 2\n",
    "\n",
    "def obtenerOfertaUtil(kardex,oferta):\n",
    "    #Se eliminan las materias en la oferta que ya han sido aprobadas\n",
    "    aprobadas = kardex.query('promediofinal >= 7')['clave'].unique()\n",
    "    for clave in aprobadas:\n",
    "        oferta = oferta.query('Clave != \"' + clave + '\"')\n",
    "        \n",
    "    #Se eliminan las materias que el alumno no puede llevar por la seriación\n",
    "    ofertaUtilIndex = []\n",
    "    for i in range(len(oferta)):\n",
    "        if respetaSeriacion(oferta.iloc[i]['Clave'],kardex):\n",
    "            ofertaUtilIndex.append(i)\n",
    "    ofertaUtil = oferta.iloc[ofertaUtilIndex]\n",
    "    return ofertaUtil"
   ]
  },
  {
   "cell_type": "code",
   "execution_count": null,
   "id": "4a548591",
   "metadata": {},
   "outputs": [],
   "source": [
    "ofertaUtil = obtenerOfertaUtil(kardex,oferta)"
   ]
  },
  {
   "cell_type": "markdown",
   "id": "7c1c3848",
   "metadata": {},
   "source": [
    "## Generación de carga aleatoria válida"
   ]
  },
  {
   "cell_type": "markdown",
   "id": "26e2a14b",
   "metadata": {},
   "source": [
    "#### NOTA: Tomar en cuenta materias repetidas y por ahora descartar talleres deportivos, artísticos, lengua inglesa y prácticas profesionales"
   ]
  },
  {
   "cell_type": "markdown",
   "id": "a66d78f1",
   "metadata": {},
   "source": [
    "En esta sección creamos las funciones \"generarCargaValida\" la cual retorna una string de bits representando una carga académica con base a la oferta útil. También se crea la función \"obtenerDatosCarga\" que nos ayuda a obtener los datos de una carga académica con base a la oferta útil y a una string de bits que denominamos \"bits de carga\""
   ]
  },
  {
   "cell_type": "code",
   "execution_count": null,
   "id": "b4e6c32b",
   "metadata": {},
   "outputs": [],
   "source": [
    "def obtenerBitsDeCarga(ofertaUtil):\n",
    "    bitsDeCarga = bitarray(len(ofertaUtil))\n",
    "    bitsDeCarga[:] = 0\n",
    "    return bitsDeCarga"
   ]
  },
  {
   "cell_type": "code",
   "execution_count": null,
   "id": "df3c63ab",
   "metadata": {},
   "outputs": [],
   "source": [
    "def obtenerDatosCarga(bitsDeCarga,ofertaUtil):\n",
    "    cargaIndex = []\n",
    "    for i in range(len(bitsDeCarga)):\n",
    "        if bitsDeCarga[i] == 1:\n",
    "            cargaIndex.append(i)\n",
    "\n",
    "    datosCarga = ofertaUtil.iloc[cargaIndex]\n",
    "    return datosCarga"
   ]
  },
  {
   "cell_type": "code",
   "execution_count": null,
   "id": "8aee5791",
   "metadata": {},
   "outputs": [],
   "source": [
    "def generarCargaAleatoria(ofertaUtil):\n",
    "    bitsDeCarga = obtenerBitsDeCarga(ofertaUtil)\n",
    "    tamanoCarga = np.random.randint(3,10)\n",
    "    \n",
    "    materiasCargadas = set()\n",
    "    \n",
    "    for i in range(tamanoCarga):\n",
    "        posicion = np.random.randint(0,len(bitsDeCarga))\n",
    "        clave = ofertaUtil.iloc[posicion]['Clave']\n",
    "        while bitsDeCarga[posicion] == 1 or clave in materiasCargadas:\n",
    "            clave = ofertaUtil.iloc[posicion]['Clave']\n",
    "            posicion = np.random.randint(0,len(bitsDeCarga))\n",
    "        materiasCargadas.add(ofertaUtil.iloc[posicion]['Clave'])\n",
    "        bitsDeCarga[posicion] = 1\n",
    "    return bitsDeCarga"
   ]
  },
  {
   "cell_type": "code",
   "execution_count": null,
   "id": "d49e48ef",
   "metadata": {},
   "outputs": [],
   "source": [
    "def comprobarTraslapacion(bitsDeCarga,ofertaUtil):\n",
    "    datosCarga = obtenerDatosCarga(bitsDeCarga,ofertaUtil)\n",
    "    dias = ['Lunes','Martes','Miercoles','Jueves','Viernes','Sabado']\n",
    "    \n",
    "    for dia in dias:\n",
    "        horarioDia = datosCarga.sort_values(dia)[dia].values\n",
    "        for i in range(len(horarioDia)):\n",
    "            if horarioDia[i] == '-':\n",
    "                continue\n",
    "            horaInicioI = int(horarioDia[i][0:2])\n",
    "            horaFinI = int(horarioDia[i][6:8])\n",
    "            \n",
    "            for j in range(i+1,len(horarioDia)):\n",
    "                horaInicioJ = int(horarioDia[j][0:2])\n",
    "                horaFinJ = int(horarioDia[j][6:8])\n",
    "                \n",
    "                if not(horaFinJ  <= horaInicioI or horaInicioJ >= horaFinI):\n",
    "                    return True\n",
    "    return False"
   ]
  },
  {
   "cell_type": "code",
   "execution_count": null,
   "id": "584ec5ea",
   "metadata": {},
   "outputs": [],
   "source": [
    "def esValido(cromosoma,ofertaUtil):\n",
    "    #Si tiene mas de 9 materias es invalido\n",
    "    if(sum(cromosoma) > 9):\n",
    "        return False\n",
    "    #Si se repite una materia es inválido\n",
    "    datosCarga = obtenerDatosCarga(cromosoma,ofertaUtil)\n",
    "    if len(datosCarga['Clave'].unique()) < len(datosCarga):\n",
    "        return False\n",
    "    #Si se traslapan dos materias es inválido\n",
    "    if comprobarTraslapacion(cromosoma,ofertaUtil):\n",
    "        return False\n",
    "    return True"
   ]
  },
  {
   "cell_type": "code",
   "execution_count": null,
   "id": "b37d67d9",
   "metadata": {},
   "outputs": [],
   "source": [
    "def generarCargaValida(ofertaUtil):\n",
    "    bitsDeCarga = generarCargaAleatoria(ofertaUtil)\n",
    "    \n",
    "    while esValido(bitsDeCarga,ofertaUtil):\n",
    "        bitsDeCarga = generarCargaAleatoria(ofertaUtil)\n",
    "    \n",
    "    return bitsDeCarga"
   ]
  },
  {
   "cell_type": "code",
   "execution_count": null,
   "id": "efaf31c1",
   "metadata": {},
   "outputs": [],
   "source": [
    "bitsDeCarga = generarCargaValida(ofertaUtil)"
   ]
  },
  {
   "cell_type": "markdown",
   "id": "ce892328",
   "metadata": {},
   "source": [
    "# Definición de funciones de utilidad y de costo"
   ]
  },
  {
   "cell_type": "markdown",
   "id": "3b187491",
   "metadata": {},
   "source": [
    "## Utilidad de carga académica con base en las materias reprobadas"
   ]
  },
  {
   "cell_type": "code",
   "execution_count": null,
   "id": "65b92edf",
   "metadata": {},
   "outputs": [],
   "source": [
    "def obtenerMateriasReprobadas(kardex):\n",
    "    materiasReprobadas = kardex.query('promediofinal < 7')['clave'].unique()\n",
    "    materiasReprobadasFinal = []\n",
    "    for clave in materiasReprobadas:\n",
    "        aprobado = len(kardex.query('clave == \"' + clave + '\" and promediofinal >= 7'))\n",
    "        if aprobado == 0:\n",
    "            materiasReprobadasFinal.append(clave)\n",
    "    return materiasReprobadasFinal"
   ]
  },
  {
   "cell_type": "code",
   "execution_count": null,
   "id": "3a2e830e",
   "metadata": {},
   "outputs": [],
   "source": [
    "def obtenerUtilidadMateriasReprobadas(kardex,bitsDeCarga,ofertaUtil):\n",
    "    materiasReprobadas = obtenerMateriasReprobadas(kardex)\n",
    "    if len(materiasReprobadas) == 0:\n",
    "        return 0\n",
    "    datosCarga = obtenerDatosCarga(bitsDeCarga,ofertaUtil)\n",
    "    utilidadTotal = 0\n",
    "    \n",
    "    for clave in materiasReprobadas:\n",
    "        cargado = len(datosCarga.query('Clave == \"' + clave + '\"'))\n",
    "        if cargado == 1:\n",
    "            utilidadTotal += 1\n",
    "            \n",
    "    \n",
    "    #Normalización\n",
    "    utilidad = (utilidadTotal)/(len(materiasReprobadas))\n",
    "    return utilidad"
   ]
  },
  {
   "cell_type": "code",
   "execution_count": null,
   "id": "999c78cb",
   "metadata": {},
   "outputs": [],
   "source": [
    "obtenerUtilidadMateriasReprobadas(kardex,bitsDeCarga,ofertaUtil)"
   ]
  },
  {
   "cell_type": "markdown",
   "id": "3385911a",
   "metadata": {},
   "source": [
    "## Utilidad de carga académica con base en el cierre de ciclos"
   ]
  },
  {
   "cell_type": "code",
   "execution_count": null,
   "id": "b311b785",
   "metadata": {},
   "outputs": [],
   "source": [
    "def utilidadCerrarCiclos(bitsDeCarga,ofertaUtil):\n",
    "    utilidad = [27,9,3,1]\n",
    "    utilidadTotal = 0\n",
    "    \n",
    "    datosCarga = obtenerDatosCarga(bitsDeCarga,ofertaUtil)\n",
    "    \n",
    "    claves = datosCarga['Clave'].unique()\n",
    "    for i in range(len(claves)):\n",
    "        if claves[i][0:2] == 'AD'or claves[i][0:2] == 'TA' or claves[i][0:2] == 'LI' or claves[i][0:2] == 'PI':\n",
    "            continue\n",
    "            \n",
    "        ciclo = int(plan_2016.query('clave == \"' + claves[i] + '\"')['ciclos'])\n",
    "        utilidadTotal += utilidad[ciclo-1]\n",
    "    \n",
    "    #Normalización\n",
    "    utilidadNorm = (utilidadTotal)/(utilidad[0]*9)\n",
    "    return utilidadNorm"
   ]
  },
  {
   "cell_type": "code",
   "execution_count": null,
   "id": "5f0fc3c4",
   "metadata": {},
   "outputs": [],
   "source": [
    "utilidadCerrarCiclos(bitsDeCarga,ofertaUtil)"
   ]
  },
  {
   "cell_type": "markdown",
   "id": "3055acdc",
   "metadata": {},
   "source": [
    "## Costo de carga académica con base en las horas libres"
   ]
  },
  {
   "cell_type": "markdown",
   "id": "8e3c3124",
   "metadata": {},
   "source": [
    "#### NOTA: Tomar en cuenta las horas libres por día"
   ]
  },
  {
   "cell_type": "code",
   "execution_count": null,
   "id": "de37cf1b",
   "metadata": {},
   "outputs": [],
   "source": [
    "def costoHorasLibres(bitsDeCarga,ofertaUtil):\n",
    "    dias = ['Lunes','Martes','Miercoles','Jueves','Viernes','Sabado']\n",
    "    costoTotal = 0\n",
    "    \n",
    "    datosCarga = obtenerDatosCarga(bitsDeCarga,ofertaUtil)\n",
    "    \n",
    "    for dia in dias:\n",
    "        datosCarga = datosCarga.sort_values(dia)\n",
    "        ultimaHoraFin = 0\n",
    "        for i in range(len(datosCarga)):\n",
    "            if datosCarga.iloc[i][dia] == '-':\n",
    "                continue\n",
    "            if ultimaHoraFin == 0:\n",
    "                ultimaHoraFin = int(datosCarga.iloc[i][dia][6:8])\n",
    "                continue\n",
    "            horaInicio = int(datosCarga.iloc[i][dia][0:2])\n",
    "            costoTotal += (horaInicio - ultimaHoraFin)\n",
    "            ultimaHoraFin = int(datosCarga.iloc[i][dia][6:8])\n",
    "          \n",
    "    #Normalización\n",
    "    costo = (costoTotal)/(78)\n",
    "    return costo"
   ]
  },
  {
   "cell_type": "code",
   "execution_count": null,
   "id": "7217513a",
   "metadata": {},
   "outputs": [],
   "source": [
    "costoHorasLibres(bitsDeCarga,ofertaUtil)"
   ]
  },
  {
   "cell_type": "markdown",
   "id": "25015bdb",
   "metadata": {},
   "source": [
    "## Costo de carga académica con base en la disponibilidad de horario del estudiante"
   ]
  },
  {
   "cell_type": "markdown",
   "id": "73d999ec",
   "metadata": {},
   "source": [
    "Creamos 4 casos diferentes donde los estudiantes trabajan. Guardamos el horario de ocupación de los estudiantes en un dataframe por cada estudiante."
   ]
  },
  {
   "cell_type": "code",
   "execution_count": null,
   "id": "709995e9",
   "metadata": {},
   "outputs": [],
   "source": [
    "# El estudiante trabaja por las mañanas tiempo completo\n",
    "disp_est_1 = pd.DataFrame({\n",
    "    \"hora\": [7,8,9,10,11,12,13,14,15,16,17,18,19,20,21],\n",
    "    \"Lunes\": [False,False,False,False,False,False,False,False,False,True,True,True,True,True,True],\n",
    "    \"Martes\": [False,False,False,False,False,False,False,False,False,True,True,True,True,True,True],\n",
    "    \"Miercoles\": [False,False,False,False,False,False,False,False,False,True,True,True,True,True,True],\n",
    "    \"Jueves\": [False,False,False,False,False,False,False,False,False,True,True,True,True,True,True],\n",
    "    \"Viernes\": [False,False,False,False,False,False,False,False,False,True,True,True,True,True,True],\n",
    "    \"Sabado\": [False,False,False,False,False,False,False,False,False,True,True,True,True,True,True]\n",
    "})\n",
    "\n",
    "\n",
    "# El estudiante trabaja por las tardes tiempo completo\n",
    "disp_est_2 = pd.DataFrame({\n",
    "    \"hora\": [7,8,9,10,11,12,13,14,15,16,17,18,19,20,21],\n",
    "    \"Lunes\": [True,True,True,True,True,True,False,False,False,False,False,False,False,False,False],\n",
    "    \"Martes\": [True,True,True,True,True,True,False,False,False,False,False,False,False,False,False],\n",
    "    \"Miercoles\": [True,True,True,True,True,True,False,False,False,False,False,False,False,False,False],\n",
    "    \"Jueves\": [True,True,True,True,True,True,False,False,False,False,False,False,False,False,False],\n",
    "    \"Viernes\": [True,True,True,True,True,True,False,False,False,False,False,False,False,False,False],\n",
    "    \"Sabado\": [True,True,True,True,True,True,False,False,False,False,False,False,False,False,False]\n",
    "})\n",
    "\n",
    "# El estudiante trabaja por las mañanas medio tiempo\n",
    "disp_est_3 = pd.DataFrame({\n",
    "    \"hora\": [7,8,9,10,11,12,13,14,15,16,17,18,19,20,21],\n",
    "    \"Lunes\": [True,False,False,False,False,False,True,True,True,True,True,True,True,False,False],\n",
    "    \"Martes\": [True,False,False,False,False,False,True,True,True,True,True,True,True,False,False],\n",
    "    \"Miercoles\": [True,False,False,False,False,False,True,True,True,True,True,True,True,False,False],\n",
    "    \"Jueves\": [True,False,False,False,False,False,True,True,True,True,True,True,True,False,False],\n",
    "    \"Viernes\": [True,False,False,False,False,False,True,True,True,True,True,True,True,False,False],\n",
    "    \"Sabado\": [True,False,False,False,False,False,True,True,True,True,True,True,True,False,False]\n",
    "})\n",
    "# El estudiante trabaja por las tardes medio tiempo\n",
    "disp_est_4 = pd.DataFrame({\n",
    "    \"hora\": [7,8,9,10,11,12,13,14,15,16,17,18,19,20,21],\n",
    "    \"Lunes\": [True,True,True,True,True,False,False,False,False,False,True,True,True,True,True],\n",
    "    \"Martes\": [True,True,True,True,True,False,False,False,False,False,True,True,True,True,True],\n",
    "    \"Miercoles\": [True,True,True,True,True,False,False,False,False,False,True,True,True,True,True],\n",
    "    \"Jueves\": [True,True,True,True,True,False,False,False,False,False,True,True,True,True,True],\n",
    "    \"Viernes\": [True,True,True,True,True,False,False,False,False,False,True,True,True,True,True],\n",
    "    \"Sabado\": [True,True,True,True,True,False,False,False,False,False,True,True,True,True,True]\n",
    "})"
   ]
  },
  {
   "cell_type": "code",
   "execution_count": null,
   "id": "7137d3f9",
   "metadata": {
    "scrolled": false
   },
   "outputs": [],
   "source": [
    "disponibilidad = [disp_est_1,disp_est_2,disp_est_3,disp_est_4]"
   ]
  },
  {
   "cell_type": "code",
   "execution_count": null,
   "id": "7e1f73fd",
   "metadata": {},
   "outputs": [],
   "source": [
    "def obtenerCostoDisponibilidad(bitsDeCarga,ofertaUtil,disponibilidad):\n",
    "    dias = ['Lunes','Martes','Miercoles','Jueves','Viernes','Sabado']\n",
    "    datosCarga = obtenerDatosCarga(bitsDeCarga,ofertaUtil)\n",
    "    costoTotal = 0\n",
    "\n",
    "    for dia in dias:\n",
    "        for i in range(len(datosCarga)):\n",
    "            if datosCarga[dia].iloc[i] == '-':\n",
    "                continue\n",
    "\n",
    "            horaInicio = int(datosCarga.iloc[i][dia][0:2])\n",
    "            horaFin = int(datosCarga.iloc[i][dia][6:8])\n",
    "\n",
    "            for hora in range(horaInicio,horaFin):\n",
    "                if not(disponibilidad.query('hora == ' + str(hora))[dia].values[0]):\n",
    "                    costoTotal += 1\n",
    "                    \n",
    "    #Normalización\n",
    "    disponibilidadTotal = sum(disponibilidad['Lunes']) + sum(disponibilidad['Martes']) + sum(disponibilidad['Miercoles']) + sum(disponibilidad['Jueves']) + sum(disponibilidad['Viernes']) + sum(disponibilidad['Sabado'])\n",
    "    costo = (costoTotal)/(90 - disponibilidadTotal)\n",
    "    return costo"
   ]
  },
  {
   "cell_type": "code",
   "execution_count": null,
   "id": "4029ccbd",
   "metadata": {},
   "outputs": [],
   "source": [
    "obtenerCostoDisponibilidad(bitsDeCarga,ofertaUtil,disponibilidad[0])"
   ]
  },
  {
   "cell_type": "markdown",
   "id": "85570fc8",
   "metadata": {},
   "source": [
    "# Prueba de funciones"
   ]
  },
  {
   "cell_type": "markdown",
   "id": "4a755400",
   "metadata": {},
   "source": [
    "## Datos conocidos"
   ]
  },
  {
   "cell_type": "markdown",
   "id": "a038c510",
   "metadata": {},
   "source": [
    "#### Kardex"
   ]
  },
  {
   "cell_type": "code",
   "execution_count": null,
   "id": "6a1e763c",
   "metadata": {},
   "outputs": [],
   "source": [
    "kardex = obtenerKardex(180311432)\n",
    "kardex"
   ]
  },
  {
   "cell_type": "markdown",
   "id": "708ee5b5",
   "metadata": {},
   "source": [
    "#### Oferta y oferta útil"
   ]
  },
  {
   "cell_type": "code",
   "execution_count": null,
   "id": "dde50db5",
   "metadata": {},
   "outputs": [],
   "source": [
    "oferta.head()"
   ]
  },
  {
   "cell_type": "code",
   "execution_count": null,
   "id": "3e4089b1",
   "metadata": {},
   "outputs": [],
   "source": [
    "ofertaUtil = obtenerOfertaUtil(kardex,oferta)\n",
    "ofertaUtil.head()"
   ]
  },
  {
   "cell_type": "markdown",
   "id": "a0e280c9",
   "metadata": {},
   "source": [
    "#### Disponibilidad de horario"
   ]
  },
  {
   "cell_type": "markdown",
   "id": "e5c0fb81",
   "metadata": {},
   "source": [
    "El alumno trabaja por las tardes a medio tiempo"
   ]
  },
  {
   "cell_type": "code",
   "execution_count": null,
   "id": "32df6eba",
   "metadata": {},
   "outputs": [],
   "source": [
    "disponibilidad = disponibilidad[3]"
   ]
  },
  {
   "cell_type": "code",
   "execution_count": null,
   "id": "730b9f7f",
   "metadata": {},
   "outputs": [],
   "source": [
    "disponibilidad"
   ]
  },
  {
   "cell_type": "markdown",
   "id": "4fb147f2",
   "metadata": {},
   "source": [
    "## Generación de cargas académicas válidas"
   ]
  },
  {
   "cell_type": "code",
   "execution_count": null,
   "id": "3e34f049",
   "metadata": {},
   "outputs": [],
   "source": [
    "carga1 = generarCargaValida(ofertaUtil)\n",
    "carga2 = generarCargaValida(ofertaUtil)\n",
    "carga3 = generarCargaValida(ofertaUtil)\n",
    "carga4 = generarCargaValida(ofertaUtil)\n",
    "carga5 = generarCargaValida(ofertaUtil)\n",
    "\n",
    "cargas = [carga1,carga2,carga3,carga4,carga5]"
   ]
  },
  {
   "cell_type": "code",
   "execution_count": null,
   "id": "c3383c78",
   "metadata": {},
   "outputs": [],
   "source": [
    "cargas"
   ]
  },
  {
   "cell_type": "code",
   "execution_count": null,
   "id": "45759cbb",
   "metadata": {},
   "outputs": [],
   "source": [
    "obtenerDatosCarga(cargas[4],ofertaUtil)"
   ]
  },
  {
   "cell_type": "markdown",
   "id": "eb2ac39d",
   "metadata": {},
   "source": [
    "## Aplicación de funciones a las cargas generadas"
   ]
  },
  {
   "cell_type": "code",
   "execution_count": null,
   "id": "00afcff2",
   "metadata": {},
   "outputs": [],
   "source": [
    "obtenerDatosCarga(cargas[0],ofertaUtil)"
   ]
  },
  {
   "cell_type": "code",
   "execution_count": null,
   "id": "02e8d94a",
   "metadata": {},
   "outputs": [],
   "source": [
    "costoPorHorasLibres = costoHorasLibres(cargas[0],ofertaUtil)\n",
    "utilidadPorCerrarCiclos = utilidadCerrarCiclos(cargas[0],ofertaUtil)\n",
    "utilidadPorMateriasReprobadas = obtenerUtilidadMateriasReprobadas(kardex,cargas[0],ofertaUtil)\n",
    "costoPorDisponibilidad = obtenerCostoDisponibilidad(cargas[0],ofertaUtil,disponibilidad)"
   ]
  },
  {
   "cell_type": "code",
   "execution_count": null,
   "id": "f305a354",
   "metadata": {},
   "outputs": [],
   "source": [
    "print(\"La carga evaluada tiene:\")\n",
    "print(\"\\t\" + str(round(100*utilidadPorCerrarCiclos,2)) + \"% de utilidad por las materias de primeros ciclos llevadas.\")\n",
    "print(\"\\t\" + str(round(100*utilidadPorMateriasReprobadas,2)) + \"% del total de las materias reprobadas del estudiante.\") \n",
    "print(\"\\t\" + str(round(100*costoPorDisponibilidad,2)) + \"% de sobreposición con las horas donde el estudiante no está disponible.\")\n",
    "print(\"\\t\" + str(round(100*costoPorHorasLibres,2)) + \"% de costo por el total de horas libres por día.\")"
   ]
  },
  {
   "cell_type": "markdown",
   "id": "16e07217",
   "metadata": {},
   "source": [
    "# Definición de la función objetivo"
   ]
  },
  {
   "cell_type": "code",
   "execution_count": null,
   "id": "b8466a64",
   "metadata": {},
   "outputs": [],
   "source": [
    "def obtenerValoresDeCarga(bitsDeCarga,ofertaUtil,disponibilidad,kardex):\n",
    "    if sum(bitsDeCarga) > 9:\n",
    "        return -1,-1,-1,-1,-1\n",
    "    pesos = np.array([1,1,1,1])\n",
    "    \n",
    "    utilidadPorCerrarCiclos = utilidadCerrarCiclos(bitsDeCarga,ofertaUtil)\n",
    "    utilidadPorMateriasReprobadas = obtenerUtilidadMateriasReprobadas(kardex,bitsDeCarga,ofertaUtil)\n",
    "    costoPorDisponibilidad = obtenerCostoDisponibilidad(bitsDeCarga,ofertaUtil,disponibilidad)\n",
    "    costoPorHorasLibres = costoHorasLibres(bitsDeCarga,ofertaUtil)\n",
    "    \n",
    "    x = np.array([utilidadPorCerrarCiclos,utilidadPorMateriasReprobadas,costoPorDisponibilidad,costoPorHorasLibres])\n",
    "    \n",
    "    x[2] = 1 - x[2]\n",
    "    x[3] = 1 - x[3]\n",
    "    \n",
    "    valorTotal = sum(x*pesos)\n",
    "    \n",
    "    return valorTotal,utilidadPorCerrarCiclos,utilidadPorMateriasReprobadas,costoPorDisponibilidad,costoPorHorasLibres"
   ]
  },
  {
   "cell_type": "code",
   "execution_count": null,
   "id": "4508849f",
   "metadata": {},
   "outputs": [],
   "source": [
    "obtenerValoresDeCarga(cargas[0],ofertaUtil,disponibilidad,kardex)"
   ]
  },
  {
   "cell_type": "markdown",
   "id": "ec4b7fb5",
   "metadata": {},
   "source": [
    "### Problemas a solucionar:"
   ]
  },
  {
   "cell_type": "markdown",
   "id": "60b9ae99",
   "metadata": {},
   "source": [
    "-Recomendación de proyecto terminal"
   ]
  },
  {
   "cell_type": "markdown",
   "id": "1a814ace",
   "metadata": {},
   "source": [
    "-Recomendación de prácticas profesionales"
   ]
  },
  {
   "cell_type": "markdown",
   "id": "e370658d",
   "metadata": {},
   "source": [
    "-Se puede recomendar dos veces prácticas profesionales"
   ]
  },
  {
   "cell_type": "markdown",
   "id": "d83c4675",
   "metadata": {},
   "source": [
    "-Normalizar horas libres entre la primera y última hora del día"
   ]
  },
  {
   "cell_type": "markdown",
   "id": "ca4b80dd",
   "metadata": {},
   "source": [
    "-Función de horas libres no toma en cuenta el promedio de horas libres por día (Hacer otra función?)"
   ]
  },
  {
   "cell_type": "markdown",
   "id": "2652041b",
   "metadata": {},
   "source": [
    "-¿La función objetivo de regresar un promedio o una suma de las demás funciones?"
   ]
  },
  {
   "cell_type": "markdown",
   "id": "4a8ce172",
   "metadata": {},
   "source": [
    "-Comprobar funciones que usan obtenerValoresDeCarga para evitar errores por -1"
   ]
  },
  {
   "cell_type": "markdown",
   "id": "ab148add",
   "metadata": {},
   "source": [
    "# Algoritmos evolutivos"
   ]
  },
  {
   "cell_type": "markdown",
   "id": "ca7a9714",
   "metadata": {},
   "source": [
    "## Creación y evaluación de población inicial"
   ]
  },
  {
   "cell_type": "code",
   "execution_count": null,
   "id": "35868c92",
   "metadata": {},
   "outputs": [],
   "source": [
    "tamanoPoblacion = 100\n",
    "\n",
    "\n",
    "poblacionRespaldo = []\n",
    "valoresTotales = []\n",
    "utilidadesPorCerrarCiclos = []\n",
    "utilidadesPorMateriasReprobadas = []\n",
    "costosPorDisponibilidad = []\n",
    "costosPorHorasLibres = []\n",
    "\n",
    "for i in range(tamanoPoblacion):\n",
    "    \n",
    "    carga = generarCargaValida(ofertaUtil)\n",
    "    poblacionRespaldo.append(carga)\n",
    "    valorTotal,utilidadPorCerrarCiclos,utilidadPorMateriasReprobadas,costoPorDisponibilidad,costoPorHorasLibres = obtenerValoresDeCarga(carga,ofertaUtil,disponibilidad,kardex)\n",
    "    valoresTotales.append(valorTotal)\n",
    "    utilidadesPorCerrarCiclos.append(utilidadPorCerrarCiclos)\n",
    "    utilidadesPorMateriasReprobadas.append(utilidadPorMateriasReprobadas)\n",
    "    costosPorDisponibilidad.append(costoPorDisponibilidad)\n",
    "    costosPorHorasLibres.append(costoPorHorasLibres)\n",
    "    \n",
    "    if(i % (tamanoPoblacion/10) == 0):\n",
    "        print(str(i/(tamanoPoblacion/100)) + \"%\")\n",
    "        sys.stdout.write(\"\\033[F\")"
   ]
  },
  {
   "cell_type": "code",
   "execution_count": null,
   "id": "9de273bb",
   "metadata": {},
   "outputs": [],
   "source": [
    "poblacion = poblacionRespaldo.copy()"
   ]
  },
  {
   "cell_type": "code",
   "execution_count": null,
   "id": "fb31a0cd",
   "metadata": {},
   "outputs": [],
   "source": [
    "m = max(valoresTotales)\n",
    "indice = valoresTotales.index(m)\n",
    "print(m)\n",
    "mejor = poblacion[indice]\n",
    "obtenerDatosCarga(mejor,ofertaUtil)"
   ]
  },
  {
   "cell_type": "code",
   "execution_count": null,
   "id": "78512027",
   "metadata": {},
   "outputs": [],
   "source": [
    "obtenerValoresDeCarga(mejor,ofertaUtil,disponibilidad,kardex)"
   ]
  },
  {
   "cell_type": "markdown",
   "id": "ec38cdca",
   "metadata": {},
   "source": [
    "## Modelo de evolución"
   ]
  },
  {
   "cell_type": "markdown",
   "id": "257f63c6",
   "metadata": {},
   "source": [
    "### Selección por clasificación"
   ]
  },
  {
   "cell_type": "code",
   "execution_count": null,
   "id": "b438a720",
   "metadata": {},
   "outputs": [],
   "source": [
    "def obtenerRangos(desempenos,firstIsMin):\n",
    "    desempenos = desempenos.copy()\n",
    "    \n",
    "    rangos = [0] * len(desempenos)\n",
    "    rangoActual = 1\n",
    "    \n",
    "    for i in range(len(desempenos)):\n",
    "        if firstIsMin:\n",
    "            desempenoMinimo = min(desempenos)\n",
    "            lugar = desempenos.index(desempenoMinimo)\n",
    "            desempenos[lugar] = 100\n",
    "        else:\n",
    "            desempenoMinimo = max(desempenos)\n",
    "            lugar = desempenos.index(desempenoMinimo)\n",
    "            desempenos[lugar] = -1\n",
    "        \n",
    "        rangos[lugar] = rangoActual\n",
    "        rangoActual += 1\n",
    "    return rangos"
   ]
  },
  {
   "cell_type": "code",
   "execution_count": null,
   "id": "40fa89f9",
   "metadata": {},
   "outputs": [],
   "source": [
    "def seleccionPorRango(desempenos):\n",
    "    rangos = obtenerRangos(desempenos.copy(),True)\n",
    "    \n",
    "    F = sum(rangos)\n",
    "    \n",
    "    padres = []\n",
    "    \n",
    "    for i in range(len(rangos)):\n",
    "        if np.random.rand() < (rangos[i] / F) * 10:\n",
    "            padres.append(i)\n",
    "        \n",
    "    return padres"
   ]
  },
  {
   "cell_type": "markdown",
   "id": "84805716",
   "metadata": {},
   "source": [
    "### Cruza uniforme"
   ]
  },
  {
   "cell_type": "code",
   "execution_count": null,
   "id": "fae6c597",
   "metadata": {},
   "outputs": [],
   "source": [
    "def cruceUniforme(cromosomaPadre1,cromosomaPadre2):\n",
    "    hijo1 = cromosomaPadre1.copy()\n",
    "    hijo2 = cromosomaPadre2.copy()\n",
    "    for i in range(len(cromosomaPadre1)):\n",
    "        if np.random.rand() < 0.5:\n",
    "            hijo1[i] = cromosomaPadre2[i]\n",
    "        if np.random.rand() < 0.5:\n",
    "            hijo2[i] = cromosomaPadre1[i]\n",
    "    return hijo1,hijo2"
   ]
  },
  {
   "cell_type": "markdown",
   "id": "1845e7c3",
   "metadata": {},
   "source": [
    "### Mutación probabilística"
   ]
  },
  {
   "cell_type": "code",
   "execution_count": null,
   "id": "215d8a1a",
   "metadata": {},
   "outputs": [],
   "source": [
    "def mutacionProbabilistica(cromosoma,alpha):\n",
    "    mutacion = cromosoma.copy()\n",
    "    for i in range(len(mutacion)):\n",
    "        if np.random.rand() < alpha:\n",
    "            if mutacion[i]:\n",
    "                mutacion[i] = 0\n",
    "            else:\n",
    "                mutacion[i] = 1\n",
    "    return mutacion"
   ]
  },
  {
   "cell_type": "markdown",
   "id": "8277c933",
   "metadata": {},
   "source": [
    "### Reinserción por rango"
   ]
  },
  {
   "cell_type": "code",
   "execution_count": null,
   "id": "964f7a8f",
   "metadata": {},
   "outputs": [],
   "source": [
    "def reinsercionAleatoria(poblacion,nuevosHijos,ofertaUtil,disponibilidad,kardex,valoresTotales,utilidadesPorCerrarCiclos,utilidadesPorMateriasReprobadas,costosPorDisponibilidad,costosPorHorasLibres):\n",
    "    hijosValidos = []\n",
    "    \n",
    "    for i in range(len(nuevosHijos)):\n",
    "        if esValido(nuevosHijos[i],ofertaUtil):\n",
    "            hijosValidos.append(nuevosHijos[i])\n",
    "    \n",
    "    nuevosHijos = []\n",
    "    \n",
    "    for i in range(len(hijosValidos)):\n",
    "        posicion = np.random.randint(0,len(poblacion))\n",
    "        poblacion[posicion] = hijosValidos[i]\n",
    "        \n",
    "        valorTotal,utilidadPorCerrarCiclos,utilidadPorMateriasReprobadas,costoPorDisponibilidad,costoPorHorasLibres = obtenerValoresDeCarga(hijosValidos[i],ofertaUtil,disponibilidad,kardex)\n",
    "        \n",
    "        valoresTotales[posicion] = valorTotal\n",
    "        utilidadesPorCerrarCiclos[posicion] = utilidadPorCerrarCiclos\n",
    "        utilidadesPorMateriasReprobadas[posicion] = utilidadPorMateriasReprobadas\n",
    "        costosPorDisponibilidad[posicion] = costoPorDisponibilidad\n",
    "        costosPorHorasLibres[posicion] = costoPorHorasLibres\n",
    "        "
   ]
  },
  {
   "cell_type": "markdown",
   "id": "1f118a92",
   "metadata": {},
   "source": [
    "### Prueba AG #1"
   ]
  },
  {
   "cell_type": "code",
   "execution_count": null,
   "id": "88824748",
   "metadata": {},
   "outputs": [],
   "source": [
    "def AG1(ofertaUtil,disponibilidad,kardex,poblacion,valoresTotales,utilidadesPorCerrarCiclos,utilidadesPorMateriasReprobadas,costosPorDisponibilidad,costosPorHorasLibres):\n",
    "    padres = seleccionPorRango(valoresTotales)\n",
    "    while len(padres) < 10 or len(padres) % 2 == 0:\n",
    "        padres = seleccionPorRango(valoresTotales)\n",
    "    \n",
    "    hijos = []\n",
    "    for i in range(0,len(padres)-1,2):\n",
    "        hijo1,hijo2 = cruceUniforme(poblacion[padres[i]],poblacion[padres[i+1]])\n",
    "        hijos.append(hijo1)\n",
    "        hijos.append(hijo2)\n",
    "    \n",
    "    hijosMutados = []\n",
    "\n",
    "    for hijo in hijos:\n",
    "        hijosMutados.append(mutacionProbabilistica(hijo,0.1))\n",
    "                \n",
    "    reinsercionAleatoria(poblacion,hijosMutados,ofertaUtil,disponibilidad,kardex,valoresTotales,utilidadesPorCerrarCiclos,utilidadesPorMateriasReprobadas,costosPorDisponibilidad,costosPorHorasLibres)\n",
    "        "
   ]
  },
  {
   "cell_type": "code",
   "execution_count": null,
   "id": "3bdeb1fa",
   "metadata": {},
   "outputs": [],
   "source": [
    "generaciones = 5000\n",
    "for i in range(generaciones):\n",
    "    if i%(generaciones/100) == 0:\n",
    "        print(str(i/(generaciones/100)) + \"%\")\n",
    "        sys.stdout.write(\"\\033[F\")\n",
    "    AG1(ofertaUtil,disponibilidad,kardex,poblacion,valoresTotales,utilidadesPorCerrarCiclos,utilidadesPorMateriasReprobadas,costosPorDisponibilidad,costosPorHorasLibres)\n"
   ]
  },
  {
   "cell_type": "code",
   "execution_count": null,
   "id": "f6f4966e",
   "metadata": {},
   "outputs": [],
   "source": [
    "m = max(valoresTotales)\n",
    "indice = valoresTotales.index(m)\n",
    "print(m)\n",
    "mejor = poblacion[indice]\n",
    "obtenerDatosCarga(mejor,ofertaUtil)"
   ]
  },
  {
   "cell_type": "code",
   "execution_count": null,
   "id": "5cc1f9e9",
   "metadata": {},
   "outputs": [],
   "source": [
    "obtenerValoresDeCarga(mejor,ofertaUtil,disponibilidad,kardex)"
   ]
  },
  {
   "cell_type": "code",
   "execution_count": null,
   "id": "684dafbc",
   "metadata": {},
   "outputs": [],
   "source": [
    "obtenerValoresDeCarga(generarCargaValida(ofertaUtil),ofertaUtil,disponibilidad,kardex)"
   ]
  },
  {
   "cell_type": "markdown",
   "id": "d942c1f4",
   "metadata": {},
   "source": [
    "## Ecatl "
   ]
  },
  {
   "cell_type": "code",
   "execution_count": null,
   "id": "70b4d5db",
   "metadata": {},
   "outputs": [],
   "source": [
    "def singleTournamentSelection(tamano, poblacion, valoresTotales):\n",
    "    bestfitparents = []\n",
    "\n",
    "    for i in range(0,tamano):\n",
    "        n = np.random.randint(0,len(poblacion))\n",
    "\n",
    "        bestfitparents.append(valoresTotales[n])\n",
    "    \n",
    "    return valoresTotales.index(max(bestfitparents))"
   ]
  },
  {
   "cell_type": "code",
   "execution_count": null,
   "id": "f83bc4bb",
   "metadata": {},
   "outputs": [],
   "source": [
    "papa1 = singleTournamentSelection(50, poblacion, valoresTotales)\n",
    "papa2 = singleTournamentSelection(50, poblacion, valoresTotales)\n",
    "print(papa1)\n",
    "print(papa2)"
   ]
  },
  {
   "cell_type": "code",
   "execution_count": null,
   "id": "c2076678",
   "metadata": {},
   "outputs": [],
   "source": [
    "def cruzamiento(papa1, papa2):\n",
    "    hijo = bitarray()\n",
    "    return hijo"
   ]
  }
 ],
 "metadata": {
  "kernelspec": {
   "display_name": "Python 3 (ipykernel)",
   "language": "python",
   "name": "python3"
  },
  "language_info": {
   "codemirror_mode": {
    "name": "ipython",
    "version": 3
   },
   "file_extension": ".py",
   "mimetype": "text/x-python",
   "name": "python",
   "nbconvert_exporter": "python",
   "pygments_lexer": "ipython3",
   "version": "3.9.12"
  }
 },
 "nbformat": 4,
 "nbformat_minor": 5
}
