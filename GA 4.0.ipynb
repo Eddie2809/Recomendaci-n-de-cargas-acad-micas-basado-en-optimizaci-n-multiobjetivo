{
 "cells": [
  {
   "cell_type": "markdown",
   "id": "1652471c",
   "metadata": {},
   "source": [
    "##### Cambios:"
   ]
  },
  {
   "cell_type": "markdown",
   "id": "5a687327",
   "metadata": {},
   "source": [
    "-Ahora el plan se puede personalizar por estudiante"
   ]
  },
  {
   "cell_type": "markdown",
   "id": "de854d2a",
   "metadata": {},
   "source": [
    "-Error al calcular la amplitud de horario, retornaba costos mayores"
   ]
  },
  {
   "cell_type": "markdown",
   "id": "519b085d",
   "metadata": {},
   "source": [
    "-Error al calcular el costo por disponibilidad de horario, solo contemplaba los días lunes, martes y miércoles al calcular su disponibilidad total y aparte hacía mal el calculo."
   ]
  },
  {
   "cell_type": "code",
   "execution_count": 1,
   "id": "aaed8d4c",
   "metadata": {},
   "outputs": [],
   "source": [
    "import pandas as pd\n",
    "import numpy as np\n",
    "import pygad as pg\n",
    "import time\n",
    "import requests\n",
    "import matplotlib.pyplot as plt"
   ]
  },
  {
   "cell_type": "markdown",
   "id": "f12237a9",
   "metadata": {},
   "source": [
    "# Limpieza y preparación de los datos"
   ]
  },
  {
   "cell_type": "markdown",
   "id": "2e6f04ef",
   "metadata": {},
   "source": [
    "## Lectura de datos"
   ]
  },
  {
   "cell_type": "code",
   "execution_count": 2,
   "id": "5628e655",
   "metadata": {},
   "outputs": [],
   "source": [
    "d16 = pd.read_csv('./datos/datos_2016.csv')\n",
    "d17 = pd.read_csv('./datos/datos_2017.csv')\n",
    "d18 = pd.read_csv('./datos/datos_2018.csv')\n",
    "d19 = pd.read_csv('./datos/datos_2019.csv')\n",
    "d2021 = pd.read_csv('./datos/2020_2021.csv')"
   ]
  },
  {
   "cell_type": "code",
   "execution_count": 3,
   "id": "b24a593a",
   "metadata": {},
   "outputs": [],
   "source": [
    "asignaturas = pd.read_csv('asignaturas2.csv',encoding = 'ISO-8859-1')"
   ]
  },
  {
   "cell_type": "code",
   "execution_count": 4,
   "id": "6aeaecee",
   "metadata": {},
   "outputs": [],
   "source": [
    "plan_2016 = asignaturas.query('plan == \"IDP2016\"')\n",
    "plan_2021 = asignaturas.query('plan == \"IDP2021\"')"
   ]
  },
  {
   "cell_type": "code",
   "execution_count": 5,
   "id": "fdebc6aa",
   "metadata": {},
   "outputs": [],
   "source": [
    "oferta = pd.read_csv('oferta_ideio.csv',encoding = 'ISO-8859-1')"
   ]
  },
  {
   "cell_type": "code",
   "execution_count": 6,
   "id": "80f9af9b",
   "metadata": {},
   "outputs": [],
   "source": [
    "seriaciones = pd.read_csv('seriacion.csv')"
   ]
  },
  {
   "cell_type": "markdown",
   "id": "a2775745",
   "metadata": {},
   "source": [
    "## Visualización de datos"
   ]
  },
  {
   "cell_type": "code",
   "execution_count": 7,
   "id": "6a3468fc",
   "metadata": {},
   "outputs": [
    {
     "data": {
      "text/html": [
       "<div>\n",
       "<style scoped>\n",
       "    .dataframe tbody tr th:only-of-type {\n",
       "        vertical-align: middle;\n",
       "    }\n",
       "\n",
       "    .dataframe tbody tr th {\n",
       "        vertical-align: top;\n",
       "    }\n",
       "\n",
       "    .dataframe thead th {\n",
       "        text-align: right;\n",
       "    }\n",
       "</style>\n",
       "<table border=\"1\" class=\"dataframe\">\n",
       "  <thead>\n",
       "    <tr style=\"text-align: right;\">\n",
       "      <th></th>\n",
       "      <th>Unnamed: 0</th>\n",
       "      <th>carrera</th>\n",
       "      <th>periodo</th>\n",
       "      <th>clave</th>\n",
       "      <th>asignatura</th>\n",
       "      <th>promediofinal</th>\n",
       "      <th>docente</th>\n",
       "      <th>ceveval_global</th>\n",
       "      <th>ceneval_analitico</th>\n",
       "      <th>ceneval_matematico</th>\n",
       "      <th>...</th>\n",
       "      <th>r_modulo8</th>\n",
       "      <th>modulo9</th>\n",
       "      <th>r_modulo9</th>\n",
       "      <th>modulo10</th>\n",
       "      <th>r_modulo10</th>\n",
       "      <th>modulo11</th>\n",
       "      <th>r_modulo11</th>\n",
       "      <th>modulo12</th>\n",
       "      <th>r_modulo12</th>\n",
       "      <th>n_matricula</th>\n",
       "    </tr>\n",
       "  </thead>\n",
       "  <tbody>\n",
       "    <tr>\n",
       "      <th>0</th>\n",
       "      <td>0</td>\n",
       "      <td>Negocios Internacionales</td>\n",
       "      <td>201601</td>\n",
       "      <td>DP0295</td>\n",
       "      <td>Taller de formación en responsabilidad social ...</td>\n",
       "      <td>10.0</td>\n",
       "      <td>Maldonado Saldaña / Gisela</td>\n",
       "      <td>1150.0</td>\n",
       "      <td>1108.0</td>\n",
       "      <td>1228.0</td>\n",
       "      <td>...</td>\n",
       "      <td>-</td>\n",
       "      <td>Cálculo</td>\n",
       "      <td>-</td>\n",
       "      <td>Inglés</td>\n",
       "      <td>-</td>\n",
       "      <td>Administración</td>\n",
       "      <td>-</td>\n",
       "      <td>Informática y Computación</td>\n",
       "      <td>-</td>\n",
       "      <td>140311285</td>\n",
       "    </tr>\n",
       "    <tr>\n",
       "      <th>1</th>\n",
       "      <td>1</td>\n",
       "      <td>Negocios Internacionales</td>\n",
       "      <td>201601</td>\n",
       "      <td>NI0215</td>\n",
       "      <td>Taller de software para negocios internacionales</td>\n",
       "      <td>9.0</td>\n",
       "      <td>Villeda Cuellar / Víctor Hugo</td>\n",
       "      <td>1150.0</td>\n",
       "      <td>1108.0</td>\n",
       "      <td>1228.0</td>\n",
       "      <td>...</td>\n",
       "      <td>-</td>\n",
       "      <td>Cálculo</td>\n",
       "      <td>-</td>\n",
       "      <td>Inglés</td>\n",
       "      <td>-</td>\n",
       "      <td>Administración</td>\n",
       "      <td>-</td>\n",
       "      <td>Informática y Computación</td>\n",
       "      <td>-</td>\n",
       "      <td>140311285</td>\n",
       "    </tr>\n",
       "    <tr>\n",
       "      <th>2</th>\n",
       "      <td>2</td>\n",
       "      <td>Negocios Internacionales</td>\n",
       "      <td>201601</td>\n",
       "      <td>LI1104</td>\n",
       "      <td>Nivel 4 Inglés</td>\n",
       "      <td>10.0</td>\n",
       "      <td>Ross / Andrew Patrick Simon</td>\n",
       "      <td>1150.0</td>\n",
       "      <td>1108.0</td>\n",
       "      <td>1228.0</td>\n",
       "      <td>...</td>\n",
       "      <td>-</td>\n",
       "      <td>Cálculo</td>\n",
       "      <td>-</td>\n",
       "      <td>Inglés</td>\n",
       "      <td>-</td>\n",
       "      <td>Administración</td>\n",
       "      <td>-</td>\n",
       "      <td>Informática y Computación</td>\n",
       "      <td>-</td>\n",
       "      <td>140311285</td>\n",
       "    </tr>\n",
       "    <tr>\n",
       "      <th>3</th>\n",
       "      <td>3</td>\n",
       "      <td>Negocios Internacionales</td>\n",
       "      <td>201601</td>\n",
       "      <td>NI0209</td>\n",
       "      <td>Administración financiera</td>\n",
       "      <td>6.0</td>\n",
       "      <td>Vallejo Filoteo / Jorge</td>\n",
       "      <td>1150.0</td>\n",
       "      <td>1108.0</td>\n",
       "      <td>1228.0</td>\n",
       "      <td>...</td>\n",
       "      <td>-</td>\n",
       "      <td>Cálculo</td>\n",
       "      <td>-</td>\n",
       "      <td>Inglés</td>\n",
       "      <td>-</td>\n",
       "      <td>Administración</td>\n",
       "      <td>-</td>\n",
       "      <td>Informática y Computación</td>\n",
       "      <td>-</td>\n",
       "      <td>140311285</td>\n",
       "    </tr>\n",
       "    <tr>\n",
       "      <th>4</th>\n",
       "      <td>4</td>\n",
       "      <td>Negocios Internacionales</td>\n",
       "      <td>201601</td>\n",
       "      <td>NI0213</td>\n",
       "      <td>Transporte y logística en comercio exterior</td>\n",
       "      <td>9.0</td>\n",
       "      <td>Cañedo Magaña / Magdalena del Carmen</td>\n",
       "      <td>1150.0</td>\n",
       "      <td>1108.0</td>\n",
       "      <td>1228.0</td>\n",
       "      <td>...</td>\n",
       "      <td>-</td>\n",
       "      <td>Cálculo</td>\n",
       "      <td>-</td>\n",
       "      <td>Inglés</td>\n",
       "      <td>-</td>\n",
       "      <td>Administración</td>\n",
       "      <td>-</td>\n",
       "      <td>Informática y Computación</td>\n",
       "      <td>-</td>\n",
       "      <td>140311285</td>\n",
       "    </tr>\n",
       "  </tbody>\n",
       "</table>\n",
       "<p>5 rows × 37 columns</p>\n",
       "</div>"
      ],
      "text/plain": [
       "   Unnamed: 0                   carrera  periodo   clave  \\\n",
       "0           0  Negocios Internacionales   201601  DP0295   \n",
       "1           1  Negocios Internacionales   201601  NI0215   \n",
       "2           2  Negocios Internacionales   201601  LI1104   \n",
       "3           3  Negocios Internacionales   201601  NI0209   \n",
       "4           4  Negocios Internacionales   201601  NI0213   \n",
       "\n",
       "                                          asignatura  promediofinal  \\\n",
       "0  Taller de formación en responsabilidad social ...           10.0   \n",
       "1   Taller de software para negocios internacionales            9.0   \n",
       "2                                     Nivel 4 Inglés           10.0   \n",
       "3                          Administración financiera            6.0   \n",
       "4        Transporte y logística en comercio exterior            9.0   \n",
       "\n",
       "                                docente  ceveval_global  ceneval_analitico  \\\n",
       "0            Maldonado Saldaña / Gisela          1150.0             1108.0   \n",
       "1         Villeda Cuellar / Víctor Hugo          1150.0             1108.0   \n",
       "2           Ross / Andrew Patrick Simon          1150.0             1108.0   \n",
       "3               Vallejo Filoteo / Jorge          1150.0             1108.0   \n",
       "4  Cañedo Magaña / Magdalena del Carmen          1150.0             1108.0   \n",
       "\n",
       "   ceneval_matematico  ...  r_modulo8  modulo9 r_modulo9 modulo10 r_modulo10  \\\n",
       "0              1228.0  ...          -  Cálculo         -   Inglés          -   \n",
       "1              1228.0  ...          -  Cálculo         -   Inglés          -   \n",
       "2              1228.0  ...          -  Cálculo         -   Inglés          -   \n",
       "3              1228.0  ...          -  Cálculo         -   Inglés          -   \n",
       "4              1228.0  ...          -  Cálculo         -   Inglés          -   \n",
       "\n",
       "         modulo11 r_modulo11                   modulo12 r_modulo12 n_matricula  \n",
       "0  Administración          -  Informática y Computación          -   140311285  \n",
       "1  Administración          -  Informática y Computación          -   140311285  \n",
       "2  Administración          -  Informática y Computación          -   140311285  \n",
       "3  Administración          -  Informática y Computación          -   140311285  \n",
       "4  Administración          -  Informática y Computación          -   140311285  \n",
       "\n",
       "[5 rows x 37 columns]"
      ]
     },
     "execution_count": 7,
     "metadata": {},
     "output_type": "execute_result"
    }
   ],
   "source": [
    "d16.head()"
   ]
  },
  {
   "cell_type": "code",
   "execution_count": 8,
   "id": "83b94bec",
   "metadata": {},
   "outputs": [
    {
     "data": {
      "text/html": [
       "<div>\n",
       "<style scoped>\n",
       "    .dataframe tbody tr th:only-of-type {\n",
       "        vertical-align: middle;\n",
       "    }\n",
       "\n",
       "    .dataframe tbody tr th {\n",
       "        vertical-align: top;\n",
       "    }\n",
       "\n",
       "    .dataframe thead th {\n",
       "        text-align: right;\n",
       "    }\n",
       "</style>\n",
       "<table border=\"1\" class=\"dataframe\">\n",
       "  <thead>\n",
       "    <tr style=\"text-align: right;\">\n",
       "      <th></th>\n",
       "      <th>Unnamed: 0</th>\n",
       "      <th>Column1</th>\n",
       "      <th>programa</th>\n",
       "      <th>periodo</th>\n",
       "      <th>clave</th>\n",
       "      <th>asignatura</th>\n",
       "      <th>docente</th>\n",
       "      <th>promediofinal</th>\n",
       "      <th>ceveval_global</th>\n",
       "      <th>hrs_trabaja</th>\n",
       "      <th>n_matricula</th>\n",
       "    </tr>\n",
       "  </thead>\n",
       "  <tbody>\n",
       "    <tr>\n",
       "      <th>0</th>\n",
       "      <td>0</td>\n",
       "      <td>1</td>\n",
       "      <td>Ingeniería en Datos e Inteligencia Organizacional</td>\n",
       "      <td>202001</td>\n",
       "      <td>IL0414</td>\n",
       "      <td>Taller de argumentación y técnicas de negociación</td>\n",
       "      <td>Torres Pérez / Rubén Juan</td>\n",
       "      <td>7.0</td>\n",
       "      <td>952.0</td>\n",
       "      <td>De 5 a 10 horas</td>\n",
       "      <td>170311163</td>\n",
       "    </tr>\n",
       "    <tr>\n",
       "      <th>1</th>\n",
       "      <td>1</td>\n",
       "      <td>2</td>\n",
       "      <td>Ingeniería en Datos e Inteligencia Organizacional</td>\n",
       "      <td>202001</td>\n",
       "      <td>II0422</td>\n",
       "      <td>Taller de emprendedores</td>\n",
       "      <td>Zapata Solís / Zuemy De Lourdes</td>\n",
       "      <td>8.0</td>\n",
       "      <td>1048.0</td>\n",
       "      <td>No trabajaba</td>\n",
       "      <td>180311454</td>\n",
       "    </tr>\n",
       "    <tr>\n",
       "      <th>2</th>\n",
       "      <td>2</td>\n",
       "      <td>3</td>\n",
       "      <td>Ingeniería en Datos e Inteligencia Organizacional</td>\n",
       "      <td>202001</td>\n",
       "      <td>DP0498</td>\n",
       "      <td>Problemas de México</td>\n",
       "      <td>Díaz Molina / Libertad Fidelina</td>\n",
       "      <td>9.0</td>\n",
       "      <td>1144.0</td>\n",
       "      <td>De 5 a 10 horas</td>\n",
       "      <td>170311232</td>\n",
       "    </tr>\n",
       "    <tr>\n",
       "      <th>3</th>\n",
       "      <td>3</td>\n",
       "      <td>4</td>\n",
       "      <td>Ingeniería en Datos e Inteligencia Organizacional</td>\n",
       "      <td>202001</td>\n",
       "      <td>IT0264</td>\n",
       "      <td>Introducción a los sistemas de información</td>\n",
       "      <td>Olivares González / Oscar</td>\n",
       "      <td>10.0</td>\n",
       "      <td>1072.0</td>\n",
       "      <td>De 11 a 15 horas</td>\n",
       "      <td>190311813</td>\n",
       "    </tr>\n",
       "    <tr>\n",
       "      <th>4</th>\n",
       "      <td>4</td>\n",
       "      <td>5</td>\n",
       "      <td>Ingeniería en Datos e Inteligencia Organizacional</td>\n",
       "      <td>202001</td>\n",
       "      <td>II0215</td>\n",
       "      <td>Electricidad y magnetismo</td>\n",
       "      <td>Ramírez Carmona / Leslye Johanna</td>\n",
       "      <td>7.0</td>\n",
       "      <td>1018.0</td>\n",
       "      <td>Más de 20 horas</td>\n",
       "      <td>180311416</td>\n",
       "    </tr>\n",
       "  </tbody>\n",
       "</table>\n",
       "</div>"
      ],
      "text/plain": [
       "   Unnamed: 0  Column1                                           programa  \\\n",
       "0           0        1  Ingeniería en Datos e Inteligencia Organizacional   \n",
       "1           1        2  Ingeniería en Datos e Inteligencia Organizacional   \n",
       "2           2        3  Ingeniería en Datos e Inteligencia Organizacional   \n",
       "3           3        4  Ingeniería en Datos e Inteligencia Organizacional   \n",
       "4           4        5  Ingeniería en Datos e Inteligencia Organizacional   \n",
       "\n",
       "   periodo   clave                                         asignatura  \\\n",
       "0   202001  IL0414  Taller de argumentación y técnicas de negociación   \n",
       "1   202001  II0422                            Taller de emprendedores   \n",
       "2   202001  DP0498                                Problemas de México   \n",
       "3   202001  IT0264         Introducción a los sistemas de información   \n",
       "4   202001  II0215                          Electricidad y magnetismo   \n",
       "\n",
       "                            docente  promediofinal  ceveval_global  \\\n",
       "0         Torres Pérez / Rubén Juan            7.0           952.0   \n",
       "1   Zapata Solís / Zuemy De Lourdes            8.0          1048.0   \n",
       "2   Díaz Molina / Libertad Fidelina            9.0          1144.0   \n",
       "3         Olivares González / Oscar           10.0          1072.0   \n",
       "4  Ramírez Carmona / Leslye Johanna            7.0          1018.0   \n",
       "\n",
       "        hrs_trabaja  n_matricula  \n",
       "0   De 5 a 10 horas    170311163  \n",
       "1      No trabajaba    180311454  \n",
       "2   De 5 a 10 horas    170311232  \n",
       "3  De 11 a 15 horas    190311813  \n",
       "4   Más de 20 horas    180311416  "
      ]
     },
     "execution_count": 8,
     "metadata": {},
     "output_type": "execute_result"
    }
   ],
   "source": [
    "d2021.head()"
   ]
  },
  {
   "cell_type": "code",
   "execution_count": 9,
   "id": "620bc9da",
   "metadata": {},
   "outputs": [
    {
     "data": {
      "text/html": [
       "<div>\n",
       "<style scoped>\n",
       "    .dataframe tbody tr th:only-of-type {\n",
       "        vertical-align: middle;\n",
       "    }\n",
       "\n",
       "    .dataframe tbody tr th {\n",
       "        vertical-align: top;\n",
       "    }\n",
       "\n",
       "    .dataframe thead th {\n",
       "        text-align: right;\n",
       "    }\n",
       "</style>\n",
       "<table border=\"1\" class=\"dataframe\">\n",
       "  <thead>\n",
       "    <tr style=\"text-align: right;\">\n",
       "      <th></th>\n",
       "      <th>ciclos</th>\n",
       "      <th>clave</th>\n",
       "      <th>nombre</th>\n",
       "      <th>creditos</th>\n",
       "      <th>tipo</th>\n",
       "      <th>plan</th>\n",
       "      <th>preespecialidad</th>\n",
       "    </tr>\n",
       "  </thead>\n",
       "  <tbody>\n",
       "    <tr>\n",
       "      <th>0</th>\n",
       "      <td>1</td>\n",
       "      <td>II0106</td>\n",
       "      <td>Cálculo diferencial</td>\n",
       "      <td>8</td>\n",
       "      <td>Basica</td>\n",
       "      <td>IAP2019</td>\n",
       "      <td>NaN</td>\n",
       "    </tr>\n",
       "    <tr>\n",
       "      <th>1</th>\n",
       "      <td>1</td>\n",
       "      <td>II0209</td>\n",
       "      <td>Cálculo integral</td>\n",
       "      <td>6</td>\n",
       "      <td>Basica</td>\n",
       "      <td>IAP2019</td>\n",
       "      <td>NaN</td>\n",
       "    </tr>\n",
       "    <tr>\n",
       "      <th>2</th>\n",
       "      <td>1</td>\n",
       "      <td>DP0194</td>\n",
       "      <td>Desarrollo de habilidades del pensamiento</td>\n",
       "      <td>6</td>\n",
       "      <td>Basica</td>\n",
       "      <td>IAP2019</td>\n",
       "      <td>NaN</td>\n",
       "    </tr>\n",
       "    <tr>\n",
       "      <th>3</th>\n",
       "      <td>1</td>\n",
       "      <td>IA0106</td>\n",
       "      <td>Ecología</td>\n",
       "      <td>6</td>\n",
       "      <td>Basica</td>\n",
       "      <td>IAP2019</td>\n",
       "      <td>NaN</td>\n",
       "    </tr>\n",
       "    <tr>\n",
       "      <th>4</th>\n",
       "      <td>1</td>\n",
       "      <td>II0102</td>\n",
       "      <td>Física experimental</td>\n",
       "      <td>8</td>\n",
       "      <td>Basica</td>\n",
       "      <td>IAP2019</td>\n",
       "      <td>NaN</td>\n",
       "    </tr>\n",
       "  </tbody>\n",
       "</table>\n",
       "</div>"
      ],
      "text/plain": [
       "   ciclos   clave                                     nombre  creditos  \\\n",
       "0       1  II0106                        Cálculo diferencial         8   \n",
       "1       1  II0209                           Cálculo integral         6   \n",
       "2       1  DP0194  Desarrollo de habilidades del pensamiento         6   \n",
       "3       1  IA0106                                   Ecología         6   \n",
       "4       1  II0102                        Física experimental         8   \n",
       "\n",
       "     tipo     plan preespecialidad  \n",
       "0  Basica  IAP2019             NaN  \n",
       "1  Basica  IAP2019             NaN  \n",
       "2  Basica  IAP2019             NaN  \n",
       "3  Basica  IAP2019             NaN  \n",
       "4  Basica  IAP2019             NaN  "
      ]
     },
     "execution_count": 9,
     "metadata": {},
     "output_type": "execute_result"
    }
   ],
   "source": [
    "asignaturas.head()"
   ]
  },
  {
   "cell_type": "code",
   "execution_count": 10,
   "id": "d7592332",
   "metadata": {},
   "outputs": [
    {
     "data": {
      "text/html": [
       "<div>\n",
       "<style scoped>\n",
       "    .dataframe tbody tr th:only-of-type {\n",
       "        vertical-align: middle;\n",
       "    }\n",
       "\n",
       "    .dataframe tbody tr th {\n",
       "        vertical-align: top;\n",
       "    }\n",
       "\n",
       "    .dataframe thead th {\n",
       "        text-align: right;\n",
       "    }\n",
       "</style>\n",
       "<table border=\"1\" class=\"dataframe\">\n",
       "  <thead>\n",
       "    <tr style=\"text-align: right;\">\n",
       "      <th></th>\n",
       "      <th>ciclos</th>\n",
       "      <th>clave</th>\n",
       "      <th>nombre</th>\n",
       "      <th>creditos</th>\n",
       "      <th>tipo</th>\n",
       "      <th>plan</th>\n",
       "      <th>preespecialidad</th>\n",
       "    </tr>\n",
       "  </thead>\n",
       "  <tbody>\n",
       "    <tr>\n",
       "      <th>603</th>\n",
       "      <td>1</td>\n",
       "      <td>IT0101</td>\n",
       "      <td>Algoritmos y estructura de datos</td>\n",
       "      <td>6</td>\n",
       "      <td>Basica</td>\n",
       "      <td>IDP2016</td>\n",
       "      <td>NaN</td>\n",
       "    </tr>\n",
       "    <tr>\n",
       "      <th>604</th>\n",
       "      <td>1</td>\n",
       "      <td>II0106</td>\n",
       "      <td>Cálculo diferencial</td>\n",
       "      <td>8</td>\n",
       "      <td>Basica</td>\n",
       "      <td>IDP2016</td>\n",
       "      <td>NaN</td>\n",
       "    </tr>\n",
       "    <tr>\n",
       "      <th>605</th>\n",
       "      <td>1</td>\n",
       "      <td>II0209</td>\n",
       "      <td>Cálculo integral</td>\n",
       "      <td>6</td>\n",
       "      <td>Basica</td>\n",
       "      <td>IDP2016</td>\n",
       "      <td>NaN</td>\n",
       "    </tr>\n",
       "    <tr>\n",
       "      <th>606</th>\n",
       "      <td>1</td>\n",
       "      <td>DP0194</td>\n",
       "      <td>Desarrollo de habilidades del pensamiento</td>\n",
       "      <td>6</td>\n",
       "      <td>Basica</td>\n",
       "      <td>IDP2016</td>\n",
       "      <td>NaN</td>\n",
       "    </tr>\n",
       "    <tr>\n",
       "      <th>607</th>\n",
       "      <td>1</td>\n",
       "      <td>ID0101</td>\n",
       "      <td>Diseño de patrones para datos estructurados</td>\n",
       "      <td>6</td>\n",
       "      <td>Basica</td>\n",
       "      <td>IDP2016</td>\n",
       "      <td>NaN</td>\n",
       "    </tr>\n",
       "  </tbody>\n",
       "</table>\n",
       "</div>"
      ],
      "text/plain": [
       "     ciclos   clave                                       nombre  creditos  \\\n",
       "603       1  IT0101             Algoritmos y estructura de datos         6   \n",
       "604       1  II0106                          Cálculo diferencial         8   \n",
       "605       1  II0209                             Cálculo integral         6   \n",
       "606       1  DP0194    Desarrollo de habilidades del pensamiento         6   \n",
       "607       1  ID0101  Diseño de patrones para datos estructurados         6   \n",
       "\n",
       "       tipo     plan preespecialidad  \n",
       "603  Basica  IDP2016             NaN  \n",
       "604  Basica  IDP2016             NaN  \n",
       "605  Basica  IDP2016             NaN  \n",
       "606  Basica  IDP2016             NaN  \n",
       "607  Basica  IDP2016             NaN  "
      ]
     },
     "execution_count": 10,
     "metadata": {},
     "output_type": "execute_result"
    }
   ],
   "source": [
    "plan_2016.head()"
   ]
  },
  {
   "cell_type": "code",
   "execution_count": 11,
   "id": "56dfe1db",
   "metadata": {},
   "outputs": [
    {
     "data": {
      "text/html": [
       "<div>\n",
       "<style scoped>\n",
       "    .dataframe tbody tr th:only-of-type {\n",
       "        vertical-align: middle;\n",
       "    }\n",
       "\n",
       "    .dataframe tbody tr th {\n",
       "        vertical-align: top;\n",
       "    }\n",
       "\n",
       "    .dataframe thead th {\n",
       "        text-align: right;\n",
       "    }\n",
       "</style>\n",
       "<table border=\"1\" class=\"dataframe\">\n",
       "  <thead>\n",
       "    <tr style=\"text-align: right;\">\n",
       "      <th></th>\n",
       "      <th>ciclo</th>\n",
       "      <th>Trayectoria</th>\n",
       "      <th>Tipo</th>\n",
       "      <th>clave</th>\n",
       "      <th>Nombre</th>\n",
       "      <th>Maestro</th>\n",
       "      <th>Lunes</th>\n",
       "      <th>Martes</th>\n",
       "      <th>Miercoles</th>\n",
       "      <th>Jueves</th>\n",
       "      <th>Viernes</th>\n",
       "      <th>Sabado</th>\n",
       "    </tr>\n",
       "  </thead>\n",
       "  <tbody>\n",
       "    <tr>\n",
       "      <th>0</th>\n",
       "      <td>1</td>\n",
       "      <td>0</td>\n",
       "      <td>BAS</td>\n",
       "      <td>DP0193</td>\n",
       "      <td>Taller de redacción profesional</td>\n",
       "      <td>Alvarado Martínez / María Del Carmen</td>\n",
       "      <td>-</td>\n",
       "      <td>-</td>\n",
       "      <td>17:00-18:00</td>\n",
       "      <td>-</td>\n",
       "      <td>16:00-18:00</td>\n",
       "      <td>-</td>\n",
       "    </tr>\n",
       "    <tr>\n",
       "      <th>1</th>\n",
       "      <td>1</td>\n",
       "      <td>0</td>\n",
       "      <td>BAS</td>\n",
       "      <td>DP0191</td>\n",
       "      <td>Taller de interacción grupal y competencias co...</td>\n",
       "      <td>Diaz Barriga Cuevas / Claudia</td>\n",
       "      <td>-</td>\n",
       "      <td>-</td>\n",
       "      <td>-</td>\n",
       "      <td>15:00-17:00</td>\n",
       "      <td>17:00-18:00</td>\n",
       "      <td>-</td>\n",
       "    </tr>\n",
       "    <tr>\n",
       "      <th>2</th>\n",
       "      <td>1</td>\n",
       "      <td>0</td>\n",
       "      <td>BAS</td>\n",
       "      <td>DP0191</td>\n",
       "      <td>Taller de interacción grupal y competencias co...</td>\n",
       "      <td>Diaz Barriga Cuevas / Claudia</td>\n",
       "      <td>18:00-20:00</td>\n",
       "      <td>-</td>\n",
       "      <td>-</td>\n",
       "      <td>17:00-18:00</td>\n",
       "      <td>-</td>\n",
       "      <td>-</td>\n",
       "    </tr>\n",
       "    <tr>\n",
       "      <th>3</th>\n",
       "      <td>1</td>\n",
       "      <td>0</td>\n",
       "      <td>BAS</td>\n",
       "      <td>DP0193</td>\n",
       "      <td>Taller de redacción profesional</td>\n",
       "      <td>Parra Dorantes / Roberto</td>\n",
       "      <td>-</td>\n",
       "      <td>-</td>\n",
       "      <td>18:00-20:00</td>\n",
       "      <td>-</td>\n",
       "      <td>17:00-18:00</td>\n",
       "      <td>-</td>\n",
       "    </tr>\n",
       "    <tr>\n",
       "      <th>4</th>\n",
       "      <td>1</td>\n",
       "      <td>0</td>\n",
       "      <td>BAS</td>\n",
       "      <td>DP0194</td>\n",
       "      <td>Desarrollo de habilidades del pensamiento</td>\n",
       "      <td>Mendoza Luna / José Arturo</td>\n",
       "      <td>-</td>\n",
       "      <td>-</td>\n",
       "      <td>19:00-20:00</td>\n",
       "      <td>-</td>\n",
       "      <td>20:00-22:00</td>\n",
       "      <td>-</td>\n",
       "    </tr>\n",
       "  </tbody>\n",
       "</table>\n",
       "</div>"
      ],
      "text/plain": [
       "   ciclo  Trayectoria Tipo   clave  \\\n",
       "0      1            0  BAS  DP0193   \n",
       "1      1            0  BAS  DP0191   \n",
       "2      1            0  BAS  DP0191   \n",
       "3      1            0  BAS  DP0193   \n",
       "4      1            0  BAS  DP0194   \n",
       "\n",
       "                                              Nombre  \\\n",
       "0                    Taller de redacción profesional   \n",
       "1  Taller de interacción grupal y competencias co...   \n",
       "2  Taller de interacción grupal y competencias co...   \n",
       "3                    Taller de redacción profesional   \n",
       "4          Desarrollo de habilidades del pensamiento   \n",
       "\n",
       "                                Maestro        Lunes Martes    Miercoles  \\\n",
       "0  Alvarado Martínez / María Del Carmen            -      -  17:00-18:00   \n",
       "1         Diaz Barriga Cuevas / Claudia            -      -            -   \n",
       "2         Diaz Barriga Cuevas / Claudia  18:00-20:00      -            -   \n",
       "3              Parra Dorantes / Roberto            -      -  18:00-20:00   \n",
       "4            Mendoza Luna / José Arturo            -      -  19:00-20:00   \n",
       "\n",
       "        Jueves      Viernes Sabado  \n",
       "0            -  16:00-18:00      -  \n",
       "1  15:00-17:00  17:00-18:00      -  \n",
       "2  17:00-18:00            -      -  \n",
       "3            -  17:00-18:00      -  \n",
       "4            -  20:00-22:00      -  "
      ]
     },
     "execution_count": 11,
     "metadata": {},
     "output_type": "execute_result"
    }
   ],
   "source": [
    "oferta.head()"
   ]
  },
  {
   "cell_type": "code",
   "execution_count": 12,
   "id": "43714bb4",
   "metadata": {},
   "outputs": [
    {
     "data": {
      "text/html": [
       "<div>\n",
       "<style scoped>\n",
       "    .dataframe tbody tr th:only-of-type {\n",
       "        vertical-align: middle;\n",
       "    }\n",
       "\n",
       "    .dataframe tbody tr th {\n",
       "        vertical-align: top;\n",
       "    }\n",
       "\n",
       "    .dataframe thead th {\n",
       "        text-align: right;\n",
       "    }\n",
       "</style>\n",
       "<table border=\"1\" class=\"dataframe\">\n",
       "  <thead>\n",
       "    <tr style=\"text-align: right;\">\n",
       "      <th></th>\n",
       "      <th>plan</th>\n",
       "      <th>ser1</th>\n",
       "      <th>ser2</th>\n",
       "    </tr>\n",
       "  </thead>\n",
       "  <tbody>\n",
       "    <tr>\n",
       "      <th>0</th>\n",
       "      <td>IDP2016</td>\n",
       "      <td>II0106</td>\n",
       "      <td>II0209</td>\n",
       "    </tr>\n",
       "    <tr>\n",
       "      <th>1</th>\n",
       "      <td>IDP2016</td>\n",
       "      <td>ID0102</td>\n",
       "      <td>II0215</td>\n",
       "    </tr>\n",
       "    <tr>\n",
       "      <th>2</th>\n",
       "      <td>IDP2016</td>\n",
       "      <td>II0209</td>\n",
       "      <td>II0320</td>\n",
       "    </tr>\n",
       "    <tr>\n",
       "      <th>3</th>\n",
       "      <td>IDP2016</td>\n",
       "      <td>ID0103</td>\n",
       "      <td>IT0263</td>\n",
       "    </tr>\n",
       "    <tr>\n",
       "      <th>4</th>\n",
       "      <td>IDP2016</td>\n",
       "      <td>IT0264</td>\n",
       "      <td>ID0204</td>\n",
       "    </tr>\n",
       "  </tbody>\n",
       "</table>\n",
       "</div>"
      ],
      "text/plain": [
       "      plan    ser1    ser2\n",
       "0  IDP2016  II0106  II0209\n",
       "1  IDP2016  ID0102  II0215\n",
       "2  IDP2016  II0209  II0320\n",
       "3  IDP2016  ID0103  IT0263\n",
       "4  IDP2016  IT0264  ID0204"
      ]
     },
     "execution_count": 12,
     "metadata": {},
     "output_type": "execute_result"
    }
   ],
   "source": [
    "seriaciones.head()"
   ]
  },
  {
   "cell_type": "markdown",
   "id": "bfd69931",
   "metadata": {},
   "source": [
    "## Limpieza de datos"
   ]
  },
  {
   "cell_type": "code",
   "execution_count": 13,
   "id": "df8e39c4",
   "metadata": {},
   "outputs": [],
   "source": [
    "cargas16_19 = pd.concat([d16,d17,d18,d19])\n",
    "cargas20_21 = d2021"
   ]
  },
  {
   "cell_type": "code",
   "execution_count": 14,
   "id": "4ae45e39",
   "metadata": {},
   "outputs": [],
   "source": [
    "cargas16_19 = cargas16_19.query('carrera == \"Ingeniería en Datos e Inteligencia Organizacional\"')"
   ]
  },
  {
   "cell_type": "code",
   "execution_count": 15,
   "id": "d39831e8",
   "metadata": {},
   "outputs": [],
   "source": [
    "cargas16_19 = cargas16_19[['Unnamed: 0', 'carrera', 'periodo', 'clave', 'asignatura',\n",
    "       'promediofinal', 'docente', 'ceveval_global', 'ceneval_analitico',\n",
    "       'ceneval_matematico', 'ceneval_lengua', 'ceneval_esp',\n",
    "       'n_matricula']]"
   ]
  },
  {
   "cell_type": "code",
   "execution_count": 16,
   "id": "7cc3c245",
   "metadata": {},
   "outputs": [],
   "source": [
    "matriculas16 = cargas16_19.query('n_matricula > 160000000 and n_matricula < 170000000')['n_matricula'].unique()\n",
    "matriculas17 = cargas16_19.query('n_matricula > 170000000 and n_matricula < 180000000')['n_matricula'].unique()\n",
    "matriculas18 = cargas16_19.query('n_matricula > 180000000 and n_matricula < 190000000')['n_matricula'].unique()\n",
    "matriculas19 = cargas16_19.query('n_matricula > 190000000 and n_matricula < 200000000')['n_matricula'].unique()\n",
    "matriculas20 = cargas20_21.query('n_matricula > 200000000 and n_matricula < 210000000')['n_matricula'].unique()\n",
    "matriculas21 = cargas20_21.query('n_matricula > 210000000 and n_matricula < 220000000')['n_matricula'].unique()"
   ]
  },
  {
   "cell_type": "code",
   "execution_count": 17,
   "id": "d73ab148",
   "metadata": {},
   "outputs": [],
   "source": [
    "matriculas = np.concatenate((matriculas16, matriculas17,matriculas18,matriculas19,matriculas20,matriculas21))"
   ]
  },
  {
   "cell_type": "code",
   "execution_count": 18,
   "id": "ef8cdacc",
   "metadata": {},
   "outputs": [],
   "source": [
    "cargas20_21 = cargas20_21.rename(columns={'programa': 'carrera'})"
   ]
  },
  {
   "cell_type": "code",
   "execution_count": 19,
   "id": "44964db8",
   "metadata": {},
   "outputs": [],
   "source": [
    "formato_cargas20_21 = cargas20_21[['carrera', 'periodo', 'clave', 'asignatura','docente','n_matricula','promediofinal']]\n",
    "formato_cargas16_19 = cargas16_19[['carrera', 'periodo', 'clave', 'asignatura','docente','n_matricula','promediofinal']]\n",
    "\n",
    "formato_cargas = pd.concat([formato_cargas16_19,formato_cargas20_21])"
   ]
  },
  {
   "cell_type": "code",
   "execution_count": 20,
   "id": "633c5c03",
   "metadata": {},
   "outputs": [],
   "source": [
    "oferta = oferta[['clave','Nombre', 'Maestro', 'Lunes','Martes', 'Miercoles', 'Jueves', 'Viernes']]"
   ]
  },
  {
   "cell_type": "code",
   "execution_count": 21,
   "id": "7c117b7d",
   "metadata": {},
   "outputs": [],
   "source": [
    "oferta = oferta.drop_duplicates()"
   ]
  },
  {
   "cell_type": "code",
   "execution_count": 22,
   "id": "ccdf4d3c",
   "metadata": {},
   "outputs": [
    {
     "data": {
      "text/plain": [
       "array(['-', '18:00-20:00', '17:00-19:00', '20:00-22:00', '15:00-17:00',\n",
       "       '9:00-11:00', '19:00-21:00', '19:00-20:00', '7:00-9:00',\n",
       "       '11:00-13:00', '13:00-14:00', '16:00-18:00', '14:00-16:00',\n",
       "       '7:00-10:00', '7:00-8:00', '16:00-19:00', '21:00-22:00',\n",
       "       '16:00-17:00'], dtype=object)"
      ]
     },
     "execution_count": 22,
     "metadata": {},
     "output_type": "execute_result"
    }
   ],
   "source": [
    "oferta['Lunes'].unique()"
   ]
  },
  {
   "cell_type": "code",
   "execution_count": 23,
   "id": "e66bb055",
   "metadata": {},
   "outputs": [
    {
     "data": {
      "text/plain": [
       "array(['-', '15:00-17:00', '20:00-21:00', '20:00-22:00', '19:00-20:00',\n",
       "       '16:00-18:00', '18:00-19:00', '7:00-9:00', '9:00-11:00',\n",
       "       '18:00-20:00', '14:00-16:00', '13:00-15:00', '8:00-9:00'],\n",
       "      dtype=object)"
      ]
     },
     "execution_count": 23,
     "metadata": {},
     "output_type": "execute_result"
    }
   ],
   "source": [
    "oferta['Martes'].unique()"
   ]
  },
  {
   "cell_type": "code",
   "execution_count": 24,
   "id": "95d37d10",
   "metadata": {},
   "outputs": [
    {
     "data": {
      "text/plain": [
       "array(['17:00-18:00', '-', '18:00-20:00', '19:00-20:00', '16:00-17:00',\n",
       "       '15:00-17:00', '20:00-21:00', '20:00-22:00', '18:00-19:00',\n",
       "       '12:00-14:00', '7:00-9:00', '9:00-11:00', '11:00-12:00',\n",
       "       '11:00-13:00', '\\n13:00-15:00', '13:00-15:00', '17:00-19:00',\n",
       "       '19:00-21:00', '15:00-16:00', '12:00-13:00', '8:00-10:00',\n",
       "       '7:00-8:00', '10:00-12:00', '16:00-18:00', '14:00-15:00'],\n",
       "      dtype=object)"
      ]
     },
     "execution_count": 24,
     "metadata": {},
     "output_type": "execute_result"
    }
   ],
   "source": [
    "oferta['Miercoles'].unique()"
   ]
  },
  {
   "cell_type": "code",
   "execution_count": 25,
   "id": "4012117e",
   "metadata": {},
   "outputs": [
    {
     "data": {
      "text/plain": [
       "array(['-', '15:00-17:00', '17:00-18:00', '20:00-21:00', '16:00-17:00',\n",
       "       '9:00-10:00', '20:00-22:00', '18:00-20:00', '19:00-21:00',\n",
       "       '7:00-8:00', '13:00-14:00', '8:00-9:00', '9:00-11:00',\n",
       "       '16:00-18:00', '14:00-15:00', '13:00-15:00', '7:00-9:00',\n",
       "       '15:00-16:00', '18:00-19:00', '19:00-20:00', '21:00-22:00'],\n",
       "      dtype=object)"
      ]
     },
     "execution_count": 25,
     "metadata": {},
     "output_type": "execute_result"
    }
   ],
   "source": [
    "oferta['Jueves'].unique()"
   ]
  },
  {
   "cell_type": "code",
   "execution_count": 26,
   "id": "f49a2152",
   "metadata": {},
   "outputs": [
    {
     "data": {
      "text/plain": [
       "array(['16:00-18:00', '17:00-18:00', '-', '20:00-22:00', '15:00-17:00',\n",
       "       '14:00-15:00', '18:00-20:00', '20:00-21:00', '13:00-14:00',\n",
       "       '9:00-10:00', '7:00-9:00', '10:00-11:00', '16:00-17:00',\n",
       "       '14:00-16:00', '18:00-19:00', '8:00-10:00', '19:00-20:00',\n",
       "       '19:00-21:00'], dtype=object)"
      ]
     },
     "execution_count": 26,
     "metadata": {},
     "output_type": "execute_result"
    }
   ],
   "source": [
    "oferta['Viernes'].unique()"
   ]
  },
  {
   "cell_type": "code",
   "execution_count": 27,
   "id": "45eecfeb",
   "metadata": {},
   "outputs": [],
   "source": [
    "oferta.loc[36,'Miercoles'] = '13:00-15:00'"
   ]
  },
  {
   "cell_type": "code",
   "execution_count": 28,
   "id": "ef6278f8",
   "metadata": {},
   "outputs": [
    {
     "data": {
      "text/plain": [
       "array(['17:00-18:00', '-', '18:00-20:00', '19:00-20:00', '16:00-17:00',\n",
       "       '15:00-17:00', '20:00-21:00', '20:00-22:00', '18:00-19:00',\n",
       "       '12:00-14:00', '7:00-9:00', '9:00-11:00', '11:00-12:00',\n",
       "       '11:00-13:00', '13:00-15:00', '17:00-19:00', '19:00-21:00',\n",
       "       '15:00-16:00', '12:00-13:00', '8:00-10:00', '7:00-8:00',\n",
       "       '10:00-12:00', '16:00-18:00', '14:00-15:00'], dtype=object)"
      ]
     },
     "execution_count": 28,
     "metadata": {},
     "output_type": "execute_result"
    }
   ],
   "source": [
    "oferta['Miercoles'].unique()"
   ]
  },
  {
   "cell_type": "code",
   "execution_count": 29,
   "id": "733f2c7d",
   "metadata": {},
   "outputs": [],
   "source": [
    "def formatoHora(hora):\n",
    "    if len(hora) == 11:\n",
    "        return hora\n",
    "    elif len(hora) == 10:\n",
    "        return '0' + hora\n",
    "    elif len(hora) == 9:\n",
    "        return '0' + hora[0:5] + '0' + hora[5:]\n",
    "    elif len(hora) == 1:\n",
    "        return '-'"
   ]
  },
  {
   "cell_type": "code",
   "execution_count": 30,
   "id": "cbbef837",
   "metadata": {},
   "outputs": [],
   "source": [
    "oferta['Lunes'] = oferta['Lunes'].apply(lambda horas: formatoHora(horas))\n",
    "oferta['Martes'] = oferta['Martes'].apply(lambda horas: formatoHora(horas))\n",
    "oferta['Miercoles'] = oferta['Miercoles'].apply(lambda horas: formatoHora(horas))\n",
    "oferta['Jueves'] = oferta['Jueves'].apply(lambda horas: formatoHora(horas))\n",
    "oferta['Viernes'] = oferta['Viernes'].apply(lambda horas: formatoHora(horas))"
   ]
  },
  {
   "cell_type": "markdown",
   "id": "e270f83a",
   "metadata": {},
   "source": [
    "# Definición de funciones útiles"
   ]
  },
  {
   "cell_type": "markdown",
   "id": "650e1224",
   "metadata": {},
   "source": [
    "## Función para obtener un Kardex aleatorio"
   ]
  },
  {
   "cell_type": "code",
   "execution_count": 31,
   "id": "a693ee2c",
   "metadata": {},
   "outputs": [],
   "source": [
    "def obtenerKardex(mat = -1):\n",
    "    if(mat == -1):\n",
    "        mat = np.random.choice(matriculas)\n",
    "    return formato_cargas.query('n_matricula == ' + str(mat)).sort_values('periodo')"
   ]
  },
  {
   "cell_type": "code",
   "execution_count": 32,
   "id": "ec725b61",
   "metadata": {},
   "outputs": [],
   "source": [
    "def obtenerCreditos(kardex):\n",
    "    claves = kardex.query('promediofinal >= 7')['clave'].unique()\n",
    "    totalCreditos = 0\n",
    "    for clave in claves:\n",
    "        if(clave[0:2] == 'LI' or clave[0:2] == 'TA' or clave[0:2] == 'AD'):\n",
    "            continue\n",
    "        totalCreditos += plan.query('clave == \"' + clave + '\"')['creditos'].values[0]\n",
    "    return totalCreditos"
   ]
  },
  {
   "cell_type": "code",
   "execution_count": 33,
   "id": "64788fdb",
   "metadata": {},
   "outputs": [],
   "source": [
    "def obtenerRecomendacionesUnicas(ins,umbral):\n",
    "    recomendaciones = ins.population[ins.last_generation_fitness >= umbral].copy()\n",
    "    recomendacionesFinal = []\n",
    "    for rec in recomendaciones:\n",
    "        recomendacionesFinal.append(list(set(rec)))\n",
    "    recomendacionesFinal = list(np.unique(recomendacionesFinal))\n",
    "    recomendacionesFinal.sort(key=lambda x: -obtenerDesempeno(x,0))\n",
    "\n",
    "    return recomendacionesFinal"
   ]
  },
  {
   "cell_type": "code",
   "execution_count": 34,
   "id": "aa15b02d",
   "metadata": {},
   "outputs": [],
   "source": [
    "def verKardex():\n",
    "    print('Matricula: ' + str(kardex.iloc[0]['n_matricula']))\n",
    "    print('Carrera: ' + str(kardex.iloc[0]['carrera']))\n",
    "    print('Creditos: ' + str(obtenerCreditos(kardex))+ '\\n') \n",
    "    periodos = kardex['periodo'].unique()\n",
    "    for per in periodos:\n",
    "        print('Periodo: ' + str(per))\n",
    "        print('Clave\\t\\tPromedio\\tNombre de asignatura')\n",
    "        materias = kardex.query('periodo == ' + str(per))\n",
    "        for i in range(len(materias)):\n",
    "            if(materias.iloc[i]['promediofinal'] < 7):\n",
    "                print('* ' + materias.iloc[i]['clave'] + '\\t' + str(materias.iloc[i]['promediofinal']) + '\\t\\t' + materias.iloc[i]['asignatura'])\n",
    "            else:\n",
    "                print(materias.iloc[i]['clave'] + '\\t\\t' + str(materias.iloc[i]['promediofinal']) + '\\t\\t' + materias.iloc[i]['asignatura'])\n",
    "        print('\\n')\n",
    "    "
   ]
  },
  {
   "cell_type": "markdown",
   "id": "6bdec6b6",
   "metadata": {},
   "source": [
    "## Obtención de oferta útil"
   ]
  },
  {
   "cell_type": "markdown",
   "id": "405891da",
   "metadata": {},
   "source": [
    "En este sección se crea la función \"obtenerOfertaUtil\" la cual filtra la oferta académica para eliminar las materias que no cumplen con la restricción de llevar materias aprobadas y la restricción de llevar materias que no respeten la seriación."
   ]
  },
  {
   "cell_type": "code",
   "execution_count": 35,
   "id": "1c9e8089",
   "metadata": {},
   "outputs": [],
   "source": [
    "def materiaHaSidoAprobada(kardex,clave):\n",
    "    if len(kardex.query('clave == \"' + clave + '\" and promediofinal >= 7')) == 0:\n",
    "        return False\n",
    "    else:\n",
    "        return True"
   ]
  },
  {
   "cell_type": "code",
   "execution_count": 36,
   "id": "53bcefea",
   "metadata": {},
   "outputs": [],
   "source": [
    "def respetaSeriacion(clave,kardex):\n",
    "    if len(seriaciones.query('ser2 == \"' + clave + '\"')) == 0:\n",
    "        return True\n",
    "    else:\n",
    "        #Se guarda en necesarias la lista de asignaturas necesarias para llevar la asignura \"clave\"\n",
    "        necesarias = seriaciones.query('ser2 == \"' + clave + '\"')['ser1'].unique()\n",
    "        \n",
    "        #Se recorre la lista para comprobar si el estudiante ya pasó las asignaturas necesarias, en caso de que le falte \n",
    "        #al menos una, entonces no se respeta la seriación.\n",
    "        for necesaria in necesarias:\n",
    "            if not(materiaHaSidoAprobada(kardex,necesaria)):\n",
    "                return False\n",
    "        return True"
   ]
  },
  {
   "cell_type": "code",
   "execution_count": 37,
   "id": "636cba1b",
   "metadata": {},
   "outputs": [],
   "source": [
    "#Filtra las materias que no cumplen las restricciones 1 y 2\n",
    "\n",
    "def obtenerOfertaUtil(kardex,oferta):\n",
    "    dias = ['Lunes','Martes','Miercoles','Jueves','Viernes']\n",
    "    \n",
    "    #Se eliminan las materias en la oferta que ya han sido aprobadas\n",
    "    aprobadas = kardex.query('promediofinal >= 7')['clave'].unique()\n",
    "    for clave in aprobadas:\n",
    "        oferta = oferta.query('clave != \"' + clave + '\"')\n",
    "        \n",
    "    #Se eliminan las materias que el alumno no puede llevar por la seriación\n",
    "    ofertaUtilIndex = set(oferta.index.values)\n",
    "    for idx in oferta.index:\n",
    "        if not(respetaSeriacion(oferta.loc[idx]['clave'],kardex)):\n",
    "            ofertaUtilIndex.remove(idx)\n",
    "            \n",
    "    #Se eliminan prácticas profesionales y proyecto terminal\n",
    "    for i in range(len(oferta['clave'].values)):\n",
    "        clave = oferta['clave'].values[i]\n",
    "        if clave[0:3] == 'PID' or clave == 'IT0427':\n",
    "            try:\n",
    "                ofertaUtilIndex.remove(oferta.index.values[i])\n",
    "            except:\n",
    "                continue\n",
    "    ofertaUtil = oferta.loc[list(ofertaUtilIndex)]\n",
    "    \n",
    "    ofertaUtil = pd.merge(ofertaUtil,plan,how='left',on='clave')[['clave','ciclos','Nombre','Maestro','Lunes','Martes','Miercoles','Jueves','Viernes']]\n",
    "    \n",
    "    #Se eliminan materias de elección libre de primer y segundo ciclo\n",
    "    if(materiaHaSidoAprobada(kardex,'IL0102')):\n",
    "        ofertaUtil = ofertaUtil.query('clave != \"ID0160\"')\n",
    "    if(materiaHaSidoAprobada(kardex,'ID0160')):\n",
    "        ofertaUtil = ofertaUtil.query('clave != \"IL0102\"')\n",
    "    \n",
    "    if(materiaHaSidoAprobada(kardex,'IT0103')):\n",
    "        ofertaUtil = ofertaUtil.query('clave != \"ID0161\"')\n",
    "    if(materiaHaSidoAprobada(kardex,'ID0161')):\n",
    "        ofertaUtil = ofertaUtil.query('clave != \"IT0103\"')\n",
    "        \n",
    "    if(materiaHaSidoAprobada(kardex,'ID0264')):\n",
    "        ofertaUtil = ofertaUtil.query('clave != \"ID0262\"')\n",
    "    if(materiaHaSidoAprobada(kardex,'ID0262')):\n",
    "        ofertaUtil = ofertaUtil.query('clave != \"ID0264\"')\n",
    "        \n",
    "    if(materiaHaSidoAprobada(kardex,'ID0263')):\n",
    "        ofertaUtil = ofertaUtil.query('clave != \"ID0265\"')\n",
    "    if(materiaHaSidoAprobada(kardex,'ID0265')):\n",
    "        ofertaUtil = ofertaUtil.query('clave != \"ID0263\"')\n",
    "        \n",
    "    #Si la disponibilidad de horario es una restricción, entonces elimina las materias que violen la restricción\n",
    "    if(disponibilidadComoRestriccion):\n",
    "        indices = set(ofertaUtil.index)\n",
    "        indicesUtiles = indices.copy()\n",
    "        for dia in dias:\n",
    "            for i in indices:\n",
    "                if ofertaUtil.loc[i][dia] == '-':\n",
    "                    continue\n",
    "                \n",
    "                horaInicio = int(ofertaUtil.loc[i][dia][0:2])\n",
    "                horaFin = int(ofertaUtil.loc[i][dia][6:8])\n",
    "                \n",
    "                for hora in range(horaInicio,horaFin):\n",
    "                    if not(disponibilidad.query('hora == ' + str(hora))[dia].values[0]):\n",
    "                        if i in indicesUtiles:\n",
    "                            indicesUtiles.remove(i)\n",
    "        indicesUtiles = list(indicesUtiles)\n",
    "        ofertaUtil = ofertaUtil.loc[indicesUtiles]\n",
    "    \n",
    "    return ofertaUtil"
   ]
  },
  {
   "cell_type": "markdown",
   "id": "7c1c3848",
   "metadata": {},
   "source": [
    "## Generación de carga aleatoria válida"
   ]
  },
  {
   "cell_type": "markdown",
   "id": "a66d78f1",
   "metadata": {},
   "source": [
    "En esta sección creamos las funciones \"generarCargaValida\" la cual retorna una string de bits representando una carga académica con base a la oferta útil. También se crea la función \"obtenerDatosCarga\" que nos ayuda a obtener los datos de una carga académica con base a la oferta útil y a una string de bits que denominamos \"bits de carga\""
   ]
  },
  {
   "cell_type": "code",
   "execution_count": 38,
   "id": "5e238cf9",
   "metadata": {},
   "outputs": [],
   "source": [
    "def generarSolucionAleatoria(ofertaUtil):\n",
    "    solucion = [-1] * 9\n",
    "    for i in range(9):\n",
    "        gen = np.random.randint(-1,len(ofertaUtil))\n",
    "        if gen == -1:\n",
    "            solucion[i] = -1\n",
    "        else:\n",
    "            solucion[i] = ofertaUtil.index[gen]\n",
    "    return solucion"
   ]
  },
  {
   "cell_type": "code",
   "execution_count": 39,
   "id": "136e15f5",
   "metadata": {},
   "outputs": [],
   "source": [
    "def obtenerDatosCarga(solucion,ofertaUtil):\n",
    "    solucionU = np.array(solucion)\n",
    "    solucionU = np.unique(solucionU)\n",
    "    solucionU = solucionU[solucionU >= 0]\n",
    "    \n",
    "    return ofertaUtil.loc[solucionU]"
   ]
  },
  {
   "cell_type": "code",
   "execution_count": 40,
   "id": "d49e48ef",
   "metadata": {},
   "outputs": [],
   "source": [
    "def comprobarTraslapacion(solucion,ofertaUtil):\n",
    "    datosCarga = obtenerDatosCarga(solucion,ofertaUtil)\n",
    "    dias = ['Lunes','Martes','Miercoles','Jueves','Viernes']\n",
    "    \n",
    "    for dia in dias:\n",
    "        horarioDia = datosCarga.sort_values(dia)[dia].values\n",
    "        for i in range(len(horarioDia)):\n",
    "            if horarioDia[i] == '-':\n",
    "                continue\n",
    "            horaInicioI = int(horarioDia[i][0:2])\n",
    "            horaFinI = int(horarioDia[i][6:8])\n",
    "            \n",
    "            for j in range(i+1,len(horarioDia)):\n",
    "                horaInicioJ = int(horarioDia[j][0:2])\n",
    "                horaFinJ = int(horarioDia[j][6:8])\n",
    "                \n",
    "                if not(horaFinJ  <= horaInicioI or horaInicioJ >= horaFinI):\n",
    "                    return True\n",
    "    return False"
   ]
  },
  {
   "cell_type": "code",
   "execution_count": 41,
   "id": "584ec5ea",
   "metadata": {},
   "outputs": [],
   "source": [
    "def esValido(solucion,ofertaUtil):\n",
    "    #Si se repite una materia es inválido\n",
    "    datosCarga = obtenerDatosCarga(solucion,ofertaUtil)\n",
    "    if len(datosCarga['clave'].unique()) < len(datosCarga):\n",
    "        return False\n",
    "    #Si se traslapan dos materias es inválido\n",
    "    if comprobarTraslapacion(solucion,ofertaUtil):\n",
    "        return False\n",
    "    #Si son menos de 3 materias es inválido\n",
    "    solucionSet = set(solucion)\n",
    "    if -1 in solucionSet:\n",
    "        solucionSet.remove(-1)\n",
    "    if(len(solucionSet)<3):\n",
    "        return False\n",
    "    \n",
    "    #Si se llevan dos materias de elección libre del ciclo 1 y 2\n",
    "    clavesSet = set(datosCarga['clave'])\n",
    "    \n",
    "    if 'IL0102' in clavesSet and 'ID0160' in clavesSet:\n",
    "        return False\n",
    "    if 'IT0103' in clavesSet and 'ID0161' in clavesSet:\n",
    "        return False\n",
    "    if 'ID0264' in clavesSet and 'ID0262' in clavesSet:\n",
    "        return False\n",
    "    if 'ID0263' in clavesSet and 'ID0265' in clavesSet:\n",
    "        return False\n",
    "    \n",
    "    return True"
   ]
  },
  {
   "cell_type": "code",
   "execution_count": 42,
   "id": "b37d67d9",
   "metadata": {},
   "outputs": [],
   "source": [
    "def generarSolucionValida(ofertaUtil):\n",
    "    bitsDeCarga = generarSolucionAleatoria(ofertaUtil)\n",
    "    \n",
    "    while not(esValido(bitsDeCarga,ofertaUtil)):\n",
    "        bitsDeCarga = generarSolucionAleatoria(ofertaUtil)\n",
    "    \n",
    "    return bitsDeCarga"
   ]
  },
  {
   "cell_type": "code",
   "execution_count": 43,
   "id": "2dda725e",
   "metadata": {},
   "outputs": [],
   "source": [
    "def obtenerHorario(carga):\n",
    "    primeraHoraMinima = 24\n",
    "    ultimaHoraMaxima = 0\n",
    "    datosCarga = obtenerDatosCarga(carga,ofertaUtil)\n",
    "    horario = pd.DataFrame({\n",
    "        'Hora': ['7:00-8:00','8:00-9:00','9:00-10:00','10:00-11:00','11:00-12:00','12:00-13:00','13:00-14:00','14:00-15:00','15:00-16:00','16:00-17:00','17:00-18:00','18:00-19:00','19:00-20:00','20:00-21:00','21:00-22:00'],\n",
    "        'Lunes': ['-','-','-','-','-','-','-','-','-','-','-','-','-','-','-'],\n",
    "        'Martes': ['-','-','-','-','-','-','-','-','-','-','-','-','-','-','-'],\n",
    "        'Miercoles': ['-','-','-','-','-','-','-','-','-','-','-','-','-','-','-'],\n",
    "        'Jueves': ['-','-','-','-','-','-','-','-','-','-','-','-','-','-','-'],\n",
    "        'Viernes': ['-','-','-','-','-','-','-','-','-','-','-','-','-','-','-'],\n",
    "    })\n",
    "    dias = ['Lunes','Martes','Miercoles','Jueves','Viernes']\n",
    "    for dia in dias:\n",
    "        for i in range(len(datosCarga)):\n",
    "            if datosCarga[dia].iloc[i] == '-':\n",
    "                continue\n",
    "\n",
    "            horaInicio = int(datosCarga.iloc[i][dia][0:2])\n",
    "            horaFin = int(datosCarga.iloc[i][dia][6:8])\n",
    "            \n",
    "            primeraHoraMinima = min(primeraHoraMinima,horaInicio)\n",
    "            ultimaHoraMaxima = max(ultimaHoraMaxima,horaFin)\n",
    "            \n",
    "            nombre = datosCarga.iloc[i]['Nombre']\n",
    "\n",
    "            for hora in range(horaInicio,horaFin):\n",
    "                horario.loc[hora-7,dia]=nombre\n",
    "    return horario[(primeraHoraMinima-7):(ultimaHoraMaxima-6)]"
   ]
  },
  {
   "cell_type": "markdown",
   "id": "ce892328",
   "metadata": {},
   "source": [
    "# Definición de funciones de utilidad y de costo"
   ]
  },
  {
   "cell_type": "markdown",
   "id": "3a651fdf",
   "metadata": {},
   "source": [
    "## Utilidad de carga académica con base en cantidad ideal de materias"
   ]
  },
  {
   "cell_type": "code",
   "execution_count": 44,
   "id": "658cf16b",
   "metadata": {},
   "outputs": [],
   "source": [
    "def UpCM(solucion):\n",
    "    if(cantidadMateriasIdeal == 0):\n",
    "        return 1\n",
    "    \n",
    "    diferenciaMaxima = max(cantidadMateriasIdeal-3,9-cantidadMateriasIdeal)\n",
    "    solucionSet = set(solucion)\n",
    "    \n",
    "    if -1 in solucionSet:\n",
    "        solucionSet.remove(-1)\n",
    "        \n",
    "    tamanoCarga = len(solucionSet)\n",
    "    separacion = abs(tamanoCarga-cantidadMateriasIdeal)\n",
    "    \n",
    "    return 1 - (separacion / diferenciaMaxima)"
   ]
  },
  {
   "cell_type": "markdown",
   "id": "3b187491",
   "metadata": {},
   "source": [
    "## Utilidad de carga académica con base en las materias reprobadas"
   ]
  },
  {
   "cell_type": "code",
   "execution_count": 80,
   "id": "65b92edf",
   "metadata": {},
   "outputs": [],
   "source": [
    "def obtenerMateriasReprobadas(kardex):\n",
    "    materiasReprobadas = kardex.query('promediofinal < 7')['clave'].unique()\n",
    "    materiasReprobadasFinal = []\n",
    "    for clave in materiasReprobadas:\n",
    "        aprobado = len(kardex.query('clave == \"' + clave + '\" and promediofinal >= 7'))\n",
    "        if aprobado == 0 and clave[0:2] != 'LI':\n",
    "            materiasReprobadasFinal.append(clave)\n",
    "    return materiasReprobadasFinal"
   ]
  },
  {
   "cell_type": "code",
   "execution_count": 46,
   "id": "3a2e830e",
   "metadata": {},
   "outputs": [],
   "source": [
    "def UpMR(kardex,solucion,ofertaUtil):\n",
    "    materiasReprobadas = obtenerMateriasReprobadas(kardex)\n",
    "    if len(materiasReprobadas) == 0:\n",
    "        return 1\n",
    "    datosCarga = obtenerDatosCarga(solucion,ofertaUtil)\n",
    "    utilidadTotal = 0\n",
    "    \n",
    "    for clave in materiasReprobadas:\n",
    "        cargado = len(datosCarga.query('clave == \"' + clave + '\"'))\n",
    "        if cargado == 1:\n",
    "            utilidadTotal += 1\n",
    "            \n",
    "    \n",
    "    #Normalización\n",
    "    utilidad = (utilidadTotal)/(len(materiasReprobadas))\n",
    "    return utilidad"
   ]
  },
  {
   "cell_type": "markdown",
   "id": "3385911a",
   "metadata": {},
   "source": [
    "## Utilidad de carga académica con base en el cierre de ciclos"
   ]
  },
  {
   "cell_type": "code",
   "execution_count": 47,
   "id": "b311b785",
   "metadata": {},
   "outputs": [],
   "source": [
    "def UpCC(solucion,ofertaUtil):\n",
    "    base = 3\n",
    "    utilidad = [base**3,base**2,base,1]\n",
    "    utilidadTotal = 0\n",
    "    \n",
    "    menorCiclo = min(ofertaUtil['ciclos']) - 1\n",
    "    \n",
    "    datosCarga = obtenerDatosCarga(solucion,ofertaUtil)\n",
    "    \n",
    "    claves = datosCarga['clave'].unique()\n",
    "    for i in range(len(claves)):\n",
    "        if claves[i][0:2] == 'AD'or claves[i][0:2] == 'TA' or claves[i][0:2] == 'LI' or claves[i][0:2] == 'PI':\n",
    "            continue\n",
    "            \n",
    "        ciclo = int(plan.query('clave == \"' + claves[i] + '\"')['ciclos']) - 1\n",
    "        utilidadTotal += utilidad[ciclo - menorCiclo]\n",
    "    \n",
    "    utilidadMaxima = 0\n",
    "    cantidadMateriasCiclo1 = len(ofertaUtil.query('ciclos == ' + str(menorCiclo+1))['clave'].unique())\n",
    "    cantidadMateriasCiclo2 = len(ofertaUtil.query('ciclos == ' + str(menorCiclo+2))['clave'].unique())\n",
    "    cantidadMateriasCiclo3 = len(ofertaUtil.query('ciclos == ' + str(menorCiclo+3))['clave'].unique())\n",
    "    cantidadMateriasCiclo4 = len(ofertaUtil.query('ciclos == ' + str(menorCiclo+4))['clave'].unique())\n",
    "    cantidadMateriasMaxima = 9\n",
    "    \n",
    "    m1 = m2 = m3 = m4 = 0\n",
    "    \n",
    "    if (cantidadMateriasMaxima - cantidadMateriasCiclo1) >= 0:\n",
    "        m1 = cantidadMateriasCiclo1\n",
    "        cantidadMateriasMaxima -= cantidadMateriasCiclo1\n",
    "    else:\n",
    "        m1 = 9\n",
    "        cantidadMateriasMaxima = 0\n",
    "    if (cantidadMateriasMaxima - cantidadMateriasCiclo2) >= 0:\n",
    "        m2 = cantidadMateriasCiclo2\n",
    "        cantidadMateriasMaxima -= cantidadMateriasCiclo2\n",
    "    elif cantidadMateriasMaxima > 0:\n",
    "        m2 = cantidadMateriasMaxima\n",
    "        cantidadMateriasMaxima = 0\n",
    "    if (cantidadMateriasMaxima - cantidadMateriasCiclo3) >= 0:\n",
    "        m3 = cantidadMateriasCiclo3\n",
    "        cantidadMateriasMaxima -= cantidadMateriasCiclo3\n",
    "    elif cantidadMateriasMaxima > 0:\n",
    "        m3 = cantidadMateriasMaxima\n",
    "        cantidadMateriasMaxima = 0\n",
    "    if (cantidadMateriasMaxima - cantidadMateriasCiclo4) >= 0:\n",
    "        m4 = cantidadMateriasCiclo4\n",
    "        cantidadMateriasMaxima -= cantidadMateriasCiclo4\n",
    "    elif cantidadMateriasMaxima > 0:\n",
    "        m4 = cantidadMateriasMaxima\n",
    "        cantidadMateriasMaxima = 0\n",
    "        \n",
    "    \n",
    "    utilidadMaxima = m1*utilidad[0] + m2*utilidad[1] + m3*utilidad[2] + m4*utilidad[3]\n",
    " \n",
    "    #Normalización\n",
    "    utilidadNorm = (utilidadTotal)/(utilidadMaxima)\n",
    "    return utilidadNorm"
   ]
  },
  {
   "cell_type": "markdown",
   "id": "1316cc72",
   "metadata": {},
   "source": [
    "## Costo por amplitud de horario"
   ]
  },
  {
   "cell_type": "code",
   "execution_count": 48,
   "id": "2c8a9845",
   "metadata": {},
   "outputs": [],
   "source": [
    "def CpAH(solucion):\n",
    "    amplitudAceptable = 7\n",
    "    \n",
    "    datosCarga = obtenerDatosCarga(solucion,ofertaUtil)\n",
    "    dias = ['Lunes','Martes','Miercoles','Jueves','Viernes']\n",
    "    horaMin = 21\n",
    "    horaMax = 7\n",
    "    \n",
    "    for dia in dias:\n",
    "        for hora in datosCarga[dia]:\n",
    "            if hora == '-':\n",
    "                continue\n",
    "            horaMin = min(int(hora[0:2]),horaMin)\n",
    "            horaMax = max(int(hora[6:8]),horaMax)\n",
    "            \n",
    "    amplitud = (horaMax - horaMin)\n",
    "    if amplitud <= amplitudAceptable:\n",
    "        return 0\n",
    "    amplitud -= amplitudAceptable\n",
    "    \n",
    "    return amplitud / (15 - amplitudAceptable)"
   ]
  },
  {
   "cell_type": "markdown",
   "id": "3055acdc",
   "metadata": {},
   "source": [
    "## Costo de carga académica con base en las horas libres"
   ]
  },
  {
   "cell_type": "markdown",
   "id": "8e3c3124",
   "metadata": {},
   "source": [
    "#### NOTA: Tomar en cuenta las horas libres por día"
   ]
  },
  {
   "cell_type": "code",
   "execution_count": 49,
   "id": "de37cf1b",
   "metadata": {},
   "outputs": [],
   "source": [
    "    def CpHL(solucion,ofertaUtil):\n",
    "        dias = ['Lunes','Martes','Miercoles','Jueves','Viernes']\n",
    "        costoTotal = 0\n",
    "        hlMax = 0\n",
    "\n",
    "        datosCarga = obtenerDatosCarga(solucion,ofertaUtil)\n",
    "\n",
    "        for dia in dias:\n",
    "            datosCarga = datosCarga.sort_values(dia)\n",
    "            if datosCarga[dia].iloc[len(datosCarga)-2] == '-':\n",
    "                continue\n",
    "\n",
    "            ultimaHoraFin = 0\n",
    "            for i in range(len(datosCarga)):\n",
    "                if datosCarga.iloc[i][dia] == '-':\n",
    "                    continue\n",
    "                if ultimaHoraFin == 0:\n",
    "                    ultimaHoraFin = int(datosCarga.iloc[i][dia][6:8])\n",
    "                    primeraHoraDia = int(datosCarga.iloc[i][dia][0:2])\n",
    "                    continue\n",
    "                horaInicio = int(datosCarga.iloc[i][dia][0:2])\n",
    "                costoTotal += (horaInicio - ultimaHoraFin)\n",
    "                ultimaHoraFin = int(datosCarga.iloc[i][dia][6:8])\n",
    "            hlMax += (ultimaHoraFin - primeraHoraDia - 2)\n",
    "\n",
    "        if hlMax == 0:\n",
    "            return 0\n",
    "        #Normalización\n",
    "        costo = (costoTotal)/(hlMax)\n",
    "        return costo"
   ]
  },
  {
   "cell_type": "markdown",
   "id": "25015bdb",
   "metadata": {},
   "source": [
    "## Costo de carga académica con base en la disponibilidad de horario del estudiante"
   ]
  },
  {
   "cell_type": "markdown",
   "id": "73d999ec",
   "metadata": {},
   "source": [
    "Creamos 4 casos diferentes donde los estudiantes trabajan. Guardamos el horario de ocupación de los estudiantes en un dataframe por cada estudiante."
   ]
  },
  {
   "cell_type": "code",
   "execution_count": 50,
   "id": "709995e9",
   "metadata": {},
   "outputs": [],
   "source": [
    "# El estudiante trabaja por las mañanas tiempo completo\n",
    "disp_est_1 = pd.DataFrame({\n",
    "    \"hora\": [7,8,9,10,11,12,13,14,15,16,17,18,19,20,21],\n",
    "    \"Lunes\": [False,False,False,False,False,False,False,False,False,True,True,True,True,True,True],\n",
    "    \"Martes\": [False,False,False,False,False,False,False,False,False,True,True,True,True,True,True],\n",
    "    \"Miercoles\": [False,False,False,False,False,False,False,False,False,True,True,True,True,True,True],\n",
    "    \"Jueves\": [False,False,False,False,False,False,False,False,False,True,True,True,True,True,True],\n",
    "    \"Viernes\": [False,False,False,False,False,False,False,False,False,True,True,True,True,True,True],\n",
    "})\n",
    "\n",
    "\n",
    "# El estudiante trabaja por las tardes tiempo completo\n",
    "disp_est_2 = pd.DataFrame({\n",
    "    \"hora\": [7,8,9,10,11,12,13,14,15,16,17,18,19,20,21],\n",
    "    \"Lunes\": [True,True,True,True,True,True,False,False,False,False,False,False,False,False,False],\n",
    "    \"Martes\": [True,True,True,True,True,True,False,False,False,False,False,False,False,False,False],\n",
    "    \"Miercoles\": [True,True,True,True,True,True,False,False,False,False,False,False,False,False,False],\n",
    "    \"Jueves\": [True,True,True,True,True,True,False,False,False,False,False,False,False,False,False],\n",
    "    \"Viernes\": [True,True,True,True,True,True,False,False,False,False,False,False,False,False,False],\n",
    "})\n",
    "\n",
    "# El estudiante trabaja por las mañanas medio tiempo\n",
    "disp_est_3 = pd.DataFrame({\n",
    "    \"hora\": [7,8,9,10,11,12,13,14,15,16,17,18,19,20,21],\n",
    "    \"Lunes\": [True,False,False,False,False,False,True,True,True,True,True,True,True,False,False],\n",
    "    \"Martes\": [True,False,False,False,False,False,True,True,True,True,True,True,True,False,False],\n",
    "    \"Miercoles\": [True,False,False,False,False,False,True,True,True,True,True,True,True,False,False],\n",
    "    \"Jueves\": [True,False,False,False,False,False,True,True,True,True,True,True,True,False,False],\n",
    "    \"Viernes\": [True,False,False,False,False,False,True,True,True,True,True,True,True,False,False],\n",
    "})\n",
    "# El estudiante trabaja por las tardes medio tiempo\n",
    "disp_est_4 = pd.DataFrame({\n",
    "    \"hora\": [7,8,9,10,11,12,13,14,15,16,17,18,19,20,21],\n",
    "    \"Lunes\": [True,True,True,True,True,False,False,False,False,False,True,True,True,True,True],\n",
    "    \"Martes\": [True,True,True,True,True,False,False,False,False,False,True,True,True,True,True],\n",
    "    \"Miercoles\": [True,True,True,True,True,False,False,False,False,False,True,True,True,True,True],\n",
    "    \"Jueves\": [True,True,True,True,True,False,False,False,False,False,True,True,True,True,True],\n",
    "    \"Viernes\": [True,True,True,True,True,False,False,False,False,False,True,True,True,True,True],\n",
    "})\n",
    "disp_est_5 = pd.DataFrame({\n",
    "    \"hora\": [7,8,9,10,11,12,13,14,15,16,17,18,19,20,21],\n",
    "    \"Lunes\": [True,True,True,True,True,True,True,True,True,True,True,True,True,True,True],\n",
    "    \"Martes\": [True,True,True,True,True,True,True,True,True,True,True,True,True,True,True],\n",
    "    \"Miercoles\": [True,True,True,True,True,True,True,True,True,True,True,True,True,True,True],\n",
    "    \"Jueves\": [True,True,True,True,True,True,True,True,True,True,True,True,True,True,True],\n",
    "    \"Viernes\": [True,True,True,True,True,True,True,True,True,True,True,True,True,True,True],\n",
    "})"
   ]
  },
  {
   "cell_type": "code",
   "execution_count": 51,
   "id": "7137d3f9",
   "metadata": {
    "scrolled": false
   },
   "outputs": [],
   "source": [
    "disponibilidadArr = [disp_est_1,disp_est_2,disp_est_3,disp_est_4,disp_est_5]"
   ]
  },
  {
   "cell_type": "code",
   "execution_count": 52,
   "id": "7e1f73fd",
   "metadata": {},
   "outputs": [],
   "source": [
    "def CpDH(solucion,ofertaUtil,disponibilidad):\n",
    "    disponibilidadTotal = sum(disponibilidad['Lunes']) + sum(disponibilidad['Martes']) + sum(disponibilidad['Miercoles']) + sum(disponibilidad['Jueves']) + sum(disponibilidad['Viernes'])\n",
    "    if disponibilidadTotal == 75:\n",
    "        return 0\n",
    "    \n",
    "    dias = ['Lunes','Martes','Miercoles','Jueves','Viernes']\n",
    "    datosCarga = obtenerDatosCarga(solucion,ofertaUtil)\n",
    "    costoTotal = 0\n",
    "\n",
    "    for dia in dias:\n",
    "        for i in range(len(datosCarga)):\n",
    "            if datosCarga[dia].iloc[i] == '-':\n",
    "                continue\n",
    "\n",
    "            horaInicio = int(datosCarga.iloc[i][dia][0:2])\n",
    "            horaFin = int(datosCarga.iloc[i][dia][6:8])\n",
    "\n",
    "            for hora in range(horaInicio,horaFin):\n",
    "                if not(disponibilidad.query('hora == ' + str(hora))[dia].values[0]):\n",
    "                    costoTotal += 1\n",
    "                    \n",
    "    #Normalización\n",
    "    costo = (costoTotal)/(75 - disponibilidadTotal)\n",
    "    return costo"
   ]
  },
  {
   "cell_type": "markdown",
   "id": "16e07217",
   "metadata": {},
   "source": [
    "# Definición de la función de desempeño"
   ]
  },
  {
   "cell_type": "code",
   "execution_count": 53,
   "id": "b8466a64",
   "metadata": {},
   "outputs": [],
   "source": [
    "def obtenerDesempeno(solucion,cromosomaIndice):\n",
    "    if not(esValido(solucion,ofertaUtil)):\n",
    "        return 0\n",
    "    \n",
    "    upcc = UpCC(solucion,ofertaUtil)\n",
    "    upmr = UpMR(kardex,solucion,ofertaUtil)\n",
    "    upcm = UpCM(solucion)\n",
    "    cpdh = CpDH(solucion,ofertaUtil,disponibilidad)\n",
    "    cpah = CpAH(solucion)\n",
    "    \n",
    "    utilidades = {\n",
    "        \"upcc\": (upcc * pesos[\"upcc\"]),\n",
    "        \"upmr\": (upmr * pesos[\"upmr\"]),\n",
    "        \"upcm\": (upcm * pesos[\"upcm\"]),\n",
    "        \"cpdh\": pesos[\"cpdh\"] - (cpdh * pesos[\"cpdh\"]),\n",
    "        \"cpah\": pesos[\"cpah\"] - (cpah * pesos[\"cpah\"]),\n",
    "    }\n",
    "    \n",
    "    return sum(utilidades.values())"
   ]
  },
  {
   "cell_type": "code",
   "execution_count": 54,
   "id": "36164559",
   "metadata": {},
   "outputs": [],
   "source": [
    "def evaluarSolucion(solucion):\n",
    "    upcc = UpCC(solucion,ofertaUtil)\n",
    "    upmr = UpMR(kardex,solucion,ofertaUtil)\n",
    "    upcm = UpCM(solucion)\n",
    "    cpdh = CpDH(solucion,ofertaUtil,disponibilidad)\n",
    "    cpah = CpAH(solucion)\n",
    "    \n",
    "    print(\"La carga evaluada tiene:\")\n",
    "    print(\"\\t\" + str(round(100*upcc,2)) + \"% de utilidad por las materias de primeros ciclos llevadas.\")\n",
    "    print(\"\\t\" + str(round(100*upmr,2)) + \"% del total de las materias reprobadas del estudiante.\") \n",
    "    print(\"\\t\" + str(round(100*upcm,2)) + \"% de utilidad por cantidad ideal de materias del estudiante.\") \n",
    "    print(\"\\t\" + str(round(100*cpdh,2)) + \"% de costo por sobreposición con las horas donde el estudiante no está disponible.\")\n",
    "    print(\"\\t\" + str(round(100*cpah,2)) + \"% de costo por el total de amplitud de horario.\")"
   ]
  },
  {
   "cell_type": "code",
   "execution_count": 55,
   "id": "600603e9",
   "metadata": {},
   "outputs": [],
   "source": [
    "def on_generation(ga_instance):\n",
    "    print(\"Generación: \" + str(ga_instance.generations_completed))"
   ]
  },
  {
   "cell_type": "markdown",
   "id": "ab148add",
   "metadata": {},
   "source": [
    "# Algoritmos evolutivos"
   ]
  },
  {
   "cell_type": "markdown",
   "id": "d4a07535",
   "metadata": {},
   "source": [
    "## Eddie ( 2do semestre)"
   ]
  },
  {
   "cell_type": "code",
   "execution_count": 114,
   "id": "b9001014",
   "metadata": {},
   "outputs": [],
   "source": [
    "pesos = {\n",
    "    \"upcc\": 2,    #Utilidad por cerrar ciclos\n",
    "    \"upmr\": 1,    #Utilidad por materias reprobadas\n",
    "    \"upcm\": 1,    #Utilidad por cantidad ideal de materias\n",
    "    \"cpdh\": 2.5,  #Costo por disponibilidad de horario\n",
    "    \"cpah\": 1.5,  #Costo por amplitud de horario\n",
    "    \"cphl\": 1     #Costo por horas libres (no se está utilizando actualmente)\n",
    "}"
   ]
  },
  {
   "cell_type": "code",
   "execution_count": 115,
   "id": "77b8f67d",
   "metadata": {},
   "outputs": [],
   "source": [
    "disponibilidadComoRestriccion = False\n",
    "disponibilidad = disponibilidadArr[4] #Disponibilidad completa de horario\n",
    "plan = plan_2016\n",
    "\n",
    "kardex = obtenerKardex(170311242)\n",
    "ofertaUtil = obtenerOfertaUtil(kardex,oferta)\n",
    "cantidadMateriasIdeal = 7"
   ]
  },
  {
   "cell_type": "code",
   "execution_count": 116,
   "id": "66abfcd2",
   "metadata": {},
   "outputs": [
    {
     "name": "stdout",
     "output_type": "stream",
     "text": [
      "IT0161 Sistemas operativos POSIX\n",
      "ID0101 Diseño de patrones para datos estructurados\n",
      "ID0103 Organización y diseño de computadoras\n",
      "IT0103 Introducción a las redes\n",
      "II0106 Cálculo diferencial\n",
      "\n",
      "Creditos: 44\n"
     ]
    }
   ],
   "source": [
    "for clave in obtenerMateriasReprobadas(kardex):\n",
    "    print(clave,plan.query('clave == \"' + clave + '\"')['nombre'].values[0])\n",
    "print('\\nCreditos: ' + str(obtenerCreditos(kardex)))"
   ]
  },
  {
   "cell_type": "code",
   "execution_count": 117,
   "id": "8649eab5",
   "metadata": {},
   "outputs": [
    {
     "name": "stdout",
     "output_type": "stream",
     "text": [
      "Generación: 1\n",
      "Generación: 2\n",
      "Generación: 3\n",
      "Generación: 4\n",
      "Generación: 5\n",
      "Generación: 6\n",
      "Generación: 7\n",
      "Generación: 8\n",
      "Generación: 9\n",
      "Generación: 10\n",
      "Generación: 11\n",
      "Generación: 12\n",
      "Generación: 13\n",
      "Proceso terminado en 330.61174035072327\n"
     ]
    }
   ],
   "source": [
    "instancia1 = pg.GA(num_generations=50,\n",
    "                   stop_criteria=\"saturate_10\",\n",
    "                   num_parents_mating=2,\n",
    "                   fitness_func=obtenerDesempeno,\n",
    "                   sol_per_pop=500,\n",
    "                   num_genes=9,\n",
    "                   parent_selection_type=\"sss\",\n",
    "                   keep_parents=1,\n",
    "                   crossover_type='uniform',\n",
    "                   mutation_type='random',\n",
    "                   mutation_percent_genes=15,\n",
    "                   gene_type=int,\n",
    "                   gene_space=np.append(ofertaUtil.index.values,[-1]),\n",
    "                   on_generation=on_generation)\n",
    "start_time = time.time()\n",
    "instancia1.run()\n",
    "tiempoejecucion = time.time() - start_time\n",
    "print('Proceso terminado en ' + str(tiempoejecucion))\n",
    "solution, solution_fitness, solution_idx = instancia1.best_solution()"
   ]
  },
  {
   "cell_type": "code",
   "execution_count": 118,
   "id": "e9d9fb8f",
   "metadata": {
    "scrolled": true
   },
   "outputs": [
    {
     "data": {
      "text/html": [
       "<div>\n",
       "<style scoped>\n",
       "    .dataframe tbody tr th:only-of-type {\n",
       "        vertical-align: middle;\n",
       "    }\n",
       "\n",
       "    .dataframe tbody tr th {\n",
       "        vertical-align: top;\n",
       "    }\n",
       "\n",
       "    .dataframe thead th {\n",
       "        text-align: right;\n",
       "    }\n",
       "</style>\n",
       "<table border=\"1\" class=\"dataframe\">\n",
       "  <thead>\n",
       "    <tr style=\"text-align: right;\">\n",
       "      <th></th>\n",
       "      <th>clave</th>\n",
       "      <th>ciclos</th>\n",
       "      <th>Nombre</th>\n",
       "      <th>Maestro</th>\n",
       "      <th>Lunes</th>\n",
       "      <th>Martes</th>\n",
       "      <th>Miercoles</th>\n",
       "      <th>Jueves</th>\n",
       "      <th>Viernes</th>\n",
       "    </tr>\n",
       "  </thead>\n",
       "  <tbody>\n",
       "    <tr>\n",
       "      <th>4</th>\n",
       "      <td>II0106</td>\n",
       "      <td>1</td>\n",
       "      <td>Cálculo diferencial</td>\n",
       "      <td>Can Tun / Miguel Alberto</td>\n",
       "      <td>-</td>\n",
       "      <td>07:00-09:00</td>\n",
       "      <td>-</td>\n",
       "      <td>-</td>\n",
       "      <td>07:00-09:00</td>\n",
       "    </tr>\n",
       "    <tr>\n",
       "      <th>6</th>\n",
       "      <td>IT0161</td>\n",
       "      <td>1</td>\n",
       "      <td>Sistemas operativos POSIX</td>\n",
       "      <td>Báez López / Yarely</td>\n",
       "      <td>11:00-13:00</td>\n",
       "      <td>-</td>\n",
       "      <td>11:00-12:00</td>\n",
       "      <td>-</td>\n",
       "      <td>-</td>\n",
       "    </tr>\n",
       "    <tr>\n",
       "      <th>8</th>\n",
       "      <td>DP0396</td>\n",
       "      <td>2</td>\n",
       "      <td>Identidad y cultura</td>\n",
       "      <td>Alavez San Pedro / Minerva</td>\n",
       "      <td>-</td>\n",
       "      <td>09:00-11:00</td>\n",
       "      <td>-</td>\n",
       "      <td>08:00-09:00</td>\n",
       "      <td>-</td>\n",
       "    </tr>\n",
       "    <tr>\n",
       "      <th>9</th>\n",
       "      <td>ID0204</td>\n",
       "      <td>2</td>\n",
       "      <td>Bases de Datos</td>\n",
       "      <td>Lara Peraza / Wilberth Eduardo</td>\n",
       "      <td>09:00-11:00</td>\n",
       "      <td>-</td>\n",
       "      <td>09:00-11:00</td>\n",
       "      <td>-</td>\n",
       "      <td>-</td>\n",
       "    </tr>\n",
       "    <tr>\n",
       "      <th>10</th>\n",
       "      <td>ID0205</td>\n",
       "      <td>2</td>\n",
       "      <td>Geometría computacional</td>\n",
       "      <td>Naredo García / Enrique</td>\n",
       "      <td>-</td>\n",
       "      <td>-</td>\n",
       "      <td>-</td>\n",
       "      <td>09:00-11:00</td>\n",
       "      <td>10:00-11:00</td>\n",
       "    </tr>\n",
       "    <tr>\n",
       "      <th>13</th>\n",
       "      <td>ID0265</td>\n",
       "      <td>2</td>\n",
       "      <td>Programación web</td>\n",
       "      <td>Morales Saavedra / Emmanuel</td>\n",
       "      <td>13:00-14:00</td>\n",
       "      <td>-</td>\n",
       "      <td>13:00-15:00</td>\n",
       "      <td>-</td>\n",
       "      <td>-</td>\n",
       "    </tr>\n",
       "    <tr>\n",
       "      <th>28</th>\n",
       "      <td>DP0295</td>\n",
       "      <td>2</td>\n",
       "      <td>Taller de formación en responsabilidad social ...</td>\n",
       "      <td>Blanco Valdés / Santiago</td>\n",
       "      <td>-</td>\n",
       "      <td>13:00-15:00</td>\n",
       "      <td>-</td>\n",
       "      <td>13:00-14:00</td>\n",
       "      <td>-</td>\n",
       "    </tr>\n",
       "  </tbody>\n",
       "</table>\n",
       "</div>"
      ],
      "text/plain": [
       "     clave  ciclos                                             Nombre  \\\n",
       "4   II0106       1                                Cálculo diferencial   \n",
       "6   IT0161       1                          Sistemas operativos POSIX   \n",
       "8   DP0396       2                                Identidad y cultura   \n",
       "9   ID0204       2                                     Bases de Datos   \n",
       "10  ID0205       2                            Geometría computacional   \n",
       "13  ID0265       2                                   Programación web   \n",
       "28  DP0295       2  Taller de formación en responsabilidad social ...   \n",
       "\n",
       "                           Maestro        Lunes       Martes    Miercoles  \\\n",
       "4         Can Tun / Miguel Alberto            -  07:00-09:00            -   \n",
       "6              Báez López / Yarely  11:00-13:00            -  11:00-12:00   \n",
       "8       Alavez San Pedro / Minerva            -  09:00-11:00            -   \n",
       "9   Lara Peraza / Wilberth Eduardo  09:00-11:00            -  09:00-11:00   \n",
       "10         Naredo García / Enrique            -            -            -   \n",
       "13     Morales Saavedra / Emmanuel  13:00-14:00            -  13:00-15:00   \n",
       "28        Blanco Valdés / Santiago            -  13:00-15:00            -   \n",
       "\n",
       "         Jueves      Viernes  \n",
       "4             -  07:00-09:00  \n",
       "6             -            -  \n",
       "8   08:00-09:00            -  \n",
       "9             -            -  \n",
       "10  09:00-11:00  10:00-11:00  \n",
       "13            -            -  \n",
       "28  13:00-14:00            -  "
      ]
     },
     "execution_count": 118,
     "metadata": {},
     "output_type": "execute_result"
    }
   ],
   "source": [
    "obtenerDatosCarga(solution,ofertaUtil)"
   ]
  },
  {
   "cell_type": "code",
   "execution_count": 119,
   "id": "de4bf3a7",
   "metadata": {},
   "outputs": [
    {
     "data": {
      "image/png": "[encoded data removed]",
      "text/plain": [
       "<Figure size 432x288 with 1 Axes>"
      ]
     },
     "metadata": {
      "needs_background": "light"
     },
     "output_type": "display_data"
    },
    {
     "data": {
      "image/png": "[encoded data removed]",
      "text/plain": [
       "<Figure size 432x288 with 1 Axes>"
      ]
     },
     "execution_count": 119,
     "metadata": {},
     "output_type": "execute_result"
    }
   ],
   "source": [
    "instancia1.plot_fitness()"
   ]
  },
  {
   "cell_type": "code",
   "execution_count": 120,
   "id": "df0bb9c1",
   "metadata": {
    "scrolled": true
   },
   "outputs": [
    {
     "name": "stdout",
     "output_type": "stream",
     "text": [
      "La carga evaluada tiene:\n",
      "\t64.71% de utilidad por las materias de primeros ciclos llevadas.\n",
      "\t40.0% del total de las materias reprobadas del estudiante.\n",
      "\t100.0% de utilidad por cantidad ideal de materias del estudiante.\n",
      "\t0% de costo por sobreposición con las horas donde el estudiante no está disponible.\n",
      "\t12.5% de costo por el total de amplitud de horario.\n"
     ]
    }
   ],
   "source": [
    "evaluarSolucion(solution)"
   ]
  },
  {
   "cell_type": "code",
   "execution_count": 121,
   "id": "f8113a41",
   "metadata": {},
   "outputs": [
    {
     "data": {
      "text/html": [
       "<div>\n",
       "<style scoped>\n",
       "    .dataframe tbody tr th:only-of-type {\n",
       "        vertical-align: middle;\n",
       "    }\n",
       "\n",
       "    .dataframe tbody tr th {\n",
       "        vertical-align: top;\n",
       "    }\n",
       "\n",
       "    .dataframe thead th {\n",
       "        text-align: right;\n",
       "    }\n",
       "</style>\n",
       "<table border=\"1\" class=\"dataframe\">\n",
       "  <thead>\n",
       "    <tr style=\"text-align: right;\">\n",
       "      <th></th>\n",
       "      <th>clave</th>\n",
       "      <th>ciclos</th>\n",
       "      <th>Nombre</th>\n",
       "      <th>Maestro</th>\n",
       "      <th>Lunes</th>\n",
       "      <th>Martes</th>\n",
       "      <th>Miercoles</th>\n",
       "      <th>Jueves</th>\n",
       "      <th>Viernes</th>\n",
       "    </tr>\n",
       "  </thead>\n",
       "  <tbody>\n",
       "    <tr>\n",
       "      <th>4</th>\n",
       "      <td>II0106</td>\n",
       "      <td>1</td>\n",
       "      <td>Cálculo diferencial</td>\n",
       "      <td>Can Tun / Miguel Alberto</td>\n",
       "      <td>-</td>\n",
       "      <td>07:00-09:00</td>\n",
       "      <td>-</td>\n",
       "      <td>-</td>\n",
       "      <td>07:00-09:00</td>\n",
       "    </tr>\n",
       "    <tr>\n",
       "      <th>6</th>\n",
       "      <td>IT0161</td>\n",
       "      <td>1</td>\n",
       "      <td>Sistemas operativos POSIX</td>\n",
       "      <td>Báez López / Yarely</td>\n",
       "      <td>11:00-13:00</td>\n",
       "      <td>-</td>\n",
       "      <td>11:00-12:00</td>\n",
       "      <td>-</td>\n",
       "      <td>-</td>\n",
       "    </tr>\n",
       "    <tr>\n",
       "      <th>8</th>\n",
       "      <td>DP0396</td>\n",
       "      <td>2</td>\n",
       "      <td>Identidad y cultura</td>\n",
       "      <td>Alavez San Pedro / Minerva</td>\n",
       "      <td>-</td>\n",
       "      <td>09:00-11:00</td>\n",
       "      <td>-</td>\n",
       "      <td>08:00-09:00</td>\n",
       "      <td>-</td>\n",
       "    </tr>\n",
       "    <tr>\n",
       "      <th>9</th>\n",
       "      <td>ID0204</td>\n",
       "      <td>2</td>\n",
       "      <td>Bases de Datos</td>\n",
       "      <td>Lara Peraza / Wilberth Eduardo</td>\n",
       "      <td>09:00-11:00</td>\n",
       "      <td>-</td>\n",
       "      <td>09:00-11:00</td>\n",
       "      <td>-</td>\n",
       "      <td>-</td>\n",
       "    </tr>\n",
       "    <tr>\n",
       "      <th>10</th>\n",
       "      <td>ID0205</td>\n",
       "      <td>2</td>\n",
       "      <td>Geometría computacional</td>\n",
       "      <td>Naredo García / Enrique</td>\n",
       "      <td>-</td>\n",
       "      <td>-</td>\n",
       "      <td>-</td>\n",
       "      <td>09:00-11:00</td>\n",
       "      <td>10:00-11:00</td>\n",
       "    </tr>\n",
       "    <tr>\n",
       "      <th>13</th>\n",
       "      <td>ID0265</td>\n",
       "      <td>2</td>\n",
       "      <td>Programación web</td>\n",
       "      <td>Morales Saavedra / Emmanuel</td>\n",
       "      <td>13:00-14:00</td>\n",
       "      <td>-</td>\n",
       "      <td>13:00-15:00</td>\n",
       "      <td>-</td>\n",
       "      <td>-</td>\n",
       "    </tr>\n",
       "    <tr>\n",
       "      <th>28</th>\n",
       "      <td>DP0295</td>\n",
       "      <td>2</td>\n",
       "      <td>Taller de formación en responsabilidad social ...</td>\n",
       "      <td>Blanco Valdés / Santiago</td>\n",
       "      <td>-</td>\n",
       "      <td>13:00-15:00</td>\n",
       "      <td>-</td>\n",
       "      <td>13:00-14:00</td>\n",
       "      <td>-</td>\n",
       "    </tr>\n",
       "  </tbody>\n",
       "</table>\n",
       "</div>"
      ],
      "text/plain": [
       "     clave  ciclos                                             Nombre  \\\n",
       "4   II0106       1                                Cálculo diferencial   \n",
       "6   IT0161       1                          Sistemas operativos POSIX   \n",
       "8   DP0396       2                                Identidad y cultura   \n",
       "9   ID0204       2                                     Bases de Datos   \n",
       "10  ID0205       2                            Geometría computacional   \n",
       "13  ID0265       2                                   Programación web   \n",
       "28  DP0295       2  Taller de formación en responsabilidad social ...   \n",
       "\n",
       "                           Maestro        Lunes       Martes    Miercoles  \\\n",
       "4         Can Tun / Miguel Alberto            -  07:00-09:00            -   \n",
       "6              Báez López / Yarely  11:00-13:00            -  11:00-12:00   \n",
       "8       Alavez San Pedro / Minerva            -  09:00-11:00            -   \n",
       "9   Lara Peraza / Wilberth Eduardo  09:00-11:00            -  09:00-11:00   \n",
       "10         Naredo García / Enrique            -            -            -   \n",
       "13     Morales Saavedra / Emmanuel  13:00-14:00            -  13:00-15:00   \n",
       "28        Blanco Valdés / Santiago            -  13:00-15:00            -   \n",
       "\n",
       "         Jueves      Viernes  \n",
       "4             -  07:00-09:00  \n",
       "6             -            -  \n",
       "8   08:00-09:00            -  \n",
       "9             -            -  \n",
       "10  09:00-11:00  10:00-11:00  \n",
       "13            -            -  \n",
       "28  13:00-14:00            -  "
      ]
     },
     "execution_count": 121,
     "metadata": {},
     "output_type": "execute_result"
    }
   ],
   "source": [
    "obtenerDatosCarga(solution,ofertaUtil)"
   ]
  },
  {
   "cell_type": "code",
   "execution_count": 122,
   "id": "919f3031",
   "metadata": {},
   "outputs": [
    {
     "data": {
      "text/plain": [
       "3"
      ]
     },
     "execution_count": 122,
     "metadata": {},
     "output_type": "execute_result"
    }
   ],
   "source": [
    "instancia1.best_solution_generation"
   ]
  },
  {
   "cell_type": "code",
   "execution_count": 123,
   "id": "842e5298",
   "metadata": {},
   "outputs": [
    {
     "data": {
      "text/plain": [
       "6.506617647058824"
      ]
     },
     "execution_count": 123,
     "metadata": {},
     "output_type": "execute_result"
    }
   ],
   "source": [
    "solution_fitness"
   ]
  },
  {
   "cell_type": "code",
   "execution_count": 124,
   "id": "9144b680",
   "metadata": {
    "scrolled": false
   },
   "outputs": [
    {
     "data": {
      "text/html": [
       "<div>\n",
       "<style scoped>\n",
       "    .dataframe tbody tr th:only-of-type {\n",
       "        vertical-align: middle;\n",
       "    }\n",
       "\n",
       "    .dataframe tbody tr th {\n",
       "        vertical-align: top;\n",
       "    }\n",
       "\n",
       "    .dataframe thead th {\n",
       "        text-align: right;\n",
       "    }\n",
       "</style>\n",
       "<table border=\"1\" class=\"dataframe\">\n",
       "  <thead>\n",
       "    <tr style=\"text-align: right;\">\n",
       "      <th></th>\n",
       "      <th>Hora</th>\n",
       "      <th>Lunes</th>\n",
       "      <th>Martes</th>\n",
       "      <th>Miercoles</th>\n",
       "      <th>Jueves</th>\n",
       "      <th>Viernes</th>\n",
       "    </tr>\n",
       "  </thead>\n",
       "  <tbody>\n",
       "    <tr>\n",
       "      <th>0</th>\n",
       "      <td>7:00-8:00</td>\n",
       "      <td>-</td>\n",
       "      <td>Cálculo diferencial</td>\n",
       "      <td>-</td>\n",
       "      <td>-</td>\n",
       "      <td>Cálculo diferencial</td>\n",
       "    </tr>\n",
       "    <tr>\n",
       "      <th>1</th>\n",
       "      <td>8:00-9:00</td>\n",
       "      <td>-</td>\n",
       "      <td>Cálculo diferencial</td>\n",
       "      <td>-</td>\n",
       "      <td>Identidad y cultura</td>\n",
       "      <td>Cálculo diferencial</td>\n",
       "    </tr>\n",
       "    <tr>\n",
       "      <th>2</th>\n",
       "      <td>9:00-10:00</td>\n",
       "      <td>Bases de Datos</td>\n",
       "      <td>Identidad y cultura</td>\n",
       "      <td>Bases de Datos</td>\n",
       "      <td>Geometría computacional</td>\n",
       "      <td>-</td>\n",
       "    </tr>\n",
       "    <tr>\n",
       "      <th>3</th>\n",
       "      <td>10:00-11:00</td>\n",
       "      <td>Bases de Datos</td>\n",
       "      <td>Identidad y cultura</td>\n",
       "      <td>Bases de Datos</td>\n",
       "      <td>Geometría computacional</td>\n",
       "      <td>Geometría computacional</td>\n",
       "    </tr>\n",
       "    <tr>\n",
       "      <th>4</th>\n",
       "      <td>11:00-12:00</td>\n",
       "      <td>Sistemas operativos POSIX</td>\n",
       "      <td>-</td>\n",
       "      <td>Sistemas operativos POSIX</td>\n",
       "      <td>-</td>\n",
       "      <td>-</td>\n",
       "    </tr>\n",
       "    <tr>\n",
       "      <th>5</th>\n",
       "      <td>12:00-13:00</td>\n",
       "      <td>Sistemas operativos POSIX</td>\n",
       "      <td>-</td>\n",
       "      <td>-</td>\n",
       "      <td>-</td>\n",
       "      <td>-</td>\n",
       "    </tr>\n",
       "    <tr>\n",
       "      <th>6</th>\n",
       "      <td>13:00-14:00</td>\n",
       "      <td>Programación web</td>\n",
       "      <td>Taller de formación en responsabilidad social ...</td>\n",
       "      <td>Programación web</td>\n",
       "      <td>Taller de formación en responsabilidad social ...</td>\n",
       "      <td>-</td>\n",
       "    </tr>\n",
       "    <tr>\n",
       "      <th>7</th>\n",
       "      <td>14:00-15:00</td>\n",
       "      <td>-</td>\n",
       "      <td>Taller de formación en responsabilidad social ...</td>\n",
       "      <td>Programación web</td>\n",
       "      <td>-</td>\n",
       "      <td>-</td>\n",
       "    </tr>\n",
       "    <tr>\n",
       "      <th>8</th>\n",
       "      <td>15:00-16:00</td>\n",
       "      <td>-</td>\n",
       "      <td>-</td>\n",
       "      <td>-</td>\n",
       "      <td>-</td>\n",
       "      <td>-</td>\n",
       "    </tr>\n",
       "  </tbody>\n",
       "</table>\n",
       "</div>"
      ],
      "text/plain": [
       "          Hora                      Lunes  \\\n",
       "0    7:00-8:00                          -   \n",
       "1    8:00-9:00                          -   \n",
       "2   9:00-10:00             Bases de Datos   \n",
       "3  10:00-11:00             Bases de Datos   \n",
       "4  11:00-12:00  Sistemas operativos POSIX   \n",
       "5  12:00-13:00  Sistemas operativos POSIX   \n",
       "6  13:00-14:00           Programación web   \n",
       "7  14:00-15:00                          -   \n",
       "8  15:00-16:00                          -   \n",
       "\n",
       "                                              Martes  \\\n",
       "0                                Cálculo diferencial   \n",
       "1                                Cálculo diferencial   \n",
       "2                                Identidad y cultura   \n",
       "3                                Identidad y cultura   \n",
       "4                                                  -   \n",
       "5                                                  -   \n",
       "6  Taller de formación en responsabilidad social ...   \n",
       "7  Taller de formación en responsabilidad social ...   \n",
       "8                                                  -   \n",
       "\n",
       "                   Miercoles  \\\n",
       "0                          -   \n",
       "1                          -   \n",
       "2             Bases de Datos   \n",
       "3             Bases de Datos   \n",
       "4  Sistemas operativos POSIX   \n",
       "5                          -   \n",
       "6           Programación web   \n",
       "7           Programación web   \n",
       "8                          -   \n",
       "\n",
       "                                              Jueves                  Viernes  \n",
       "0                                                  -      Cálculo diferencial  \n",
       "1                                Identidad y cultura      Cálculo diferencial  \n",
       "2                            Geometría computacional                        -  \n",
       "3                            Geometría computacional  Geometría computacional  \n",
       "4                                                  -                        -  \n",
       "5                                                  -                        -  \n",
       "6  Taller de formación en responsabilidad social ...                        -  \n",
       "7                                                  -                        -  \n",
       "8                                                  -                        -  "
      ]
     },
     "execution_count": 124,
     "metadata": {},
     "output_type": "execute_result"
    }
   ],
   "source": [
    "obtenerHorario(solution)"
   ]
  },
  {
   "cell_type": "code",
   "execution_count": 67,
   "id": "dbe20c28",
   "metadata": {},
   "outputs": [
    {
     "ename": "NameError",
     "evalue": "name 'asdfasdf' is not defined",
     "output_type": "error",
     "traceback": [
      "\u001b[1;31m---------------------------------------------------------------------------\u001b[0m",
      "\u001b[1;31mNameError\u001b[0m                                 Traceback (most recent call last)",
      "Input \u001b[1;32mIn [67]\u001b[0m, in \u001b[0;36m<cell line: 1>\u001b[1;34m()\u001b[0m\n\u001b[1;32m----> 1\u001b[0m \u001b[43masdfasdf\u001b[49m\n",
      "\u001b[1;31mNameError\u001b[0m: name 'asdfasdf' is not defined"
     ]
    }
   ],
   "source": [
    "asdfasdf"
   ]
  },
  {
   "cell_type": "markdown",
   "id": "875c76f8",
   "metadata": {},
   "source": [
    "**Resultado:** El algoritmo me recomendó un horario \"mejor\" debido a que toma todas las materias recomendadas del ciclo correspondiente y en un mismo turno. Sin embargo tiene la ventaja de llevar más materias lo que permite adelantar con los créditos para la licenciatura."
   ]
  },
  {
   "cell_type": "markdown",
   "id": "e5586428",
   "metadata": {},
   "source": [
    "## Dylan"
   ]
  },
  {
   "cell_type": "markdown",
   "id": "8179e649",
   "metadata": {},
   "source": [
    "### Prueba 1"
   ]
  },
  {
   "cell_type": "code",
   "execution_count": null,
   "id": "ce3f7ea2",
   "metadata": {},
   "outputs": [],
   "source": [
    "pesos = {\n",
    "    \"upcc\": 2,    #Utilidad por cerrar ciclos\n",
    "    \"upmr\": 1,    #Utilidad por materias reprobadas\n",
    "    \"upcm\": 1,    #Utilidad por cantidad ideal de materias\n",
    "    \"cpdh\": 2.5,  #Costo por disponibilidad de horario\n",
    "    \"cpah\": 1,    #Costo por amplitud de horario\n",
    "    \"cphl\": 1     #Costo por horas libres (no se está utilizando actualmente)\n",
    "}"
   ]
  },
  {
   "cell_type": "code",
   "execution_count": null,
   "id": "e776263e",
   "metadata": {},
   "outputs": [],
   "source": [
    "disponibilidadComoRestriccion = False\n",
    "disponibilidad = pd.DataFrame({\n",
    "    \"hora\": [7,8,9,10,11,12,13,14,15,16,17,18,19,20,21],\n",
    "    \"Lunes\": [True,True,True,True,True,True,True,True,False,False,False,False,False,False,False],\n",
    "    \"Martes\": [False,False,True,True,True,True,True,True,False,False,False,False,False,False,False],\n",
    "    \"Miercoles\": [False,True,True,True,True,True,False,False,False,False,False,False,False,False,False],\n",
    "    \"Jueves\": [False,True,True,True,True,True,True,True,False,False,False,False,False,False,False],\n",
    "    \"Viernes\": [False,True,True,True,True,False,False,False,False,False,False,False,False,False,False]\n",
    "})\n",
    "plan = plan_2016\n",
    "\n",
    "kardex = pd.read_csv('./Kardex/CHAN_DYLAN_KARDEX.csv')\n",
    "ofertaUtil = obtenerOfertaUtil(kardex,oferta)\n",
    "cantidadMateriasIdeal = 0"
   ]
  },
  {
   "cell_type": "code",
   "execution_count": null,
   "id": "d8d8841a",
   "metadata": {},
   "outputs": [],
   "source": [
    "for clave in obtenerMateriasReprobadas(kardex):\n",
    "    print(clave,plan.query('clave == \"' + clave + '\"')['nombre'].values[0])\n",
    "print('\\nCreditos: ' + str(obtenerCreditos(kardex)))"
   ]
  },
  {
   "cell_type": "code",
   "execution_count": null,
   "id": "0038166e",
   "metadata": {},
   "outputs": [],
   "source": [
    "instancia1 = pg.GA(num_generations=20,\n",
    "                   num_parents_mating=2,\n",
    "                   fitness_func=obtenerDesempeno,\n",
    "                   sol_per_pop=500,\n",
    "                   num_genes=9,\n",
    "                   parent_selection_type=\"sss\",\n",
    "                   keep_parents=1,\n",
    "                   crossover_type='uniform',\n",
    "                   mutation_type='random',\n",
    "                   mutation_percent_genes=15,\n",
    "                   gene_type=int,\n",
    "                   gene_space=np.append(ofertaUtil.index.values,[-1]),\n",
    "                   on_generation=on_generation)\n",
    "start_time = time.time()\n",
    "instancia1.run()\n",
    "tiempoejecucion = time.time() - start_time\n",
    "print('Proceso terminado en ' + str(tiempoejecucion))\n",
    "solution, solution_fitness, solution_idx = instancia1.best_solution()"
   ]
  },
  {
   "cell_type": "code",
   "execution_count": null,
   "id": "0bc43906",
   "metadata": {},
   "outputs": [],
   "source": [
    "obtenerDatosCarga(solution,ofertaUtil)"
   ]
  },
  {
   "cell_type": "code",
   "execution_count": null,
   "id": "d6722e7d",
   "metadata": {},
   "outputs": [],
   "source": [
    "obtenerHorario(solution)"
   ]
  },
  {
   "cell_type": "code",
   "execution_count": null,
   "id": "93fbd56b",
   "metadata": {
    "scrolled": true
   },
   "outputs": [],
   "source": [
    "evaluarSolucion(solution)"
   ]
  },
  {
   "cell_type": "code",
   "execution_count": null,
   "id": "5d71fa9d",
   "metadata": {},
   "outputs": [],
   "source": [
    "solution_fitness"
   ]
  },
  {
   "cell_type": "code",
   "execution_count": null,
   "id": "3f7175f4",
   "metadata": {},
   "outputs": [],
   "source": [
    "evaluarSolucion([0,1,3,22,13])"
   ]
  },
  {
   "cell_type": "code",
   "execution_count": null,
   "id": "1fb3975a",
   "metadata": {},
   "outputs": [],
   "source": [
    "ofertaUtil.loc[[0,1,3,22,13]]"
   ]
  },
  {
   "cell_type": "markdown",
   "id": "5f8e826c",
   "metadata": {},
   "source": [
    "### Prueba 2"
   ]
  },
  {
   "cell_type": "code",
   "execution_count": null,
   "id": "f0ff2b8a",
   "metadata": {},
   "outputs": [],
   "source": [
    "pesos = {\n",
    "    \"upcc\": 2,    #Utilidad por cerrar ciclos\n",
    "    \"upmr\": 1,    #Utilidad por materias reprobadas\n",
    "    \"upcm\": 1,    #Utilidad por cantidad ideal de materias\n",
    "    \"cpdh\": 0.5,  #Costo por disponibilidad de horario\n",
    "    \"cpah\": 1,    #Costo por amplitud de horario\n",
    "    \"cphl\": 1     #Costo por horas libres (no se está utilizando actualmente)\n",
    "}"
   ]
  },
  {
   "cell_type": "code",
   "execution_count": null,
   "id": "8340253b",
   "metadata": {},
   "outputs": [],
   "source": [
    "disponibilidadComoRestriccion = False\n",
    "disponibilidad = pd.DataFrame({\n",
    "    \"hora\": [7,8,9,10,11,12,13,14,15,16,17,18,19,20,21],\n",
    "    \"Lunes\": [True,True,True,True,True,True,True,True,False,False,False,False,False,False,False],\n",
    "    \"Martes\": [False,False,True,True,True,True,True,True,False,False,False,False,False,False,False],\n",
    "    \"Miercoles\": [False,True,True,True,True,True,False,False,False,False,False,False,False,False,False],\n",
    "    \"Jueves\": [False,True,True,True,True,True,True,True,False,False,False,False,False,False,False],\n",
    "    \"Viernes\": [False,True,True,True,True,False,False,False,False,False,False,False,False,False,False]\n",
    "})\n",
    "plan = plan_2016\n",
    "\n",
    "kardex = pd.read_csv('./Kardex/CHAN_DYLAN_KARDEX.csv')\n",
    "ofertaUtil = obtenerOfertaUtil(kardex,oferta)\n",
    "cantidadMateriasIdeal = 0"
   ]
  },
  {
   "cell_type": "code",
   "execution_count": null,
   "id": "8bad1857",
   "metadata": {},
   "outputs": [],
   "source": [
    "for clave in obtenerMateriasReprobadas(kardex):\n",
    "    print(clave,plan.query('clave == \"' + clave + '\"')['nombre'].values[0])\n",
    "print('\\nCreditos: ' + str(obtenerCreditos(kardex)))"
   ]
  },
  {
   "cell_type": "code",
   "execution_count": null,
   "id": "6ae6bcd8",
   "metadata": {
    "scrolled": true
   },
   "outputs": [],
   "source": [
    "instancia1 = pg.GA(num_generations=20,\n",
    "                   num_parents_mating=2,\n",
    "                   fitness_func=obtenerDesempeno,\n",
    "                   sol_per_pop=500,\n",
    "                   num_genes=9,\n",
    "                   parent_selection_type=\"sss\",\n",
    "                   keep_parents=1,\n",
    "                   crossover_type='uniform',\n",
    "                   mutation_type='random',\n",
    "                   mutation_percent_genes=15,\n",
    "                   gene_type=int,\n",
    "                   gene_space=np.append(ofertaUtil.index.values,[-1]),\n",
    "                   on_generation=on_generation)\n",
    "start_time = time.time()\n",
    "instancia1.run()\n",
    "tiempoejecucion = time.time() - start_time\n",
    "print('Proceso terminado en ' + str(tiempoejecucion))\n",
    "solution, solution_fitness, solution_idx = instancia1.best_solution()"
   ]
  },
  {
   "cell_type": "code",
   "execution_count": null,
   "id": "f74965a9",
   "metadata": {},
   "outputs": [],
   "source": [
    "obtenerDatosCarga(solution,ofertaUtil)"
   ]
  },
  {
   "cell_type": "code",
   "execution_count": null,
   "id": "27744fb4",
   "metadata": {},
   "outputs": [],
   "source": [
    "obtenerHorario(solution)"
   ]
  },
  {
   "cell_type": "code",
   "execution_count": null,
   "id": "686a9d79",
   "metadata": {
    "scrolled": true
   },
   "outputs": [],
   "source": [
    "evaluarSolucion(solution)"
   ]
  },
  {
   "cell_type": "code",
   "execution_count": null,
   "id": "e9b441d5",
   "metadata": {},
   "outputs": [],
   "source": [
    "solution_fitness"
   ]
  },
  {
   "cell_type": "code",
   "execution_count": null,
   "id": "98d213df",
   "metadata": {},
   "outputs": [],
   "source": [
    "evaluarSolucion([0,1,3,22,13])"
   ]
  },
  {
   "cell_type": "code",
   "execution_count": null,
   "id": "9f2333e0",
   "metadata": {},
   "outputs": [],
   "source": [
    "obtenerDesempeno([0,1,3,22,13],0)"
   ]
  },
  {
   "cell_type": "code",
   "execution_count": null,
   "id": "2e0ad6a8",
   "metadata": {
    "scrolled": false
   },
   "outputs": [],
   "source": [
    "ofertaUtil.loc[[0,1,3,22,13]]"
   ]
  },
  {
   "cell_type": "code",
   "execution_count": null,
   "id": "bbf85b8d",
   "metadata": {
    "scrolled": false
   },
   "outputs": [],
   "source": [
    "obtenerHorario([0,1,3,22,13])"
   ]
  },
  {
   "cell_type": "markdown",
   "id": "7194281d",
   "metadata": {},
   "source": [
    "**Resultados:** Las materias son pocas por el horario de disponibilidad especificado, sin embargo al disminuir su peso la cantidad de materias aumenta así como el desempeño de la carga."
   ]
  },
  {
   "cell_type": "markdown",
   "id": "be0dae1d",
   "metadata": {},
   "source": [
    "## Jasmin"
   ]
  },
  {
   "cell_type": "code",
   "execution_count": null,
   "id": "33b03307",
   "metadata": {},
   "outputs": [],
   "source": [
    "pesos = {\n",
    "    \"upcc\": 2,    #Utilidad por cerrar ciclos\n",
    "    \"upmr\": 1,    #Utilidad por materias reprobadas\n",
    "    \"upcm\": 1,    #Utilidad por cantidad ideal de materias\n",
    "    \"cpdh\": 2.5,  #Costo por disponibilidad de horario\n",
    "    \"cpah\": 1,    #Costo por amplitud de horario\n",
    "    \"cphl\": 1     #Costo por horas libres (no se está utilizando actualmente)\n",
    "}"
   ]
  },
  {
   "cell_type": "code",
   "execution_count": null,
   "id": "c76ee9e7",
   "metadata": {},
   "outputs": [],
   "source": [
    "disponibilidadComoRestriccion = False\n",
    "disponibilidad = pd.DataFrame({\n",
    "    \"hora\": [7,8,9,10,11,12,13,14,15,16,17,18,19,20,21],\n",
    "    \"Lunes\": [False,False,False,False,False,False,False,False,False,True,True,True,True,True,True],\n",
    "    \"Martes\": [False,False,False,False,False,False,False,False,False,True,True,True,True,True,True],\n",
    "    \"Miercoles\": [False,False,False,False,False,False,False,False,False,True,True,True,True,True,True],\n",
    "    \"Jueves\": [False,False,False,False,False,False,False,False,False,True,True,True,True,True,True],\n",
    "    \"Viernes\": [False,False,False,False,False,False,False,False,False,True,True,True,True,True,True]\n",
    "})\n",
    "plan = plan_2016\n",
    "\n",
    "kardex = pd.read_csv('./Kardex/CANDANEDO_JASMIN_KARDEX.csv')\n",
    "ofertaUtil = obtenerOfertaUtil(kardex,oferta)\n",
    "cantidadMateriasIdeal = 0"
   ]
  },
  {
   "cell_type": "code",
   "execution_count": null,
   "id": "e59c614c",
   "metadata": {},
   "outputs": [],
   "source": [
    "for clave in obtenerMateriasReprobadas(kardex):\n",
    "    print(clave,plan.query('clave == \"' + clave + '\"')['nombre'].values[0])\n",
    "print('\\nCreditos: ' + str(obtenerCreditos(kardex)))"
   ]
  },
  {
   "cell_type": "code",
   "execution_count": null,
   "id": "185ec7d1",
   "metadata": {
    "scrolled": true
   },
   "outputs": [],
   "source": [
    "instancia1 = pg.GA(num_generations=20,\n",
    "                   num_parents_mating=2,\n",
    "                   fitness_func=obtenerDesempeno,\n",
    "                   sol_per_pop=500,\n",
    "                   num_genes=9,\n",
    "                   parent_selection_type=\"sss\",\n",
    "                   keep_parents=1,\n",
    "                   crossover_type='uniform',\n",
    "                   mutation_type='random',\n",
    "                   mutation_percent_genes=15,\n",
    "                   gene_type=int,\n",
    "                   gene_space=np.append(ofertaUtil.index.values,[-1]),\n",
    "                   on_generation=on_generation)\n",
    "start_time = time.time()\n",
    "instancia1.run()\n",
    "tiempoejecucion = time.time() - start_time\n",
    "print('Proceso terminado en ' + str(tiempoejecucion))\n",
    "solution, solution_fitness, solution_idx = instancia1.best_solution()"
   ]
  },
  {
   "cell_type": "markdown",
   "id": "333db883",
   "metadata": {},
   "source": [
    "### Resultados"
   ]
  },
  {
   "cell_type": "code",
   "execution_count": null,
   "id": "ebe7a9df",
   "metadata": {
    "scrolled": true
   },
   "outputs": [],
   "source": [
    "obtenerDatosCarga(solution,ofertaUtil)"
   ]
  },
  {
   "cell_type": "code",
   "execution_count": null,
   "id": "a6119f25",
   "metadata": {},
   "outputs": [],
   "source": [
    "obtenerHorario(solution)"
   ]
  },
  {
   "cell_type": "code",
   "execution_count": null,
   "id": "8771b631",
   "metadata": {},
   "outputs": [],
   "source": [
    "evaluarSolucion(solution)"
   ]
  },
  {
   "cell_type": "code",
   "execution_count": null,
   "id": "d790b495",
   "metadata": {},
   "outputs": [],
   "source": [
    "solution_fitness"
   ]
  },
  {
   "cell_type": "markdown",
   "id": "cdcfa478",
   "metadata": {},
   "source": [
    "### Resultados ideales"
   ]
  },
  {
   "cell_type": "code",
   "execution_count": null,
   "id": "0631eb58",
   "metadata": {},
   "outputs": [],
   "source": [
    "obtenerDesempeno([ 4, 20, 22,  8,  9, 23, 16, 11, 18],0)"
   ]
  },
  {
   "cell_type": "code",
   "execution_count": null,
   "id": "e13593bd",
   "metadata": {},
   "outputs": [],
   "source": [
    "solucionIdeal = [0,13,11,17,18,21,22,20,23]"
   ]
  },
  {
   "cell_type": "code",
   "execution_count": null,
   "id": "63f571ca",
   "metadata": {},
   "outputs": [],
   "source": [
    "obtenerDatosCarga(solucionIdeal,ofertaUtil)"
   ]
  },
  {
   "cell_type": "code",
   "execution_count": null,
   "id": "75b9c547",
   "metadata": {},
   "outputs": [],
   "source": [
    "evaluarSolucion(solucionIdeal)"
   ]
  },
  {
   "cell_type": "code",
   "execution_count": null,
   "id": "20885d72",
   "metadata": {},
   "outputs": [],
   "source": [
    "obtenerDesempeno(solucionIdeal,0)"
   ]
  },
  {
   "cell_type": "code",
   "execution_count": null,
   "id": "a8f0e6e2",
   "metadata": {
    "scrolled": false
   },
   "outputs": [],
   "source": [
    "obtenerHorario(solucionIdeal)"
   ]
  },
  {
   "cell_type": "markdown",
   "id": "b3ee1561",
   "metadata": {},
   "source": [
    "**Resultados:** La diferencia principal entre la elección del estudiante y la carga recomendada es la concentración de las materias en un solo horario. Una materia de preespecialidad hace falta pero se puede susituir fácilmente y tendría el mismo desempeño"
   ]
  },
  {
   "cell_type": "markdown",
   "id": "2723701f",
   "metadata": {},
   "source": [
    "## Valeria"
   ]
  },
  {
   "cell_type": "code",
   "execution_count": null,
   "id": "178d3d62",
   "metadata": {},
   "outputs": [],
   "source": [
    "pesos = {\n",
    "    \"upcc\": 2,    #Utilidad por cerrar ciclos\n",
    "    \"upmr\": 1,    #Utilidad por materias reprobadas\n",
    "    \"upcm\": 1,    #Utilidad por cantidad ideal de materias\n",
    "    \"cpdh\": 2.5,  #Costo por disponibilidad de horario\n",
    "    \"cpah\": 1,    #Costo por amplitud de horario\n",
    "    \"cphl\": 1     #Costo por horas libres (no se está utilizando actualmente)\n",
    "}"
   ]
  },
  {
   "cell_type": "code",
   "execution_count": null,
   "id": "58528597",
   "metadata": {},
   "outputs": [],
   "source": [
    "disponibilidadComoRestriccion = False\n",
    "disponibilidad = pd.DataFrame({\n",
    "    \"hora\": [7,8,9,10,11,12,13,14,15,16,17,18,19,20,21],\n",
    "    \"Lunes\": [True,True,True,True,True,True,True,True,False,False,False,False,False,False,False],\n",
    "    \"Martes\": [True,True,True,True,True,True,True,True,False,False,False,False,False,False,False],\n",
    "    \"Miercoles\": [True,True,True,True,True,True,True,True,False,False,False,False,False,False,False],\n",
    "    \"Jueves\": [True,True,True,True,True,True,True,True,False,False,False,False,False,False,False],\n",
    "    \"Viernes\": [True,True,True,True,True,True,True,True,False,False,False,False,False,False,False]\n",
    "})\n",
    "plan = plan_2016\n",
    "\n",
    "kardex = pd.read_csv('./Kardex/GUZMAN_VALERIA_KARDEX.csv')\n",
    "ofertaUtil = obtenerOfertaUtil(kardex,oferta)\n",
    "cantidadMateriasIdeal = 0"
   ]
  },
  {
   "cell_type": "code",
   "execution_count": null,
   "id": "c8b7e2bd",
   "metadata": {},
   "outputs": [],
   "source": [
    "for clave in obtenerMateriasReprobadas(kardex):\n",
    "    print(clave,plan.query('clave == \"' + clave + '\"')['nombre'].values[0])\n",
    "print('\\nCreditos: ' + str(obtenerCreditos(kardex)))"
   ]
  },
  {
   "cell_type": "code",
   "execution_count": null,
   "id": "05676a47",
   "metadata": {
    "scrolled": true
   },
   "outputs": [],
   "source": [
    "instancia1 = pg.GA(num_generations=20,\n",
    "                   num_parents_mating=2,\n",
    "                   fitness_func=obtenerDesempeno,\n",
    "                   sol_per_pop=500,\n",
    "                   num_genes=9,\n",
    "                   parent_selection_type=\"sss\",\n",
    "                   keep_parents=1,\n",
    "                   crossover_type='uniform',\n",
    "                   mutation_type='random',\n",
    "                   mutation_percent_genes=15,\n",
    "                   gene_type=int,\n",
    "                   gene_space=np.append(ofertaUtil.index.values,[-1]),\n",
    "                   on_generation=on_generation)\n",
    "start_time = time.time()\n",
    "instancia1.run()\n",
    "tiempoejecucion = time.time() - start_time\n",
    "print('Proceso terminado en ' + str(tiempoejecucion))\n",
    "solution, solution_fitness, solution_idx = instancia1.best_solution()"
   ]
  },
  {
   "cell_type": "markdown",
   "id": "9b267d7d",
   "metadata": {},
   "source": [
    "### Resultados"
   ]
  },
  {
   "cell_type": "code",
   "execution_count": null,
   "id": "85746738",
   "metadata": {
    "scrolled": true
   },
   "outputs": [],
   "source": [
    "obtenerDatosCarga(solution,ofertaUtil)"
   ]
  },
  {
   "cell_type": "code",
   "execution_count": null,
   "id": "af6a5751",
   "metadata": {},
   "outputs": [],
   "source": [
    "obtenerHorario(solution)"
   ]
  },
  {
   "cell_type": "code",
   "execution_count": null,
   "id": "1e48ab74",
   "metadata": {},
   "outputs": [],
   "source": [
    "evaluarSolucion(solution)"
   ]
  },
  {
   "cell_type": "code",
   "execution_count": null,
   "id": "0c329977",
   "metadata": {},
   "outputs": [],
   "source": [
    "solution_fitness"
   ]
  },
  {
   "cell_type": "markdown",
   "id": "ed90e215",
   "metadata": {},
   "source": [
    "### Resultados ideales"
   ]
  },
  {
   "cell_type": "code",
   "execution_count": null,
   "id": "e73d59a7",
   "metadata": {},
   "outputs": [],
   "source": [
    "obtenerDesempeno([ 4, 20, 22,  8,  9, 23, 16, 11, 18],0)"
   ]
  },
  {
   "cell_type": "code",
   "execution_count": null,
   "id": "07910a0e",
   "metadata": {},
   "outputs": [],
   "source": [
    "solucionIdeal = [0,13,11,17,18,21,22,20,23]"
   ]
  },
  {
   "cell_type": "code",
   "execution_count": null,
   "id": "85092e2c",
   "metadata": {},
   "outputs": [],
   "source": [
    "obtenerDatosCarga(solucionIdeal,ofertaUtil)"
   ]
  },
  {
   "cell_type": "code",
   "execution_count": null,
   "id": "22752454",
   "metadata": {},
   "outputs": [],
   "source": [
    "evaluarSolucion(solucionIdeal)"
   ]
  },
  {
   "cell_type": "code",
   "execution_count": null,
   "id": "86ed1e8b",
   "metadata": {},
   "outputs": [],
   "source": [
    "obtenerDesempeno(solucionIdeal,0)"
   ]
  },
  {
   "cell_type": "code",
   "execution_count": null,
   "id": "c8099701",
   "metadata": {
    "scrolled": false
   },
   "outputs": [],
   "source": [
    "obtenerHorario(solucionIdeal)"
   ]
  },
  {
   "cell_type": "markdown",
   "id": "342c7833",
   "metadata": {},
   "source": [
    "**Resultados:** La diferencia principal entre la elección del estudiante y la carga recomendada es la concentración de las materias en un solo horario. Una materia de preespecialidad hace falta pero se puede susituir fácilmente y tendría el mismo desempeño"
   ]
  },
  {
   "cell_type": "markdown",
   "id": "29cd919e",
   "metadata": {},
   "source": [
    "## Prueba"
   ]
  },
  {
   "cell_type": "code",
   "execution_count": null,
   "id": "e6dc2b99",
   "metadata": {},
   "outputs": [],
   "source": [
    "pesos = {\n",
    "    \"upcc\": 2,    #Utilidad por cerrar ciclos\n",
    "    \"upmr\": 1,    #Utilidad por materias reprobadas\n",
    "    \"upcm\": 1,    #Utilidad por cantidad ideal de materias\n",
    "    \"cpdh\": 2,  #Costo por disponibilidad de horario\n",
    "    \"cpah\": 1.5,  #Costo por amplitud de horario\n",
    "    \"cphl\": 1     #Costo por horas libres (no se está utilizando actualmente)\n",
    "}\n",
    "\n",
    "disponibilidadComoRestriccion = False\n",
    "disponibilidad = disponibilidadArr[4] #Disponibilidad completa de horario\n",
    "plan = plan_2016\n",
    "\n",
    "kardex = obtenerKardex()\n",
    "ofertaUtil = obtenerOfertaUtil(kardex,oferta)\n",
    "cantidadMateriasIdeal = 0"
   ]
  },
  {
   "cell_type": "code",
   "execution_count": null,
   "id": "25cb2692",
   "metadata": {
    "scrolled": false
   },
   "outputs": [],
   "source": [
    "verKardex()"
   ]
  },
  {
   "cell_type": "code",
   "execution_count": null,
   "id": "2b3fb4e9",
   "metadata": {},
   "outputs": [],
   "source": [
    "for clave in obtenerMateriasReprobadas(kardex):\n",
    "    print(clave,plan.query('clave == \"' + clave + '\"')['nombre'].values[0])\n",
    "print('\\nCreditos: ' + str(obtenerCreditos(kardex)))"
   ]
  },
  {
   "cell_type": "code",
   "execution_count": null,
   "id": "3921bb39",
   "metadata": {},
   "outputs": [],
   "source": [
    "ofertaUtil.sort_values('ciclos')"
   ]
  },
  {
   "cell_type": "code",
   "execution_count": null,
   "id": "0f6aa26e",
   "metadata": {},
   "outputs": [],
   "source": [
    "instancia1 = pg.GA(num_generations=50,\n",
    "                   stop_criteria=\"saturate_10\",\n",
    "                   num_parents_mating=2,\n",
    "                   fitness_func=obtenerDesempeno,\n",
    "                   sol_per_pop=500,\n",
    "                   num_genes=9,\n",
    "                   parent_selection_type=\"sss\",\n",
    "                   keep_parents=1,\n",
    "                   crossover_type='uniform',\n",
    "                   mutation_type='random',\n",
    "                   mutation_percent_genes=15,\n",
    "                   gene_type=int,\n",
    "                   gene_space=np.append(ofertaUtil.index.values,[-1]),\n",
    "                   on_generation=on_generation)\n",
    "start_time = time.time()\n",
    "instancia1.run()\n",
    "tiempoejecucion = time.time() - start_time\n",
    "print('Proceso terminado en ' + str(tiempoejecucion))\n",
    "solution, solution_fitness, solution_idx = instancia1.best_solution()"
   ]
  },
  {
   "cell_type": "code",
   "execution_count": null,
   "id": "2c11d0b6",
   "metadata": {},
   "outputs": [],
   "source": [
    "instancia1.plot_fitness()"
   ]
  },
  {
   "cell_type": "code",
   "execution_count": null,
   "id": "92917314",
   "metadata": {
    "scrolled": true
   },
   "outputs": [],
   "source": [
    "solution_fitness"
   ]
  },
  {
   "cell_type": "code",
   "execution_count": null,
   "id": "7e2e0b23",
   "metadata": {},
   "outputs": [],
   "source": [
    "evaluarSolucion(solution)"
   ]
  },
  {
   "cell_type": "code",
   "execution_count": null,
   "id": "8d588a82",
   "metadata": {},
   "outputs": [],
   "source": [
    "obtenerDatosCarga(solution,ofertaUtil)"
   ]
  },
  {
   "cell_type": "code",
   "execution_count": null,
   "id": "8b92e9e0",
   "metadata": {},
   "outputs": [],
   "source": [
    "obtenerHorario(solution)"
   ]
  },
  {
   "cell_type": "code",
   "execution_count": null,
   "id": "dc5fd7b5",
   "metadata": {},
   "outputs": [],
   "source": []
  }
 ],
 "metadata": {
  "kernelspec": {
   "display_name": "Python 3 (ipykernel)",
   "language": "python",
   "name": "python3"
  },
  "language_info": {
   "codemirror_mode": {
    "name": "ipython",
    "version": 3
   },
   "file_extension": ".py",
   "mimetype": "text/x-python",
   "name": "python",
   "nbconvert_exporter": "python",
   "pygments_lexer": "ipython3",
   "version": "3.9.12"
  }
 },
 "nbformat": 4,
 "nbformat_minor": 5
}
