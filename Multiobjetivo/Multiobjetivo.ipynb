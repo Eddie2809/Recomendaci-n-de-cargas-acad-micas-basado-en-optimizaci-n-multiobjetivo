{
 "cells": [
  {
   "cell_type": "code",
   "execution_count": 1,
   "id": "1ffb1c7f",
   "metadata": {},
   "outputs": [],
   "source": [
    "import pandas as pd\n",
    "import numpy as np\n",
    "import pygad as pg\n",
    "import deap as dp\n",
    "import random\n",
    "from deap import base, creator, tools, gp, algorithms\n",
    "import time\n",
    "import matplotlib.pyplot as plt"
   ]
  },
  {
   "cell_type": "code",
   "execution_count": 2,
   "id": "c8dea4d6",
   "metadata": {},
   "outputs": [],
   "source": [
    "oferta = pd.read_csv('oferta.csv')\n",
    "asignaturas = pd.read_csv('asignaturas.csv')\n",
    "formato_cargas = pd.read_csv('formato_cargas.csv')\n",
    "plan_2016 = pd.read_csv('plan_2016.csv')\n",
    "seriaciones = pd.read_csv('../seriacion.csv')"
   ]
  },
  {
   "cell_type": "markdown",
   "id": "e270f83a",
   "metadata": {},
   "source": [
    "# Definición de funciones útiles"
   ]
  },
  {
   "cell_type": "code",
   "execution_count": 3,
   "id": "9c984358",
   "metadata": {},
   "outputs": [],
   "source": [
    "matriculas = formato_cargas.query('n_matricula > 160000000')['n_matricula'].unique()"
   ]
  },
  {
   "cell_type": "markdown",
   "id": "650e1224",
   "metadata": {},
   "source": [
    "## Función para obtener un Kardex aleatorio"
   ]
  },
  {
   "cell_type": "code",
   "execution_count": 4,
   "id": "a693ee2c",
   "metadata": {},
   "outputs": [],
   "source": [
    "def obtenerKardex(mat = -1):\n",
    "    if(mat == -1):\n",
    "        mat = np.random.choice(matriculas)\n",
    "    return formato_cargas.query('n_matricula == ' + str(mat)).sort_values('periodo')"
   ]
  },
  {
   "cell_type": "code",
   "execution_count": 5,
   "id": "ec725b61",
   "metadata": {},
   "outputs": [],
   "source": [
    "def obtenerCreditos(kardex):\n",
    "    claves = kardex.query('promediofinal >= 7')['clave'].unique()\n",
    "    totalCreditos = 0\n",
    "    for clave in claves:\n",
    "        if(clave[0:2] == 'LI' or clave[0:2] == 'TA' or clave[0:2] == 'AD'):\n",
    "            continue\n",
    "        totalCreditos += plan.query('clave == \"' + clave + '\"')['creditos'].values[0]\n",
    "    return totalCreditos"
   ]
  },
  {
   "cell_type": "code",
   "execution_count": 6,
   "id": "64788fdb",
   "metadata": {},
   "outputs": [],
   "source": [
    "def obtenerRecomendacionesUnicas(recomendaciones,umbral):\n",
    "    recomendacionesFinal = []\n",
    "    for rec in recomendaciones:\n",
    "        recomendacionesFinal.append(list(set(rec)))\n",
    "    recomendacionesFinal = list(np.unique(recomendacionesFinal))\n",
    "    recomendacionesFinal.sort(key=lambda x: -obtenerDesempenoPonderado(x))\n",
    "\n",
    "    return recomendacionesFinal"
   ]
  },
  {
   "cell_type": "code",
   "execution_count": 7,
   "id": "906c2dab",
   "metadata": {},
   "outputs": [],
   "source": [
    "def verKardex():\n",
    "    print('Matricula: ' + str(kardex.iloc[0]['n_matricula']))\n",
    "    print('Carrera: ' + str(kardex.iloc[0]['carrera']))\n",
    "    print('Creditos: ' + str(obtenerCreditos(kardex))) \n",
    "    print('Materias Reprobadas:')\n",
    "    for clave in obtenerMateriasReprobadas(kardex):\n",
    "        print('\\t' + clave,plan.query('clave == \"' + clave + '\"')['nombre'].values[0])\n",
    "    print('\\n')\n",
    "    periodos = kardex['periodo'].unique()\n",
    "    for per in periodos:\n",
    "        print('Periodo: ' + str(per))\n",
    "        print('Clave\\t\\tPromedio\\tNombre de asignatura')\n",
    "        materias = kardex.query('periodo == ' + str(per))\n",
    "        for i in range(len(materias)):\n",
    "            if(materias.iloc[i]['promediofinal'] < 7):\n",
    "                print('* ' + materias.iloc[i]['clave'] + '\\t' + str(materias.iloc[i]['promediofinal']) + '\\t\\t' + materias.iloc[i]['asignatura'])\n",
    "            else:\n",
    "                print(materias.iloc[i]['clave'] + '\\t\\t' + str(materias.iloc[i]['promediofinal']) + '\\t\\t' + materias.iloc[i]['asignatura'])\n",
    "        print('\\n')\n",
    "    "
   ]
  },
  {
   "cell_type": "markdown",
   "id": "6bdec6b6",
   "metadata": {},
   "source": [
    "## Obtención de oferta útil"
   ]
  },
  {
   "cell_type": "code",
   "execution_count": 8,
   "id": "1c9e8089",
   "metadata": {},
   "outputs": [],
   "source": [
    "def materiaHaSidoAprobada(kardex,clave):\n",
    "    if len(kardex.query('clave == \"' + clave + '\" and promediofinal >= 7')) == 0:\n",
    "        return False\n",
    "    else:\n",
    "        return True"
   ]
  },
  {
   "cell_type": "code",
   "execution_count": 9,
   "id": "53bcefea",
   "metadata": {},
   "outputs": [],
   "source": [
    "def respetaSeriacion(clave,kardex):\n",
    "    if len(seriaciones.query('ser2 == \"' + clave + '\"')) == 0:\n",
    "        return True\n",
    "    else:\n",
    "        #Se guarda en necesarias la lista de asignaturas necesarias para llevar la asignura \"clave\"\n",
    "        necesarias = seriaciones.query('ser2 == \"' + clave + '\"')['ser1'].unique()\n",
    "        \n",
    "        #Se recorre la lista para comprobar si el estudiante ya pasó las asignaturas necesarias, en caso de que le falte \n",
    "        #al menos una, entonces no se respeta la seriación.\n",
    "        for necesaria in necesarias:\n",
    "            if not(materiaHaSidoAprobada(kardex,necesaria)):\n",
    "                return False\n",
    "        return True"
   ]
  },
  {
   "cell_type": "code",
   "execution_count": 10,
   "id": "636cba1b",
   "metadata": {},
   "outputs": [],
   "source": [
    "#Filtra las materias que no cumplen las restricciones 1 y 2\n",
    "\n",
    "def obtenerOfertaUtil(kardex,oferta):\n",
    "    dias = ['Lunes','Martes','Miercoles','Jueves','Viernes']\n",
    "    \n",
    "    #Se eliminan las materias en la oferta que ya han sido aprobadas\n",
    "    aprobadas = kardex.query('promediofinal >= 7')['clave'].unique()\n",
    "    for clave in aprobadas:\n",
    "        oferta = oferta.query('clave != \"' + clave + '\"')\n",
    "        \n",
    "    #Se eliminan las materias que el alumno no puede llevar por la seriación\n",
    "    ofertaUtilIndex = set(oferta.index.values)\n",
    "    for idx in oferta.index:\n",
    "        if not(respetaSeriacion(oferta.loc[idx]['clave'],kardex)):\n",
    "            ofertaUtilIndex.remove(idx)\n",
    "            \n",
    "    #Se eliminan prácticas profesionales y proyecto terminal\n",
    "    for i in range(len(oferta['clave'].values)):\n",
    "        clave = oferta['clave'].values[i]\n",
    "        if clave[0:3] == 'PID' or clave == 'IT0427':\n",
    "            try:\n",
    "                ofertaUtilIndex.remove(oferta.index.values[i])\n",
    "            except:\n",
    "                continue\n",
    "    ofertaUtil = oferta.loc[list(ofertaUtilIndex)]\n",
    "    \n",
    "    ofertaUtil = pd.merge(ofertaUtil,plan,how='left',on='clave')[['clave','ciclos','Nombre','Maestro','Lunes','Martes','Miercoles','Jueves','Viernes']]\n",
    "    \n",
    "    #Se eliminan materias de elección libre de primer y segundo ciclo\n",
    "    if(materiaHaSidoAprobada(kardex,'IL0102')):\n",
    "        ofertaUtil = ofertaUtil.query('clave != \"ID0160\"')\n",
    "    if(materiaHaSidoAprobada(kardex,'ID0160')):\n",
    "        ofertaUtil = ofertaUtil.query('clave != \"IL0102\"')\n",
    "    \n",
    "    if(materiaHaSidoAprobada(kardex,'IT0103')):\n",
    "        ofertaUtil = ofertaUtil.query('clave != \"ID0161\"')\n",
    "    if(materiaHaSidoAprobada(kardex,'ID0161')):\n",
    "        ofertaUtil = ofertaUtil.query('clave != \"IT0103\"')\n",
    "        \n",
    "    if(materiaHaSidoAprobada(kardex,'ID0264')):\n",
    "        ofertaUtil = ofertaUtil.query('clave != \"ID0262\"')\n",
    "    if(materiaHaSidoAprobada(kardex,'ID0262')):\n",
    "        ofertaUtil = ofertaUtil.query('clave != \"ID0264\"')\n",
    "        \n",
    "    if(materiaHaSidoAprobada(kardex,'ID0263')):\n",
    "        ofertaUtil = ofertaUtil.query('clave != \"ID0265\"')\n",
    "    if(materiaHaSidoAprobada(kardex,'ID0265')):\n",
    "        ofertaUtil = ofertaUtil.query('clave != \"ID0263\"')\n",
    "        \n",
    "    #Si la disponibilidad de horario es una restricción, entonces elimina las materias que violen la restricción\n",
    "    if(disponibilidadComoRestriccion):\n",
    "        indices = set(ofertaUtil.index)\n",
    "        indicesUtiles = indices.copy()\n",
    "        for dia in dias:\n",
    "            for i in indices:\n",
    "                if ofertaUtil.loc[i][dia] == '-':\n",
    "                    continue\n",
    "                \n",
    "                horaInicio = int(ofertaUtil.loc[i][dia][0:2])\n",
    "                horaFin = int(ofertaUtil.loc[i][dia][6:8])\n",
    "                \n",
    "                for hora in range(horaInicio,horaFin):\n",
    "                    if not(disponibilidad.query('hora == ' + str(hora))[dia].values[0]):\n",
    "                        if i in indicesUtiles:\n",
    "                            indicesUtiles.remove(i)\n",
    "        indicesUtiles = list(indicesUtiles)\n",
    "        ofertaUtil = ofertaUtil.loc[indicesUtiles]\n",
    "    \n",
    "    return ofertaUtil"
   ]
  },
  {
   "cell_type": "markdown",
   "id": "7c1c3848",
   "metadata": {},
   "source": [
    "## Generación de carga aleatoria válida"
   ]
  },
  {
   "cell_type": "markdown",
   "id": "a66d78f1",
   "metadata": {},
   "source": [
    "En esta sección creamos las funciones \"generarCargaValida\" la cual retorna una string de bits representando una carga académica con base a la oferta útil. También se crea la función \"obtenerDatosCarga\" que nos ayuda a obtener los datos de una carga académica con base a la oferta útil y a una string de bits que denominamos \"bits de carga\""
   ]
  },
  {
   "cell_type": "code",
   "execution_count": 11,
   "id": "5e238cf9",
   "metadata": {},
   "outputs": [],
   "source": [
    "def generarSolucionAleatoria(ofertaUtil):\n",
    "    solucion = [-1] * 9\n",
    "    for i in range(9):\n",
    "        gen = np.random.randint(-1,len(ofertaUtil))\n",
    "        if gen == -1:\n",
    "            solucion[i] = -1\n",
    "        else:\n",
    "            solucion[i] = ofertaUtil.index[gen]\n",
    "    return solucion"
   ]
  },
  {
   "cell_type": "code",
   "execution_count": 12,
   "id": "136e15f5",
   "metadata": {},
   "outputs": [],
   "source": [
    "def obtenerDatosCarga(solucion):\n",
    "    solucionU = np.array(solucion)\n",
    "    solucionU = np.unique(solucionU)\n",
    "    solucionU = solucionU[solucionU >= 0]\n",
    "    \n",
    "    return ofertaUtil.loc[solucionU]"
   ]
  },
  {
   "cell_type": "code",
   "execution_count": 13,
   "id": "d49e48ef",
   "metadata": {},
   "outputs": [],
   "source": [
    "def comprobarTraslapacion(solucion,ofertaUtil):\n",
    "    datosCarga = obtenerDatosCarga(solucion)\n",
    "    dias = ['Lunes','Martes','Miercoles','Jueves','Viernes']\n",
    "    \n",
    "    for dia in dias:\n",
    "        horarioDia = datosCarga.sort_values(dia)[dia].values\n",
    "        for i in range(len(horarioDia)):\n",
    "            if horarioDia[i] == '-':\n",
    "                continue\n",
    "            horaInicioI = int(horarioDia[i][0:2])\n",
    "            horaFinI = int(horarioDia[i][6:8])\n",
    "            \n",
    "            for j in range(i+1,len(horarioDia)):\n",
    "                horaInicioJ = int(horarioDia[j][0:2])\n",
    "                horaFinJ = int(horarioDia[j][6:8])\n",
    "                \n",
    "                if not(horaFinJ  <= horaInicioI or horaInicioJ >= horaFinI):\n",
    "                    return True\n",
    "    return False"
   ]
  },
  {
   "cell_type": "code",
   "execution_count": 14,
   "id": "584ec5ea",
   "metadata": {},
   "outputs": [],
   "source": [
    "def esValido(solucion,ofertaUtil):\n",
    "    #Si se repite una materia es inválido\n",
    "    datosCarga = obtenerDatosCarga(solucion)\n",
    "    if len(datosCarga['clave'].unique()) < len(datosCarga):\n",
    "        return False\n",
    "    #Si se traslapan dos materias es inválido\n",
    "    if comprobarTraslapacion(solucion,ofertaUtil):\n",
    "        return False\n",
    "    #Si son menos de 3 materias es inválido\n",
    "    solucionSet = set(solucion)\n",
    "    if -1 in solucionSet:\n",
    "        solucionSet.remove(-1)\n",
    "    if(len(solucionSet)<3):\n",
    "        return False\n",
    "    \n",
    "    #Si se llevan dos materias de elección libre del ciclo 1 y 2\n",
    "    clavesSet = set(datosCarga['clave'])\n",
    "    \n",
    "    if 'IL0102' in clavesSet and 'ID0160' in clavesSet:\n",
    "        return False\n",
    "    if 'IT0103' in clavesSet and 'ID0161' in clavesSet:\n",
    "        return False\n",
    "    if 'ID0264' in clavesSet and 'ID0262' in clavesSet:\n",
    "        return False\n",
    "    if 'ID0263' in clavesSet and 'ID0265' in clavesSet:\n",
    "        return False\n",
    "    \n",
    "    return True"
   ]
  },
  {
   "cell_type": "code",
   "execution_count": 15,
   "id": "b37d67d9",
   "metadata": {},
   "outputs": [],
   "source": [
    "def generarSolucionValida(ofertaUtil):\n",
    "    bitsDeCarga = generarSolucionAleatoria(ofertaUtil)\n",
    "    \n",
    "    while not(esValido(bitsDeCarga,ofertaUtil)):\n",
    "        bitsDeCarga = generarSolucionAleatoria(ofertaUtil)\n",
    "    \n",
    "    return bitsDeCarga"
   ]
  },
  {
   "cell_type": "code",
   "execution_count": 16,
   "id": "2dda725e",
   "metadata": {},
   "outputs": [],
   "source": [
    "def obtenerHorario(carga):\n",
    "    primeraHoraMinima = 24\n",
    "    ultimaHoraMaxima = 0\n",
    "    datosCarga = obtenerDatosCarga(carga)\n",
    "    horario = pd.DataFrame({\n",
    "        'Hora': ['7:00-8:00','8:00-9:00','9:00-10:00','10:00-11:00','11:00-12:00','12:00-13:00','13:00-14:00','14:00-15:00','15:00-16:00','16:00-17:00','17:00-18:00','18:00-19:00','19:00-20:00','20:00-21:00','21:00-22:00'],\n",
    "        'Lunes': ['-','-','-','-','-','-','-','-','-','-','-','-','-','-','-'],\n",
    "        'Martes': ['-','-','-','-','-','-','-','-','-','-','-','-','-','-','-'],\n",
    "        'Miercoles': ['-','-','-','-','-','-','-','-','-','-','-','-','-','-','-'],\n",
    "        'Jueves': ['-','-','-','-','-','-','-','-','-','-','-','-','-','-','-'],\n",
    "        'Viernes': ['-','-','-','-','-','-','-','-','-','-','-','-','-','-','-'],\n",
    "    })\n",
    "    dias = ['Lunes','Martes','Miercoles','Jueves','Viernes']\n",
    "    for dia in dias:\n",
    "        for i in range(len(datosCarga)):\n",
    "            if datosCarga[dia].iloc[i] == '-':\n",
    "                continue\n",
    "\n",
    "            horaInicio = int(datosCarga.iloc[i][dia][0:2])\n",
    "            horaFin = int(datosCarga.iloc[i][dia][6:8])\n",
    "            \n",
    "            primeraHoraMinima = min(primeraHoraMinima,horaInicio)\n",
    "            ultimaHoraMaxima = max(ultimaHoraMaxima,horaFin)\n",
    "            \n",
    "            nombre = datosCarga.iloc[i]['Nombre']\n",
    "\n",
    "            for hora in range(horaInicio,horaFin):\n",
    "                horario.loc[hora-7,dia]=nombre\n",
    "    return horario[(primeraHoraMinima-7):(ultimaHoraMaxima-6)]"
   ]
  },
  {
   "cell_type": "markdown",
   "id": "ce892328",
   "metadata": {},
   "source": [
    "# Definición de funciones de utilidad y de costo"
   ]
  },
  {
   "cell_type": "markdown",
   "id": "3a651fdf",
   "metadata": {},
   "source": [
    "## Utilidad de carga académica con base en cantidad ideal de materias"
   ]
  },
  {
   "cell_type": "code",
   "execution_count": 17,
   "id": "658cf16b",
   "metadata": {},
   "outputs": [],
   "source": [
    "def UpCM(solucion):\n",
    "    if(cantidadMateriasIdeal == 0):\n",
    "        return 1\n",
    "    \n",
    "    diferenciaMaxima = max(cantidadMateriasIdeal-3,9-cantidadMateriasIdeal)\n",
    "    solucionSet = set(solucion)\n",
    "    \n",
    "    if -1 in solucionSet:\n",
    "        solucionSet.remove(-1)\n",
    "        \n",
    "    tamanoCarga = len(solucionSet)\n",
    "    separacion = abs(tamanoCarga-cantidadMateriasIdeal)\n",
    "    \n",
    "    return 1 - (separacion / diferenciaMaxima)"
   ]
  },
  {
   "cell_type": "markdown",
   "id": "3b187491",
   "metadata": {},
   "source": [
    "## Utilidad de carga académica con base en las materias reprobadas"
   ]
  },
  {
   "cell_type": "code",
   "execution_count": 18,
   "id": "65b92edf",
   "metadata": {},
   "outputs": [],
   "source": [
    "def obtenerMateriasReprobadas(kardex):\n",
    "    materiasReprobadas = kardex.query('promediofinal < 7')['clave'].unique()\n",
    "    materiasReprobadasFinal = []\n",
    "    for clave in materiasReprobadas:\n",
    "        aprobado = len(kardex.query('clave == \"' + clave + '\" and promediofinal >= 7'))\n",
    "        if aprobado == 0 and clave[0:2] != 'LI':\n",
    "            materiasReprobadasFinal.append(clave)\n",
    "    return materiasReprobadasFinal"
   ]
  },
  {
   "cell_type": "code",
   "execution_count": 19,
   "id": "3a2e830e",
   "metadata": {},
   "outputs": [],
   "source": [
    "def UpMR(kardex,solucion,ofertaUtil):\n",
    "    materiasReprobadas = obtenerMateriasReprobadas(kardex)\n",
    "    if len(materiasReprobadas) == 0:\n",
    "        return 1\n",
    "    datosCarga = obtenerDatosCarga(solucion)\n",
    "    utilidadTotal = 0\n",
    "    \n",
    "    for clave in materiasReprobadas:\n",
    "        cargado = len(datosCarga.query('clave == \"' + clave + '\"'))\n",
    "        if cargado == 1:\n",
    "            utilidadTotal += 1\n",
    "            \n",
    "    \n",
    "    #Normalización\n",
    "    utilidad = (utilidadTotal)/(len(materiasReprobadas))\n",
    "    return utilidad"
   ]
  },
  {
   "cell_type": "markdown",
   "id": "3385911a",
   "metadata": {},
   "source": [
    "## Utilidad de carga académica con base en el cierre de ciclos"
   ]
  },
  {
   "cell_type": "code",
   "execution_count": 20,
   "id": "b311b785",
   "metadata": {},
   "outputs": [],
   "source": [
    "def UpCC(solucion,ofertaUtil):\n",
    "    base = 3\n",
    "    utilidad = [base**3,base**2,base,1]\n",
    "    utilidadTotal = 0\n",
    "    \n",
    "    menorCiclo = min(ofertaUtil['ciclos']) - 1\n",
    "    \n",
    "    datosCarga = obtenerDatosCarga(solucion)\n",
    "    \n",
    "    claves = datosCarga['clave'].unique()\n",
    "    for i in range(len(claves)):\n",
    "        if claves[i][0:2] == 'AD'or claves[i][0:2] == 'TA' or claves[i][0:2] == 'LI' or claves[i][0:2] == 'PI':\n",
    "            continue\n",
    "            \n",
    "        ciclo = int(plan.query('clave == \"' + claves[i] + '\"')['ciclos']) - 1\n",
    "        utilidadTotal += utilidad[ciclo - menorCiclo]\n",
    "    \n",
    "    utilidadMaxima = 0\n",
    "    cantidadMateriasCiclo1 = len(ofertaUtil.query('ciclos == ' + str(menorCiclo+1))['clave'].unique())\n",
    "    cantidadMateriasCiclo2 = len(ofertaUtil.query('ciclos == ' + str(menorCiclo+2))['clave'].unique())\n",
    "    cantidadMateriasCiclo3 = len(ofertaUtil.query('ciclos == ' + str(menorCiclo+3))['clave'].unique())\n",
    "    cantidadMateriasCiclo4 = len(ofertaUtil.query('ciclos == ' + str(menorCiclo+4))['clave'].unique())\n",
    "    cantidadMateriasMaxima = 9\n",
    "    \n",
    "    m1 = m2 = m3 = m4 = 0\n",
    "    \n",
    "    if (cantidadMateriasMaxima - cantidadMateriasCiclo1) >= 0:\n",
    "        m1 = cantidadMateriasCiclo1\n",
    "        cantidadMateriasMaxima -= cantidadMateriasCiclo1\n",
    "    else:\n",
    "        m1 = 9\n",
    "        cantidadMateriasMaxima = 0\n",
    "    if (cantidadMateriasMaxima - cantidadMateriasCiclo2) >= 0:\n",
    "        m2 = cantidadMateriasCiclo2\n",
    "        cantidadMateriasMaxima -= cantidadMateriasCiclo2\n",
    "    elif cantidadMateriasMaxima > 0:\n",
    "        m2 = cantidadMateriasMaxima\n",
    "        cantidadMateriasMaxima = 0\n",
    "    if (cantidadMateriasMaxima - cantidadMateriasCiclo3) >= 0:\n",
    "        m3 = cantidadMateriasCiclo3\n",
    "        cantidadMateriasMaxima -= cantidadMateriasCiclo3\n",
    "    elif cantidadMateriasMaxima > 0:\n",
    "        m3 = cantidadMateriasMaxima\n",
    "        cantidadMateriasMaxima = 0\n",
    "    if (cantidadMateriasMaxima - cantidadMateriasCiclo4) >= 0:\n",
    "        m4 = cantidadMateriasCiclo4\n",
    "        cantidadMateriasMaxima -= cantidadMateriasCiclo4\n",
    "    elif cantidadMateriasMaxima > 0:\n",
    "        m4 = cantidadMateriasMaxima\n",
    "        cantidadMateriasMaxima = 0\n",
    "        \n",
    "    \n",
    "    utilidadMaxima = m1*utilidad[0] + m2*utilidad[1] + m3*utilidad[2] + m4*utilidad[3]\n",
    " \n",
    "    #Normalización\n",
    "    utilidadNorm = (utilidadTotal)/(utilidadMaxima)\n",
    "    return utilidadNorm"
   ]
  },
  {
   "cell_type": "markdown",
   "id": "1316cc72",
   "metadata": {},
   "source": [
    "## Costo por amplitud de horario"
   ]
  },
  {
   "cell_type": "code",
   "execution_count": 21,
   "id": "2c8a9845",
   "metadata": {},
   "outputs": [],
   "source": [
    "def CpAH(solucion):\n",
    "    amplitudAceptable = 7\n",
    "    \n",
    "    datosCarga = obtenerDatosCarga(solucion)\n",
    "    dias = ['Lunes','Martes','Miercoles','Jueves','Viernes']\n",
    "    horaMin = 21\n",
    "    horaMax = 7\n",
    "    \n",
    "    for dia in dias:\n",
    "        for hora in datosCarga[dia]:\n",
    "            if hora == '-':\n",
    "                continue\n",
    "            horaMin = min(int(hora[0:2]),horaMin)\n",
    "            horaMax = max(int(hora[6:8]),horaMax)\n",
    "            \n",
    "    amplitud = (horaMax - horaMin)\n",
    "    if amplitud <= amplitudAceptable:\n",
    "        return 0\n",
    "    amplitud -= amplitudAceptable\n",
    "    \n",
    "    return amplitud / (15 - amplitudAceptable)"
   ]
  },
  {
   "cell_type": "markdown",
   "id": "3055acdc",
   "metadata": {},
   "source": [
    "## Costo de carga académica con base en las horas libres"
   ]
  },
  {
   "cell_type": "markdown",
   "id": "8e3c3124",
   "metadata": {},
   "source": [
    "#### NOTA: Tomar en cuenta las horas libres por día"
   ]
  },
  {
   "cell_type": "code",
   "execution_count": 22,
   "id": "de37cf1b",
   "metadata": {},
   "outputs": [],
   "source": [
    "def CpHL(solucion,ofertaUtil):\n",
    "    dias = ['Lunes','Martes','Miercoles','Jueves','Viernes']\n",
    "    costoTotal = 0\n",
    "    hlMax = 0\n",
    "\n",
    "    datosCarga = obtenerDatosCarga(solucion)\n",
    "\n",
    "    for dia in dias:\n",
    "        datosCarga = datosCarga.sort_values(dia)\n",
    "        if datosCarga[dia].iloc[len(datosCarga)-2] == '-':\n",
    "            continue\n",
    "\n",
    "        ultimaHoraFin = 0\n",
    "        for i in range(len(datosCarga)):\n",
    "            if datosCarga.iloc[i][dia] == '-':\n",
    "                continue\n",
    "            if ultimaHoraFin == 0:\n",
    "                ultimaHoraFin = int(datosCarga.iloc[i][dia][6:8])\n",
    "                primeraHoraDia = int(datosCarga.iloc[i][dia][0:2])\n",
    "                continue\n",
    "            horaInicio = int(datosCarga.iloc[i][dia][0:2])\n",
    "            costoTotal += (horaInicio - ultimaHoraFin)\n",
    "            ultimaHoraFin = int(datosCarga.iloc[i][dia][6:8])\n",
    "        hlMax += (ultimaHoraFin - primeraHoraDia - 2)\n",
    "\n",
    "    if hlMax == 0:\n",
    "        return 0\n",
    "    #Normalización\n",
    "    costo = (costoTotal)/(hlMax)\n",
    "    return costo"
   ]
  },
  {
   "cell_type": "markdown",
   "id": "25015bdb",
   "metadata": {},
   "source": [
    "## Costo de carga académica con base en la disponibilidad de horario del estudiante"
   ]
  },
  {
   "cell_type": "markdown",
   "id": "73d999ec",
   "metadata": {},
   "source": [
    "Creamos 4 casos diferentes donde los estudiantes trabajan. Guardamos el horario de ocupación de los estudiantes en un dataframe por cada estudiante."
   ]
  },
  {
   "cell_type": "code",
   "execution_count": 23,
   "id": "709995e9",
   "metadata": {},
   "outputs": [],
   "source": [
    "# El estudiante trabaja por las mañanas tiempo completo\n",
    "disp_est_1 = pd.DataFrame({\n",
    "    \"hora\": [7,8,9,10,11,12,13,14,15,16,17,18,19,20,21],\n",
    "    \"Lunes\": [False,False,False,False,False,False,False,False,False,True,True,True,True,True,True],\n",
    "    \"Martes\": [False,False,False,False,False,False,False,False,False,True,True,True,True,True,True],\n",
    "    \"Miercoles\": [False,False,False,False,False,False,False,False,False,True,True,True,True,True,True],\n",
    "    \"Jueves\": [False,False,False,False,False,False,False,False,False,True,True,True,True,True,True],\n",
    "    \"Viernes\": [False,False,False,False,False,False,False,False,False,True,True,True,True,True,True],\n",
    "})\n",
    "\n",
    "\n",
    "# El estudiante trabaja por las tardes tiempo completo\n",
    "disp_est_2 = pd.DataFrame({\n",
    "    \"hora\": [7,8,9,10,11,12,13,14,15,16,17,18,19,20,21],\n",
    "    \"Lunes\": [True,True,True,True,True,True,False,False,False,False,False,False,False,False,False],\n",
    "    \"Martes\": [True,True,True,True,True,True,False,False,False,False,False,False,False,False,False],\n",
    "    \"Miercoles\": [True,True,True,True,True,True,False,False,False,False,False,False,False,False,False],\n",
    "    \"Jueves\": [True,True,True,True,True,True,False,False,False,False,False,False,False,False,False],\n",
    "    \"Viernes\": [True,True,True,True,True,True,False,False,False,False,False,False,False,False,False],\n",
    "})\n",
    "\n",
    "# El estudiante trabaja por las mañanas medio tiempo\n",
    "disp_est_3 = pd.DataFrame({\n",
    "    \"hora\": [7,8,9,10,11,12,13,14,15,16,17,18,19,20,21],\n",
    "    \"Lunes\": [True,False,False,False,False,False,True,True,True,True,True,True,True,False,False],\n",
    "    \"Martes\": [True,False,False,False,False,False,True,True,True,True,True,True,True,False,False],\n",
    "    \"Miercoles\": [True,False,False,False,False,False,True,True,True,True,True,True,True,False,False],\n",
    "    \"Jueves\": [True,False,False,False,False,False,True,True,True,True,True,True,True,False,False],\n",
    "    \"Viernes\": [True,False,False,False,False,False,True,True,True,True,True,True,True,False,False],\n",
    "})\n",
    "# El estudiante trabaja por las tardes medio tiempo\n",
    "disp_est_4 = pd.DataFrame({\n",
    "    \"hora\": [7,8,9,10,11,12,13,14,15,16,17,18,19,20,21],\n",
    "    \"Lunes\": [True,True,True,True,True,False,False,False,False,False,True,True,True,True,True],\n",
    "    \"Martes\": [True,True,True,True,True,False,False,False,False,False,True,True,True,True,True],\n",
    "    \"Miercoles\": [True,True,True,True,True,False,False,False,False,False,True,True,True,True,True],\n",
    "    \"Jueves\": [True,True,True,True,True,False,False,False,False,False,True,True,True,True,True],\n",
    "    \"Viernes\": [True,True,True,True,True,False,False,False,False,False,True,True,True,True,True],\n",
    "})\n",
    "disp_est_5 = pd.DataFrame({\n",
    "    \"hora\": [7,8,9,10,11,12,13,14,15,16,17,18,19,20,21],\n",
    "    \"Lunes\": [True,True,True,True,True,True,True,True,True,True,True,True,True,True,True],\n",
    "    \"Martes\": [True,True,True,True,True,True,True,True,True,True,True,True,True,True,True],\n",
    "    \"Miercoles\": [True,True,True,True,True,True,True,True,True,True,True,True,True,True,True],\n",
    "    \"Jueves\": [True,True,True,True,True,True,True,True,True,True,True,True,True,True,True],\n",
    "    \"Viernes\": [True,True,True,True,True,True,True,True,True,True,True,True,True,True,True],\n",
    "})"
   ]
  },
  {
   "cell_type": "code",
   "execution_count": 24,
   "id": "7137d3f9",
   "metadata": {
    "scrolled": false
   },
   "outputs": [],
   "source": [
    "disponibilidadArr = [disp_est_1,disp_est_2,disp_est_3,disp_est_4,disp_est_5]"
   ]
  },
  {
   "cell_type": "code",
   "execution_count": 25,
   "id": "7e1f73fd",
   "metadata": {},
   "outputs": [],
   "source": [
    "def CpDH(solucion,ofertaUtil,disponibilidad):\n",
    "    disponibilidadTotal = sum(disponibilidad['Lunes']) + sum(disponibilidad['Martes']) + sum(disponibilidad['Miercoles']) + sum(disponibilidad['Jueves']) + sum(disponibilidad['Viernes'])\n",
    "    if disponibilidadTotal == 75:\n",
    "        return 0\n",
    "    \n",
    "    dias = ['Lunes','Martes','Miercoles','Jueves','Viernes']\n",
    "    datosCarga = obtenerDatosCarga(solucion)\n",
    "    costoTotal = 0\n",
    "\n",
    "    for dia in dias:\n",
    "        for i in range(len(datosCarga)):\n",
    "            if datosCarga[dia].iloc[i] == '-':\n",
    "                continue\n",
    "\n",
    "            horaInicio = int(datosCarga.iloc[i][dia][0:2])\n",
    "            horaFin = int(datosCarga.iloc[i][dia][6:8])\n",
    "\n",
    "            for hora in range(horaInicio,horaFin):\n",
    "                if not(disponibilidad.query('hora == ' + str(hora))[dia].values[0]):\n",
    "                    costoTotal += 1\n",
    "                    \n",
    "    #Normalización\n",
    "    costo = (costoTotal)/(75 - disponibilidadTotal)\n",
    "    return costo"
   ]
  },
  {
   "cell_type": "markdown",
   "id": "16e07217",
   "metadata": {},
   "source": [
    "# Definición de la función de desempeño"
   ]
  },
  {
   "cell_type": "code",
   "execution_count": 26,
   "id": "b8466a64",
   "metadata": {},
   "outputs": [],
   "source": [
    "def obtenerDesempenoPonderado(solucion):\n",
    "    if not(esValido(solucion,ofertaUtil)):\n",
    "        return 0\n",
    "    \n",
    "    upcc = UpCC(solucion,ofertaUtil)\n",
    "    upmr = UpMR(kardex,solucion,ofertaUtil)\n",
    "    upcm = UpCM(solucion)\n",
    "    cpdh = CpDH(solucion,ofertaUtil,disponibilidad)\n",
    "    cpah = CpAH(solucion)\n",
    "    \n",
    "    utilidades = {\n",
    "        \"upcc\": (upcc * pesos[\"upcc\"]),\n",
    "        \"upmr\": (upmr * pesos[\"upmr\"]),\n",
    "        \"upcm\": (upcm * pesos[\"upcm\"]),\n",
    "        \"cpdh\": pesos[\"cpdh\"] - (cpdh * pesos[\"cpdh\"]),\n",
    "        \"cpah\": pesos[\"cpah\"] - (cpah * pesos[\"cpah\"]),\n",
    "    }\n",
    "    \n",
    "    return sum(utilidades.values())"
   ]
  },
  {
   "cell_type": "code",
   "execution_count": 27,
   "id": "e5fcd4ce",
   "metadata": {},
   "outputs": [],
   "source": [
    "def obtenerDesempeno(solucion):\n",
    "    if not(esValido(solucion,ofertaUtil)):\n",
    "        return 0,0,0,1,1\n",
    "    \n",
    "    upcc = UpCC(solucion,ofertaUtil)\n",
    "    upmr = UpMR(kardex,solucion,ofertaUtil)\n",
    "    upcm = UpCM(solucion)\n",
    "    cpdh = CpDH(solucion,ofertaUtil,disponibilidad)\n",
    "    cpah = CpAH(solucion)\n",
    "    \n",
    "    return upcc,upmr,upcm,cpdh,cpah,"
   ]
  },
  {
   "cell_type": "code",
   "execution_count": 28,
   "id": "36164559",
   "metadata": {},
   "outputs": [],
   "source": [
    "def evaluarSolucion(solucion):\n",
    "    desempeno = obtenerDesempeno(solucion)\n",
    "    if(desempeno == 0):\n",
    "        print('Solución no válida')\n",
    "        return\n",
    "    \n",
    "    upcc = UpCC(solucion,ofertaUtil)\n",
    "    upmr = UpMR(kardex,solucion,ofertaUtil)\n",
    "    upcm = UpCM(solucion)\n",
    "    cpdh = CpDH(solucion,ofertaUtil,disponibilidad)\n",
    "    cpah = CpAH(solucion)\n",
    "    \n",
    "    print(\"La carga evaluada tiene:\")\n",
    "    print(\"\\t\" + str(round(100*upcc,2)) + \"% de utilidad por las materias de primeros ciclos llevadas.\")\n",
    "    print(\"\\t\" + str(round(100*upmr,2)) + \"% del total de las materias reprobadas del estudiante.\") \n",
    "    print(\"\\t\" + str(round(100*upcm,2)) + \"% de utilidad por cantidad ideal de materias del estudiante.\") \n",
    "    print(\"\\t\" + str(round(100*cpdh,2)) + \"% de costo por sobreposición con las horas donde el estudiante no está disponible.\")\n",
    "    print(\"\\t\" + str(round(100*cpah,2)) + \"% de costo por el total de amplitud de horario.\")"
   ]
  },
  {
   "cell_type": "code",
   "execution_count": 29,
   "id": "600603e9",
   "metadata": {},
   "outputs": [],
   "source": [
    "def on_generation(ga_instance):\n",
    "    print(\"Generación: \" + str(ga_instance.generations_completed))"
   ]
  },
  {
   "cell_type": "code",
   "execution_count": 30,
   "id": "e71b169a",
   "metadata": {},
   "outputs": [],
   "source": [
    "def obtenerClase():\n",
    "    gen = np.random.randint(-1,len(ofertaUtil))\n",
    "    clase = -1 if gen == -1 else ofertaUtil.index[gen]\n",
    "    return clase"
   ]
  },
  {
   "cell_type": "code",
   "execution_count": 31,
   "id": "3b767590",
   "metadata": {},
   "outputs": [],
   "source": [
    "def mutacionUniforme(solucion,prob):\n",
    "    solucion = solucion.copy()\n",
    "    for i in range(len(solucion)):\n",
    "        if random.random() < prob:\n",
    "            solucion[i] = toolbox.attr_int()\n",
    "    return dp.creator.Individual(solucion),"
   ]
  },
  {
   "cell_type": "code",
   "execution_count": 32,
   "id": "285cb0cb",
   "metadata": {},
   "outputs": [],
   "source": [
    "def factorial(p):\n",
    "    res = 1\n",
    "    \n",
    "    while p > 0:\n",
    "        res *= p\n",
    "        p -= 1\n",
    "    \n",
    "    return res"
   ]
  },
  {
   "cell_type": "markdown",
   "id": "96c03d9d",
   "metadata": {},
   "source": [
    "# DEAP"
   ]
  },
  {
   "cell_type": "code",
   "execution_count": 33,
   "id": "f9b96618",
   "metadata": {},
   "outputs": [],
   "source": [
    "pesos = {\n",
    "    \"upcc\": 2,    #Utilidad por cerrar ciclos\n",
    "    \"upmr\": 1,    #Utilidad por materias reprobadas\n",
    "    \"upcm\": 1,    #Utilidad por cantidad ideal de materias\n",
    "    \"cpdh\": 2.5,  #Costo por disponibilidad de horario\n",
    "    \"cpah\": 1.5,  #Costo por amplitud de horario\n",
    "    \"cphl\": 1     #Costo por horas libres (no se está utilizando actualmente)\n",
    "}"
   ]
  },
  {
   "cell_type": "code",
   "execution_count": 34,
   "id": "9e5e1ea9",
   "metadata": {},
   "outputs": [],
   "source": [
    "creator.create(\"FitnessMin\", base.Fitness, weights=(1,1,1,-1,-1))\n",
    "creator.create(\"Individual\", list, fitness=creator.FitnessMin)"
   ]
  },
  {
   "cell_type": "code",
   "execution_count": 35,
   "id": "34edb17f",
   "metadata": {},
   "outputs": [],
   "source": [
    "toolbox = base.Toolbox()\n",
    "toolbox.register(\"attr_int\", obtenerClase)\n",
    "toolbox.register(\"individual\", tools.initRepeat, creator.Individual,\n",
    "                 toolbox.attr_int, n=9)\n",
    "toolbox.register(\"population\", tools.initRepeat, list, toolbox.individual)\n",
    "\n",
    "toolbox.register(\"evaluate\", obtenerDesempeno)\n",
    "toolbox.register(\"mate\", tools.cxUniform,indpb=0.5)\n",
    "toolbox.register(\"mutate\", mutacionUniforme,prob=0.15)"
   ]
  },
  {
   "cell_type": "markdown",
   "id": "63fba0df",
   "metadata": {},
   "source": [
    "## Ejecución del algoritmo"
   ]
  },
  {
   "cell_type": "code",
   "execution_count": 36,
   "id": "157b7a95",
   "metadata": {},
   "outputs": [],
   "source": [
    "pesos = {\n",
    "    \"upcc\": 2,    #Utilidad por cerrar ciclos\n",
    "    \"upmr\": 1,    #Utilidad por materias reprobadas\n",
    "    \"upcm\": 1,    #Utilidad por cantidad ideal de materias\n",
    "    \"cpdh\": 2.5,  #Costo por disponibilidad de horario\n",
    "    \"cpah\": 1.5,  #Costo por amplitud de horario\n",
    "    \"cphl\": 1     #Costo por horas libres (no se está utilizando actualmente)\n",
    "}\n",
    "\n",
    "disponibilidadComoRestriccion = False\n",
    "disponibilidad = disponibilidadArr[4] #Disponibilidad completa de horario\n",
    "plan = plan_2016\n",
    "\n",
    "#kardex = obtenerKardex(170311242)\n",
    "kardex = obtenerKardex(190311499).query('periodo < 202201')\n",
    "ofertaUtil = obtenerOfertaUtil(kardex,oferta)\n",
    "cantidadMateriasIdeal = 7"
   ]
  },
  {
   "cell_type": "code",
   "execution_count": 37,
   "id": "f6490b26",
   "metadata": {},
   "outputs": [],
   "source": [
    "NOBJ = 5\n",
    "K = 10\n",
    "NDIM = NOBJ + K - 1\n",
    "P = 12\n",
    "H = factorial(NOBJ + P - 1) / (factorial(P) * factorial(NOBJ - 1))\n",
    "BOUND_LOW, BOUND_UP = 0.0, 1.0\n",
    "MU = int(H + (4 - H % 4))\n",
    "NGEN = 25\n",
    "CXPB = 1.0\n",
    "MUTPB = 1.0\n",
    "ref_points = tools.uniform_reference_points(NOBJ, P)"
   ]
  },
  {
   "cell_type": "code",
   "execution_count": 38,
   "id": "5027d958",
   "metadata": {},
   "outputs": [],
   "source": [
    "toolbox.register(\"select\", tools.selNSGA3, ref_points=ref_points)"
   ]
  },
  {
   "cell_type": "code",
   "execution_count": 39,
   "id": "7190b75b",
   "metadata": {},
   "outputs": [],
   "source": [
    "def main(seed=None):\n",
    "    random.seed(seed)\n",
    "\n",
    "    # Initialize statistics object\n",
    "    stats = tools.Statistics(lambda ind: ind.fitness.values)\n",
    "    stats.register(\"avg\", np.mean, axis=0)\n",
    "    stats.register(\"std\", np.std, axis=0)\n",
    "    stats.register(\"min\", np.min, axis=0)\n",
    "    stats.register(\"max\", np.max, axis=0)\n",
    "\n",
    "    logbook = tools.Logbook()\n",
    "    logbook.header = \"gen\", \"evals\", \"std\", \"min\", \"avg\", \"max\"\n",
    "\n",
    "    pop = toolbox.population(n=MU)\n",
    "\n",
    "    # Evaluate the individuals with an invalid fitness\n",
    "    invalid_ind = [ind for ind in pop if not ind.fitness.valid]\n",
    "    fitnesses = toolbox.map(toolbox.evaluate, invalid_ind)\n",
    "    for ind, fit in zip(invalid_ind, fitnesses):\n",
    "        ind.fitness.values = fit\n",
    "\n",
    "    # Compile statistics about the population\n",
    "    record = stats.compile(pop)\n",
    "    logbook.record(gen=0, evals=len(invalid_ind), **record)\n",
    "    print(logbook.stream)\n",
    "\n",
    "    # Begin the generational process\n",
    "    for gen in range(1, NGEN):\n",
    "        offspring = algorithms.varAnd(pop, toolbox, CXPB, MUTPB)\n",
    "\n",
    "        # Evaluate the individuals with an invalid fitness\n",
    "        invalid_ind = [ind for ind in offspring if not ind.fitness.valid]\n",
    "        fitnesses = toolbox.map(toolbox.evaluate, invalid_ind)\n",
    "        for ind, fit in zip(invalid_ind, fitnesses):\n",
    "            ind.fitness.values = fit\n",
    "\n",
    "        # Select the next generation population from parents and offspring\n",
    "        pop = toolbox.select(pop + offspring, MU)\n",
    "\n",
    "        # Compile statistics about the new population\n",
    "        record = stats.compile(pop)\n",
    "        logbook.record(gen=gen, evals=len(invalid_ind), **record)\n",
    "        print(logbook.stream)\n",
    "\n",
    "    return pop, logbook"
   ]
  },
  {
   "cell_type": "code",
   "execution_count": 40,
   "id": "89fcb216",
   "metadata": {
    "scrolled": true
   },
   "outputs": [
    {
     "name": "stdout",
     "output_type": "stream",
     "text": [
      "gen\tevals\tstd                                                     \tmin                  \tavg                                                     \tmax                                                     \n",
      "0  \t1824 \t[0.11661824 0.19341729 0.15728798 0.19341729 0.05896238]\t[ 0.  0.  0. -0. -0.]\t[0.02300021 0.03892544 0.03097588 0.96107456 0.99163925]\t[0.85714286 1.         1.         1.         1.        ]\n",
      "1  \t1824 \t[0.15910685 0.26444995 0.21866819 0.26444995 0.08190721]\t[ 0.  0.  0. -0. -0.]\t[0.04446011 0.07565789 0.06126645 0.92434211 0.9834841 ]\t[0.9047619 1.        1.        1.        1.       ]     \n",
      "2  \t1824 \t[0.20015543 0.32884456 0.27267256 0.32884456 0.09934664]\t[ 0.  0.  0. -0. -0.]\t[0.07322995 0.12335526 0.10005482 0.87664474 0.97519189]\t[0.9047619 1.        1.        1.        1.       ]     \n",
      "3  \t1824 \t[0.23365194 0.38495276 0.31883158 0.38495276 0.12012461]\t[ 0.  0.  0. -0. -0.]\t[0.10682957 0.18092105 0.14638158 0.81907895 0.96326754]\t[1. 1. 1. 1. 1.]                                        \n",
      "4  \t1824 \t[0.26252306 0.436745   0.36220078 0.436745   0.1410222 ]\t[ 0.  0.  0. -0. -0.]\t[0.14927945 0.25657895 0.20723684 0.74342105 0.94695724]\t[1. 1. 1. 1. 1.]                                        \n",
      "5  \t1824 \t[0.29080929 0.48053345 0.4035972  0.48053345 0.1643832 ]\t[ 0.  0.  0. -0. -0.]\t[0.21055242 0.36184211 0.29427083 0.63815789 0.92269737]\t[1. 1. 1. 1. 1.]                                        \n",
      "6  \t1824 \t[0.30355843 0.49998918 0.42366722 0.49998918 0.18270645]\t[ 0.  0.  0. -0. -0.]\t[0.29080514 0.50328947 0.40995066 0.49671053 0.89377741]\t[1. 1. 1. 1. 1.]                                        \n",
      "7  \t1824 \t[0.29124959 0.47140452 0.40774208 0.47140452 0.20277117]\t[ 0.  0.  0. -0. -0.]\t[0.38210109 0.66666667 0.54303728 0.33333333 0.85786732]\t[1. 1. 1. 1. 1.]                                        \n",
      "8  \t1824 \t[0.22411232 0.32245745 0.30824071 0.32245745 0.21473104]\t[ 0.  0.  0. -0. -0.]\t[0.50242794 0.88212719 0.71244518 0.11787281 0.80907346]\t[1. 1. 1. 1. 1.]                                        \n"
     ]
    },
    {
     "name": "stderr",
     "output_type": "stream",
     "text": [
      "C:\\Users\\eddlf\\AppData\\Local\\Packages\\PythonSoftwareFoundation.Python.3.9_qbz5n2kfra8p0\\LocalCache\\local-packages\\Python39\\site-packages\\deap\\tools\\emo.py:610: RuntimeWarning: invalid value encountered in divide\n",
      "  fn = (fitnesses - best_point) / (intercepts - best_point)\n"
     ]
    },
    {
     "name": "stdout",
     "output_type": "stream",
     "text": [
      "9  \t1824 \t[0.12788163 0.         0.17270955 0.         0.22532969]\t[ 0.19047619  1.          0.25       -0.         -0.        ]\t[0.59320175 1.         0.82620614 0.         0.75404331]\t[ 1.  1.  1. -0.  1.]                                   \n"
     ]
    },
    {
     "name": "stderr",
     "output_type": "stream",
     "text": [
      "C:\\Users\\eddlf\\AppData\\Local\\Packages\\PythonSoftwareFoundation.Python.3.9_qbz5n2kfra8p0\\LocalCache\\local-packages\\Python39\\site-packages\\deap\\tools\\emo.py:610: RuntimeWarning: invalid value encountered in divide\n",
      "  fn = (fitnesses - best_point) / (intercepts - best_point)\n"
     ]
    },
    {
     "name": "stdout",
     "output_type": "stream",
     "text": [
      "10 \t1824 \t[0.12836097 0.         0.18023111 0.         0.23509511]\t[ 0.19047619  1.          0.25       -0.         -0.        ]\t[0.62082289 1.         0.83278509 0.         0.71820175]\t[ 1.  1.  1. -0.  1.]                                   \n"
     ]
    },
    {
     "name": "stderr",
     "output_type": "stream",
     "text": [
      "C:\\Users\\eddlf\\AppData\\Local\\Packages\\PythonSoftwareFoundation.Python.3.9_qbz5n2kfra8p0\\LocalCache\\local-packages\\Python39\\site-packages\\deap\\tools\\emo.py:610: RuntimeWarning: invalid value encountered in divide\n",
      "  fn = (fitnesses - best_point) / (intercepts - best_point)\n"
     ]
    },
    {
     "name": "stdout",
     "output_type": "stream",
     "text": [
      "11 \t1824 \t[0.13390331 0.         0.18346615 0.         0.24542424]\t[ 0.19047619  1.          0.25       -0.         -0.        ]\t[0.63661759 1.         0.83813048 0.         0.67420504]\t[ 1.  1.  1. -0.  1.]                                   \n"
     ]
    },
    {
     "name": "stderr",
     "output_type": "stream",
     "text": [
      "C:\\Users\\eddlf\\AppData\\Local\\Packages\\PythonSoftwareFoundation.Python.3.9_qbz5n2kfra8p0\\LocalCache\\local-packages\\Python39\\site-packages\\deap\\tools\\emo.py:610: RuntimeWarning: invalid value encountered in divide\n",
      "  fn = (fitnesses - best_point) / (intercepts - best_point)\n"
     ]
    },
    {
     "name": "stdout",
     "output_type": "stream",
     "text": [
      "12 \t1824 \t[0.13936999 0.         0.18880113 0.         0.25669613]\t[ 0.19047619  1.          0.25       -0.         -0.        ]\t[0.64951441 1.         0.83209978 0.         0.63630757]\t[ 1.  1.  1. -0.  1.]                                   \n"
     ]
    },
    {
     "name": "stderr",
     "output_type": "stream",
     "text": [
      "C:\\Users\\eddlf\\AppData\\Local\\Packages\\PythonSoftwareFoundation.Python.3.9_qbz5n2kfra8p0\\LocalCache\\local-packages\\Python39\\site-packages\\deap\\tools\\emo.py:610: RuntimeWarning: invalid value encountered in divide\n",
      "  fn = (fitnesses - best_point) / (intercepts - best_point)\n"
     ]
    },
    {
     "name": "stdout",
     "output_type": "stream",
     "text": [
      "13 \t1824 \t[0.14812118 0.         0.18826385 0.         0.25937986]\t[ 0.19047619  1.          0.25       -0.         -0.        ]\t[0.66027047 1.         0.81044408 0.         0.58936404]\t[ 1.  1.  1. -0.  1.]                                   \n"
     ]
    },
    {
     "name": "stderr",
     "output_type": "stream",
     "text": [
      "C:\\Users\\eddlf\\AppData\\Local\\Packages\\PythonSoftwareFoundation.Python.3.9_qbz5n2kfra8p0\\LocalCache\\local-packages\\Python39\\site-packages\\deap\\tools\\emo.py:610: RuntimeWarning: invalid value encountered in divide\n",
      "  fn = (fitnesses - best_point) / (intercepts - best_point)\n"
     ]
    },
    {
     "name": "stdout",
     "output_type": "stream",
     "text": [
      "14 \t1824 \t[0.15461467 0.         0.18433592 0.         0.26090428]\t[ 0.19047619  1.          0.25       -0.         -0.        ]\t[0.6690685  1.         0.80180921 0.         0.55091831]\t[ 1.  1.  1. -0.  1.]                                   \n"
     ]
    },
    {
     "name": "stderr",
     "output_type": "stream",
     "text": [
      "C:\\Users\\eddlf\\AppData\\Local\\Packages\\PythonSoftwareFoundation.Python.3.9_qbz5n2kfra8p0\\LocalCache\\local-packages\\Python39\\site-packages\\deap\\tools\\emo.py:610: RuntimeWarning: invalid value encountered in divide\n",
      "  fn = (fitnesses - best_point) / (intercepts - best_point)\n"
     ]
    },
    {
     "name": "stdout",
     "output_type": "stream",
     "text": [
      "15 \t1824 \t[0.1536918  0.         0.17992963 0.         0.26553792]\t[ 0.28571429  1.          0.         -0.         -0.        ]\t[0.68065998 1.         0.81003289 0.         0.53310033]\t[ 1.  1.  1. -0.  1.]                                   \n"
     ]
    },
    {
     "name": "stderr",
     "output_type": "stream",
     "text": [
      "C:\\Users\\eddlf\\AppData\\Local\\Packages\\PythonSoftwareFoundation.Python.3.9_qbz5n2kfra8p0\\LocalCache\\local-packages\\Python39\\site-packages\\deap\\tools\\emo.py:610: RuntimeWarning: invalid value encountered in divide\n",
      "  fn = (fitnesses - best_point) / (intercepts - best_point)\n"
     ]
    },
    {
     "name": "stdout",
     "output_type": "stream",
     "text": [
      "16 \t1824 \t[0.15321807 0.         0.17796076 0.         0.26832254]\t[ 0.23809524  1.          0.         -0.         -0.        ]\t[0.69123329 1.         0.81537829 0.         0.51254112]\t[ 1.  1.  1. -0.  1.]                                   \n"
     ]
    },
    {
     "name": "stderr",
     "output_type": "stream",
     "text": [
      "C:\\Users\\eddlf\\AppData\\Local\\Packages\\PythonSoftwareFoundation.Python.3.9_qbz5n2kfra8p0\\LocalCache\\local-packages\\Python39\\site-packages\\deap\\tools\\emo.py:610: RuntimeWarning: invalid value encountered in divide\n",
      "  fn = (fitnesses - best_point) / (intercepts - best_point)\n"
     ]
    },
    {
     "name": "stdout",
     "output_type": "stream",
     "text": [
      "17 \t1824 \t[0.15457597 0.         0.17517713 0.         0.27101292]\t[ 0.33333333  1.          0.25       -0.         -0.        ]\t[0.69982247 1.         0.81633772 0.         0.49588816]\t[ 1.  1.  1. -0.  1.]                                   \n"
     ]
    },
    {
     "name": "stderr",
     "output_type": "stream",
     "text": [
      "C:\\Users\\eddlf\\AppData\\Local\\Packages\\PythonSoftwareFoundation.Python.3.9_qbz5n2kfra8p0\\LocalCache\\local-packages\\Python39\\site-packages\\deap\\tools\\emo.py:610: RuntimeWarning: invalid value encountered in divide\n",
      "  fn = (fitnesses - best_point) / (intercepts - best_point)\n"
     ]
    },
    {
     "name": "stdout",
     "output_type": "stream",
     "text": [
      "18 \t1824 \t[0.15790587 0.         0.17563803 0.         0.27280629]\t[ 0.33333333  1.          0.25       -0.         -0.        ]\t[0.70454783 1.         0.81894189 0.         0.4765625 ]\t[ 1.  1.  1. -0.  1.]                                   \n"
     ]
    },
    {
     "name": "stderr",
     "output_type": "stream",
     "text": [
      "C:\\Users\\eddlf\\AppData\\Local\\Packages\\PythonSoftwareFoundation.Python.3.9_qbz5n2kfra8p0\\LocalCache\\local-packages\\Python39\\site-packages\\deap\\tools\\emo.py:610: RuntimeWarning: invalid value encountered in divide\n",
      "  fn = (fitnesses - best_point) / (intercepts - best_point)\n"
     ]
    },
    {
     "name": "stdout",
     "output_type": "stream",
     "text": [
      "19 \t1824 \t[0.15648042 0.         0.17435757 0.         0.27844641]\t[ 0.33333333  1.          0.25       -0.         -0.        ]\t[0.71718358 1.         0.81565241 0.         0.46751645]\t[ 1.  1.  1. -0.  1.]                                   \n"
     ]
    },
    {
     "name": "stderr",
     "output_type": "stream",
     "text": [
      "C:\\Users\\eddlf\\AppData\\Local\\Packages\\PythonSoftwareFoundation.Python.3.9_qbz5n2kfra8p0\\LocalCache\\local-packages\\Python39\\site-packages\\deap\\tools\\emo.py:610: RuntimeWarning: invalid value encountered in divide\n",
      "  fn = (fitnesses - best_point) / (intercepts - best_point)\n"
     ]
    },
    {
     "name": "stdout",
     "output_type": "stream",
     "text": [
      "20 \t1824 \t[0.15468674 0.         0.17442742 0.         0.28295848]\t[ 0.33333333  1.          0.25       -0.         -0.        ]\t[0.72713033 1.         0.81414474 0.         0.45723684]\t[ 1.  1.  1. -0.  1.]                                   \n"
     ]
    },
    {
     "name": "stderr",
     "output_type": "stream",
     "text": [
      "C:\\Users\\eddlf\\AppData\\Local\\Packages\\PythonSoftwareFoundation.Python.3.9_qbz5n2kfra8p0\\LocalCache\\local-packages\\Python39\\site-packages\\deap\\tools\\emo.py:610: RuntimeWarning: invalid value encountered in divide\n",
      "  fn = (fitnesses - best_point) / (intercepts - best_point)\n"
     ]
    },
    {
     "name": "stdout",
     "output_type": "stream",
     "text": [
      "21 \t1824 \t[0.15088839 0.         0.17472695 0.         0.27992065]\t[ 0.33333333  1.          0.25       -0.         -0.        ]\t[0.73874791 1.         0.8167489  0.         0.4557977 ]\t[ 1.  1.  1. -0.  1.]                                   \n"
     ]
    },
    {
     "name": "stderr",
     "output_type": "stream",
     "text": [
      "C:\\Users\\eddlf\\AppData\\Local\\Packages\\PythonSoftwareFoundation.Python.3.9_qbz5n2kfra8p0\\LocalCache\\local-packages\\Python39\\site-packages\\deap\\tools\\emo.py:610: RuntimeWarning: invalid value encountered in divide\n",
      "  fn = (fitnesses - best_point) / (intercepts - best_point)\n"
     ]
    },
    {
     "name": "stdout",
     "output_type": "stream",
     "text": [
      "22 \t1824 \t[0.14743509 0.         0.17669485 0.         0.28083449]\t[ 0.33333333  1.          0.25       -0.         -0.        ]\t[0.75015664 1.         0.82044956 0.         0.45278235]\t[ 1.  1.  1. -0.  1.]                                   \n"
     ]
    },
    {
     "name": "stderr",
     "output_type": "stream",
     "text": [
      "C:\\Users\\eddlf\\AppData\\Local\\Packages\\PythonSoftwareFoundation.Python.3.9_qbz5n2kfra8p0\\LocalCache\\local-packages\\Python39\\site-packages\\deap\\tools\\emo.py:610: RuntimeWarning: invalid value encountered in divide\n",
      "  fn = (fitnesses - best_point) / (intercepts - best_point)\n"
     ]
    },
    {
     "name": "stdout",
     "output_type": "stream",
     "text": [
      "23 \t1824 \t[0.14232841 0.         0.17824218 0.         0.28006195]\t[ 0.38095238  1.          0.25       -0.         -0.        ]\t[0.76250522 1.         0.81921601 0.         0.44757401]\t[ 1.  1.  1. -0.  1.]                                   \n"
     ]
    },
    {
     "name": "stderr",
     "output_type": "stream",
     "text": [
      "C:\\Users\\eddlf\\AppData\\Local\\Packages\\PythonSoftwareFoundation.Python.3.9_qbz5n2kfra8p0\\LocalCache\\local-packages\\Python39\\site-packages\\deap\\tools\\emo.py:610: RuntimeWarning: invalid value encountered in divide\n",
      "  fn = (fitnesses - best_point) / (intercepts - best_point)\n"
     ]
    },
    {
     "name": "stdout",
     "output_type": "stream",
     "text": [
      "24 \t1824 \t[0.14441529 0.         0.18437398 0.         0.28026118]\t[ 0.42857143  1.          0.5        -0.         -0.        ]\t[0.7594246  1.         0.81949013 0.         0.42351974]\t[ 1.  1.  1. -0.  1.]                                   \n"
     ]
    }
   ],
   "source": [
    "pop,log = main()"
   ]
  },
  {
   "cell_type": "code",
   "execution_count": 41,
   "id": "0086d824",
   "metadata": {},
   "outputs": [],
   "source": [
    "def plot_fitness(generation_solution_fitness):\n",
    "    fig = plt.figure()\n",
    "    plt.plot(generation_solution_fitness, linewidth=3)\n",
    "    plt.title('Desempeño por generación')\n",
    "    plt.xlabel('Generación')\n",
    "    plt.ylabel('Desempeño')\n",
    "    plt.show()"
   ]
  },
  {
   "cell_type": "code",
   "execution_count": 42,
   "id": "0ad69a29",
   "metadata": {},
   "outputs": [
    {
     "ename": "ValueError",
     "evalue": "setting an array element with a sequence. The requested array has an inhomogeneous shape after 1 dimensions. The detected shape was (1824,) + inhomogeneous part.",
     "output_type": "error",
     "traceback": [
      "\u001b[1;31m---------------------------------------------------------------------------\u001b[0m",
      "\u001b[1;31mValueError\u001b[0m                                Traceback (most recent call last)",
      "Cell \u001b[1;32mIn[42], line 1\u001b[0m\n\u001b[1;32m----> 1\u001b[0m rec \u001b[39m=\u001b[39m obtenerRecomendacionesUnicas(pop,\u001b[39m0\u001b[39;49m)\n",
      "Cell \u001b[1;32mIn[6], line 5\u001b[0m, in \u001b[0;36mobtenerRecomendacionesUnicas\u001b[1;34m(recomendaciones, umbral)\u001b[0m\n\u001b[0;32m      3\u001b[0m \u001b[39mfor\u001b[39;00m rec \u001b[39min\u001b[39;00m recomendaciones:\n\u001b[0;32m      4\u001b[0m     recomendacionesFinal\u001b[39m.\u001b[39mappend(\u001b[39mlist\u001b[39m(\u001b[39mset\u001b[39m(rec)))\n\u001b[1;32m----> 5\u001b[0m recomendacionesFinal \u001b[39m=\u001b[39m \u001b[39mlist\u001b[39m(np\u001b[39m.\u001b[39;49munique(recomendacionesFinal))\n\u001b[0;32m      6\u001b[0m recomendacionesFinal\u001b[39m.\u001b[39msort(key\u001b[39m=\u001b[39m\u001b[39mlambda\u001b[39;00m x: \u001b[39m-\u001b[39mobtenerDesempenoPonderado(x))\n\u001b[0;32m      8\u001b[0m \u001b[39mreturn\u001b[39;00m recomendacionesFinal\n",
      "File \u001b[1;32m<__array_function__ internals>:200\u001b[0m, in \u001b[0;36munique\u001b[1;34m(*args, **kwargs)\u001b[0m\n",
      "File \u001b[1;32m~\\AppData\\Local\\Packages\\PythonSoftwareFoundation.Python.3.9_qbz5n2kfra8p0\\LocalCache\\local-packages\\Python39\\site-packages\\numpy\\lib\\arraysetops.py:272\u001b[0m, in \u001b[0;36munique\u001b[1;34m(ar, return_index, return_inverse, return_counts, axis, equal_nan)\u001b[0m\n\u001b[0;32m    138\u001b[0m \u001b[39m@array_function_dispatch\u001b[39m(_unique_dispatcher)\n\u001b[0;32m    139\u001b[0m \u001b[39mdef\u001b[39;00m \u001b[39munique\u001b[39m(ar, return_index\u001b[39m=\u001b[39m\u001b[39mFalse\u001b[39;00m, return_inverse\u001b[39m=\u001b[39m\u001b[39mFalse\u001b[39;00m,\n\u001b[0;32m    140\u001b[0m            return_counts\u001b[39m=\u001b[39m\u001b[39mFalse\u001b[39;00m, axis\u001b[39m=\u001b[39m\u001b[39mNone\u001b[39;00m, \u001b[39m*\u001b[39m, equal_nan\u001b[39m=\u001b[39m\u001b[39mTrue\u001b[39;00m):\n\u001b[0;32m    141\u001b[0m \u001b[39m    \u001b[39m\u001b[39m\"\"\"\u001b[39;00m\n\u001b[0;32m    142\u001b[0m \u001b[39m    Find the unique elements of an array.\u001b[39;00m\n\u001b[0;32m    143\u001b[0m \n\u001b[1;32m   (...)\u001b[0m\n\u001b[0;32m    270\u001b[0m \n\u001b[0;32m    271\u001b[0m \u001b[39m    \"\"\"\u001b[39;00m\n\u001b[1;32m--> 272\u001b[0m     ar \u001b[39m=\u001b[39m np\u001b[39m.\u001b[39;49masanyarray(ar)\n\u001b[0;32m    273\u001b[0m     \u001b[39mif\u001b[39;00m axis \u001b[39mis\u001b[39;00m \u001b[39mNone\u001b[39;00m:\n\u001b[0;32m    274\u001b[0m         ret \u001b[39m=\u001b[39m _unique1d(ar, return_index, return_inverse, return_counts, \n\u001b[0;32m    275\u001b[0m                         equal_nan\u001b[39m=\u001b[39mequal_nan)\n",
      "\u001b[1;31mValueError\u001b[0m: setting an array element with a sequence. The requested array has an inhomogeneous shape after 1 dimensions. The detected shape was (1824,) + inhomogeneous part."
     ]
    }
   ],
   "source": [
    "rec = obtenerRecomendacionesUnicas(pop,0)"
   ]
  },
  {
   "cell_type": "code",
   "execution_count": null,
   "id": "994eb831",
   "metadata": {},
   "outputs": [
    {
     "data": {
      "text/plain": [
       "1583"
      ]
     },
     "execution_count": 43,
     "metadata": {},
     "output_type": "execute_result"
    }
   ],
   "source": [
    "len(rec)"
   ]
  },
  {
   "cell_type": "code",
   "execution_count": null,
   "id": "e3c61d5a",
   "metadata": {},
   "outputs": [
    {
     "name": "stdout",
     "output_type": "stream",
     "text": [
      "7.619047619047619\n",
      "7.619047619047619\n",
      "7.431547619047619\n",
      "7.431547619047619\n",
      "7.431547619047619\n",
      "7.431547619047619\n",
      "7.431547619047619\n",
      "7.431547619047619\n",
      "7.431547619047619\n",
      "7.431547619047619\n"
     ]
    }
   ],
   "source": [
    "for i in range(10):\n",
    "    print(obtenerDesempenoPonderado(rec[i]))"
   ]
  },
  {
   "cell_type": "code",
   "execution_count": null,
   "id": "3b60f43b",
   "metadata": {},
   "outputs": [
    {
     "data": {
      "text/plain": [
       "[3, 38, 14, 15, 16, 19, 30]"
      ]
     },
     "execution_count": 45,
     "metadata": {},
     "output_type": "execute_result"
    }
   ],
   "source": [
    "rec[0]"
   ]
  },
  {
   "cell_type": "code",
   "execution_count": null,
   "id": "a3fb366e",
   "metadata": {},
   "outputs": [
    {
     "name": "stdout",
     "output_type": "stream",
     "text": [
      "La carga evaluada tiene:\n",
      "\t80.95% de utilidad por las materias de primeros ciclos llevadas.\n",
      "\t100% del total de las materias reprobadas del estudiante.\n",
      "\t100.0% de utilidad por cantidad ideal de materias del estudiante.\n",
      "\t0% de costo por sobreposición con las horas donde el estudiante no está disponible.\n",
      "\t0% de costo por el total de amplitud de horario.\n"
     ]
    }
   ],
   "source": [
    "evaluarSolucion(rec[0])"
   ]
  },
  {
   "cell_type": "code",
   "execution_count": null,
   "id": "d3d7c1bb",
   "metadata": {},
   "outputs": [],
   "source": []
  }
 ],
 "metadata": {
  "kernelspec": {
   "display_name": "Python 3 (ipykernel)",
   "language": "python",
   "name": "python3"
  },
  "language_info": {
   "codemirror_mode": {
    "name": "ipython",
    "version": 3
   },
   "file_extension": ".py",
   "mimetype": "text/x-python",
   "name": "python",
   "nbconvert_exporter": "python",
   "pygments_lexer": "ipython3",
   "version": "3.9.13"
  }
 },
 "nbformat": 4,
 "nbformat_minor": 5
}
