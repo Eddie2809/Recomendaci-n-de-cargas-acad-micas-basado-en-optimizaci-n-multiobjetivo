{
 "cells": [
  {
   "cell_type": "code",
   "execution_count": null,
   "id": "1ffb1c7f",
   "metadata": {},
   "outputs": [],
   "source": [
    "import pandas as pd\n",
    "import numpy as np\n",
    "import pygad as pg\n",
    "import deap as dp\n",
    "import random\n",
    "from deap import base, creator, tools, gp, algorithms\n",
    "import time\n",
    "import matplotlib.pyplot as plt"
   ]
  },
  {
   "cell_type": "code",
   "execution_count": null,
   "id": "c8dea4d6",
   "metadata": {},
   "outputs": [],
   "source": [
    "oferta = pd.read_csv('oferta.csv')\n",
    "asignaturas = pd.read_csv('asignaturas.csv')\n",
    "formato_cargas = pd.read_csv('formato_cargas.csv')\n",
    "plan_2016 = pd.read_csv('plan_2016.csv')\n",
    "seriaciones = pd.read_csv('../seriacion.csv')"
   ]
  },
  {
   "cell_type": "markdown",
   "id": "e270f83a",
   "metadata": {},
   "source": [
    "# Definición de funciones útiles"
   ]
  },
  {
   "cell_type": "code",
   "execution_count": null,
   "id": "9c984358",
   "metadata": {},
   "outputs": [],
   "source": [
    "matriculas = formato_cargas.query('n_matricula > 160000000')['n_matricula'].unique()"
   ]
  },
  {
   "cell_type": "markdown",
   "id": "650e1224",
   "metadata": {},
   "source": [
    "## Función para obtener un Kardex aleatorio"
   ]
  },
  {
   "cell_type": "code",
   "execution_count": null,
   "id": "a693ee2c",
   "metadata": {},
   "outputs": [],
   "source": [
    "def obtenerKardex(mat = -1):\n",
    "    if(mat == -1):\n",
    "        mat = np.random.choice(matriculas)\n",
    "    return formato_cargas.query('n_matricula == ' + str(mat)).sort_values('periodo')"
   ]
  },
  {
   "cell_type": "code",
   "execution_count": null,
   "id": "ec725b61",
   "metadata": {},
   "outputs": [],
   "source": [
    "def obtenerCreditos(kardex):\n",
    "    claves = kardex.query('promediofinal >= 7')['clave'].unique()\n",
    "    totalCreditos = 0\n",
    "    for clave in claves:\n",
    "        if(clave[0:2] == 'LI' or clave[0:2] == 'TA' or clave[0:2] == 'AD'):\n",
    "            continue\n",
    "        totalCreditos += plan.query('clave == \"' + clave + '\"')['creditos'].values[0]\n",
    "    return totalCreditos"
   ]
  },
  {
   "cell_type": "code",
   "execution_count": null,
   "id": "98d8fd41",
   "metadata": {},
   "outputs": [],
   "source": [
    "testset = set()\n",
    "testset.add(1)\n",
    "testset.add(2)\n",
    "testset.add(3)\n",
    "testset.add(4)\n",
    "\n",
    "print(testset)\n",
    "\n",
    "testset = list(testset)\n",
    "print(testset)"
   ]
  },
  {
   "cell_type": "code",
   "execution_count": null,
   "id": "906c2dab",
   "metadata": {},
   "outputs": [],
   "source": [
    "def verKardex():\n",
    "    print('Matricula: ' + str(kardex.iloc[0]['n_matricula']))\n",
    "    print('Carrera: ' + str(kardex.iloc[0]['carrera']))\n",
    "    print('Creditos: ' + str(obtenerCreditos(kardex))) \n",
    "    print('Materias Reprobadas:')\n",
    "    for clave in obtenerMateriasReprobadas(kardex):\n",
    "        print('\\t' + clave,plan.query('clave == \"' + clave + '\"')['nombre'].values[0])\n",
    "    print('\\n')\n",
    "    periodos = kardex['periodo'].unique()\n",
    "    for per in periodos:\n",
    "        print('Periodo: ' + str(per))\n",
    "        print('Clave\\t\\tPromedio\\tNombre de asignatura')\n",
    "        materias = kardex.query('periodo == ' + str(per))\n",
    "        for i in range(len(materias)):\n",
    "            if(materias.iloc[i]['promediofinal'] < 7):\n",
    "                print('* ' + materias.iloc[i]['clave'] + '\\t' + str(materias.iloc[i]['promediofinal']) + '\\t\\t' + materias.iloc[i]['asignatura'])\n",
    "            else:\n",
    "                print(materias.iloc[i]['clave'] + '\\t\\t' + str(materias.iloc[i]['promediofinal']) + '\\t\\t' + materias.iloc[i]['asignatura'])\n",
    "        print('\\n')\n",
    "    "
   ]
  },
  {
   "cell_type": "markdown",
   "id": "6bdec6b6",
   "metadata": {},
   "source": [
    "## Obtención de oferta útil"
   ]
  },
  {
   "cell_type": "code",
   "execution_count": null,
   "id": "1c9e8089",
   "metadata": {},
   "outputs": [],
   "source": [
    "def materiaHaSidoAprobada(kardex,clave):\n",
    "    if len(kardex.query('clave == \"' + clave + '\" and promediofinal >= 7')) == 0:\n",
    "        return False\n",
    "    else:\n",
    "        return True"
   ]
  },
  {
   "cell_type": "code",
   "execution_count": null,
   "id": "53bcefea",
   "metadata": {},
   "outputs": [],
   "source": [
    "def respetaSeriacion(clave,kardex):\n",
    "    if len(seriaciones.query('ser2 == \"' + clave + '\"')) == 0:\n",
    "        return True\n",
    "    else:\n",
    "        #Se guarda en necesarias la lista de asignaturas necesarias para llevar la asignura \"clave\"\n",
    "        necesarias = seriaciones.query('ser2 == \"' + clave + '\"')['ser1'].unique()\n",
    "        \n",
    "        #Se recorre la lista para comprobar si el estudiante ya pasó las asignaturas necesarias, en caso de que le falte \n",
    "        #al menos una, entonces no se respeta la seriación.\n",
    "        for necesaria in necesarias:\n",
    "            if not(materiaHaSidoAprobada(kardex,necesaria)):\n",
    "                return False\n",
    "        return True"
   ]
  },
  {
   "cell_type": "code",
   "execution_count": null,
   "id": "636cba1b",
   "metadata": {},
   "outputs": [],
   "source": [
    "#Filtra las materias que no cumplen las restricciones 1 y 2\n",
    "\n",
    "def obtenerOfertaUtil(kardex,oferta):\n",
    "    dias = ['Lunes','Martes','Miercoles','Jueves','Viernes']\n",
    "    \n",
    "    #Se eliminan las materias en la oferta que ya han sido aprobadas\n",
    "    aprobadas = kardex.query('promediofinal >= 7')['clave'].unique()\n",
    "    for clave in aprobadas:\n",
    "        oferta = oferta.query('clave != \"' + clave + '\"')\n",
    "        \n",
    "    #Se eliminan las materias que el alumno no puede llevar por la seriación\n",
    "    ofertaUtilIndex = set(oferta.index.values)\n",
    "    for idx in oferta.index:\n",
    "        if not(respetaSeriacion(oferta.loc[idx]['clave'],kardex)):\n",
    "            ofertaUtilIndex.remove(idx)\n",
    "            \n",
    "    #Se eliminan prácticas profesionales y proyecto terminal\n",
    "    for i in range(len(oferta['clave'].values)):\n",
    "        clave = oferta['clave'].values[i]\n",
    "        if clave[0:3] == 'PID' or clave == 'IT0427':\n",
    "            try:\n",
    "                ofertaUtilIndex.remove(oferta.index.values[i])\n",
    "            except:\n",
    "                continue\n",
    "    ofertaUtil = oferta.loc[list(ofertaUtilIndex)]\n",
    "    \n",
    "    ofertaUtil = pd.merge(ofertaUtil,plan,how='left',on='clave')[['clave','ciclos','Nombre','Maestro','Lunes','Martes','Miercoles','Jueves','Viernes']]\n",
    "    \n",
    "    #Se eliminan materias de elección libre de primer y segundo ciclo\n",
    "    if(materiaHaSidoAprobada(kardex,'IL0102')):\n",
    "        ofertaUtil = ofertaUtil.query('clave != \"ID0160\"')\n",
    "    if(materiaHaSidoAprobada(kardex,'ID0160')):\n",
    "        ofertaUtil = ofertaUtil.query('clave != \"IL0102\"')\n",
    "    \n",
    "    if(materiaHaSidoAprobada(kardex,'IT0103')):\n",
    "        ofertaUtil = ofertaUtil.query('clave != \"ID0161\"')\n",
    "    if(materiaHaSidoAprobada(kardex,'ID0161')):\n",
    "        ofertaUtil = ofertaUtil.query('clave != \"IT0103\"')\n",
    "        \n",
    "    if(materiaHaSidoAprobada(kardex,'ID0264')):\n",
    "        ofertaUtil = ofertaUtil.query('clave != \"ID0262\"')\n",
    "    if(materiaHaSidoAprobada(kardex,'ID0262')):\n",
    "        ofertaUtil = ofertaUtil.query('clave != \"ID0264\"')\n",
    "        \n",
    "    if(materiaHaSidoAprobada(kardex,'ID0263')):\n",
    "        ofertaUtil = ofertaUtil.query('clave != \"ID0265\"')\n",
    "    if(materiaHaSidoAprobada(kardex,'ID0265')):\n",
    "        ofertaUtil = ofertaUtil.query('clave != \"ID0263\"')\n",
    "        \n",
    "    #Si la disponibilidad de horario es una restricción, entonces elimina las materias que violen la restricción\n",
    "    if(disponibilidadComoRestriccion):\n",
    "        indices = set(ofertaUtil.index)\n",
    "        indicesUtiles = indices.copy()\n",
    "        for dia in dias:\n",
    "            for i in indices:\n",
    "                if ofertaUtil.loc[i][dia] == '-':\n",
    "                    continue\n",
    "                \n",
    "                horaInicio = int(ofertaUtil.loc[i][dia][0:2])\n",
    "                horaFin = int(ofertaUtil.loc[i][dia][6:8])\n",
    "                \n",
    "                for hora in range(horaInicio,horaFin):\n",
    "                    if not(disponibilidad.query('hora == ' + str(hora))[dia].values[0]):\n",
    "                        if i in indicesUtiles:\n",
    "                            indicesUtiles.remove(i)\n",
    "        indicesUtiles = list(indicesUtiles)\n",
    "        ofertaUtil = ofertaUtil.loc[indicesUtiles]\n",
    "    \n",
    "    return ofertaUtil"
   ]
  },
  {
   "cell_type": "markdown",
   "id": "7c1c3848",
   "metadata": {},
   "source": [
    "## Generación de carga aleatoria válida"
   ]
  },
  {
   "cell_type": "markdown",
   "id": "a66d78f1",
   "metadata": {},
   "source": [
    "En esta sección creamos las funciones \"generarCargaValida\" la cual retorna una string de bits representando una carga académica con base a la oferta útil. También se crea la función \"obtenerDatosCarga\" que nos ayuda a obtener los datos de una carga académica con base a la oferta útil y a una string de bits que denominamos \"bits de carga\""
   ]
  },
  {
   "cell_type": "code",
   "execution_count": null,
   "id": "5e238cf9",
   "metadata": {},
   "outputs": [],
   "source": [
    "def generarSolucionAleatoria(ofertaUtil):\n",
    "    solucion = [-1] * 9\n",
    "    for i in range(9):\n",
    "        gen = np.random.randint(-1,len(ofertaUtil))\n",
    "        if gen == -1:\n",
    "            solucion[i] = -1\n",
    "        else:\n",
    "            solucion[i] = ofertaUtil.index[gen]\n",
    "    return solucion"
   ]
  },
  {
   "cell_type": "code",
   "execution_count": null,
   "id": "136e15f5",
   "metadata": {},
   "outputs": [],
   "source": [
    "def obtenerDatosCarga(solucion):\n",
    "    solucionU = np.array(solucion)\n",
    "    solucionU = np.unique(solucionU)\n",
    "    solucionU = solucionU[solucionU >= 0]\n",
    "    \n",
    "    return ofertaUtil.loc[solucionU]"
   ]
  },
  {
   "cell_type": "code",
   "execution_count": null,
   "id": "d49e48ef",
   "metadata": {},
   "outputs": [],
   "source": [
    "def comprobarTraslapacion(solucion,ofertaUtil):\n",
    "    datosCarga = obtenerDatosCarga(solucion)\n",
    "    dias = ['Lunes','Martes','Miercoles','Jueves','Viernes']\n",
    "    \n",
    "    for dia in dias:\n",
    "        horarioDia = datosCarga.sort_values(dia)[dia].values\n",
    "        for i in range(len(horarioDia)):\n",
    "            if horarioDia[i] == '-':\n",
    "                continue\n",
    "            horaInicioI = int(horarioDia[i][0:2])\n",
    "            horaFinI = int(horarioDia[i][6:8])\n",
    "            \n",
    "            for j in range(i+1,len(horarioDia)):\n",
    "                horaInicioJ = int(horarioDia[j][0:2])\n",
    "                horaFinJ = int(horarioDia[j][6:8])\n",
    "                \n",
    "                if not(horaFinJ  <= horaInicioI or horaInicioJ >= horaFinI):\n",
    "                    return True\n",
    "    return False"
   ]
  },
  {
   "cell_type": "code",
   "execution_count": null,
   "id": "584ec5ea",
   "metadata": {},
   "outputs": [],
   "source": [
    "def esValido(solucion,ofertaUtil):\n",
    "    #Si se repite una materia es inválido\n",
    "    datosCarga = obtenerDatosCarga(solucion)\n",
    "    if len(datosCarga['clave'].unique()) < len(datosCarga):\n",
    "        return False\n",
    "    #Si se traslapan dos materias es inválido\n",
    "    if comprobarTraslapacion(solucion,ofertaUtil):\n",
    "        return False\n",
    "    #Si son menos de 3 materias es inválido\n",
    "    solucionSet = set(solucion)\n",
    "    if -1 in solucionSet:\n",
    "        solucionSet.remove(-1)\n",
    "    if(len(solucionSet)<3):\n",
    "        return False\n",
    "    \n",
    "    #Si se llevan dos materias de elección libre del ciclo 1 y 2\n",
    "    clavesSet = set(datosCarga['clave'])\n",
    "    \n",
    "    if 'IL0102' in clavesSet and 'ID0160' in clavesSet:\n",
    "        return False\n",
    "    if 'IT0103' in clavesSet and 'ID0161' in clavesSet:\n",
    "        return False\n",
    "    if 'ID0264' in clavesSet and 'ID0262' in clavesSet:\n",
    "        return False\n",
    "    if 'ID0263' in clavesSet and 'ID0265' in clavesSet:\n",
    "        return False\n",
    "    \n",
    "    return True"
   ]
  },
  {
   "cell_type": "code",
   "execution_count": null,
   "id": "b37d67d9",
   "metadata": {},
   "outputs": [],
   "source": [
    "def generarSolucionValida(ofertaUtil):\n",
    "    bitsDeCarga = generarSolucionAleatoria(ofertaUtil)\n",
    "    \n",
    "    while not(esValido(bitsDeCarga,ofertaUtil)):\n",
    "        bitsDeCarga = generarSolucionAleatoria(ofertaUtil)\n",
    "    \n",
    "    return bitsDeCarga"
   ]
  },
  {
   "cell_type": "code",
   "execution_count": null,
   "id": "2dda725e",
   "metadata": {},
   "outputs": [],
   "source": [
    "def obtenerHorario(carga):\n",
    "    primeraHoraMinima = 24\n",
    "    ultimaHoraMaxima = 0\n",
    "    datosCarga = obtenerDatosCarga(carga)\n",
    "    horario = pd.DataFrame({\n",
    "        'Hora': ['7:00-8:00','8:00-9:00','9:00-10:00','10:00-11:00','11:00-12:00','12:00-13:00','13:00-14:00','14:00-15:00','15:00-16:00','16:00-17:00','17:00-18:00','18:00-19:00','19:00-20:00','20:00-21:00','21:00-22:00'],\n",
    "        'Lunes': ['-','-','-','-','-','-','-','-','-','-','-','-','-','-','-'],\n",
    "        'Martes': ['-','-','-','-','-','-','-','-','-','-','-','-','-','-','-'],\n",
    "        'Miercoles': ['-','-','-','-','-','-','-','-','-','-','-','-','-','-','-'],\n",
    "        'Jueves': ['-','-','-','-','-','-','-','-','-','-','-','-','-','-','-'],\n",
    "        'Viernes': ['-','-','-','-','-','-','-','-','-','-','-','-','-','-','-'],\n",
    "    })\n",
    "    dias = ['Lunes','Martes','Miercoles','Jueves','Viernes']\n",
    "    for dia in dias:\n",
    "        for i in range(len(datosCarga)):\n",
    "            if datosCarga[dia].iloc[i] == '-':\n",
    "                continue\n",
    "\n",
    "            horaInicio = int(datosCarga.iloc[i][dia][0:2])\n",
    "            horaFin = int(datosCarga.iloc[i][dia][6:8])\n",
    "            \n",
    "            primeraHoraMinima = min(primeraHoraMinima,horaInicio)\n",
    "            ultimaHoraMaxima = max(ultimaHoraMaxima,horaFin)\n",
    "            \n",
    "            nombre = datosCarga.iloc[i]['Nombre']\n",
    "\n",
    "            for hora in range(horaInicio,horaFin):\n",
    "                horario.loc[hora-7,dia]=nombre\n",
    "    return horario[(primeraHoraMinima-7):(ultimaHoraMaxima-6)]"
   ]
  },
  {
   "cell_type": "markdown",
   "id": "ce892328",
   "metadata": {},
   "source": [
    "# Definición de funciones de utilidad y de costo"
   ]
  },
  {
   "cell_type": "markdown",
   "id": "3a651fdf",
   "metadata": {},
   "source": [
    "## Utilidad de carga académica con base en cantidad ideal de materias"
   ]
  },
  {
   "cell_type": "code",
   "execution_count": null,
   "id": "658cf16b",
   "metadata": {},
   "outputs": [],
   "source": [
    "def UpCM(solucion):\n",
    "    if(cantidadMateriasIdeal == 0):\n",
    "        return 1\n",
    "    \n",
    "    diferenciaMaxima = max(cantidadMateriasIdeal-3,9-cantidadMateriasIdeal)\n",
    "    solucionSet = set(solucion)\n",
    "    \n",
    "    if -1 in solucionSet:\n",
    "        solucionSet.remove(-1)\n",
    "        \n",
    "    tamanoCarga = len(solucionSet)\n",
    "    separacion = abs(tamanoCarga-cantidadMateriasIdeal)\n",
    "    \n",
    "    return 1 - (separacion / diferenciaMaxima)"
   ]
  },
  {
   "cell_type": "markdown",
   "id": "3b187491",
   "metadata": {},
   "source": [
    "## Utilidad de carga académica con base en las materias reprobadas"
   ]
  },
  {
   "cell_type": "code",
   "execution_count": null,
   "id": "65b92edf",
   "metadata": {},
   "outputs": [],
   "source": [
    "def obtenerMateriasReprobadas(kardex):\n",
    "    materiasReprobadas = kardex.query('promediofinal < 7')['clave'].unique()\n",
    "    materiasReprobadasFinal = []\n",
    "    for clave in materiasReprobadas:\n",
    "        aprobado = len(kardex.query('clave == \"' + clave + '\" and promediofinal >= 7'))\n",
    "        if aprobado == 0 and clave[0:2] != 'LI':\n",
    "            materiasReprobadasFinal.append(clave)\n",
    "    return materiasReprobadasFinal"
   ]
  },
  {
   "cell_type": "code",
   "execution_count": null,
   "id": "3a2e830e",
   "metadata": {},
   "outputs": [],
   "source": [
    "def UpMR(kardex,solucion,ofertaUtil):\n",
    "    materiasReprobadas = obtenerMateriasReprobadas(kardex)\n",
    "    if len(materiasReprobadas) == 0:\n",
    "        return 1\n",
    "    datosCarga = obtenerDatosCarga(solucion)\n",
    "    utilidadTotal = 0\n",
    "    \n",
    "    for clave in materiasReprobadas:\n",
    "        cargado = len(datosCarga.query('clave == \"' + clave + '\"'))\n",
    "        if cargado == 1:\n",
    "            utilidadTotal += 1\n",
    "            \n",
    "    \n",
    "    #Normalización\n",
    "    utilidad = (utilidadTotal)/(len(materiasReprobadas))\n",
    "    return utilidad"
   ]
  },
  {
   "cell_type": "markdown",
   "id": "3385911a",
   "metadata": {},
   "source": [
    "## Utilidad de carga académica con base en el cierre de ciclos"
   ]
  },
  {
   "cell_type": "code",
   "execution_count": null,
   "id": "b311b785",
   "metadata": {},
   "outputs": [],
   "source": [
    "def UpCC(solucion,ofertaUtil):\n",
    "    base = 3\n",
    "    utilidad = [base**3,base**2,base,1]\n",
    "    utilidadTotal = 0\n",
    "    \n",
    "    menorCiclo = min(ofertaUtil['ciclos']) - 1\n",
    "    \n",
    "    datosCarga = obtenerDatosCarga(solucion)\n",
    "    \n",
    "    claves = datosCarga['clave'].unique()\n",
    "    for i in range(len(claves)):\n",
    "        if claves[i][0:2] == 'AD'or claves[i][0:2] == 'TA' or claves[i][0:2] == 'LI' or claves[i][0:2] == 'PI':\n",
    "            continue\n",
    "            \n",
    "        ciclo = int(plan.query('clave == \"' + claves[i] + '\"')['ciclos']) - 1\n",
    "        utilidadTotal += utilidad[ciclo - menorCiclo]\n",
    "    \n",
    "    utilidadMaxima = 0\n",
    "    cantidadMateriasCiclo1 = len(ofertaUtil.query('ciclos == ' + str(menorCiclo+1))['clave'].unique())\n",
    "    cantidadMateriasCiclo2 = len(ofertaUtil.query('ciclos == ' + str(menorCiclo+2))['clave'].unique())\n",
    "    cantidadMateriasCiclo3 = len(ofertaUtil.query('ciclos == ' + str(menorCiclo+3))['clave'].unique())\n",
    "    cantidadMateriasCiclo4 = len(ofertaUtil.query('ciclos == ' + str(menorCiclo+4))['clave'].unique())\n",
    "    cantidadMateriasMaxima = 9\n",
    "    \n",
    "    m1 = m2 = m3 = m4 = 0\n",
    "    \n",
    "    if (cantidadMateriasMaxima - cantidadMateriasCiclo1) >= 0:\n",
    "        m1 = cantidadMateriasCiclo1\n",
    "        cantidadMateriasMaxima -= cantidadMateriasCiclo1\n",
    "    else:\n",
    "        m1 = 9\n",
    "        cantidadMateriasMaxima = 0\n",
    "    if (cantidadMateriasMaxima - cantidadMateriasCiclo2) >= 0:\n",
    "        m2 = cantidadMateriasCiclo2\n",
    "        cantidadMateriasMaxima -= cantidadMateriasCiclo2\n",
    "    elif cantidadMateriasMaxima > 0:\n",
    "        m2 = cantidadMateriasMaxima\n",
    "        cantidadMateriasMaxima = 0\n",
    "    if (cantidadMateriasMaxima - cantidadMateriasCiclo3) >= 0:\n",
    "        m3 = cantidadMateriasCiclo3\n",
    "        cantidadMateriasMaxima -= cantidadMateriasCiclo3\n",
    "    elif cantidadMateriasMaxima > 0:\n",
    "        m3 = cantidadMateriasMaxima\n",
    "        cantidadMateriasMaxima = 0\n",
    "    if (cantidadMateriasMaxima - cantidadMateriasCiclo4) >= 0:\n",
    "        m4 = cantidadMateriasCiclo4\n",
    "        cantidadMateriasMaxima -= cantidadMateriasCiclo4\n",
    "    elif cantidadMateriasMaxima > 0:\n",
    "        m4 = cantidadMateriasMaxima\n",
    "        cantidadMateriasMaxima = 0\n",
    "        \n",
    "    \n",
    "    utilidadMaxima = m1*utilidad[0] + m2*utilidad[1] + m3*utilidad[2] + m4*utilidad[3]\n",
    " \n",
    "    #Normalización\n",
    "    utilidadNorm = (utilidadTotal)/(utilidadMaxima)\n",
    "    return utilidadNorm"
   ]
  },
  {
   "cell_type": "markdown",
   "id": "1316cc72",
   "metadata": {},
   "source": [
    "## Costo por amplitud de horario"
   ]
  },
  {
   "cell_type": "code",
   "execution_count": null,
   "id": "2c8a9845",
   "metadata": {},
   "outputs": [],
   "source": [
    "def CpAH(solucion):\n",
    "    amplitudAceptable = 7\n",
    "    \n",
    "    datosCarga = obtenerDatosCarga(solucion)\n",
    "    dias = ['Lunes','Martes','Miercoles','Jueves','Viernes']\n",
    "    horaMin = 21\n",
    "    horaMax = 7\n",
    "    \n",
    "    for dia in dias:\n",
    "        for hora in datosCarga[dia]:\n",
    "            if hora == '-':\n",
    "                continue\n",
    "            horaMin = min(int(hora[0:2]),horaMin)\n",
    "            horaMax = max(int(hora[6:8]),horaMax)\n",
    "            \n",
    "    amplitud = (horaMax - horaMin)\n",
    "    if amplitud <= amplitudAceptable:\n",
    "        return 0\n",
    "    amplitud -= amplitudAceptable\n",
    "    \n",
    "    return amplitud / (15 - amplitudAceptable)"
   ]
  },
  {
   "cell_type": "markdown",
   "id": "3055acdc",
   "metadata": {},
   "source": [
    "## Costo de carga académica con base en las horas libres"
   ]
  },
  {
   "cell_type": "markdown",
   "id": "8e3c3124",
   "metadata": {},
   "source": [
    "#### NOTA: Tomar en cuenta las horas libres por día"
   ]
  },
  {
   "cell_type": "code",
   "execution_count": null,
   "id": "de37cf1b",
   "metadata": {},
   "outputs": [],
   "source": [
    "def CpHL(solucion,ofertaUtil):\n",
    "    dias = ['Lunes','Martes','Miercoles','Jueves','Viernes']\n",
    "    costoTotal = 0\n",
    "    hlMax = 0\n",
    "\n",
    "    datosCarga = obtenerDatosCarga(solucion)\n",
    "\n",
    "    for dia in dias:\n",
    "        datosCarga = datosCarga.sort_values(dia)\n",
    "        if datosCarga[dia].iloc[len(datosCarga)-2] == '-':\n",
    "            continue\n",
    "\n",
    "        ultimaHoraFin = 0\n",
    "        for i in range(len(datosCarga)):\n",
    "            if datosCarga.iloc[i][dia] == '-':\n",
    "                continue\n",
    "            if ultimaHoraFin == 0:\n",
    "                ultimaHoraFin = int(datosCarga.iloc[i][dia][6:8])\n",
    "                primeraHoraDia = int(datosCarga.iloc[i][dia][0:2])\n",
    "                continue\n",
    "            horaInicio = int(datosCarga.iloc[i][dia][0:2])\n",
    "            costoTotal += (horaInicio - ultimaHoraFin)\n",
    "            ultimaHoraFin = int(datosCarga.iloc[i][dia][6:8])\n",
    "        hlMax += (ultimaHoraFin - primeraHoraDia - 2)\n",
    "\n",
    "    if hlMax == 0:\n",
    "        return 0\n",
    "    #Normalización\n",
    "    costo = (costoTotal)/(hlMax)\n",
    "    return costo"
   ]
  },
  {
   "cell_type": "markdown",
   "id": "25015bdb",
   "metadata": {},
   "source": [
    "## Costo de carga académica con base en la disponibilidad de horario del estudiante"
   ]
  },
  {
   "cell_type": "markdown",
   "id": "73d999ec",
   "metadata": {},
   "source": [
    "Creamos 4 casos diferentes donde los estudiantes trabajan. Guardamos el horario de ocupación de los estudiantes en un dataframe por cada estudiante."
   ]
  },
  {
   "cell_type": "code",
   "execution_count": null,
   "id": "709995e9",
   "metadata": {},
   "outputs": [],
   "source": [
    "# El estudiante trabaja por las mañanas tiempo completo\n",
    "disp_est_1 = pd.DataFrame({\n",
    "    \"hora\": [7,8,9,10,11,12,13,14,15,16,17,18,19,20,21],\n",
    "    \"Lunes\": [False,False,False,False,False,False,False,False,False,True,True,True,True,True,True],\n",
    "    \"Martes\": [False,False,False,False,False,False,False,False,False,True,True,True,True,True,True],\n",
    "    \"Miercoles\": [False,False,False,False,False,False,False,False,False,True,True,True,True,True,True],\n",
    "    \"Jueves\": [False,False,False,False,False,False,False,False,False,True,True,True,True,True,True],\n",
    "    \"Viernes\": [False,False,False,False,False,False,False,False,False,True,True,True,True,True,True],\n",
    "})\n",
    "\n",
    "\n",
    "# El estudiante trabaja por las tardes tiempo completo\n",
    "disp_est_2 = pd.DataFrame({\n",
    "    \"hora\": [7,8,9,10,11,12,13,14,15,16,17,18,19,20,21],\n",
    "    \"Lunes\": [True,True,True,True,True,True,False,False,False,False,False,False,False,False,False],\n",
    "    \"Martes\": [True,True,True,True,True,True,False,False,False,False,False,False,False,False,False],\n",
    "    \"Miercoles\": [True,True,True,True,True,True,False,False,False,False,False,False,False,False,False],\n",
    "    \"Jueves\": [True,True,True,True,True,True,False,False,False,False,False,False,False,False,False],\n",
    "    \"Viernes\": [True,True,True,True,True,True,False,False,False,False,False,False,False,False,False],\n",
    "})\n",
    "\n",
    "# El estudiante trabaja por las mañanas medio tiempo\n",
    "disp_est_3 = pd.DataFrame({\n",
    "    \"hora\": [7,8,9,10,11,12,13,14,15,16,17,18,19,20,21],\n",
    "    \"Lunes\": [True,False,False,False,False,False,True,True,True,True,True,True,True,False,False],\n",
    "    \"Martes\": [True,False,False,False,False,False,True,True,True,True,True,True,True,False,False],\n",
    "    \"Miercoles\": [True,False,False,False,False,False,True,True,True,True,True,True,True,False,False],\n",
    "    \"Jueves\": [True,False,False,False,False,False,True,True,True,True,True,True,True,False,False],\n",
    "    \"Viernes\": [True,False,False,False,False,False,True,True,True,True,True,True,True,False,False],\n",
    "})\n",
    "# El estudiante trabaja por las tardes medio tiempo\n",
    "disp_est_4 = pd.DataFrame({\n",
    "    \"hora\": [7,8,9,10,11,12,13,14,15,16,17,18,19,20,21],\n",
    "    \"Lunes\": [True,True,True,True,True,False,False,False,False,False,True,True,True,True,True],\n",
    "    \"Martes\": [True,True,True,True,True,False,False,False,False,False,True,True,True,True,True],\n",
    "    \"Miercoles\": [True,True,True,True,True,False,False,False,False,False,True,True,True,True,True],\n",
    "    \"Jueves\": [True,True,True,True,True,False,False,False,False,False,True,True,True,True,True],\n",
    "    \"Viernes\": [True,True,True,True,True,False,False,False,False,False,True,True,True,True,True],\n",
    "})\n",
    "disp_est_5 = pd.DataFrame({\n",
    "    \"hora\": [7,8,9,10,11,12,13,14,15,16,17,18,19,20,21],\n",
    "    \"Lunes\": [True,True,True,True,True,True,True,True,True,True,True,True,True,True,True],\n",
    "    \"Martes\": [True,True,True,True,True,True,True,True,True,True,True,True,True,True,True],\n",
    "    \"Miercoles\": [True,True,True,True,True,True,True,True,True,True,True,True,True,True,True],\n",
    "    \"Jueves\": [True,True,True,True,True,True,True,True,True,True,True,True,True,True,True],\n",
    "    \"Viernes\": [True,True,True,True,True,True,True,True,True,True,True,True,True,True,True],\n",
    "})"
   ]
  },
  {
   "cell_type": "code",
   "execution_count": null,
   "id": "7137d3f9",
   "metadata": {
    "scrolled": false
   },
   "outputs": [],
   "source": [
    "disponibilidadArr = [disp_est_1,disp_est_2,disp_est_3,disp_est_4,disp_est_5]"
   ]
  },
  {
   "cell_type": "code",
   "execution_count": null,
   "id": "7e1f73fd",
   "metadata": {},
   "outputs": [],
   "source": [
    "def CpDH(solucion,ofertaUtil,disponibilidad):\n",
    "    disponibilidadTotal = sum(disponibilidad['Lunes']) + sum(disponibilidad['Martes']) + sum(disponibilidad['Miercoles']) + sum(disponibilidad['Jueves']) + sum(disponibilidad['Viernes'])\n",
    "    if disponibilidadTotal == 75:\n",
    "        return 0\n",
    "    \n",
    "    dias = ['Lunes','Martes','Miercoles','Jueves','Viernes']\n",
    "    datosCarga = obtenerDatosCarga(solucion)\n",
    "    costoTotal = 0\n",
    "\n",
    "    for dia in dias:\n",
    "        for i in range(len(datosCarga)):\n",
    "            if datosCarga[dia].iloc[i] == '-':\n",
    "                continue\n",
    "\n",
    "            horaInicio = int(datosCarga.iloc[i][dia][0:2])\n",
    "            horaFin = int(datosCarga.iloc[i][dia][6:8])\n",
    "\n",
    "            for hora in range(horaInicio,horaFin):\n",
    "                if not(disponibilidad.query('hora == ' + str(hora))[dia].values[0]):\n",
    "                    costoTotal += 1\n",
    "                    \n",
    "    #Normalización\n",
    "    costo = (costoTotal)/(75 - disponibilidadTotal)\n",
    "    return costo"
   ]
  },
  {
   "cell_type": "markdown",
   "id": "16e07217",
   "metadata": {},
   "source": [
    "# Definición de la función de desempeño"
   ]
  },
  {
   "cell_type": "code",
   "execution_count": null,
   "id": "b8466a64",
   "metadata": {},
   "outputs": [],
   "source": [
    "def obtenerDesempenoPonderado(solucion):\n",
    "    if not(esValido(solucion,ofertaUtil)):\n",
    "        return 0\n",
    "    \n",
    "    upcc = UpCC(solucion,ofertaUtil)\n",
    "    upmr = UpMR(kardex,solucion,ofertaUtil)\n",
    "    upcm = UpCM(solucion)\n",
    "    cpdh = CpDH(solucion,ofertaUtil,disponibilidad)\n",
    "    cpah = CpAH(solucion)\n",
    "    \n",
    "    utilidades = {\n",
    "        \"upcc\": (upcc * pesos[\"upcc\"]),\n",
    "        \"upmr\": (upmr * pesos[\"upmr\"]),\n",
    "        \"upcm\": (upcm * pesos[\"upcm\"]),\n",
    "        \"cpdh\": pesos[\"cpdh\"] - (cpdh * pesos[\"cpdh\"]),\n",
    "        \"cpah\": pesos[\"cpah\"] - (cpah * pesos[\"cpah\"]),\n",
    "    }\n",
    "    \n",
    "    return sum(utilidades.values())"
   ]
  },
  {
   "cell_type": "code",
   "execution_count": null,
   "id": "64788fdb",
   "metadata": {},
   "outputs": [],
   "source": [
    "def obtenerRecomendacionesUnicas(recomendaciones,umbral):\n",
    "    recomendacionesFinal = []\n",
    "    recomendacionesFinal2 = []\n",
    "    for rec in recomendaciones:\n",
    "        recomendacionesFinal.append(set(rec))\n",
    "    recomendacionesFinal = list(np.unique(recomendacionesFinal))\n",
    "\n",
    "    for rec in recomendacionesFinal:\n",
    "        recomendacionesFinal2.append(list(rec))\n",
    "    \n",
    "    recomendacionesFinal2.sort(key=lambda x: -obtenerDesempenoPonderado(x))\n",
    "    return recomendacionesFinal2"
   ]
  },
  {
   "cell_type": "code",
   "execution_count": null,
   "id": "e5fcd4ce",
   "metadata": {},
   "outputs": [],
   "source": [
    "def obtenerDesempeno(solucion):\n",
    "    if not(esValido(solucion,ofertaUtil)):\n",
    "        return 0,0,0,1,1\n",
    "    \n",
    "    upcc = UpCC(solucion,ofertaUtil)\n",
    "    upmr = UpMR(kardex,solucion,ofertaUtil)\n",
    "    upcm = UpCM(solucion)\n",
    "    cpdh = CpDH(solucion,ofertaUtil,disponibilidad)\n",
    "    cpah = CpAH(solucion)\n",
    "    \n",
    "    return upcc,upmr,upcm,cpdh,cpah,"
   ]
  },
  {
   "cell_type": "code",
   "execution_count": null,
   "id": "36164559",
   "metadata": {},
   "outputs": [],
   "source": [
    "def evaluarSolucion(solucion):\n",
    "    desempeno = obtenerDesempeno(solucion)\n",
    "    if(desempeno == 0):\n",
    "        print('Solución no válida')\n",
    "        return\n",
    "    \n",
    "    upcc = UpCC(solucion,ofertaUtil)\n",
    "    upmr = UpMR(kardex,solucion,ofertaUtil)\n",
    "    upcm = UpCM(solucion)\n",
    "    cpdh = CpDH(solucion,ofertaUtil,disponibilidad)\n",
    "    cpah = CpAH(solucion)\n",
    "    \n",
    "    print(\"La carga evaluada tiene:\")\n",
    "    print(\"\\t\" + str(round(100*upcc,2)) + \"% de utilidad por las materias de primeros ciclos llevadas.\")\n",
    "    print(\"\\t\" + str(round(100*upmr,2)) + \"% del total de las materias reprobadas del estudiante.\") \n",
    "    print(\"\\t\" + str(round(100*upcm,2)) + \"% de utilidad por cantidad ideal de materias del estudiante.\") \n",
    "    print(\"\\t\" + str(round(100*cpdh,2)) + \"% de costo por sobreposición con las horas donde el estudiante no está disponible.\")\n",
    "    print(\"\\t\" + str(round(100*cpah,2)) + \"% de costo por el total de amplitud de horario.\")"
   ]
  },
  {
   "cell_type": "code",
   "execution_count": null,
   "id": "600603e9",
   "metadata": {},
   "outputs": [],
   "source": [
    "def on_generation(ga_instance):\n",
    "    print(\"Generación: \" + str(ga_instance.generations_completed))"
   ]
  },
  {
   "cell_type": "code",
   "execution_count": null,
   "id": "e71b169a",
   "metadata": {},
   "outputs": [],
   "source": [
    "def obtenerClase():\n",
    "    gen = np.random.randint(-1,len(ofertaUtil))\n",
    "    clase = -1 if gen == -1 else ofertaUtil.index[gen]\n",
    "    return clase"
   ]
  },
  {
   "cell_type": "code",
   "execution_count": null,
   "id": "3b767590",
   "metadata": {},
   "outputs": [],
   "source": [
    "def mutacionUniforme(solucion,prob):\n",
    "    solucion = solucion.copy()\n",
    "    for i in range(len(solucion)):\n",
    "        if random.random() < prob:\n",
    "            solucion[i] = toolbox.attr_int()\n",
    "    return dp.creator.Individual(solucion),"
   ]
  },
  {
   "cell_type": "code",
   "execution_count": null,
   "id": "285cb0cb",
   "metadata": {},
   "outputs": [],
   "source": [
    "def factorial(p):\n",
    "    res = 1\n",
    "    \n",
    "    while p > 0:\n",
    "        res *= p\n",
    "        p -= 1\n",
    "    \n",
    "    return res"
   ]
  },
  {
   "cell_type": "markdown",
   "id": "96c03d9d",
   "metadata": {},
   "source": [
    "# DEAP"
   ]
  },
  {
   "cell_type": "code",
   "execution_count": null,
   "id": "f9b96618",
   "metadata": {},
   "outputs": [],
   "source": [
    "pesos = {\n",
    "    \"upcc\": 2,    #Utilidad por cerrar ciclos\n",
    "    \"upmr\": 1,    #Utilidad por materias reprobadas\n",
    "    \"upcm\": 1,    #Utilidad por cantidad ideal de materias\n",
    "    \"cpdh\": 2.5,  #Costo por disponibilidad de horario\n",
    "    \"cpah\": 1.5,  #Costo por amplitud de horario\n",
    "    \"cphl\": 1     #Costo por horas libres (no se está utilizando actualmente)\n",
    "}"
   ]
  },
  {
   "cell_type": "code",
   "execution_count": null,
   "id": "9e5e1ea9",
   "metadata": {},
   "outputs": [],
   "source": [
    "creator.create(\"FitnessMin\", base.Fitness, weights=(1,1,1,-1,-1))\n",
    "creator.create(\"Individual\", list, fitness=creator.FitnessMin)"
   ]
  },
  {
   "cell_type": "code",
   "execution_count": null,
   "id": "34edb17f",
   "metadata": {},
   "outputs": [],
   "source": [
    "toolbox = base.Toolbox()\n",
    "toolbox.register(\"attr_int\", obtenerClase)\n",
    "toolbox.register(\"individual\", tools.initRepeat, creator.Individual,\n",
    "                 toolbox.attr_int, n=9)\n",
    "toolbox.register(\"population\", tools.initRepeat, list, toolbox.individual)\n",
    "\n",
    "toolbox.register(\"evaluate\", obtenerDesempeno)\n",
    "toolbox.register(\"mate\", tools.cxUniform,indpb=0.5)\n",
    "toolbox.register(\"mutate\", mutacionUniforme,prob=0.15)"
   ]
  },
  {
   "cell_type": "markdown",
   "id": "63fba0df",
   "metadata": {},
   "source": [
    "## Ejecución del algoritmo"
   ]
  },
  {
   "cell_type": "code",
   "execution_count": null,
   "id": "157b7a95",
   "metadata": {},
   "outputs": [],
   "source": [
    "pesos = {\n",
    "    \"upcc\": 2,    #Utilidad por cerrar ciclos\n",
    "    \"upmr\": 1,    #Utilidad por materias reprobadas\n",
    "    \"upcm\": 1,    #Utilidad por cantidad ideal de materias\n",
    "    \"cpdh\": 2.5,  #Costo por disponibilidad de horario\n",
    "    \"cpah\": 1.5,  #Costo por amplitud de horario\n",
    "    \"cphl\": 1     #Costo por horas libres (no se está utilizando actualmente)\n",
    "}\n",
    "\n",
    "disponibilidadComoRestriccion = False\n",
    "disponibilidad = disponibilidadArr[4] #Disponibilidad completa de horario\n",
    "plan = plan_2016\n",
    "\n",
    "#kardex = obtenerKardex(170311242)\n",
    "kardex = obtenerKardex(190311499).query('periodo < 202201')\n",
    "ofertaUtil = obtenerOfertaUtil(kardex,oferta)\n",
    "cantidadMateriasIdeal = 7"
   ]
  },
  {
   "cell_type": "code",
   "execution_count": null,
   "id": "f6490b26",
   "metadata": {},
   "outputs": [],
   "source": [
    "NOBJ = 5\n",
    "K = 10\n",
    "NDIM = NOBJ + K - 1\n",
    "P = 12\n",
    "H = factorial(NOBJ + P - 1) / (factorial(P) * factorial(NOBJ - 1))\n",
    "BOUND_LOW, BOUND_UP = 0.0, 1.0\n",
    "MU = int(H + (4 - H % 4))\n",
    "NGEN = 25\n",
    "CXPB = 1.0\n",
    "MUTPB = 1.0\n",
    "ref_points = tools.uniform_reference_points(NOBJ, P)"
   ]
  },
  {
   "cell_type": "code",
   "execution_count": null,
   "id": "5027d958",
   "metadata": {},
   "outputs": [],
   "source": [
    "toolbox.register(\"select\", tools.selNSGA3, ref_points=ref_points)"
   ]
  },
  {
   "cell_type": "code",
   "execution_count": null,
   "id": "7190b75b",
   "metadata": {},
   "outputs": [],
   "source": [
    "def main(seed=None):\n",
    "    random.seed(seed)\n",
    "\n",
    "    # Initialize statistics object\n",
    "    stats = tools.Statistics(lambda ind: ind.fitness.values)\n",
    "    stats.register(\"avg\", np.mean, axis=0)\n",
    "    stats.register(\"std\", np.std, axis=0)\n",
    "    stats.register(\"min\", np.min, axis=0)\n",
    "    stats.register(\"max\", np.max, axis=0)\n",
    "\n",
    "    logbook = tools.Logbook()\n",
    "    logbook.header = \"gen\", \"evals\", \"std\", \"min\", \"avg\", \"max\"\n",
    "\n",
    "    pop = toolbox.population(n=MU)\n",
    "\n",
    "    # Evaluate the individuals with an invalid fitness\n",
    "    invalid_ind = [ind for ind in pop if not ind.fitness.valid]\n",
    "    fitnesses = toolbox.map(toolbox.evaluate, invalid_ind)\n",
    "    for ind, fit in zip(invalid_ind, fitnesses):\n",
    "        ind.fitness.values = fit\n",
    "\n",
    "    # Compile statistics about the population\n",
    "    record = stats.compile(pop)\n",
    "    logbook.record(gen=0, evals=len(invalid_ind), **record)\n",
    "    print(logbook.stream)\n",
    "\n",
    "    # Begin the generational process\n",
    "    for gen in range(1, NGEN):\n",
    "        offspring = algorithms.varAnd(pop, toolbox, CXPB, MUTPB)\n",
    "\n",
    "        # Evaluate the individuals with an invalid fitness\n",
    "        invalid_ind = [ind for ind in offspring if not ind.fitness.valid]\n",
    "        fitnesses = toolbox.map(toolbox.evaluate, invalid_ind)\n",
    "        for ind, fit in zip(invalid_ind, fitnesses):\n",
    "            ind.fitness.values = fit\n",
    "\n",
    "        # Select the next generation population from parents and offspring\n",
    "        pop = toolbox.select(pop + offspring, MU)\n",
    "\n",
    "        # Compile statistics about the new population\n",
    "        record = stats.compile(pop)\n",
    "        logbook.record(gen=gen, evals=len(invalid_ind), **record)\n",
    "        print(logbook.stream)\n",
    "\n",
    "    return pop, logbook"
   ]
  },
  {
   "cell_type": "code",
   "execution_count": null,
   "id": "89fcb216",
   "metadata": {
    "scrolled": true
   },
   "outputs": [],
   "source": [
    "pop,log = main()"
   ]
  },
  {
   "cell_type": "code",
   "execution_count": null,
   "id": "0086d824",
   "metadata": {},
   "outputs": [],
   "source": [
    "def plot_fitness(generation_solution_fitness):\n",
    "    fig = plt.figure()\n",
    "    plt.plot(generation_solution_fitness, linewidth=3)\n",
    "    plt.title('Desempeño por generación')\n",
    "    plt.xlabel('Generación')\n",
    "    plt.ylabel('Desempeño')\n",
    "    plt.show()"
   ]
  },
  {
   "cell_type": "code",
   "execution_count": null,
   "id": "0ad69a29",
   "metadata": {},
   "outputs": [],
   "source": [
    "rec = obtenerRecomendacionesUnicas(pop,0)"
   ]
  },
  {
   "cell_type": "code",
   "execution_count": null,
   "id": "a2345b94",
   "metadata": {},
   "outputs": [],
   "source": [
    "len(pop)"
   ]
  },
  {
   "cell_type": "code",
   "execution_count": null,
   "id": "994eb831",
   "metadata": {},
   "outputs": [],
   "source": [
    "len(rec)"
   ]
  },
  {
   "cell_type": "code",
   "execution_count": null,
   "id": "e3c61d5a",
   "metadata": {},
   "outputs": [],
   "source": [
    "for i in range(10):\n",
    "    print(obtenerDesempenoPonderado(rec[i]))"
   ]
  },
  {
   "cell_type": "code",
   "execution_count": null,
   "id": "a3fb366e",
   "metadata": {},
   "outputs": [],
   "source": [
    "evaluarSolucion(rec[0])"
   ]
  },
  {
   "cell_type": "code",
   "execution_count": null,
   "id": "d3d7c1bb",
   "metadata": {},
   "outputs": [],
   "source": [
    "obtenerHorario(rec[0])"
   ]
  },
  {
   "cell_type": "code",
   "execution_count": null,
   "id": "71d51246",
   "metadata": {},
   "outputs": [],
   "source": [
    "evaluarSolucion(rec[1])"
   ]
  },
  {
   "cell_type": "code",
   "execution_count": null,
   "id": "3079ba5b",
   "metadata": {},
   "outputs": [],
   "source": [
    "obtenerHorario(rec[1])"
   ]
  },
  {
   "cell_type": "code",
   "execution_count": null,
   "id": "6525ea72",
   "metadata": {},
   "outputs": [],
   "source": [
    "evaluarSolucion(rec[2])"
   ]
  },
  {
   "cell_type": "code",
   "execution_count": null,
   "id": "01b435af",
   "metadata": {},
   "outputs": [],
   "source": [
    "obtenerHorario(rec[2])"
   ]
  },
  {
   "cell_type": "code",
   "execution_count": null,
   "id": "d86d1ec3",
   "metadata": {},
   "outputs": [],
   "source": [
    "evaluarSolucion(rec[4])"
   ]
  },
  {
   "cell_type": "code",
   "execution_count": null,
   "id": "4a7d598d",
   "metadata": {},
   "outputs": [],
   "source": [
    "obtenerHorario(rec[4])"
   ]
  }
 ],
 "metadata": {
  "kernelspec": {
   "display_name": "Python 3 (ipykernel)",
   "language": "python",
   "name": "python3"
  },
  "language_info": {
   "codemirror_mode": {
    "name": "ipython",
    "version": 3
   },
   "file_extension": ".py",
   "mimetype": "text/x-python",
   "name": "python",
   "nbconvert_exporter": "python",
   "pygments_lexer": "ipython3",
   "version": "3.9.13"
  }
 },
 "nbformat": 4,
 "nbformat_minor": 5
}
