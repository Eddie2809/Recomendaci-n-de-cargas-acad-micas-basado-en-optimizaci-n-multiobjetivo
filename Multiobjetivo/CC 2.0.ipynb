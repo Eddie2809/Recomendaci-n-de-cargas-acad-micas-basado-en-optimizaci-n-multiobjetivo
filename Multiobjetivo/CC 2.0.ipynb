{
 "cells": [
  {
   "cell_type": "code",
   "execution_count": 35,
   "id": "1ffb1c7f",
   "metadata": {},
   "outputs": [],
   "source": [
    "import pandas as pd\n",
    "import numpy as np\n",
    "import pygad as pg\n",
    "import deap as dp\n",
    "import random\n",
    "from deap import base, creator, tools, gp, algorithms\n",
    "import time\n",
    "import matplotlib.pyplot as plt"
   ]
  },
  {
   "cell_type": "code",
   "execution_count": 36,
   "id": "c8dea4d6",
   "metadata": {},
   "outputs": [],
   "source": [
    "oferta = pd.read_csv('oferta.csv')\n",
    "asignaturas = pd.read_csv('asignaturas.csv')\n",
    "formato_cargas = pd.read_csv('formato_cargas.csv')\n",
    "plan_2016 = pd.read_csv('plan_2016.csv')\n",
    "seriaciones = pd.read_csv('../seriacion.csv')"
   ]
  },
  {
   "cell_type": "markdown",
   "id": "e270f83a",
   "metadata": {},
   "source": [
    "# Definición de funciones útiles"
   ]
  },
  {
   "cell_type": "code",
   "execution_count": 37,
   "id": "9c984358",
   "metadata": {},
   "outputs": [],
   "source": [
    "matriculas = formato_cargas.query('n_matricula > 160000000')['n_matricula'].unique()"
   ]
  },
  {
   "cell_type": "markdown",
   "id": "650e1224",
   "metadata": {},
   "source": [
    "## Función para obtener un Kardex aleatorio"
   ]
  },
  {
   "cell_type": "code",
   "execution_count": 38,
   "id": "a693ee2c",
   "metadata": {},
   "outputs": [],
   "source": [
    "def obtenerKardex(mat = -1):\n",
    "    if(mat == -1):\n",
    "        mat = np.random.choice(matriculas)\n",
    "    return formato_cargas.query('n_matricula == ' + str(mat)).sort_values('periodo')"
   ]
  },
  {
   "cell_type": "code",
   "execution_count": 39,
   "id": "ec725b61",
   "metadata": {},
   "outputs": [],
   "source": [
    "def obtenerCreditos(kardex):\n",
    "    claves = kardex.query('promediofinal >= 7')['clave'].unique()\n",
    "    totalCreditos = 0\n",
    "    for clave in claves:\n",
    "        if(clave[0:2] == 'LI' or clave[0:2] == 'TA' or clave[0:2] == 'AD'):\n",
    "            continue\n",
    "        totalCreditos += plan.query('clave == \"' + clave + '\"')['creditos'].values[0]\n",
    "    return totalCreditos"
   ]
  },
  {
   "cell_type": "code",
   "execution_count": 40,
   "id": "64788fdb",
   "metadata": {},
   "outputs": [],
   "source": [
    "def obtenerRecomendacionesUnicas(recomendaciones,umbral):\n",
    "    recomendacionesFinal = []\n",
    "    for rec in recomendaciones:\n",
    "        recomendacionesFinal.append(list(set(rec)))\n",
    "    recomendacionesFinal = list(np.unique(recomendacionesFinal))\n",
    "    recomendacionesFinal.sort(key=lambda x: -obtenerDesempeno(x))\n",
    "\n",
    "    return recomendacionesFinal"
   ]
  },
  {
   "cell_type": "code",
   "execution_count": 41,
   "id": "906c2dab",
   "metadata": {},
   "outputs": [],
   "source": [
    "def verKardex():\n",
    "    print('Matricula: ' + str(kardex.iloc[0]['n_matricula']))\n",
    "    print('Carrera: ' + str(kardex.iloc[0]['carrera']))\n",
    "    print('Creditos: ' + str(obtenerCreditos(kardex))) \n",
    "    print('Materias Reprobadas:')\n",
    "    for clave in obtenerMateriasReprobadas(kardex):\n",
    "        print('\\t' + clave,plan.query('clave == \"' + clave + '\"')['nombre'].values[0])\n",
    "    print('\\n')\n",
    "    periodos = kardex['periodo'].unique()\n",
    "    for per in periodos:\n",
    "        print('Periodo: ' + str(per))\n",
    "        print('Clave\\t\\tPromedio\\tNombre de asignatura')\n",
    "        materias = kardex.query('periodo == ' + str(per))\n",
    "        for i in range(len(materias)):\n",
    "            if(materias.iloc[i]['promediofinal'] < 7):\n",
    "                print('* ' + materias.iloc[i]['clave'] + '\\t' + str(materias.iloc[i]['promediofinal']) + '\\t\\t' + materias.iloc[i]['asignatura'])\n",
    "            else:\n",
    "                print(materias.iloc[i]['clave'] + '\\t\\t' + str(materias.iloc[i]['promediofinal']) + '\\t\\t' + materias.iloc[i]['asignatura'])\n",
    "        print('\\n')\n",
    "    "
   ]
  },
  {
   "cell_type": "markdown",
   "id": "6bdec6b6",
   "metadata": {},
   "source": [
    "## Obtención de oferta útil"
   ]
  },
  {
   "cell_type": "code",
   "execution_count": 42,
   "id": "1c9e8089",
   "metadata": {},
   "outputs": [],
   "source": [
    "def materiaHaSidoAprobada(kardex,clave):\n",
    "    if len(kardex.query('clave == \"' + clave + '\" and promediofinal >= 7')) == 0:\n",
    "        return False\n",
    "    else:\n",
    "        return True"
   ]
  },
  {
   "cell_type": "code",
   "execution_count": 43,
   "id": "53bcefea",
   "metadata": {},
   "outputs": [],
   "source": [
    "def respetaSeriacion(clave,kardex):\n",
    "    if len(seriaciones.query('ser2 == \"' + clave + '\"')) == 0:\n",
    "        return True\n",
    "    else:\n",
    "        #Se guarda en necesarias la lista de asignaturas necesarias para llevar la asignura \"clave\"\n",
    "        necesarias = seriaciones.query('ser2 == \"' + clave + '\"')['ser1'].unique()\n",
    "        \n",
    "        #Se recorre la lista para comprobar si el estudiante ya pasó las asignaturas necesarias, en caso de que le falte \n",
    "        #al menos una, entonces no se respeta la seriación.\n",
    "        for necesaria in necesarias:\n",
    "            if not(materiaHaSidoAprobada(kardex,necesaria)):\n",
    "                return False\n",
    "        return True"
   ]
  },
  {
   "cell_type": "code",
   "execution_count": 44,
   "id": "636cba1b",
   "metadata": {},
   "outputs": [],
   "source": [
    "#Filtra las materias que no cumplen las restricciones 1 y 2\n",
    "\n",
    "def obtenerOfertaUtil(kardex,oferta):\n",
    "    dias = ['Lunes','Martes','Miercoles','Jueves','Viernes']\n",
    "    \n",
    "    #Se eliminan las materias en la oferta que ya han sido aprobadas\n",
    "    aprobadas = kardex.query('promediofinal >= 7')['clave'].unique()\n",
    "    for clave in aprobadas:\n",
    "        oferta = oferta.query('clave != \"' + clave + '\"')\n",
    "        \n",
    "    #Se eliminan las materias que el alumno no puede llevar por la seriación\n",
    "    ofertaUtilIndex = set(oferta.index.values)\n",
    "    for idx in oferta.index:\n",
    "        if not(respetaSeriacion(oferta.loc[idx]['clave'],kardex)):\n",
    "            ofertaUtilIndex.remove(idx)\n",
    "            \n",
    "    #Se eliminan prácticas profesionales y proyecto terminal\n",
    "    for i in range(len(oferta['clave'].values)):\n",
    "        clave = oferta['clave'].values[i]\n",
    "        if clave[0:3] == 'PID' or clave == 'IT0427':\n",
    "            try:\n",
    "                ofertaUtilIndex.remove(oferta.index.values[i])\n",
    "            except:\n",
    "                continue\n",
    "    ofertaUtil = oferta.loc[list(ofertaUtilIndex)]\n",
    "    \n",
    "    ofertaUtil = pd.merge(ofertaUtil,plan,how='left',on='clave')[['clave','ciclos','Nombre','Maestro','Lunes','Martes','Miercoles','Jueves','Viernes']]\n",
    "    \n",
    "    #Se eliminan materias de elección libre de primer y segundo ciclo\n",
    "    if(materiaHaSidoAprobada(kardex,'IL0102')):\n",
    "        ofertaUtil = ofertaUtil.query('clave != \"ID0160\"')\n",
    "    if(materiaHaSidoAprobada(kardex,'ID0160')):\n",
    "        ofertaUtil = ofertaUtil.query('clave != \"IL0102\"')\n",
    "    \n",
    "    if(materiaHaSidoAprobada(kardex,'IT0103')):\n",
    "        ofertaUtil = ofertaUtil.query('clave != \"ID0161\"')\n",
    "    if(materiaHaSidoAprobada(kardex,'ID0161')):\n",
    "        ofertaUtil = ofertaUtil.query('clave != \"IT0103\"')\n",
    "        \n",
    "    if(materiaHaSidoAprobada(kardex,'ID0264')):\n",
    "        ofertaUtil = ofertaUtil.query('clave != \"ID0262\"')\n",
    "    if(materiaHaSidoAprobada(kardex,'ID0262')):\n",
    "        ofertaUtil = ofertaUtil.query('clave != \"ID0264\"')\n",
    "        \n",
    "    if(materiaHaSidoAprobada(kardex,'ID0263')):\n",
    "        ofertaUtil = ofertaUtil.query('clave != \"ID0265\"')\n",
    "    if(materiaHaSidoAprobada(kardex,'ID0265')):\n",
    "        ofertaUtil = ofertaUtil.query('clave != \"ID0263\"')\n",
    "        \n",
    "    #Si la disponibilidad de horario es una restricción, entonces elimina las materias que violen la restricción\n",
    "    if(disponibilidadComoRestriccion):\n",
    "        indices = set(ofertaUtil.index)\n",
    "        indicesUtiles = indices.copy()\n",
    "        for dia in dias:\n",
    "            for i in indices:\n",
    "                if ofertaUtil.loc[i][dia] == '-':\n",
    "                    continue\n",
    "                \n",
    "                horaInicio = int(ofertaUtil.loc[i][dia][0:2])\n",
    "                horaFin = int(ofertaUtil.loc[i][dia][6:8])\n",
    "                \n",
    "                for hora in range(horaInicio,horaFin):\n",
    "                    if not(disponibilidad.query('hora == ' + str(hora))[dia].values[0]):\n",
    "                        if i in indicesUtiles:\n",
    "                            indicesUtiles.remove(i)\n",
    "        indicesUtiles = list(indicesUtiles)\n",
    "        ofertaUtil = ofertaUtil.loc[indicesUtiles]\n",
    "    \n",
    "    return ofertaUtil"
   ]
  },
  {
   "cell_type": "markdown",
   "id": "7c1c3848",
   "metadata": {},
   "source": [
    "## Generación de carga aleatoria válida"
   ]
  },
  {
   "cell_type": "markdown",
   "id": "a66d78f1",
   "metadata": {},
   "source": [
    "En esta sección creamos las funciones \"generarCargaValida\" la cual retorna una string de bits representando una carga académica con base a la oferta útil. También se crea la función \"obtenerDatosCarga\" que nos ayuda a obtener los datos de una carga académica con base a la oferta útil y a una string de bits que denominamos \"bits de carga\""
   ]
  },
  {
   "cell_type": "code",
   "execution_count": 45,
   "id": "5e238cf9",
   "metadata": {},
   "outputs": [],
   "source": [
    "def generarSolucionAleatoria(ofertaUtil):\n",
    "    solucion = [-1] * 9\n",
    "    for i in range(9):\n",
    "        gen = np.random.randint(-1,len(ofertaUtil))\n",
    "        if gen == -1:\n",
    "            solucion[i] = -1\n",
    "        else:\n",
    "            solucion[i] = ofertaUtil.index[gen]\n",
    "    return solucion"
   ]
  },
  {
   "cell_type": "code",
   "execution_count": 46,
   "id": "136e15f5",
   "metadata": {},
   "outputs": [],
   "source": [
    "def obtenerDatosCarga(solucion):\n",
    "    solucionU = np.array(solucion)\n",
    "    solucionU = np.unique(solucionU)\n",
    "    solucionU = solucionU[solucionU >= 0]\n",
    "    \n",
    "    return ofertaUtil.loc[solucionU]"
   ]
  },
  {
   "cell_type": "code",
   "execution_count": 47,
   "id": "d49e48ef",
   "metadata": {},
   "outputs": [],
   "source": [
    "def comprobarTraslapacion(solucion,ofertaUtil):\n",
    "    datosCarga = obtenerDatosCarga(solucion)\n",
    "    dias = ['Lunes','Martes','Miercoles','Jueves','Viernes']\n",
    "    \n",
    "    for dia in dias:\n",
    "        horarioDia = datosCarga.sort_values(dia)[dia].values\n",
    "        for i in range(len(horarioDia)):\n",
    "            if horarioDia[i] == '-':\n",
    "                continue\n",
    "            horaInicioI = int(horarioDia[i][0:2])\n",
    "            horaFinI = int(horarioDia[i][6:8])\n",
    "            \n",
    "            for j in range(i+1,len(horarioDia)):\n",
    "                horaInicioJ = int(horarioDia[j][0:2])\n",
    "                horaFinJ = int(horarioDia[j][6:8])\n",
    "                \n",
    "                if not(horaFinJ  <= horaInicioI or horaInicioJ >= horaFinI):\n",
    "                    return True\n",
    "    return False"
   ]
  },
  {
   "cell_type": "code",
   "execution_count": 48,
   "id": "584ec5ea",
   "metadata": {},
   "outputs": [],
   "source": [
    "def esValido(solucion,ofertaUtil):\n",
    "    #Si se repite una materia es inválido\n",
    "    datosCarga = obtenerDatosCarga(solucion)\n",
    "    if len(datosCarga['clave'].unique()) < len(datosCarga):\n",
    "        return False\n",
    "    #Si se traslapan dos materias es inválido\n",
    "    if comprobarTraslapacion(solucion,ofertaUtil):\n",
    "        return False\n",
    "    #Si son menos de 3 materias es inválido\n",
    "    solucionSet = set(solucion)\n",
    "    if -1 in solucionSet:\n",
    "        solucionSet.remove(-1)\n",
    "    if(len(solucionSet)<3):\n",
    "        return False\n",
    "    \n",
    "    #Si se llevan dos materias de elección libre del ciclo 1 y 2\n",
    "    clavesSet = set(datosCarga['clave'])\n",
    "    \n",
    "    if 'IL0102' in clavesSet and 'ID0160' in clavesSet:\n",
    "        return False\n",
    "    if 'IT0103' in clavesSet and 'ID0161' in clavesSet:\n",
    "        return False\n",
    "    if 'ID0264' in clavesSet and 'ID0262' in clavesSet:\n",
    "        return False\n",
    "    if 'ID0263' in clavesSet and 'ID0265' in clavesSet:\n",
    "        return False\n",
    "    \n",
    "    return True"
   ]
  },
  {
   "cell_type": "code",
   "execution_count": 49,
   "id": "b37d67d9",
   "metadata": {},
   "outputs": [],
   "source": [
    "def generarSolucionValida(ofertaUtil):\n",
    "    bitsDeCarga = generarSolucionAleatoria(ofertaUtil)\n",
    "    \n",
    "    while not(esValido(bitsDeCarga,ofertaUtil)):\n",
    "        bitsDeCarga = generarSolucionAleatoria(ofertaUtil)\n",
    "    \n",
    "    return bitsDeCarga"
   ]
  },
  {
   "cell_type": "code",
   "execution_count": 50,
   "id": "2dda725e",
   "metadata": {},
   "outputs": [],
   "source": [
    "def obtenerHorario(carga):\n",
    "    primeraHoraMinima = 24\n",
    "    ultimaHoraMaxima = 0\n",
    "    datosCarga = obtenerDatosCarga(carga)\n",
    "    horario = pd.DataFrame({\n",
    "        'Hora': ['7:00-8:00','8:00-9:00','9:00-10:00','10:00-11:00','11:00-12:00','12:00-13:00','13:00-14:00','14:00-15:00','15:00-16:00','16:00-17:00','17:00-18:00','18:00-19:00','19:00-20:00','20:00-21:00','21:00-22:00'],\n",
    "        'Lunes': ['-','-','-','-','-','-','-','-','-','-','-','-','-','-','-'],\n",
    "        'Martes': ['-','-','-','-','-','-','-','-','-','-','-','-','-','-','-'],\n",
    "        'Miercoles': ['-','-','-','-','-','-','-','-','-','-','-','-','-','-','-'],\n",
    "        'Jueves': ['-','-','-','-','-','-','-','-','-','-','-','-','-','-','-'],\n",
    "        'Viernes': ['-','-','-','-','-','-','-','-','-','-','-','-','-','-','-'],\n",
    "    })\n",
    "    dias = ['Lunes','Martes','Miercoles','Jueves','Viernes']\n",
    "    for dia in dias:\n",
    "        for i in range(len(datosCarga)):\n",
    "            if datosCarga[dia].iloc[i] == '-':\n",
    "                continue\n",
    "\n",
    "            horaInicio = int(datosCarga.iloc[i][dia][0:2])\n",
    "            horaFin = int(datosCarga.iloc[i][dia][6:8])\n",
    "            \n",
    "            primeraHoraMinima = min(primeraHoraMinima,horaInicio)\n",
    "            ultimaHoraMaxima = max(ultimaHoraMaxima,horaFin)\n",
    "            \n",
    "            nombre = datosCarga.iloc[i]['Nombre']\n",
    "\n",
    "            for hora in range(horaInicio,horaFin):\n",
    "                horario.loc[hora-7,dia]=nombre\n",
    "    return horario[(primeraHoraMinima-7):(ultimaHoraMaxima-6)]"
   ]
  },
  {
   "cell_type": "markdown",
   "id": "ce892328",
   "metadata": {},
   "source": [
    "# Definición de funciones de utilidad y de costo"
   ]
  },
  {
   "cell_type": "markdown",
   "id": "3a651fdf",
   "metadata": {},
   "source": [
    "## Utilidad de carga académica con base en cantidad ideal de materias"
   ]
  },
  {
   "cell_type": "code",
   "execution_count": 51,
   "id": "658cf16b",
   "metadata": {},
   "outputs": [],
   "source": [
    "def UpCM(solucion):\n",
    "    if(cantidadMateriasIdeal == 0):\n",
    "        return 1\n",
    "    \n",
    "    diferenciaMaxima = max(cantidadMateriasIdeal-3,9-cantidadMateriasIdeal)\n",
    "    solucionSet = set(solucion)\n",
    "    \n",
    "    if -1 in solucionSet:\n",
    "        solucionSet.remove(-1)\n",
    "        \n",
    "    tamanoCarga = len(solucionSet)\n",
    "    separacion = abs(tamanoCarga-cantidadMateriasIdeal)\n",
    "    \n",
    "    return 1 - (separacion / diferenciaMaxima)"
   ]
  },
  {
   "cell_type": "markdown",
   "id": "3b187491",
   "metadata": {},
   "source": [
    "## Utilidad de carga académica con base en las materias reprobadas"
   ]
  },
  {
   "cell_type": "code",
   "execution_count": 52,
   "id": "65b92edf",
   "metadata": {},
   "outputs": [],
   "source": [
    "def obtenerMateriasReprobadas(kardex):\n",
    "    materiasReprobadas = kardex.query('promediofinal < 7')['clave'].unique()\n",
    "    materiasReprobadasFinal = []\n",
    "    for clave in materiasReprobadas:\n",
    "        aprobado = len(kardex.query('clave == \"' + clave + '\" and promediofinal >= 7'))\n",
    "        if aprobado == 0 and clave[0:2] != 'LI':\n",
    "            materiasReprobadasFinal.append(clave)\n",
    "    return materiasReprobadasFinal"
   ]
  },
  {
   "cell_type": "code",
   "execution_count": 53,
   "id": "3a2e830e",
   "metadata": {},
   "outputs": [],
   "source": [
    "def UpMR(kardex,solucion,ofertaUtil):\n",
    "    materiasReprobadas = obtenerMateriasReprobadas(kardex)\n",
    "    if len(materiasReprobadas) == 0:\n",
    "        return 1\n",
    "    datosCarga = obtenerDatosCarga(solucion)\n",
    "    utilidadTotal = 0\n",
    "    \n",
    "    for clave in materiasReprobadas:\n",
    "        cargado = len(datosCarga.query('clave == \"' + clave + '\"'))\n",
    "        if cargado == 1:\n",
    "            utilidadTotal += 1\n",
    "            \n",
    "    \n",
    "    #Normalización\n",
    "    utilidad = (utilidadTotal)/(len(materiasReprobadas))\n",
    "    return utilidad"
   ]
  },
  {
   "cell_type": "markdown",
   "id": "3385911a",
   "metadata": {},
   "source": [
    "## Utilidad de carga académica con base en el cierre de ciclos"
   ]
  },
  {
   "cell_type": "code",
   "execution_count": 54,
   "id": "b311b785",
   "metadata": {},
   "outputs": [],
   "source": [
    "def UpCC(solucion,ofertaUtil):\n",
    "    base = 3\n",
    "    utilidad = [base**3,base**2,base,1]\n",
    "    utilidadTotal = 0\n",
    "    \n",
    "    menorCiclo = min(ofertaUtil['ciclos']) - 1\n",
    "    \n",
    "    datosCarga = obtenerDatosCarga(solucion)\n",
    "    \n",
    "    claves = datosCarga['clave'].unique()\n",
    "    for i in range(len(claves)):\n",
    "        if claves[i][0:2] == 'AD'or claves[i][0:2] == 'TA' or claves[i][0:2] == 'LI' or claves[i][0:2] == 'PI':\n",
    "            continue\n",
    "            \n",
    "        ciclo = int(plan.query('clave == \"' + claves[i] + '\"')['ciclos']) - 1\n",
    "        utilidadTotal += utilidad[ciclo - menorCiclo]\n",
    "    \n",
    "    utilidadMaxima = 0\n",
    "    cantidadMateriasCiclo1 = len(ofertaUtil.query('ciclos == ' + str(menorCiclo+1))['clave'].unique())\n",
    "    cantidadMateriasCiclo2 = len(ofertaUtil.query('ciclos == ' + str(menorCiclo+2))['clave'].unique())\n",
    "    cantidadMateriasCiclo3 = len(ofertaUtil.query('ciclos == ' + str(menorCiclo+3))['clave'].unique())\n",
    "    cantidadMateriasCiclo4 = len(ofertaUtil.query('ciclos == ' + str(menorCiclo+4))['clave'].unique())\n",
    "    cantidadMateriasMaxima = 9\n",
    "    \n",
    "    m1 = m2 = m3 = m4 = 0\n",
    "    \n",
    "    if (cantidadMateriasMaxima - cantidadMateriasCiclo1) >= 0:\n",
    "        m1 = cantidadMateriasCiclo1\n",
    "        cantidadMateriasMaxima -= cantidadMateriasCiclo1\n",
    "    else:\n",
    "        m1 = 9\n",
    "        cantidadMateriasMaxima = 0\n",
    "    if (cantidadMateriasMaxima - cantidadMateriasCiclo2) >= 0:\n",
    "        m2 = cantidadMateriasCiclo2\n",
    "        cantidadMateriasMaxima -= cantidadMateriasCiclo2\n",
    "    elif cantidadMateriasMaxima > 0:\n",
    "        m2 = cantidadMateriasMaxima\n",
    "        cantidadMateriasMaxima = 0\n",
    "    if (cantidadMateriasMaxima - cantidadMateriasCiclo3) >= 0:\n",
    "        m3 = cantidadMateriasCiclo3\n",
    "        cantidadMateriasMaxima -= cantidadMateriasCiclo3\n",
    "    elif cantidadMateriasMaxima > 0:\n",
    "        m3 = cantidadMateriasMaxima\n",
    "        cantidadMateriasMaxima = 0\n",
    "    if (cantidadMateriasMaxima - cantidadMateriasCiclo4) >= 0:\n",
    "        m4 = cantidadMateriasCiclo4\n",
    "        cantidadMateriasMaxima -= cantidadMateriasCiclo4\n",
    "    elif cantidadMateriasMaxima > 0:\n",
    "        m4 = cantidadMateriasMaxima\n",
    "        cantidadMateriasMaxima = 0\n",
    "        \n",
    "    \n",
    "    utilidadMaxima = m1*utilidad[0] + m2*utilidad[1] + m3*utilidad[2] + m4*utilidad[3]\n",
    " \n",
    "    #Normalización\n",
    "    utilidadNorm = (utilidadTotal)/(utilidadMaxima)\n",
    "    return utilidadNorm"
   ]
  },
  {
   "cell_type": "markdown",
   "id": "1316cc72",
   "metadata": {},
   "source": [
    "## Costo por amplitud de horario"
   ]
  },
  {
   "cell_type": "code",
   "execution_count": 55,
   "id": "2c8a9845",
   "metadata": {},
   "outputs": [],
   "source": [
    "def CpAH(solucion):\n",
    "    amplitudAceptable = 7\n",
    "    \n",
    "    datosCarga = obtenerDatosCarga(solucion)\n",
    "    dias = ['Lunes','Martes','Miercoles','Jueves','Viernes']\n",
    "    horaMin = 21\n",
    "    horaMax = 7\n",
    "    \n",
    "    for dia in dias:\n",
    "        for hora in datosCarga[dia]:\n",
    "            if hora == '-':\n",
    "                continue\n",
    "            horaMin = min(int(hora[0:2]),horaMin)\n",
    "            horaMax = max(int(hora[6:8]),horaMax)\n",
    "            \n",
    "    amplitud = (horaMax - horaMin)\n",
    "    if amplitud <= amplitudAceptable:\n",
    "        return 0\n",
    "    amplitud -= amplitudAceptable\n",
    "    \n",
    "    return amplitud / (15 - amplitudAceptable)"
   ]
  },
  {
   "cell_type": "markdown",
   "id": "3055acdc",
   "metadata": {},
   "source": [
    "## Costo de carga académica con base en las horas libres"
   ]
  },
  {
   "cell_type": "markdown",
   "id": "8e3c3124",
   "metadata": {},
   "source": [
    "#### NOTA: Tomar en cuenta las horas libres por día"
   ]
  },
  {
   "cell_type": "code",
   "execution_count": 56,
   "id": "de37cf1b",
   "metadata": {},
   "outputs": [],
   "source": [
    "    def CpHL(solucion,ofertaUtil):\n",
    "        dias = ['Lunes','Martes','Miercoles','Jueves','Viernes']\n",
    "        costoTotal = 0\n",
    "        hlMax = 0\n",
    "\n",
    "        datosCarga = obtenerDatosCarga(solucion)\n",
    "\n",
    "        for dia in dias:\n",
    "            datosCarga = datosCarga.sort_values(dia)\n",
    "            if datosCarga[dia].iloc[len(datosCarga)-2] == '-':\n",
    "                continue\n",
    "\n",
    "            ultimaHoraFin = 0\n",
    "            for i in range(len(datosCarga)):\n",
    "                if datosCarga.iloc[i][dia] == '-':\n",
    "                    continue\n",
    "                if ultimaHoraFin == 0:\n",
    "                    ultimaHoraFin = int(datosCarga.iloc[i][dia][6:8])\n",
    "                    primeraHoraDia = int(datosCarga.iloc[i][dia][0:2])\n",
    "                    continue\n",
    "                horaInicio = int(datosCarga.iloc[i][dia][0:2])\n",
    "                costoTotal += (horaInicio - ultimaHoraFin)\n",
    "                ultimaHoraFin = int(datosCarga.iloc[i][dia][6:8])\n",
    "            hlMax += (ultimaHoraFin - primeraHoraDia - 2)\n",
    "\n",
    "        if hlMax == 0:\n",
    "            return 0\n",
    "        #Normalización\n",
    "        costo = (costoTotal)/(hlMax)\n",
    "        return costo"
   ]
  },
  {
   "cell_type": "markdown",
   "id": "25015bdb",
   "metadata": {},
   "source": [
    "## Costo de carga académica con base en la disponibilidad de horario del estudiante"
   ]
  },
  {
   "cell_type": "markdown",
   "id": "73d999ec",
   "metadata": {},
   "source": [
    "Creamos 4 casos diferentes donde los estudiantes trabajan. Guardamos el horario de ocupación de los estudiantes en un dataframe por cada estudiante."
   ]
  },
  {
   "cell_type": "code",
   "execution_count": 57,
   "id": "709995e9",
   "metadata": {},
   "outputs": [],
   "source": [
    "# El estudiante trabaja por las mañanas tiempo completo\n",
    "disp_est_1 = pd.DataFrame({\n",
    "    \"hora\": [7,8,9,10,11,12,13,14,15,16,17,18,19,20,21],\n",
    "    \"Lunes\": [False,False,False,False,False,False,False,False,False,True,True,True,True,True,True],\n",
    "    \"Martes\": [False,False,False,False,False,False,False,False,False,True,True,True,True,True,True],\n",
    "    \"Miercoles\": [False,False,False,False,False,False,False,False,False,True,True,True,True,True,True],\n",
    "    \"Jueves\": [False,False,False,False,False,False,False,False,False,True,True,True,True,True,True],\n",
    "    \"Viernes\": [False,False,False,False,False,False,False,False,False,True,True,True,True,True,True],\n",
    "})\n",
    "\n",
    "\n",
    "# El estudiante trabaja por las tardes tiempo completo\n",
    "disp_est_2 = pd.DataFrame({\n",
    "    \"hora\": [7,8,9,10,11,12,13,14,15,16,17,18,19,20,21],\n",
    "    \"Lunes\": [True,True,True,True,True,True,False,False,False,False,False,False,False,False,False],\n",
    "    \"Martes\": [True,True,True,True,True,True,False,False,False,False,False,False,False,False,False],\n",
    "    \"Miercoles\": [True,True,True,True,True,True,False,False,False,False,False,False,False,False,False],\n",
    "    \"Jueves\": [True,True,True,True,True,True,False,False,False,False,False,False,False,False,False],\n",
    "    \"Viernes\": [True,True,True,True,True,True,False,False,False,False,False,False,False,False,False],\n",
    "})\n",
    "\n",
    "# El estudiante trabaja por las mañanas medio tiempo\n",
    "disp_est_3 = pd.DataFrame({\n",
    "    \"hora\": [7,8,9,10,11,12,13,14,15,16,17,18,19,20,21],\n",
    "    \"Lunes\": [True,False,False,False,False,False,True,True,True,True,True,True,True,False,False],\n",
    "    \"Martes\": [True,False,False,False,False,False,True,True,True,True,True,True,True,False,False],\n",
    "    \"Miercoles\": [True,False,False,False,False,False,True,True,True,True,True,True,True,False,False],\n",
    "    \"Jueves\": [True,False,False,False,False,False,True,True,True,True,True,True,True,False,False],\n",
    "    \"Viernes\": [True,False,False,False,False,False,True,True,True,True,True,True,True,False,False],\n",
    "})\n",
    "# El estudiante trabaja por las tardes medio tiempo\n",
    "disp_est_4 = pd.DataFrame({\n",
    "    \"hora\": [7,8,9,10,11,12,13,14,15,16,17,18,19,20,21],\n",
    "    \"Lunes\": [True,True,True,True,True,False,False,False,False,False,True,True,True,True,True],\n",
    "    \"Martes\": [True,True,True,True,True,False,False,False,False,False,True,True,True,True,True],\n",
    "    \"Miercoles\": [True,True,True,True,True,False,False,False,False,False,True,True,True,True,True],\n",
    "    \"Jueves\": [True,True,True,True,True,False,False,False,False,False,True,True,True,True,True],\n",
    "    \"Viernes\": [True,True,True,True,True,False,False,False,False,False,True,True,True,True,True],\n",
    "})\n",
    "disp_est_5 = pd.DataFrame({\n",
    "    \"hora\": [7,8,9,10,11,12,13,14,15,16,17,18,19,20,21],\n",
    "    \"Lunes\": [True,True,True,True,True,True,True,True,True,True,True,True,True,True,True],\n",
    "    \"Martes\": [True,True,True,True,True,True,True,True,True,True,True,True,True,True,True],\n",
    "    \"Miercoles\": [True,True,True,True,True,True,True,True,True,True,True,True,True,True,True],\n",
    "    \"Jueves\": [True,True,True,True,True,True,True,True,True,True,True,True,True,True,True],\n",
    "    \"Viernes\": [True,True,True,True,True,True,True,True,True,True,True,True,True,True,True],\n",
    "})"
   ]
  },
  {
   "cell_type": "code",
   "execution_count": 58,
   "id": "7137d3f9",
   "metadata": {
    "scrolled": false
   },
   "outputs": [],
   "source": [
    "disponibilidadArr = [disp_est_1,disp_est_2,disp_est_3,disp_est_4,disp_est_5]"
   ]
  },
  {
   "cell_type": "code",
   "execution_count": 59,
   "id": "7e1f73fd",
   "metadata": {},
   "outputs": [],
   "source": [
    "def CpDH(solucion,ofertaUtil,disponibilidad):\n",
    "    disponibilidadTotal = sum(disponibilidad['Lunes']) + sum(disponibilidad['Martes']) + sum(disponibilidad['Miercoles']) + sum(disponibilidad['Jueves']) + sum(disponibilidad['Viernes'])\n",
    "    if disponibilidadTotal == 75:\n",
    "        return 0\n",
    "    \n",
    "    dias = ['Lunes','Martes','Miercoles','Jueves','Viernes']\n",
    "    datosCarga = obtenerDatosCarga(solucion)\n",
    "    costoTotal = 0\n",
    "\n",
    "    for dia in dias:\n",
    "        for i in range(len(datosCarga)):\n",
    "            if datosCarga[dia].iloc[i] == '-':\n",
    "                continue\n",
    "\n",
    "            horaInicio = int(datosCarga.iloc[i][dia][0:2])\n",
    "            horaFin = int(datosCarga.iloc[i][dia][6:8])\n",
    "\n",
    "            for hora in range(horaInicio,horaFin):\n",
    "                if not(disponibilidad.query('hora == ' + str(hora))[dia].values[0]):\n",
    "                    costoTotal += 1\n",
    "                    \n",
    "    #Normalización\n",
    "    costo = (costoTotal)/(75 - disponibilidadTotal)\n",
    "    return costo"
   ]
  },
  {
   "cell_type": "markdown",
   "id": "16e07217",
   "metadata": {},
   "source": [
    "# Definición de la función de desempeño"
   ]
  },
  {
   "cell_type": "code",
   "execution_count": 60,
   "id": "b8466a64",
   "metadata": {},
   "outputs": [],
   "source": [
    "def obtenerDesempeno(solucion):\n",
    "    if not(esValido(solucion,ofertaUtil)):\n",
    "        return 0\n",
    "    \n",
    "    upcc = UpCC(solucion,ofertaUtil)\n",
    "    upmr = UpMR(kardex,solucion,ofertaUtil)\n",
    "    upcm = UpCM(solucion)\n",
    "    cpdh = CpDH(solucion,ofertaUtil,disponibilidad)\n",
    "    cpah = CpAH(solucion)\n",
    "    \n",
    "    utilidades = {\n",
    "        \"upcc\": (upcc * pesos[\"upcc\"]),\n",
    "        \"upmr\": (upmr * pesos[\"upmr\"]),\n",
    "        \"upcm\": (upcm * pesos[\"upcm\"]),\n",
    "        \"cpdh\": pesos[\"cpdh\"] - (cpdh * pesos[\"cpdh\"]),\n",
    "        \"cpah\": pesos[\"cpah\"] - (cpah * pesos[\"cpah\"]),\n",
    "    }\n",
    "    \n",
    "    return sum(utilidades.values())"
   ]
  },
  {
   "cell_type": "code",
   "execution_count": 61,
   "id": "36164559",
   "metadata": {},
   "outputs": [],
   "source": [
    "def evaluarSolucion(solucion):\n",
    "    desempeno = obtenerDesempeno(solucion)\n",
    "    if(desempeno == 0):\n",
    "        print('Solución no válida')\n",
    "        return\n",
    "    \n",
    "    upcc = UpCC(solucion,ofertaUtil)\n",
    "    upmr = UpMR(kardex,solucion,ofertaUtil)\n",
    "    upcm = UpCM(solucion)\n",
    "    cpdh = CpDH(solucion,ofertaUtil,disponibilidad)\n",
    "    cpah = CpAH(solucion)\n",
    "    \n",
    "    print(\"La carga evaluada tiene:\")\n",
    "    print(\"\\t\" + str(round(100*upcc,2)) + \"% de utilidad por las materias de primeros ciclos llevadas.\")\n",
    "    print(\"\\t\" + str(round(100*upmr,2)) + \"% del total de las materias reprobadas del estudiante.\") \n",
    "    print(\"\\t\" + str(round(100*upcm,2)) + \"% de utilidad por cantidad ideal de materias del estudiante.\") \n",
    "    print(\"\\t\" + str(round(100*cpdh,2)) + \"% de costo por sobreposición con las horas donde el estudiante no está disponible.\")\n",
    "    print(\"\\t\" + str(round(100*cpah,2)) + \"% de costo por el total de amplitud de horario.\")"
   ]
  },
  {
   "cell_type": "code",
   "execution_count": 62,
   "id": "600603e9",
   "metadata": {},
   "outputs": [],
   "source": [
    "def on_generation(ga_instance):\n",
    "    print(\"Generación: \" + str(ga_instance.generations_completed))"
   ]
  },
  {
   "cell_type": "code",
   "execution_count": 63,
   "id": "e71b169a",
   "metadata": {},
   "outputs": [],
   "source": [
    "def obtenerClase():\n",
    "    gen = np.random.randint(-1,len(ofertaUtil))\n",
    "    if gen == -1:\n",
    "        clase = -1\n",
    "    else:\n",
    "        clase = ofertaUtil.index[gen]\n",
    "        \n",
    "    return clase"
   ]
  },
  {
   "cell_type": "code",
   "execution_count": 64,
   "id": "3b767590",
   "metadata": {},
   "outputs": [],
   "source": [
    "def mutacionUniforme(solucion,prob):\n",
    "    for i in range(len(solucion)):\n",
    "        if random.random() < prob:\n",
    "            solucion[i] = toolbox.obtenerClase()"
   ]
  },
  {
   "cell_type": "code",
   "execution_count": 104,
   "id": "0c8ac16a",
   "metadata": {},
   "outputs": [],
   "source": [
    "par = tools.selTournament(species[0],10,10,fit_attr='fitness')"
   ]
  },
  {
   "cell_type": "markdown",
   "id": "96c03d9d",
   "metadata": {},
   "source": [
    "# DEAP"
   ]
  },
  {
   "cell_type": "code",
   "execution_count": 65,
   "id": "195d8a15",
   "metadata": {
    "scrolled": true
   },
   "outputs": [],
   "source": [
    "#pesos[\"upcc\"],pesos[\"upmr\"],pesos[\"upcm\"],-pesos[\"cpdh\"],-pesos[\"cpah\"]\n",
    "creator.create(\"desempenoTotal\", base.Fitness, weights=(1.0,))\n",
    "creator.create(\"carga\", list, fitness=creator.desempenoTotal)"
   ]
  },
  {
   "cell_type": "code",
   "execution_count": 66,
   "id": "e1d4f13e",
   "metadata": {},
   "outputs": [],
   "source": [
    "toolbox = base.Toolbox()\n",
    "toolbox.register(\"obtenerClase\", obtenerClase)\n",
    "toolbox.register(\"crearCarga\", tools.initRepeat, creator.carga,\n",
    "                 toolbox.obtenerClase, n=9)\n",
    "toolbox.register(\"population\", tools.initRepeat, list, toolbox.crearCarga)"
   ]
  },
  {
   "cell_type": "code",
   "execution_count": 108,
   "id": "1a48ecfc",
   "metadata": {},
   "outputs": [],
   "source": [
    "toolbox.register(\"mate\", tools.cxUniform,indpb=0.5)\n",
    "toolbox.register(\"mutate\", mutacionUniforme,prob=0.15)\n",
    "toolbox.register(\"select\", tools.selTournament,k=50,tournsize=10,fit_attr='fitness')\n",
    "toolbox.register(\"evaluate\", obtenerDesempeno)"
   ]
  },
  {
   "cell_type": "markdown",
   "id": "63fba0df",
   "metadata": {},
   "source": [
    "## Ejecución del algoritmo"
   ]
  },
  {
   "cell_type": "code",
   "execution_count": 34,
   "id": "157b7a95",
   "metadata": {},
   "outputs": [],
   "source": [
    "pesos = {\n",
    "    \"upcc\": 2,    #Utilidad por cerrar ciclos\n",
    "    \"upmr\": 1,    #Utilidad por materias reprobadas\n",
    "    \"upcm\": 1,    #Utilidad por cantidad ideal de materias\n",
    "    \"cpdh\": 2.5,  #Costo por disponibilidad de horario\n",
    "    \"cpah\": 1.5,  #Costo por amplitud de horario\n",
    "    \"cphl\": 1     #Costo por horas libres (no se está utilizando actualmente)\n",
    "}\n",
    "\n",
    "disponibilidadComoRestriccion = False\n",
    "disponibilidad = disponibilidadArr[4] #Disponibilidad completa de horario\n",
    "plan = plan_2016\n",
    "\n",
    "kardex = obtenerKardex(170311242)\n",
    "ofertaUtil = obtenerOfertaUtil(kardex,oferta)\n",
    "cantidadMateriasIdeal = 7"
   ]
  },
  {
   "cell_type": "code",
   "execution_count": 35,
   "id": "0d0ade55",
   "metadata": {
    "scrolled": false
   },
   "outputs": [
    {
     "name": "stdout",
     "output_type": "stream",
     "text": [
      "Matricula: 170311242\n",
      "Carrera: Ingeniería en Datos e Inteligencia Organizacional\n",
      "Creditos: 44\n",
      "Materias Reprobadas:\n",
      "\tIT0161 Sistemas operativos POSIX\n",
      "\tID0101 Diseño de patrones para datos estructurados\n",
      "\tID0103 Organización y diseño de computadoras\n",
      "\tIT0103 Introducción a las redes\n",
      "\tII0106 Cálculo diferencial\n",
      "\n",
      "\n",
      "Periodo: 201703\n",
      "Clave\t\tPromedio\tNombre de asignatura\n",
      "* IT0161\t0.0\t\tSistemas operativos POSIX\n",
      "ID0102\t\t8.0\t\tFísica clásica\n",
      "IT0101\t\t8.0\t\tAlgoritmos y estructura de datos\n",
      "DP0194\t\t7.0\t\tDesarrollo de habilidades del pensamiento\n",
      "DP0191\t\t10.0\t\tTaller de interacción grupal y competencias comunicativas\n",
      "LI1101\t\t10.0\t\tNivel 1 Inglés\n",
      "ID0160\t\t9.0\t\tPensamiento crítico para ingeniería\n",
      "\n",
      "\n",
      "Periodo: 201801\n",
      "Clave\t\tPromedio\tNombre de asignatura\n",
      "* ID0101\t0.0\t\tDiseño de patrones para datos estructurados\n",
      "DP0193\t\t8.0\t\tTaller de redacción profesional\n",
      "* ID0103\t5.0\t\tOrganización y diseño de computadoras\n",
      "* IT0103\t4.0\t\tIntroducción a las redes\n",
      "IT0264\t\t8.0\t\tIntroducción a los sistemas de información\n",
      "LI1102\t\t10.0\t\tNivel 2 Inglés\n",
      "\n",
      "\n",
      "Periodo: 201802\n",
      "Clave\t\tPromedio\tNombre de asignatura\n",
      "* II0106\t2.0\t\tCálculo diferencial\n",
      "\n",
      "\n",
      "Periodo: 201803\n",
      "Clave\t\tPromedio\tNombre de asignatura\n",
      "* II0106\t0.0\t\tCálculo diferencial\n",
      "LI1103\t\t10.0\t\tNivel 3 Inglés\n",
      "* IT0161\t5.0\t\tSistemas operativos POSIX\n",
      "\n",
      "\n",
      "Periodo: 201901\n",
      "Clave\t\tPromedio\tNombre de asignatura\n",
      "* IT0103\t5.0\t\tIntroducción a las redes\n",
      "* ID0101\t0.0\t\tDiseño de patrones para datos estructurados\n",
      "LI1104\t\t10.0\t\tNivel 4 Inglés\n",
      "\n",
      "\n",
      "Periodo: 201902\n",
      "Clave\t\tPromedio\tNombre de asignatura\n",
      "* IT0161\t2.0\t\tSistemas operativos POSIX\n",
      "\n",
      "\n"
     ]
    }
   ],
   "source": [
    "verKardex()"
   ]
  },
  {
   "cell_type": "code",
   "execution_count": 36,
   "id": "f7142a13",
   "metadata": {
    "scrolled": true
   },
   "outputs": [],
   "source": [
    "pop = toolbox.population(n=500)"
   ]
  },
  {
   "cell_type": "code",
   "execution_count": 37,
   "id": "0730eb0e",
   "metadata": {
    "scrolled": true
   },
   "outputs": [],
   "source": [
    "def run(pop,n_gen = 20,n_parents = 2,saturation_threshold = 15):\n",
    "    solution_fitness = 0\n",
    "    generation_solution_fitness = []\n",
    "    prev_fitness = 0\n",
    "    saturation = 0\n",
    "    num_offspring = len(pop) - n_parents\n",
    "\n",
    "    #Evaluacion de la poblacion\n",
    "    fitnesses = map(toolbox.evaluate, pop)\n",
    "    for ind, fit in zip(pop, fitnesses):\n",
    "        solution_fitness = max(solution_fitness,fit)\n",
    "        ind.fitness.values = [fit]\n",
    "\n",
    "    start_time = time.time()\n",
    "    for gen in range(n_gen):\n",
    "        if(saturation == saturation_threshold):\n",
    "            break\n",
    "        #Selección de padres (Elitismo)\n",
    "        parents = toolbox.select(pop, n_parents)\n",
    "        parents = toolbox.clone(parents)\n",
    "        offspring = []\n",
    "\n",
    "        #Cruzamiento\n",
    "        while len(offspring) < num_offspring:\n",
    "            for p1,p2 in zip(parents[::2],parents[1::2]):\n",
    "                child1, child2 = toolbox.mate(p1,p2)\n",
    "                offspring.append(creator.carga(child1.copy()))\n",
    "                offspring.append(creator.carga(child2.copy()))\n",
    "\n",
    "        #Mutacion\n",
    "        for i in range(len(offspring)):\n",
    "            toolbox.mutate(offspring[i])\n",
    "\n",
    "        #Remplazamiento\n",
    "        pop = offspring + parents\n",
    "        pop = pop.copy()\n",
    "\n",
    "\n",
    "        #Evaluacion\n",
    "        fitnesses = map(toolbox.evaluate, pop)\n",
    "        for ind, fit in zip(pop, fitnesses):\n",
    "            solution_fitness = max(solution_fitness,fit)\n",
    "            ind.fitness.values = [fit]\n",
    "        generation_solution_fitness.append(solution_fitness)\n",
    "\n",
    "        if(solution_fitness == prev_fitness):\n",
    "            saturation += 1\n",
    "        else:\n",
    "            prev_fitness = solution_fitness\n",
    "            saturation = 0\n",
    "        print(gen)\n",
    "\n",
    "    tiempoejecucion = time.time() - start_time\n",
    "    print('Proceso terminado en ' + str(tiempoejecucion))\n",
    "    return generation_solution_fitness"
   ]
  },
  {
   "cell_type": "code",
   "execution_count": 38,
   "id": "0086d824",
   "metadata": {},
   "outputs": [],
   "source": [
    "def plot_fitness(generation_solution_fitness):\n",
    "    fig = plt.figure()\n",
    "    plt.plot(generation_solution_fitness, linewidth=3)\n",
    "    plt.title('Desempeño por generación')\n",
    "    plt.xlabel('Generación')\n",
    "    plt.ylabel('Desempeño')\n",
    "    plt.show()"
   ]
  },
  {
   "cell_type": "code",
   "execution_count": 39,
   "id": "064a29ac",
   "metadata": {},
   "outputs": [
    {
     "name": "stdout",
     "output_type": "stream",
     "text": [
      "0\n",
      "1\n",
      "2\n",
      "3\n",
      "4\n",
      "5\n",
      "6\n",
      "7\n",
      "8\n",
      "9\n",
      "10\n",
      "11\n",
      "12\n",
      "13\n",
      "14\n",
      "15\n",
      "16\n",
      "17\n",
      "18\n",
      "19\n",
      "Proceso terminado en 221.07864022254944\n"
     ]
    }
   ],
   "source": [
    "gsf = run(pop = pop, n_parents = 2)"
   ]
  },
  {
   "cell_type": "code",
   "execution_count": 40,
   "id": "0adca4a8",
   "metadata": {},
   "outputs": [
    {
     "data": {
      "image/png": "[encoded data removed]",
      "text/plain": [
       "<Figure size 432x288 with 1 Axes>"
      ]
     },
     "metadata": {
      "needs_background": "light"
     },
     "output_type": "display_data"
    }
   ],
   "source": [
    "plot_fitness(gsf)"
   ]
  },
  {
   "cell_type": "code",
   "execution_count": 57,
   "id": "aa75cdc4",
   "metadata": {},
   "outputs": [],
   "source": [
    "mejor = 0\n",
    "for p in pop:\n",
    "    if(p.fitness.values[0] >= mejor):\n",
    "        solution = p\n",
    "        mejor = p.fitness.values[0]"
   ]
  },
  {
   "cell_type": "code",
   "execution_count": 62,
   "id": "65b26dc0",
   "metadata": {},
   "outputs": [
    {
     "data": {
      "text/plain": [
       "6.602205882352941"
      ]
     },
     "execution_count": 62,
     "metadata": {},
     "output_type": "execute_result"
    }
   ],
   "source": [
    "gsf[-1]"
   ]
  },
  {
   "cell_type": "code",
   "execution_count": 58,
   "id": "8aa5fd6e",
   "metadata": {},
   "outputs": [
    {
     "name": "stdout",
     "output_type": "stream",
     "text": [
      "La carga evaluada tiene:\n",
      "\t41.83% de utilidad por las materias de primeros ciclos llevadas.\n",
      "\t0.0% del total de las materias reprobadas del estudiante.\n",
      "\t75.0% de utilidad por cantidad ideal de materias del estudiante.\n",
      "\t0% de costo por sobreposición con las horas donde el estudiante no está disponible.\n",
      "\t75.0% de costo por el total de amplitud de horario.\n"
     ]
    }
   ],
   "source": [
    "evaluarSolucion(solution)"
   ]
  },
  {
   "cell_type": "code",
   "execution_count": 59,
   "id": "3d33a501",
   "metadata": {
    "scrolled": true
   },
   "outputs": [
    {
     "data": {
      "text/html": [
       "<div>\n",
       "<style scoped>\n",
       "    .dataframe tbody tr th:only-of-type {\n",
       "        vertical-align: middle;\n",
       "    }\n",
       "\n",
       "    .dataframe tbody tr th {\n",
       "        vertical-align: top;\n",
       "    }\n",
       "\n",
       "    .dataframe thead th {\n",
       "        text-align: right;\n",
       "    }\n",
       "</style>\n",
       "<table border=\"1\" class=\"dataframe\">\n",
       "  <thead>\n",
       "    <tr style=\"text-align: right;\">\n",
       "      <th></th>\n",
       "      <th>clave</th>\n",
       "      <th>ciclos</th>\n",
       "      <th>Nombre</th>\n",
       "      <th>Maestro</th>\n",
       "      <th>Lunes</th>\n",
       "      <th>Martes</th>\n",
       "      <th>Miercoles</th>\n",
       "      <th>Jueves</th>\n",
       "      <th>Viernes</th>\n",
       "    </tr>\n",
       "  </thead>\n",
       "  <tbody>\n",
       "    <tr>\n",
       "      <th>7</th>\n",
       "      <td>ID0161</td>\n",
       "      <td>1</td>\n",
       "      <td>Recursos de comunicación para la era digital</td>\n",
       "      <td>Zavala López / Erika Erendira</td>\n",
       "      <td>-</td>\n",
       "      <td>-</td>\n",
       "      <td>09:00-11:00</td>\n",
       "      <td>13:00-14:00</td>\n",
       "      <td>-</td>\n",
       "    </tr>\n",
       "    <tr>\n",
       "      <th>11</th>\n",
       "      <td>ID0206</td>\n",
       "      <td>2</td>\n",
       "      <td>Interconectividad en redes</td>\n",
       "      <td>Sansores Pérez / Candelaria Elizabeth</td>\n",
       "      <td>11:00-13:00</td>\n",
       "      <td>-</td>\n",
       "      <td>11:00-13:00</td>\n",
       "      <td>-</td>\n",
       "      <td>-</td>\n",
       "    </tr>\n",
       "    <tr>\n",
       "      <th>26</th>\n",
       "      <td>II0215</td>\n",
       "      <td>2</td>\n",
       "      <td>Electricidad y magnetismo</td>\n",
       "      <td>Casas De La Cruz / Rosa Guadalupe</td>\n",
       "      <td>14:00-16:00</td>\n",
       "      <td>-</td>\n",
       "      <td>-</td>\n",
       "      <td>16:00-18:00</td>\n",
       "      <td>-</td>\n",
       "    </tr>\n",
       "    <tr>\n",
       "      <th>32</th>\n",
       "      <td>DP0396</td>\n",
       "      <td>2</td>\n",
       "      <td>Identidad y cultura</td>\n",
       "      <td>Alavez San Pedro / Minerva</td>\n",
       "      <td>-</td>\n",
       "      <td>14:00-16:00</td>\n",
       "      <td>-</td>\n",
       "      <td>15:00-16:00</td>\n",
       "      <td>-</td>\n",
       "    </tr>\n",
       "    <tr>\n",
       "      <th>39</th>\n",
       "      <td>DP0498</td>\n",
       "      <td>3</td>\n",
       "      <td>Problemas de México</td>\n",
       "      <td>Manzo de León / Leonela Paola</td>\n",
       "      <td>20:00-22:00</td>\n",
       "      <td>-</td>\n",
       "      <td>20:00-21:00</td>\n",
       "      <td>-</td>\n",
       "      <td>-</td>\n",
       "    </tr>\n",
       "    <tr>\n",
       "      <th>50</th>\n",
       "      <td>ID0308</td>\n",
       "      <td>3</td>\n",
       "      <td>Análisis de grandes volúmenes de datos</td>\n",
       "      <td>Olivares González / Cyntya</td>\n",
       "      <td>09:00-11:00</td>\n",
       "      <td>-</td>\n",
       "      <td>-</td>\n",
       "      <td>09:00-11:00</td>\n",
       "      <td>-</td>\n",
       "    </tr>\n",
       "    <tr>\n",
       "      <th>52</th>\n",
       "      <td>DP0497</td>\n",
       "      <td>3</td>\n",
       "      <td>Problemas del mundo contemporáneo</td>\n",
       "      <td>Sánchez Novelo / Mariela de Jesús</td>\n",
       "      <td>-</td>\n",
       "      <td>18:00-20:00</td>\n",
       "      <td>-</td>\n",
       "      <td>-</td>\n",
       "      <td>20:00-21:00</td>\n",
       "    </tr>\n",
       "    <tr>\n",
       "      <th>56</th>\n",
       "      <td>ID3415</td>\n",
       "      <td>4</td>\n",
       "      <td>Cómputo ubicuo</td>\n",
       "      <td>Sansores Pérez / Candelaria Elizabeth</td>\n",
       "      <td>-</td>\n",
       "      <td>-</td>\n",
       "      <td>18:00-20:00</td>\n",
       "      <td>-</td>\n",
       "      <td>18:00-19:00</td>\n",
       "    </tr>\n",
       "  </tbody>\n",
       "</table>\n",
       "</div>"
      ],
      "text/plain": [
       "     clave  ciclos                                        Nombre  \\\n",
       "7   ID0161       1  Recursos de comunicación para la era digital   \n",
       "11  ID0206       2                    Interconectividad en redes   \n",
       "26  II0215       2                     Electricidad y magnetismo   \n",
       "32  DP0396       2                           Identidad y cultura   \n",
       "39  DP0498       3                           Problemas de México   \n",
       "50  ID0308       3        Análisis de grandes volúmenes de datos   \n",
       "52  DP0497       3             Problemas del mundo contemporáneo   \n",
       "56  ID3415       4                                Cómputo ubicuo   \n",
       "\n",
       "                                  Maestro        Lunes       Martes  \\\n",
       "7           Zavala López / Erika Erendira            -            -   \n",
       "11  Sansores Pérez / Candelaria Elizabeth  11:00-13:00            -   \n",
       "26      Casas De La Cruz / Rosa Guadalupe  14:00-16:00            -   \n",
       "32             Alavez San Pedro / Minerva            -  14:00-16:00   \n",
       "39          Manzo de León / Leonela Paola  20:00-22:00            -   \n",
       "50             Olivares González / Cyntya  09:00-11:00            -   \n",
       "52      Sánchez Novelo / Mariela de Jesús            -  18:00-20:00   \n",
       "56  Sansores Pérez / Candelaria Elizabeth            -            -   \n",
       "\n",
       "      Miercoles       Jueves      Viernes  \n",
       "7   09:00-11:00  13:00-14:00            -  \n",
       "11  11:00-13:00            -            -  \n",
       "26            -  16:00-18:00            -  \n",
       "32            -  15:00-16:00            -  \n",
       "39  20:00-21:00            -            -  \n",
       "50            -  09:00-11:00            -  \n",
       "52            -            -  20:00-21:00  \n",
       "56  18:00-20:00            -  18:00-19:00  "
      ]
     },
     "execution_count": 59,
     "metadata": {},
     "output_type": "execute_result"
    }
   ],
   "source": [
    "obtenerDatosCarga(solution)"
   ]
  },
  {
   "cell_type": "code",
   "execution_count": 60,
   "id": "4b7aa258",
   "metadata": {
    "scrolled": false
   },
   "outputs": [
    {
     "data": {
      "text/html": [
       "<div>\n",
       "<style scoped>\n",
       "    .dataframe tbody tr th:only-of-type {\n",
       "        vertical-align: middle;\n",
       "    }\n",
       "\n",
       "    .dataframe tbody tr th {\n",
       "        vertical-align: top;\n",
       "    }\n",
       "\n",
       "    .dataframe thead th {\n",
       "        text-align: right;\n",
       "    }\n",
       "</style>\n",
       "<table border=\"1\" class=\"dataframe\">\n",
       "  <thead>\n",
       "    <tr style=\"text-align: right;\">\n",
       "      <th></th>\n",
       "      <th>Hora</th>\n",
       "      <th>Lunes</th>\n",
       "      <th>Martes</th>\n",
       "      <th>Miercoles</th>\n",
       "      <th>Jueves</th>\n",
       "      <th>Viernes</th>\n",
       "    </tr>\n",
       "  </thead>\n",
       "  <tbody>\n",
       "    <tr>\n",
       "      <th>2</th>\n",
       "      <td>9:00-10:00</td>\n",
       "      <td>Análisis de grandes volúmenes de datos</td>\n",
       "      <td>-</td>\n",
       "      <td>Recursos de comunicación para la era digital</td>\n",
       "      <td>Análisis de grandes volúmenes de datos</td>\n",
       "      <td>-</td>\n",
       "    </tr>\n",
       "    <tr>\n",
       "      <th>3</th>\n",
       "      <td>10:00-11:00</td>\n",
       "      <td>Análisis de grandes volúmenes de datos</td>\n",
       "      <td>-</td>\n",
       "      <td>Recursos de comunicación para la era digital</td>\n",
       "      <td>Análisis de grandes volúmenes de datos</td>\n",
       "      <td>-</td>\n",
       "    </tr>\n",
       "    <tr>\n",
       "      <th>4</th>\n",
       "      <td>11:00-12:00</td>\n",
       "      <td>Interconectividad en redes</td>\n",
       "      <td>-</td>\n",
       "      <td>Interconectividad en redes</td>\n",
       "      <td>-</td>\n",
       "      <td>-</td>\n",
       "    </tr>\n",
       "    <tr>\n",
       "      <th>5</th>\n",
       "      <td>12:00-13:00</td>\n",
       "      <td>Interconectividad en redes</td>\n",
       "      <td>-</td>\n",
       "      <td>Interconectividad en redes</td>\n",
       "      <td>-</td>\n",
       "      <td>-</td>\n",
       "    </tr>\n",
       "    <tr>\n",
       "      <th>6</th>\n",
       "      <td>13:00-14:00</td>\n",
       "      <td>-</td>\n",
       "      <td>-</td>\n",
       "      <td>-</td>\n",
       "      <td>Recursos de comunicación para la era digital</td>\n",
       "      <td>-</td>\n",
       "    </tr>\n",
       "    <tr>\n",
       "      <th>7</th>\n",
       "      <td>14:00-15:00</td>\n",
       "      <td>Electricidad y magnetismo</td>\n",
       "      <td>Identidad y cultura</td>\n",
       "      <td>-</td>\n",
       "      <td>-</td>\n",
       "      <td>-</td>\n",
       "    </tr>\n",
       "    <tr>\n",
       "      <th>8</th>\n",
       "      <td>15:00-16:00</td>\n",
       "      <td>Electricidad y magnetismo</td>\n",
       "      <td>Identidad y cultura</td>\n",
       "      <td>-</td>\n",
       "      <td>Identidad y cultura</td>\n",
       "      <td>-</td>\n",
       "    </tr>\n",
       "    <tr>\n",
       "      <th>9</th>\n",
       "      <td>16:00-17:00</td>\n",
       "      <td>-</td>\n",
       "      <td>-</td>\n",
       "      <td>-</td>\n",
       "      <td>Electricidad y magnetismo</td>\n",
       "      <td>-</td>\n",
       "    </tr>\n",
       "    <tr>\n",
       "      <th>10</th>\n",
       "      <td>17:00-18:00</td>\n",
       "      <td>-</td>\n",
       "      <td>-</td>\n",
       "      <td>-</td>\n",
       "      <td>Electricidad y magnetismo</td>\n",
       "      <td>-</td>\n",
       "    </tr>\n",
       "    <tr>\n",
       "      <th>11</th>\n",
       "      <td>18:00-19:00</td>\n",
       "      <td>-</td>\n",
       "      <td>Problemas del mundo contemporáneo</td>\n",
       "      <td>Cómputo ubicuo</td>\n",
       "      <td>-</td>\n",
       "      <td>Cómputo ubicuo</td>\n",
       "    </tr>\n",
       "    <tr>\n",
       "      <th>12</th>\n",
       "      <td>19:00-20:00</td>\n",
       "      <td>-</td>\n",
       "      <td>Problemas del mundo contemporáneo</td>\n",
       "      <td>Cómputo ubicuo</td>\n",
       "      <td>-</td>\n",
       "      <td>-</td>\n",
       "    </tr>\n",
       "    <tr>\n",
       "      <th>13</th>\n",
       "      <td>20:00-21:00</td>\n",
       "      <td>Problemas de México</td>\n",
       "      <td>-</td>\n",
       "      <td>Problemas de México</td>\n",
       "      <td>-</td>\n",
       "      <td>Problemas del mundo contemporáneo</td>\n",
       "    </tr>\n",
       "    <tr>\n",
       "      <th>14</th>\n",
       "      <td>21:00-22:00</td>\n",
       "      <td>Problemas de México</td>\n",
       "      <td>-</td>\n",
       "      <td>-</td>\n",
       "      <td>-</td>\n",
       "      <td>-</td>\n",
       "    </tr>\n",
       "  </tbody>\n",
       "</table>\n",
       "</div>"
      ],
      "text/plain": [
       "           Hora                                   Lunes  \\\n",
       "2    9:00-10:00  Análisis de grandes volúmenes de datos   \n",
       "3   10:00-11:00  Análisis de grandes volúmenes de datos   \n",
       "4   11:00-12:00              Interconectividad en redes   \n",
       "5   12:00-13:00              Interconectividad en redes   \n",
       "6   13:00-14:00                                       -   \n",
       "7   14:00-15:00               Electricidad y magnetismo   \n",
       "8   15:00-16:00               Electricidad y magnetismo   \n",
       "9   16:00-17:00                                       -   \n",
       "10  17:00-18:00                                       -   \n",
       "11  18:00-19:00                                       -   \n",
       "12  19:00-20:00                                       -   \n",
       "13  20:00-21:00                     Problemas de México   \n",
       "14  21:00-22:00                     Problemas de México   \n",
       "\n",
       "                               Martes  \\\n",
       "2                                   -   \n",
       "3                                   -   \n",
       "4                                   -   \n",
       "5                                   -   \n",
       "6                                   -   \n",
       "7                 Identidad y cultura   \n",
       "8                 Identidad y cultura   \n",
       "9                                   -   \n",
       "10                                  -   \n",
       "11  Problemas del mundo contemporáneo   \n",
       "12  Problemas del mundo contemporáneo   \n",
       "13                                  -   \n",
       "14                                  -   \n",
       "\n",
       "                                       Miercoles  \\\n",
       "2   Recursos de comunicación para la era digital   \n",
       "3   Recursos de comunicación para la era digital   \n",
       "4                     Interconectividad en redes   \n",
       "5                     Interconectividad en redes   \n",
       "6                                              -   \n",
       "7                                              -   \n",
       "8                                              -   \n",
       "9                                              -   \n",
       "10                                             -   \n",
       "11                                Cómputo ubicuo   \n",
       "12                                Cómputo ubicuo   \n",
       "13                           Problemas de México   \n",
       "14                                             -   \n",
       "\n",
       "                                          Jueves  \\\n",
       "2         Análisis de grandes volúmenes de datos   \n",
       "3         Análisis de grandes volúmenes de datos   \n",
       "4                                              -   \n",
       "5                                              -   \n",
       "6   Recursos de comunicación para la era digital   \n",
       "7                                              -   \n",
       "8                            Identidad y cultura   \n",
       "9                      Electricidad y magnetismo   \n",
       "10                     Electricidad y magnetismo   \n",
       "11                                             -   \n",
       "12                                             -   \n",
       "13                                             -   \n",
       "14                                             -   \n",
       "\n",
       "                              Viernes  \n",
       "2                                   -  \n",
       "3                                   -  \n",
       "4                                   -  \n",
       "5                                   -  \n",
       "6                                   -  \n",
       "7                                   -  \n",
       "8                                   -  \n",
       "9                                   -  \n",
       "10                                  -  \n",
       "11                     Cómputo ubicuo  \n",
       "12                                  -  \n",
       "13  Problemas del mundo contemporáneo  \n",
       "14                                  -  "
      ]
     },
     "execution_count": 60,
     "metadata": {},
     "output_type": "execute_result"
    }
   ],
   "source": [
    "obtenerHorario(solution)"
   ]
  },
  {
   "cell_type": "markdown",
   "id": "33fd0b21",
   "metadata": {},
   "source": [
    "## ========"
   ]
  },
  {
   "cell_type": "code",
   "execution_count": 45,
   "id": "3c0886e4",
   "metadata": {},
   "outputs": [
    {
     "name": "stderr",
     "output_type": "stream",
     "text": [
      "C:\\Users\\eddie\\anaconda3\\lib\\site-packages\\numpy\\lib\\arraysetops.py:270: VisibleDeprecationWarning: Creating an ndarray from ragged nested sequences (which is a list-or-tuple of lists-or-tuples-or ndarrays with different lengths or shapes) is deprecated. If you meant to do this, you must specify 'dtype=object' when creating the ndarray.\n",
      "  ar = np.asanyarray(ar)\n"
     ]
    }
   ],
   "source": [
    "recomendaciones = obtenerRecomendacionesUnicas(pop,0.1)"
   ]
  },
  {
   "cell_type": "code",
   "execution_count": 46,
   "id": "60928e2d",
   "metadata": {},
   "outputs": [
    {
     "data": {
      "text/plain": [
       "500"
      ]
     },
     "execution_count": 46,
     "metadata": {},
     "output_type": "execute_result"
    }
   ],
   "source": [
    "len(recomendaciones)"
   ]
  },
  {
   "cell_type": "code",
   "execution_count": 47,
   "id": "821682e0",
   "metadata": {},
   "outputs": [
    {
     "data": {
      "text/plain": [
       "4.461601307189543"
      ]
     },
     "execution_count": 47,
     "metadata": {},
     "output_type": "execute_result"
    }
   ],
   "source": [
    "obtenerDesempeno(recomendaciones[0])"
   ]
  },
  {
   "cell_type": "code",
   "execution_count": 48,
   "id": "31884d7a",
   "metadata": {},
   "outputs": [
    {
     "name": "stdout",
     "output_type": "stream",
     "text": [
      "La carga evaluada tiene:\n",
      "\t41.83% de utilidad por las materias de primeros ciclos llevadas.\n",
      "\t0.0% del total de las materias reprobadas del estudiante.\n",
      "\t75.0% de utilidad por cantidad ideal de materias del estudiante.\n",
      "\t0% de costo por sobreposición con las horas donde el estudiante no está disponible.\n",
      "\t75.0% de costo por el total de amplitud de horario.\n"
     ]
    }
   ],
   "source": [
    "evaluarSolucion(recomendaciones[0])"
   ]
  },
  {
   "cell_type": "code",
   "execution_count": 49,
   "id": "c6433049",
   "metadata": {},
   "outputs": [
    {
     "data": {
      "text/html": [
       "<div>\n",
       "<style scoped>\n",
       "    .dataframe tbody tr th:only-of-type {\n",
       "        vertical-align: middle;\n",
       "    }\n",
       "\n",
       "    .dataframe tbody tr th {\n",
       "        vertical-align: top;\n",
       "    }\n",
       "\n",
       "    .dataframe thead th {\n",
       "        text-align: right;\n",
       "    }\n",
       "</style>\n",
       "<table border=\"1\" class=\"dataframe\">\n",
       "  <thead>\n",
       "    <tr style=\"text-align: right;\">\n",
       "      <th></th>\n",
       "      <th>clave</th>\n",
       "      <th>ciclos</th>\n",
       "      <th>Nombre</th>\n",
       "      <th>Maestro</th>\n",
       "      <th>Lunes</th>\n",
       "      <th>Martes</th>\n",
       "      <th>Miercoles</th>\n",
       "      <th>Jueves</th>\n",
       "      <th>Viernes</th>\n",
       "    </tr>\n",
       "  </thead>\n",
       "  <tbody>\n",
       "    <tr>\n",
       "      <th>7</th>\n",
       "      <td>ID0161</td>\n",
       "      <td>1</td>\n",
       "      <td>Recursos de comunicación para la era digital</td>\n",
       "      <td>Zavala López / Erika Erendira</td>\n",
       "      <td>-</td>\n",
       "      <td>-</td>\n",
       "      <td>09:00-11:00</td>\n",
       "      <td>13:00-14:00</td>\n",
       "      <td>-</td>\n",
       "    </tr>\n",
       "    <tr>\n",
       "      <th>11</th>\n",
       "      <td>ID0206</td>\n",
       "      <td>2</td>\n",
       "      <td>Interconectividad en redes</td>\n",
       "      <td>Sansores Pérez / Candelaria Elizabeth</td>\n",
       "      <td>11:00-13:00</td>\n",
       "      <td>-</td>\n",
       "      <td>11:00-13:00</td>\n",
       "      <td>-</td>\n",
       "      <td>-</td>\n",
       "    </tr>\n",
       "    <tr>\n",
       "      <th>26</th>\n",
       "      <td>II0215</td>\n",
       "      <td>2</td>\n",
       "      <td>Electricidad y magnetismo</td>\n",
       "      <td>Casas De La Cruz / Rosa Guadalupe</td>\n",
       "      <td>14:00-16:00</td>\n",
       "      <td>-</td>\n",
       "      <td>-</td>\n",
       "      <td>16:00-18:00</td>\n",
       "      <td>-</td>\n",
       "    </tr>\n",
       "    <tr>\n",
       "      <th>32</th>\n",
       "      <td>DP0396</td>\n",
       "      <td>2</td>\n",
       "      <td>Identidad y cultura</td>\n",
       "      <td>Alavez San Pedro / Minerva</td>\n",
       "      <td>-</td>\n",
       "      <td>14:00-16:00</td>\n",
       "      <td>-</td>\n",
       "      <td>15:00-16:00</td>\n",
       "      <td>-</td>\n",
       "    </tr>\n",
       "    <tr>\n",
       "      <th>39</th>\n",
       "      <td>DP0498</td>\n",
       "      <td>3</td>\n",
       "      <td>Problemas de México</td>\n",
       "      <td>Manzo de León / Leonela Paola</td>\n",
       "      <td>20:00-22:00</td>\n",
       "      <td>-</td>\n",
       "      <td>20:00-21:00</td>\n",
       "      <td>-</td>\n",
       "      <td>-</td>\n",
       "    </tr>\n",
       "    <tr>\n",
       "      <th>50</th>\n",
       "      <td>ID0308</td>\n",
       "      <td>3</td>\n",
       "      <td>Análisis de grandes volúmenes de datos</td>\n",
       "      <td>Olivares González / Cyntya</td>\n",
       "      <td>09:00-11:00</td>\n",
       "      <td>-</td>\n",
       "      <td>-</td>\n",
       "      <td>09:00-11:00</td>\n",
       "      <td>-</td>\n",
       "    </tr>\n",
       "    <tr>\n",
       "      <th>52</th>\n",
       "      <td>DP0497</td>\n",
       "      <td>3</td>\n",
       "      <td>Problemas del mundo contemporáneo</td>\n",
       "      <td>Sánchez Novelo / Mariela de Jesús</td>\n",
       "      <td>-</td>\n",
       "      <td>18:00-20:00</td>\n",
       "      <td>-</td>\n",
       "      <td>-</td>\n",
       "      <td>20:00-21:00</td>\n",
       "    </tr>\n",
       "    <tr>\n",
       "      <th>56</th>\n",
       "      <td>ID3415</td>\n",
       "      <td>4</td>\n",
       "      <td>Cómputo ubicuo</td>\n",
       "      <td>Sansores Pérez / Candelaria Elizabeth</td>\n",
       "      <td>-</td>\n",
       "      <td>-</td>\n",
       "      <td>18:00-20:00</td>\n",
       "      <td>-</td>\n",
       "      <td>18:00-19:00</td>\n",
       "    </tr>\n",
       "  </tbody>\n",
       "</table>\n",
       "</div>"
      ],
      "text/plain": [
       "     clave  ciclos                                        Nombre  \\\n",
       "7   ID0161       1  Recursos de comunicación para la era digital   \n",
       "11  ID0206       2                    Interconectividad en redes   \n",
       "26  II0215       2                     Electricidad y magnetismo   \n",
       "32  DP0396       2                           Identidad y cultura   \n",
       "39  DP0498       3                           Problemas de México   \n",
       "50  ID0308       3        Análisis de grandes volúmenes de datos   \n",
       "52  DP0497       3             Problemas del mundo contemporáneo   \n",
       "56  ID3415       4                                Cómputo ubicuo   \n",
       "\n",
       "                                  Maestro        Lunes       Martes  \\\n",
       "7           Zavala López / Erika Erendira            -            -   \n",
       "11  Sansores Pérez / Candelaria Elizabeth  11:00-13:00            -   \n",
       "26      Casas De La Cruz / Rosa Guadalupe  14:00-16:00            -   \n",
       "32             Alavez San Pedro / Minerva            -  14:00-16:00   \n",
       "39          Manzo de León / Leonela Paola  20:00-22:00            -   \n",
       "50             Olivares González / Cyntya  09:00-11:00            -   \n",
       "52      Sánchez Novelo / Mariela de Jesús            -  18:00-20:00   \n",
       "56  Sansores Pérez / Candelaria Elizabeth            -            -   \n",
       "\n",
       "      Miercoles       Jueves      Viernes  \n",
       "7   09:00-11:00  13:00-14:00            -  \n",
       "11  11:00-13:00            -            -  \n",
       "26            -  16:00-18:00            -  \n",
       "32            -  15:00-16:00            -  \n",
       "39  20:00-21:00            -            -  \n",
       "50            -  09:00-11:00            -  \n",
       "52            -            -  20:00-21:00  \n",
       "56  18:00-20:00            -  18:00-19:00  "
      ]
     },
     "execution_count": 49,
     "metadata": {},
     "output_type": "execute_result"
    }
   ],
   "source": [
    "obtenerDatosCarga(recomendaciones[0])"
   ]
  },
  {
   "cell_type": "code",
   "execution_count": 50,
   "id": "745ae903",
   "metadata": {
    "scrolled": false
   },
   "outputs": [
    {
     "data": {
      "text/html": [
       "<div>\n",
       "<style scoped>\n",
       "    .dataframe tbody tr th:only-of-type {\n",
       "        vertical-align: middle;\n",
       "    }\n",
       "\n",
       "    .dataframe tbody tr th {\n",
       "        vertical-align: top;\n",
       "    }\n",
       "\n",
       "    .dataframe thead th {\n",
       "        text-align: right;\n",
       "    }\n",
       "</style>\n",
       "<table border=\"1\" class=\"dataframe\">\n",
       "  <thead>\n",
       "    <tr style=\"text-align: right;\">\n",
       "      <th></th>\n",
       "      <th>clave</th>\n",
       "      <th>ciclos</th>\n",
       "      <th>Nombre</th>\n",
       "      <th>Maestro</th>\n",
       "      <th>Lunes</th>\n",
       "      <th>Martes</th>\n",
       "      <th>Miercoles</th>\n",
       "      <th>Jueves</th>\n",
       "      <th>Viernes</th>\n",
       "    </tr>\n",
       "  </thead>\n",
       "  <tbody>\n",
       "    <tr>\n",
       "      <th>7</th>\n",
       "      <td>ID0161</td>\n",
       "      <td>1</td>\n",
       "      <td>Recursos de comunicación para la era digital</td>\n",
       "      <td>Zavala López / Erika Erendira</td>\n",
       "      <td>-</td>\n",
       "      <td>-</td>\n",
       "      <td>09:00-11:00</td>\n",
       "      <td>13:00-14:00</td>\n",
       "      <td>-</td>\n",
       "    </tr>\n",
       "    <tr>\n",
       "      <th>11</th>\n",
       "      <td>ID0206</td>\n",
       "      <td>2</td>\n",
       "      <td>Interconectividad en redes</td>\n",
       "      <td>Sansores Pérez / Candelaria Elizabeth</td>\n",
       "      <td>11:00-13:00</td>\n",
       "      <td>-</td>\n",
       "      <td>11:00-13:00</td>\n",
       "      <td>-</td>\n",
       "      <td>-</td>\n",
       "    </tr>\n",
       "    <tr>\n",
       "      <th>26</th>\n",
       "      <td>II0215</td>\n",
       "      <td>2</td>\n",
       "      <td>Electricidad y magnetismo</td>\n",
       "      <td>Casas De La Cruz / Rosa Guadalupe</td>\n",
       "      <td>14:00-16:00</td>\n",
       "      <td>-</td>\n",
       "      <td>-</td>\n",
       "      <td>16:00-18:00</td>\n",
       "      <td>-</td>\n",
       "    </tr>\n",
       "    <tr>\n",
       "      <th>32</th>\n",
       "      <td>DP0396</td>\n",
       "      <td>2</td>\n",
       "      <td>Identidad y cultura</td>\n",
       "      <td>Alavez San Pedro / Minerva</td>\n",
       "      <td>-</td>\n",
       "      <td>14:00-16:00</td>\n",
       "      <td>-</td>\n",
       "      <td>15:00-16:00</td>\n",
       "      <td>-</td>\n",
       "    </tr>\n",
       "    <tr>\n",
       "      <th>39</th>\n",
       "      <td>DP0498</td>\n",
       "      <td>3</td>\n",
       "      <td>Problemas de México</td>\n",
       "      <td>Manzo de León / Leonela Paola</td>\n",
       "      <td>20:00-22:00</td>\n",
       "      <td>-</td>\n",
       "      <td>20:00-21:00</td>\n",
       "      <td>-</td>\n",
       "      <td>-</td>\n",
       "    </tr>\n",
       "    <tr>\n",
       "      <th>50</th>\n",
       "      <td>ID0308</td>\n",
       "      <td>3</td>\n",
       "      <td>Análisis de grandes volúmenes de datos</td>\n",
       "      <td>Olivares González / Cyntya</td>\n",
       "      <td>09:00-11:00</td>\n",
       "      <td>-</td>\n",
       "      <td>-</td>\n",
       "      <td>09:00-11:00</td>\n",
       "      <td>-</td>\n",
       "    </tr>\n",
       "    <tr>\n",
       "      <th>52</th>\n",
       "      <td>DP0497</td>\n",
       "      <td>3</td>\n",
       "      <td>Problemas del mundo contemporáneo</td>\n",
       "      <td>Sánchez Novelo / Mariela de Jesús</td>\n",
       "      <td>-</td>\n",
       "      <td>18:00-20:00</td>\n",
       "      <td>-</td>\n",
       "      <td>-</td>\n",
       "      <td>20:00-21:00</td>\n",
       "    </tr>\n",
       "    <tr>\n",
       "      <th>56</th>\n",
       "      <td>ID3415</td>\n",
       "      <td>4</td>\n",
       "      <td>Cómputo ubicuo</td>\n",
       "      <td>Sansores Pérez / Candelaria Elizabeth</td>\n",
       "      <td>-</td>\n",
       "      <td>-</td>\n",
       "      <td>18:00-20:00</td>\n",
       "      <td>-</td>\n",
       "      <td>18:00-19:00</td>\n",
       "    </tr>\n",
       "  </tbody>\n",
       "</table>\n",
       "</div>"
      ],
      "text/plain": [
       "     clave  ciclos                                        Nombre  \\\n",
       "7   ID0161       1  Recursos de comunicación para la era digital   \n",
       "11  ID0206       2                    Interconectividad en redes   \n",
       "26  II0215       2                     Electricidad y magnetismo   \n",
       "32  DP0396       2                           Identidad y cultura   \n",
       "39  DP0498       3                           Problemas de México   \n",
       "50  ID0308       3        Análisis de grandes volúmenes de datos   \n",
       "52  DP0497       3             Problemas del mundo contemporáneo   \n",
       "56  ID3415       4                                Cómputo ubicuo   \n",
       "\n",
       "                                  Maestro        Lunes       Martes  \\\n",
       "7           Zavala López / Erika Erendira            -            -   \n",
       "11  Sansores Pérez / Candelaria Elizabeth  11:00-13:00            -   \n",
       "26      Casas De La Cruz / Rosa Guadalupe  14:00-16:00            -   \n",
       "32             Alavez San Pedro / Minerva            -  14:00-16:00   \n",
       "39          Manzo de León / Leonela Paola  20:00-22:00            -   \n",
       "50             Olivares González / Cyntya  09:00-11:00            -   \n",
       "52      Sánchez Novelo / Mariela de Jesús            -  18:00-20:00   \n",
       "56  Sansores Pérez / Candelaria Elizabeth            -            -   \n",
       "\n",
       "      Miercoles       Jueves      Viernes  \n",
       "7   09:00-11:00  13:00-14:00            -  \n",
       "11  11:00-13:00            -            -  \n",
       "26            -  16:00-18:00            -  \n",
       "32            -  15:00-16:00            -  \n",
       "39  20:00-21:00            -            -  \n",
       "50            -  09:00-11:00            -  \n",
       "52            -            -  20:00-21:00  \n",
       "56  18:00-20:00            -  18:00-19:00  "
      ]
     },
     "execution_count": 50,
     "metadata": {},
     "output_type": "execute_result"
    }
   ],
   "source": [
    "obtenerDatosCarga(solution)"
   ]
  },
  {
   "cell_type": "markdown",
   "id": "e1251fd5",
   "metadata": {},
   "source": [
    "# Coevolución cooperativa"
   ]
  },
  {
   "cell_type": "code",
   "execution_count": 109,
   "id": "26076fe1",
   "metadata": {},
   "outputs": [],
   "source": [
    "def obtenerSimilitud(x,y):\n",
    "    x_set = set(x)\n",
    "    return sum(yi in x_set for yi in y)"
   ]
  },
  {
   "cell_type": "code",
   "execution_count": 110,
   "id": "345e2156",
   "metadata": {},
   "outputs": [],
   "source": [
    "def obtenerPesoPorSimilitud(representatives, sol):\n",
    "    maxSimilitud = max(obtenerSimilitud(r,sol) for r in representatives)\n",
    "    \n",
    "    return (1 - ((maxSimilitud**5)/(9**5)))"
   ]
  },
  {
   "cell_type": "code",
   "execution_count": 111,
   "id": "d9524640",
   "metadata": {},
   "outputs": [],
   "source": [
    "def obtenerDesempenoCoev(representatives,sol):\n",
    "    desempeno = obtenerDesempeno(sol)\n",
    "    return (desempeno * obtenerPesoPorSimilitud(representatives,sol),), desempeno"
   ]
  },
  {
   "cell_type": "code",
   "execution_count": 112,
   "id": "5791690b",
   "metadata": {},
   "outputs": [],
   "source": [
    "pesos = {\n",
    "    \"upcc\": 2,    #Utilidad por cerrar ciclos\n",
    "    \"upmr\": 1,    #Utilidad por materias reprobadas\n",
    "    \"upcm\": 1,    #Utilidad por cantidad ideal de materias\n",
    "    \"cpdh\": 2.5,  #Costo por disponibilidad de horario\n",
    "    \"cpah\": 1.5,  #Costo por amplitud de horario\n",
    "    \"cphl\": 1     #Costo por horas libres (no se está utilizando actualmente)\n",
    "}\n",
    "\n",
    "disponibilidadComoRestriccion = False\n",
    "disponibilidad = disponibilidadArr[4] #Disponibilidad completa de horario\n",
    "plan = plan_2016\n",
    "\n",
    "kardex = obtenerKardex(190311499).query('periodo < 202201')\n",
    "ofertaUtil = obtenerOfertaUtil(kardex,oferta)\n",
    "cantidadMateriasIdeal = 7"
   ]
  },
  {
   "cell_type": "code",
   "execution_count": 113,
   "id": "db6887ea",
   "metadata": {
    "scrolled": true
   },
   "outputs": [
    {
     "name": "stdout",
     "output_type": "stream",
     "text": [
      "Matricula: 190311499\n",
      "Carrera: Ingeniería en Datos e Inteligencia Organizacional\n",
      "Creditos: 240\n",
      "Materias Reprobadas:\n",
      "\n",
      "\n",
      "Periodo: 201903\n",
      "Clave\t\tPromedio\tNombre de asignatura\n",
      "DP0194\t\t9.0\t\tDesarrollo de habilidades del pensamiento\n",
      "ID0102\t\t10.0\t\tFísica clásica\n",
      "IT0161\t\t9.0\t\tSistemas operativos POSIX\n",
      "IL0102\t\t10.0\t\tTeoría general de sistemas\n",
      "DP0191\t\t10.0\t\tTaller de interacción grupal y competencias comunicativas\n",
      "II0106\t\t10.0\t\tCálculo diferencial\n",
      "IT0101\t\t10.0\t\tAlgoritmos y estructura de datos\n",
      "LI1104\t\t10.0\t\tNivel 4 Inglés\n",
      "\n",
      "\n",
      "Periodo: 202001\n",
      "Clave\t\tPromedio\tNombre de asignatura\n",
      "IT0103\t\t10.0\t\tIntroducción a las redes\n",
      "II0209\t\t9.0\t\tCálculo integral\n",
      "IT0104\t\t9.0\t\tMatemáticas discretas\n",
      "IT0264\t\t10.0\t\tIntroducción a los sistemas de información\n",
      "ID0101\t\t9.0\t\tDiseño de patrones para datos estructurados\n",
      "ID0103\t\t10.0\t\tOrganización y diseño de computadoras\n",
      "TA0011\t\t10.0\t\tTeatro\n",
      "DP0193\t\t10.0\t\tTaller de redacción profesional\n",
      "LI0109\t\t10.0\t\tTópicos selectos de inglés\n",
      "\n",
      "\n",
      "Periodo: 202002\n",
      "Clave\t\tPromedio\tNombre de asignatura\n",
      "LI0110\t\t10.0\t\tTópicos  2\n",
      "\n",
      "\n",
      "Periodo: 202003\n",
      "Clave\t\tPromedio\tNombre de asignatura\n",
      "DP0295\t\t10.0\t\tTaller de formación en responsabilidad social y ambiental\n",
      "IT0210\t\t10.0\t\tProgramación orientada a objetos\n",
      "AD0018\t\t10.0\t\tYoga\n",
      "ID0262\t\t10.0\t\tContabilidad y costos para ingeniería\n",
      "II0322\t\t10.0\t\tÁlgebra lineal\n",
      "IT0107\t\t10.0\t\tTécnicas algorítmicas\n",
      "II0215\t\t9.0\t\tElectricidad y magnetismo\n",
      "II0319\t\t8.0\t\tProbabilidad y estadística\n",
      "\n",
      "\n",
      "Periodo: 202004\n",
      "Clave\t\tPromedio\tNombre de asignatura\n",
      "PID0201\t\t10.0\t\tPrácticas Profesionales I\n",
      "\n",
      "\n",
      "Periodo: 202101\n",
      "Clave\t\tPromedio\tNombre de asignatura\n",
      "ID0206\t\t9.0\t\tInterconectividad en redes\n",
      "ID0205\t\t8.0\t\tGeometría computacional\n",
      "ID0265\t\t10.0\t\tProgramación web\n",
      "DP0396\t\t10.0\t\tIdentidad y cultura\n",
      "ID0204\t\t10.0\t\tBases de Datos\n",
      "IL0204\t\t10.0\t\tEstadística analítica\n",
      "II0320\t\t10.0\t\tEcuaciones diferenciales\n",
      "\n",
      "\n",
      "Periodo: 202103\n",
      "Clave\t\tPromedio\tNombre de asignatura\n",
      "IL0414\t\t10.0\t\tTaller de argumentación y técnicas de negociación\n",
      "IT0425\t\t8.0\t\tIntroducción a la inteligencia artificial\n",
      "DP0497\t\t10.0\t\tProblemas del mundo contemporáneo\n",
      "ID0308\t\t10.0\t\tAnálisis de grandes volúmenes de datos\n",
      "ID0309\t\t9.0\t\tAprendizaje estadístico\n",
      "ID3418\t\t10.0\t\tTIC para la educación\n",
      "IT0208\t\t9.0\t\tElectrónica digital\n",
      "\n",
      "\n"
     ]
    }
   ],
   "source": [
    "verKardex()"
   ]
  },
  {
   "cell_type": "code",
   "execution_count": 118,
   "id": "612fec39",
   "metadata": {},
   "outputs": [],
   "source": [
    "num_species = 10\n",
    "pop_per_species = 500\n",
    "\n",
    "species = [toolbox.population(n = pop_per_species) for _ in range(num_species)]\n",
    "representatives = [random.choice(species[i]) for i in range(num_species)]"
   ]
  },
  {
   "cell_type": "code",
   "execution_count": 119,
   "id": "5ef3c193",
   "metadata": {
    "scrolled": true
   },
   "outputs": [
    {
     "name": "stdout",
     "output_type": "stream",
     "text": [
      "Generación: 0\n",
      "\tEspecie: 0, 6.705357142857142\n",
      "\tEspecie: 1, 6.678571428571429\n",
      "\tEspecie: 2, 6.711309523809524\n",
      "\tEspecie: 3, 6.866071428571429\n",
      "\tEspecie: 4, 6.5148809523809526\n",
      "\tEspecie: 5, 6.669642857142858\n",
      "\tEspecie: 6, 6.705357142857142\n",
      "\tEspecie: 7, 6.8601190476190474\n",
      "\tEspecie: 8, 6.339285714285714\n",
      "\tEspecie: 9, 6.517857142857142\n",
      "Generación: 1\n",
      "\tEspecie: 0, 7.050595238095238\n",
      "\tEspecie: 1, 6.866071428571429\n",
      "\tEspecie: 2, 6.866071428571429\n",
      "\tEspecie: 3, 6.8601190476190474\n",
      "\tEspecie: 4, 6.336309523809524\n",
      "\tEspecie: 5, 6.866071428571429\n",
      "\tEspecie: 6, 6.711309523809524\n",
      "\tEspecie: 7, 6.675595238095238\n",
      "\tEspecie: 8, 7.050595238095238\n",
      "\tEspecie: 9, 6.491071428571429\n",
      "Generación: 2\n",
      "\tEspecie: 0, 7.086309523809524\n",
      "\tEspecie: 1, 6.892857142857142\n",
      "\tEspecie: 2, 6.872023809523809\n",
      "\tEspecie: 3, 6.523809523809524\n",
      "\tEspecie: 4, 6.526785714285714\n",
      "\tEspecie: 5, 6.678571428571429\n",
      "\tEspecie: 6, 6.705357142857142\n",
      "\tEspecie: 7, 6.494047619047619\n",
      "\tEspecie: 8, 6.869047619047619\n",
      "\tEspecie: 9, 6.869047619047619\n",
      "Generación: 3\n",
      "\tEspecie: 0, 6.717261904761905\n",
      "\tEspecie: 1, 6.866071428571429\n",
      "\tEspecie: 2, 6.869047619047619\n",
      "\tEspecie: 3, 6.705357142857142\n",
      "\tEspecie: 4, 7.056547619047619\n",
      "\tEspecie: 5, 6.714285714285714\n",
      "\tEspecie: 6, 6.550595238095238\n",
      "\tEspecie: 7, 7.050595238095238\n",
      "\tEspecie: 8, 6.681547619047619\n",
      "\tEspecie: 9, 7.050595238095238\n",
      "Generación: 4\n",
      "\tEspecie: 0, 6.872023809523809\n",
      "\tEspecie: 1, 7.050595238095238\n",
      "\tEspecie: 2, 6.872023809523809\n",
      "\tEspecie: 3, 7.050595238095238\n",
      "\tEspecie: 4, 7.056547619047619\n",
      "\tEspecie: 5, 6.872023809523809\n",
      "\tEspecie: 6, 7.050595238095238\n",
      "\tEspecie: 7, 6.520833333333333\n",
      "\tEspecie: 8, 6.711309523809524\n",
      "\tEspecie: 9, 6.895833333333333\n",
      "Generación: 5\n",
      "\tEspecie: 0, 6.681547619047619\n",
      "\tEspecie: 1, 7.056547619047619\n",
      "\tEspecie: 2, 6.869047619047619\n",
      "\tEspecie: 3, 7.053571428571429\n",
      "\tEspecie: 4, 7.431547619047619\n",
      "\tEspecie: 5, 6.863095238095238\n",
      "\tEspecie: 6, 7.056547619047619\n",
      "\tEspecie: 7, 7.056547619047619\n",
      "\tEspecie: 8, 6.872023809523809\n",
      "\tEspecie: 9, 6.705357142857142\n",
      "Generación: 6\n",
      "\tEspecie: 0, 6.872023809523809\n",
      "\tEspecie: 1, 6.901785714285714\n",
      "\tEspecie: 2, 6.717261904761905\n",
      "\tEspecie: 3, 6.866071428571429\n",
      "\tEspecie: 4, 6.869047619047619\n",
      "\tEspecie: 5, 6.681547619047619\n",
      "\tEspecie: 6, 7.0476190476190474\n",
      "\tEspecie: 7, 7.053571428571429\n",
      "\tEspecie: 8, 7.241071428571429\n",
      "\tEspecie: 9, 7.053571428571429\n",
      "Generación: 7\n",
      "\tEspecie: 0, 6.872023809523809\n",
      "\tEspecie: 1, 6.895833333333333\n",
      "\tEspecie: 2, 6.678571428571429\n",
      "\tEspecie: 3, 7.050595238095238\n",
      "\tEspecie: 4, 6.684523809523809\n",
      "\tEspecie: 5, 6.869047619047619\n",
      "\tEspecie: 6, 7.050595238095238\n",
      "\tEspecie: 7, 7.056547619047619\n",
      "\tEspecie: 8, 7.053571428571429\n",
      "\tEspecie: 9, 7.083333333333333\n",
      "Generación: 8\n",
      "\tEspecie: 0, 6.866071428571429\n",
      "\tEspecie: 1, 7.238095238095238\n",
      "\tEspecie: 2, 6.711309523809524\n",
      "\tEspecie: 3, 7.241071428571429\n",
      "\tEspecie: 4, 6.8601190476190474\n",
      "\tEspecie: 5, 6.669642857142858\n",
      "\tEspecie: 6, 7.083333333333333\n",
      "\tEspecie: 7, 7.238095238095238\n",
      "\tEspecie: 8, 7.056547619047619\n",
      "\tEspecie: 9, 6.717261904761905\n",
      "Generación: 9\n",
      "\tEspecie: 0, 7.050595238095238\n",
      "\tEspecie: 1, 7.241071428571429\n",
      "\tEspecie: 2, 6.681547619047619\n",
      "\tEspecie: 3, 7.086309523809524\n",
      "\tEspecie: 4, 7.431547619047619\n",
      "\tEspecie: 5, 7.056547619047619\n",
      "\tEspecie: 6, 7.428571428571429\n",
      "\tEspecie: 7, 7.238095238095238\n",
      "\tEspecie: 8, 7.086309523809524\n",
      "\tEspecie: 9, 7.053571428571429\n",
      "Generación: 10\n",
      "\tEspecie: 0, 6.872023809523809\n",
      "\tEspecie: 1, 7.428571428571429\n",
      "\tEspecie: 2, 6.7023809523809526\n",
      "\tEspecie: 3, 7.050595238095238\n",
      "\tEspecie: 4, 7.056547619047619\n",
      "\tEspecie: 5, 6.717261904761905\n",
      "\tEspecie: 6, 7.238095238095238\n",
      "\tEspecie: 7, 6.872023809523809\n",
      "\tEspecie: 8, 7.056547619047619\n",
      "\tEspecie: 9, 6.928571428571429\n",
      "Generación: 11\n",
      "\tEspecie: 0, 7.056547619047619\n",
      "\tEspecie: 1, 7.050595238095238\n",
      "\tEspecie: 2, 6.8601190476190474\n",
      "\tEspecie: 3, 7.056547619047619\n",
      "\tEspecie: 4, 6.711309523809524\n",
      "\tEspecie: 5, 6.675595238095238\n",
      "\tEspecie: 6, 7.428571428571429\n",
      "\tEspecie: 7, 6.892857142857142\n",
      "\tEspecie: 8, 6.928571428571429\n",
      "\tEspecie: 9, 7.053571428571429\n",
      "Generación: 12\n",
      "\tEspecie: 0, 6.869047619047619\n",
      "\tEspecie: 1, 7.241071428571429\n",
      "\tEspecie: 2, 6.866071428571429\n",
      "\tEspecie: 3, 7.089285714285714\n",
      "\tEspecie: 4, 7.050595238095238\n",
      "\tEspecie: 5, 7.056547619047619\n",
      "\tEspecie: 6, 7.083333333333333\n",
      "\tEspecie: 7, 7.086309523809524\n",
      "\tEspecie: 8, 7.056547619047619\n",
      "\tEspecie: 9, 7.056547619047619\n",
      "Generación: 13\n",
      "\tEspecie: 0, 6.872023809523809\n",
      "\tEspecie: 1, 7.241071428571429\n",
      "\tEspecie: 2, 6.8601190476190474\n",
      "\tEspecie: 3, 7.244047619047619\n",
      "\tEspecie: 4, 6.681547619047619\n",
      "\tEspecie: 5, 7.0476190476190474\n",
      "\tEspecie: 6, 7.241071428571429\n",
      "\tEspecie: 7, 6.866071428571429\n",
      "\tEspecie: 8, 7.431547619047619\n",
      "\tEspecie: 9, 6.895833333333333\n",
      "Generación: 14\n",
      "\tEspecie: 0, 6.8601190476190474\n",
      "\tEspecie: 1, 7.0476190476190474\n",
      "\tEspecie: 2, 6.872023809523809\n",
      "\tEspecie: 3, 7.089285714285714\n",
      "\tEspecie: 4, 7.056547619047619\n",
      "\tEspecie: 5, 6.869047619047619\n",
      "\tEspecie: 6, 7.619047619047619\n",
      "\tEspecie: 7, 6.711309523809524\n",
      "\tEspecie: 8, 6.872023809523809\n",
      "\tEspecie: 9, 6.895833333333333\n"
     ]
    }
   ],
   "source": [
    "ngen = 15\n",
    "n_parents = 6\n",
    "num_offspring = 500\n",
    "saturation = [0] * num_species\n",
    "saturation_threshold = 10\n",
    "generation_solution_fitness = [[],[],[],[],[],[],[],[],[],[]]\n",
    "generation_solution_previous_fitness = [0] * num_species\n",
    "\n",
    "#Evaluación inicial\n",
    "for s,s_i in zip(species,range(num_species)):\n",
    "    maxDes = 0\n",
    "    for i in s:\n",
    "        desCoev,des = obtenerDesempenoCoev(representatives,i)\n",
    "        maxDes = max(maxDes,des)\n",
    "        i.fitness.values = desCoev\n",
    "    generation_solution_fitness[s_i].append(maxDes)\n",
    "\n",
    "for gen in range(ngen):\n",
    "    print(\"Generación: \" + str(gen))\n",
    "    \n",
    "    for (s, s_index) in zip(species,range(len(species))):\n",
    "        if(saturation[s_index] >= saturation_threshold):\n",
    "            continue\n",
    "        #Selección de padres (Elitismo)\n",
    "        parents = toolbox.select(s)\n",
    "        parents = toolbox.clone(parents)\n",
    "        offspring = []\n",
    "\n",
    "        #Cruzamiento\n",
    "        while len(offspring) < num_offspring:\n",
    "            for p1,p2 in zip(parents[::2],parents[1::2]):\n",
    "                child1, child2 = toolbox.mate(p1,p2)\n",
    "                offspring.append(creator.carga(child1.copy()))\n",
    "                offspring.append(creator.carga(child2.copy()))\n",
    "\n",
    "        #Mutacion\n",
    "        for i in range(len(offspring)):\n",
    "            toolbox.mutate(offspring[i])\n",
    "            \n",
    "        #Remplazamiento\n",
    "        s = offspring.copy()\n",
    "\n",
    "        # Get the representatives excluding the current species\n",
    "        r = representatives[:i] + representatives[i+1:]\n",
    "        desMax = 0\n",
    "        for ind in s:\n",
    "            # Evaluate and set the individual fitness\n",
    "            desCoev,des = obtenerDesempenoCoev(r,ind)\n",
    "            ind.fitness.values = desCoev\n",
    "            desMax = max(desMax,des)\n",
    "        generation_solution_fitness[s_index].append(desMax)\n",
    "        \n",
    "        \n",
    "        if(desMax == generation_solution_previous_fitness[s_index]):\n",
    "            saturation[s_index] += 1\n",
    "        else:\n",
    "            generation_solution_previous_fitness[s_index] = desMax\n",
    "            saturation[s_index] = 0\n",
    "        print('\\tEspecie: ' + str(s_index) + ', ' + str(desMax))\n",
    "\n",
    "        # Select the individuals\n",
    "        species[s_index] = s.copy()\n",
    "        representatives[s_index] = tools.selBest(s,1)[0]   # Best selection"
   ]
  },
  {
   "cell_type": "code",
   "execution_count": 120,
   "id": "c9680e8a",
   "metadata": {},
   "outputs": [
    {
     "data": {
      "image/png": "[encoded data removed]",
      "text/plain": [
       "<Figure size 864x1080 with 10 Axes>"
      ]
     },
     "metadata": {
      "needs_background": "light"
     },
     "output_type": "display_data"
    }
   ],
   "source": [
    "fig, axs = plt.subplots(5,2,figsize=(12,15))\n",
    "counter = 0\n",
    "\n",
    "for i in range(5):\n",
    "    for j in range(2):\n",
    "        axs[i,j].plot(generation_solution_fitness[counter], linewidth=3)\n",
    "        axs[i,j].set_title('Especie ' + str(counter+1))\n",
    "        counter += 1\n",
    "\n",
    "for ax in axs.flat:\n",
    "    ax.set(xlabel='Generaciones', ylabel='Desempeño')\n",
    "\n",
    "# Hide x labels and tick labels for top plots and y ticks for right plots.\n",
    "for ax in axs.flat:\n",
    "    ax.label_outer()"
   ]
  },
  {
   "cell_type": "code",
   "execution_count": 76,
   "id": "59fdbb29",
   "metadata": {},
   "outputs": [
    {
     "data": {
      "text/plain": [
       "[6.336309523809524,\n",
       " 6.711309523809524,\n",
       " 6.866071428571429,\n",
       " 7.241071428571429,\n",
       " 7.083333333333333,\n",
       " 7.241071428571429,\n",
       " 7.056547619047619,\n",
       " 7.238095238095238,\n",
       " 7.238095238095238,\n",
       " 7.238095238095238,\n",
       " 7.273809523809524,\n",
       " 7.238095238095238,\n",
       " 7.428571428571429,\n",
       " 7.241071428571429,\n",
       " 7.619047619047619,\n",
       " 7.619047619047619]"
      ]
     },
     "execution_count": 76,
     "metadata": {},
     "output_type": "execute_result"
    }
   ],
   "source": [
    "generation_solution_fitness[4]"
   ]
  },
  {
   "cell_type": "code",
   "execution_count": 417,
   "id": "c6421b29",
   "metadata": {},
   "outputs": [],
   "source": [
    "for s in species:\n",
    "    for ind in s:\n",
    "        ind.fitness.values = obtenerDesempeno(ind),"
   ]
  },
  {
   "cell_type": "code",
   "execution_count": 418,
   "id": "a20d1449",
   "metadata": {},
   "outputs": [],
   "source": [
    "recomendaciones = []\n",
    "for s in species:\n",
    "    recomendaciones.append(toolbox.select(s,1)[0])"
   ]
  },
  {
   "cell_type": "code",
   "execution_count": 419,
   "id": "91bfc244",
   "metadata": {},
   "outputs": [
    {
     "name": "stdout",
     "output_type": "stream",
     "text": [
      "7.428571428571429\n",
      "7.056547619047619\n",
      "7.053571428571429\n",
      "7.053571428571429\n",
      "6.681547619047619\n",
      "6.5148809523809526\n",
      "6.681547619047619\n",
      "7.053571428571429\n",
      "7.086309523809524\n",
      "7.056547619047619\n"
     ]
    }
   ],
   "source": [
    "for r in recomendaciones:\n",
    "    print(obtenerDesempeno(r))"
   ]
  },
  {
   "cell_type": "code",
   "execution_count": 420,
   "id": "35fbcee4",
   "metadata": {},
   "outputs": [
    {
     "name": "stdout",
     "output_type": "stream",
     "text": [
      "0.3333333333333333\n",
      "0.4444444444444444\n",
      "0.4444444444444444\n",
      "0.4444444444444444\n",
      "0.4444444444444444\n",
      "0.4444444444444444\n",
      "0.3333333333333333\n",
      "0.4444444444444444\n",
      "0.5555555555555556\n",
      "0.3333333333333333\n"
     ]
    }
   ],
   "source": [
    "for x in range(10):\n",
    "    print(obtenerPesoPorSimilitud(recomendaciones[:x]+recomendaciones[x+1:],recomendaciones[x]))"
   ]
  },
  {
   "cell_type": "code",
   "execution_count": 425,
   "id": "b2f26859",
   "metadata": {},
   "outputs": [
    {
     "data": {
      "text/plain": [
       "[57, 60, 8, 50, 33, 18, 40, 40, 23]"
      ]
     },
     "execution_count": 425,
     "metadata": {},
     "output_type": "execute_result"
    }
   ],
   "source": [
    "pop[0]"
   ]
  },
  {
   "cell_type": "code",
   "execution_count": 432,
   "id": "b09c65bf",
   "metadata": {},
   "outputs": [
    {
     "data": {
      "text/plain": [
       "5.619047619047619"
      ]
     },
     "execution_count": 432,
     "metadata": {},
     "output_type": "execute_result"
    }
   ],
   "source": [
    "obtenerDesempeno(representatives[2])"
   ]
  },
  {
   "cell_type": "code",
   "execution_count": 434,
   "id": "c09fad3b",
   "metadata": {},
   "outputs": [
    {
     "data": {
      "text/plain": [
       "6.336309523809524"
      ]
     },
     "execution_count": 434,
     "metadata": {},
     "output_type": "execute_result"
    }
   ],
   "source": [
    "obtenerDesempeno(species[0][0])"
   ]
  },
  {
   "cell_type": "code",
   "execution_count": 1,
   "id": "291482c9",
   "metadata": {},
   "outputs": [],
   "source": [
    "import matplotlib.pyplot as plt"
   ]
  },
  {
   "cell_type": "code",
   "execution_count": 29,
   "id": "e4b4ac5c",
   "metadata": {},
   "outputs": [
    {
     "data": {
      "text/plain": [
       "[<matplotlib.lines.Line2D at 0x2e3bd252e80>]"
      ]
     },
     "execution_count": 29,
     "metadata": {},
     "output_type": "execute_result"
    },
    {
     "data": {
      "image/png": "[encoded data removed]",
      "text/plain": [
       "<Figure size 432x288 with 1 Axes>"
      ]
     },
     "metadata": {
      "needs_background": "light"
     },
     "output_type": "display_data"
    }
   ],
   "source": [
    "x = 5\n",
    "plt.plot(list(-((y**x)/(9**x))+1 for y in range(10)))"
   ]
  },
  {
   "cell_type": "code",
   "execution_count": null,
   "id": "5a0bb0b5",
   "metadata": {},
   "outputs": [],
   "source": []
  }
 ],
 "metadata": {
  "kernelspec": {
   "display_name": "Python 3 (ipykernel)",
   "language": "python",
   "name": "python3"
  },
  "language_info": {
   "codemirror_mode": {
    "name": "ipython",
    "version": 3
   },
   "file_extension": ".py",
   "mimetype": "text/x-python",
   "name": "python",
   "nbconvert_exporter": "python",
   "pygments_lexer": "ipython3",
   "version": "3.9.12"
  }
 },
 "nbformat": 4,
 "nbformat_minor": 5
}
