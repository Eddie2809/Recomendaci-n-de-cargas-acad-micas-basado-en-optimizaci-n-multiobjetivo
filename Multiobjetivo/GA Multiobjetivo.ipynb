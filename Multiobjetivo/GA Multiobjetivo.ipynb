{
 "cells": [
  {
   "cell_type": "code",
   "execution_count": 1,
   "id": "1ffb1c7f",
   "metadata": {},
   "outputs": [],
   "source": [
    "import pandas as pd\n",
    "import numpy as np\n",
    "import pygad as pg\n",
    "import deap as dp\n",
    "import random\n",
    "from deap import base, creator, tools, gp, algorithms\n",
    "import time\n",
    "import matplotlib.pyplot as plt"
   ]
  },
  {
   "cell_type": "code",
   "execution_count": 2,
   "id": "9ea384b4",
   "metadata": {},
   "outputs": [],
   "source": [
    "oferta = pd.read_csv('oferta.csv')\n",
    "asignaturas = pd.read_csv('asignaturas.csv')\n",
    "formato_cargas = pd.read_csv('formato_cargas.csv')\n",
    "plan_2016 = pd.read_csv('plan_2016.csv')\n",
    "seriaciones = pd.read_csv('../seriacion.csv')"
   ]
  },
  {
   "cell_type": "markdown",
   "id": "e270f83a",
   "metadata": {},
   "source": [
    "# Definición de funciones útiles"
   ]
  },
  {
   "cell_type": "markdown",
   "id": "650e1224",
   "metadata": {},
   "source": [
    "## Función para obtener un Kardex aleatorio"
   ]
  },
  {
   "cell_type": "code",
   "execution_count": 3,
   "id": "a693ee2c",
   "metadata": {},
   "outputs": [],
   "source": [
    "def obtenerKardex(mat = -1):\n",
    "    if(mat == -1):\n",
    "        mat = np.random.choice(matriculas)\n",
    "    return formato_cargas.query('n_matricula == ' + str(mat)).sort_values('periodo')"
   ]
  },
  {
   "cell_type": "code",
   "execution_count": 4,
   "id": "ec725b61",
   "metadata": {},
   "outputs": [],
   "source": [
    "def obtenerCreditos(kardex):\n",
    "    claves = kardex.query('promediofinal >= 7')['clave'].unique()\n",
    "    totalCreditos = 0\n",
    "    for clave in claves:\n",
    "        if(clave[0:2] == 'LI' or clave[0:2] == 'TA' or clave[0:2] == 'AD'):\n",
    "            continue\n",
    "        totalCreditos += plan.query('clave == \"' + clave + '\"')['creditos'].values[0]\n",
    "    return totalCreditos"
   ]
  },
  {
   "cell_type": "code",
   "execution_count": 5,
   "id": "64788fdb",
   "metadata": {},
   "outputs": [],
   "source": [
    "def obtenerRecomendacionesUnicas(recomendaciones,umbral):\n",
    "    recomendacionesFinal = []\n",
    "    for rec in recomendaciones:\n",
    "        recomendacionesFinal.append(list(set(rec)))\n",
    "    recomendacionesFinal = list(np.unique(recomendacionesFinal))\n",
    "    recomendacionesFinal.sort(key=lambda x: -obtenerDesempeno(x))\n",
    "\n",
    "    return recomendacionesFinal"
   ]
  },
  {
   "cell_type": "markdown",
   "id": "6bdec6b6",
   "metadata": {},
   "source": [
    "## Obtención de oferta útil"
   ]
  },
  {
   "cell_type": "code",
   "execution_count": 6,
   "id": "1c9e8089",
   "metadata": {},
   "outputs": [],
   "source": [
    "def materiaHaSidoAprobada(kardex,clave):\n",
    "    if len(kardex.query('clave == \"' + clave + '\" and promediofinal >= 7')) == 0:\n",
    "        return False\n",
    "    else:\n",
    "        return True"
   ]
  },
  {
   "cell_type": "code",
   "execution_count": 7,
   "id": "53bcefea",
   "metadata": {},
   "outputs": [],
   "source": [
    "def respetaSeriacion(clave,kardex):\n",
    "    if len(seriaciones.query('ser2 == \"' + clave + '\"')) == 0:\n",
    "        return True\n",
    "    else:\n",
    "        #Se guarda en necesarias la lista de asignaturas necesarias para llevar la asignura \"clave\"\n",
    "        necesarias = seriaciones.query('ser2 == \"' + clave + '\"')['ser1'].unique()\n",
    "        \n",
    "        #Se recorre la lista para comprobar si el estudiante ya pasó las asignaturas necesarias, en caso de que le falte \n",
    "        #al menos una, entonces no se respeta la seriación.\n",
    "        for necesaria in necesarias:\n",
    "            if not(materiaHaSidoAprobada(kardex,necesaria)):\n",
    "                return False\n",
    "        return True"
   ]
  },
  {
   "cell_type": "code",
   "execution_count": 8,
   "id": "636cba1b",
   "metadata": {},
   "outputs": [],
   "source": [
    "#Filtra las materias que no cumplen las restricciones 1 y 2\n",
    "\n",
    "def obtenerOfertaUtil(kardex,oferta):\n",
    "    dias = ['Lunes','Martes','Miercoles','Jueves','Viernes']\n",
    "    \n",
    "    #Se eliminan las materias en la oferta que ya han sido aprobadas\n",
    "    aprobadas = kardex.query('promediofinal >= 7')['clave'].unique()\n",
    "    for clave in aprobadas:\n",
    "        oferta = oferta.query('clave != \"' + clave + '\"')\n",
    "        \n",
    "    #Se eliminan las materias que el alumno no puede llevar por la seriación\n",
    "    ofertaUtilIndex = set(oferta.index.values)\n",
    "    for idx in oferta.index:\n",
    "        if not(respetaSeriacion(oferta.loc[idx]['clave'],kardex)):\n",
    "            ofertaUtilIndex.remove(idx)\n",
    "            \n",
    "    #Se eliminan prácticas profesionales y proyecto terminal\n",
    "    for i in range(len(oferta['clave'].values)):\n",
    "        clave = oferta['clave'].values[i]\n",
    "        if clave[0:3] == 'PID' or clave == 'IT0427':\n",
    "            try:\n",
    "                ofertaUtilIndex.remove(oferta.index.values[i])\n",
    "            except:\n",
    "                continue\n",
    "    ofertaUtil = oferta.loc[list(ofertaUtilIndex)]\n",
    "    \n",
    "    ofertaUtil = pd.merge(ofertaUtil,plan,how='left',on='clave')[['clave','ciclos','Nombre','Maestro','Lunes','Martes','Miercoles','Jueves','Viernes']]\n",
    "    \n",
    "    #Se eliminan materias de elección libre de primer y segundo ciclo\n",
    "    if(materiaHaSidoAprobada(kardex,'IL0102')):\n",
    "        ofertaUtil = ofertaUtil.query('clave != \"ID0160\"')\n",
    "    if(materiaHaSidoAprobada(kardex,'ID0160')):\n",
    "        ofertaUtil = ofertaUtil.query('clave != \"IL0102\"')\n",
    "    \n",
    "    if(materiaHaSidoAprobada(kardex,'IT0103')):\n",
    "        ofertaUtil = ofertaUtil.query('clave != \"ID0161\"')\n",
    "    if(materiaHaSidoAprobada(kardex,'ID0161')):\n",
    "        ofertaUtil = ofertaUtil.query('clave != \"IT0103\"')\n",
    "        \n",
    "    if(materiaHaSidoAprobada(kardex,'ID0264')):\n",
    "        ofertaUtil = ofertaUtil.query('clave != \"ID0262\"')\n",
    "    if(materiaHaSidoAprobada(kardex,'ID0262')):\n",
    "        ofertaUtil = ofertaUtil.query('clave != \"ID0264\"')\n",
    "        \n",
    "    if(materiaHaSidoAprobada(kardex,'ID0263')):\n",
    "        ofertaUtil = ofertaUtil.query('clave != \"ID0265\"')\n",
    "    if(materiaHaSidoAprobada(kardex,'ID0265')):\n",
    "        ofertaUtil = ofertaUtil.query('clave != \"ID0263\"')\n",
    "        \n",
    "    #Si la disponibilidad de horario es una restricción, entonces elimina las materias que violen la restricción\n",
    "    if(disponibilidadComoRestriccion):\n",
    "        indices = set(ofertaUtil.index)\n",
    "        indicesUtiles = indices.copy()\n",
    "        for dia in dias:\n",
    "            for i in indices:\n",
    "                if ofertaUtil.loc[i][dia] == '-':\n",
    "                    continue\n",
    "                \n",
    "                horaInicio = int(ofertaUtil.loc[i][dia][0:2])\n",
    "                horaFin = int(ofertaUtil.loc[i][dia][6:8])\n",
    "                \n",
    "                for hora in range(horaInicio,horaFin):\n",
    "                    if not(disponibilidad.query('hora == ' + str(hora))[dia].values[0]):\n",
    "                        if i in indicesUtiles:\n",
    "                            indicesUtiles.remove(i)\n",
    "        indicesUtiles = list(indicesUtiles)\n",
    "        ofertaUtil = ofertaUtil.loc[indicesUtiles]\n",
    "    \n",
    "    return ofertaUtil"
   ]
  },
  {
   "cell_type": "markdown",
   "id": "7c1c3848",
   "metadata": {},
   "source": [
    "## Generación de carga aleatoria válida"
   ]
  },
  {
   "cell_type": "markdown",
   "id": "a66d78f1",
   "metadata": {},
   "source": [
    "En esta sección creamos las funciones \"generarCargaValida\" la cual retorna una string de bits representando una carga académica con base a la oferta útil. También se crea la función \"obtenerDatosCarga\" que nos ayuda a obtener los datos de una carga académica con base a la oferta útil y a una string de bits que denominamos \"bits de carga\""
   ]
  },
  {
   "cell_type": "code",
   "execution_count": 9,
   "id": "5e238cf9",
   "metadata": {},
   "outputs": [],
   "source": [
    "def generarSolucionAleatoria(ofertaUtil):\n",
    "    solucion = [-1] * 9\n",
    "    for i in range(9):\n",
    "        gen = np.random.randint(-1,len(ofertaUtil))\n",
    "        if gen == -1:\n",
    "            solucion[i] = -1\n",
    "        else:\n",
    "            solucion[i] = ofertaUtil.index[gen]\n",
    "    return solucion"
   ]
  },
  {
   "cell_type": "code",
   "execution_count": 10,
   "id": "136e15f5",
   "metadata": {},
   "outputs": [],
   "source": [
    "def obtenerDatosCarga(solucion):\n",
    "    solucionU = np.array(solucion)\n",
    "    solucionU = np.unique(solucionU)\n",
    "    solucionU = solucionU[solucionU >= 0]\n",
    "    \n",
    "    return ofertaUtil.loc[solucionU]"
   ]
  },
  {
   "cell_type": "code",
   "execution_count": 11,
   "id": "d49e48ef",
   "metadata": {},
   "outputs": [],
   "source": [
    "def comprobarTraslapacion(solucion,ofertaUtil):\n",
    "    datosCarga = obtenerDatosCarga(solucion)\n",
    "    dias = ['Lunes','Martes','Miercoles','Jueves','Viernes']\n",
    "    \n",
    "    for dia in dias:\n",
    "        horarioDia = datosCarga.sort_values(dia)[dia].values\n",
    "        for i in range(len(horarioDia)):\n",
    "            if horarioDia[i] == '-':\n",
    "                continue\n",
    "            horaInicioI = int(horarioDia[i][0:2])\n",
    "            horaFinI = int(horarioDia[i][6:8])\n",
    "            \n",
    "            for j in range(i+1,len(horarioDia)):\n",
    "                horaInicioJ = int(horarioDia[j][0:2])\n",
    "                horaFinJ = int(horarioDia[j][6:8])\n",
    "                \n",
    "                if not(horaFinJ  <= horaInicioI or horaInicioJ >= horaFinI):\n",
    "                    return True\n",
    "    return False"
   ]
  },
  {
   "cell_type": "code",
   "execution_count": 12,
   "id": "584ec5ea",
   "metadata": {},
   "outputs": [],
   "source": [
    "def esValido(solucion,ofertaUtil):\n",
    "    #Si se repite una materia es inválido\n",
    "    datosCarga = obtenerDatosCarga(solucion)\n",
    "    if len(datosCarga['clave'].unique()) < len(datosCarga):\n",
    "        return False\n",
    "    #Si se traslapan dos materias es inválido\n",
    "    if comprobarTraslapacion(solucion,ofertaUtil):\n",
    "        return False\n",
    "    #Si son menos de 3 materias es inválido\n",
    "    solucionSet = set(solucion)\n",
    "    if -1 in solucionSet:\n",
    "        solucionSet.remove(-1)\n",
    "    if(len(solucionSet)<3):\n",
    "        return False\n",
    "    \n",
    "    #Si se llevan dos materias de elección libre del ciclo 1 y 2\n",
    "    clavesSet = set(datosCarga['clave'])\n",
    "    \n",
    "    if 'IL0102' in clavesSet and 'ID0160' in clavesSet:\n",
    "        return False\n",
    "    if 'IT0103' in clavesSet and 'ID0161' in clavesSet:\n",
    "        return False\n",
    "    if 'ID0264' in clavesSet and 'ID0262' in clavesSet:\n",
    "        return False\n",
    "    if 'ID0263' in clavesSet and 'ID0265' in clavesSet:\n",
    "        return False\n",
    "    \n",
    "    return True"
   ]
  },
  {
   "cell_type": "code",
   "execution_count": 13,
   "id": "b37d67d9",
   "metadata": {},
   "outputs": [],
   "source": [
    "def generarSolucionValida(ofertaUtil):\n",
    "    bitsDeCarga = generarSolucionAleatoria(ofertaUtil)\n",
    "    \n",
    "    while not(esValido(bitsDeCarga,ofertaUtil)):\n",
    "        bitsDeCarga = generarSolucionAleatoria(ofertaUtil)\n",
    "    \n",
    "    return bitsDeCarga"
   ]
  },
  {
   "cell_type": "code",
   "execution_count": 14,
   "id": "2dda725e",
   "metadata": {},
   "outputs": [],
   "source": [
    "def obtenerHorario(carga):\n",
    "    primeraHoraMinima = 24\n",
    "    ultimaHoraMaxima = 0\n",
    "    datosCarga = obtenerDatosCarga(carga)\n",
    "    horario = pd.DataFrame({\n",
    "        'Hora': ['7:00-8:00','8:00-9:00','9:00-10:00','10:00-11:00','11:00-12:00','12:00-13:00','13:00-14:00','14:00-15:00','15:00-16:00','16:00-17:00','17:00-18:00','18:00-19:00','19:00-20:00','20:00-21:00','21:00-22:00'],\n",
    "        'Lunes': ['-','-','-','-','-','-','-','-','-','-','-','-','-','-','-'],\n",
    "        'Martes': ['-','-','-','-','-','-','-','-','-','-','-','-','-','-','-'],\n",
    "        'Miercoles': ['-','-','-','-','-','-','-','-','-','-','-','-','-','-','-'],\n",
    "        'Jueves': ['-','-','-','-','-','-','-','-','-','-','-','-','-','-','-'],\n",
    "        'Viernes': ['-','-','-','-','-','-','-','-','-','-','-','-','-','-','-'],\n",
    "    })\n",
    "    dias = ['Lunes','Martes','Miercoles','Jueves','Viernes']\n",
    "    for dia in dias:\n",
    "        for i in range(len(datosCarga)):\n",
    "            if datosCarga[dia].iloc[i] == '-':\n",
    "                continue\n",
    "\n",
    "            horaInicio = int(datosCarga.iloc[i][dia][0:2])\n",
    "            horaFin = int(datosCarga.iloc[i][dia][6:8])\n",
    "            \n",
    "            primeraHoraMinima = min(primeraHoraMinima,horaInicio)\n",
    "            ultimaHoraMaxima = max(ultimaHoraMaxima,horaFin)\n",
    "            \n",
    "            nombre = datosCarga.iloc[i]['Nombre']\n",
    "\n",
    "            for hora in range(horaInicio,horaFin):\n",
    "                horario.loc[hora-7,dia]=nombre\n",
    "    return horario[(primeraHoraMinima-7):(ultimaHoraMaxima-6)]"
   ]
  },
  {
   "cell_type": "markdown",
   "id": "ce892328",
   "metadata": {},
   "source": [
    "# Definición de funciones de utilidad y de costo"
   ]
  },
  {
   "cell_type": "markdown",
   "id": "3a651fdf",
   "metadata": {},
   "source": [
    "## Utilidad de carga académica con base en cantidad ideal de materias"
   ]
  },
  {
   "cell_type": "code",
   "execution_count": 15,
   "id": "658cf16b",
   "metadata": {},
   "outputs": [],
   "source": [
    "def UpCM(solucion):\n",
    "    if(cantidadMateriasIdeal == 0):\n",
    "        return 1\n",
    "    \n",
    "    diferenciaMaxima = max(cantidadMateriasIdeal-3,9-cantidadMateriasIdeal)\n",
    "    solucionSet = set(solucion)\n",
    "    \n",
    "    if -1 in solucionSet:\n",
    "        solucionSet.remove(-1)\n",
    "        \n",
    "    tamanoCarga = len(solucionSet)\n",
    "    separacion = abs(tamanoCarga-cantidadMateriasIdeal)\n",
    "    \n",
    "    return 1 - (separacion / diferenciaMaxima)"
   ]
  },
  {
   "cell_type": "markdown",
   "id": "3b187491",
   "metadata": {},
   "source": [
    "## Utilidad de carga académica con base en las materias reprobadas"
   ]
  },
  {
   "cell_type": "code",
   "execution_count": 16,
   "id": "65b92edf",
   "metadata": {},
   "outputs": [],
   "source": [
    "def obtenerMateriasReprobadas(kardex):\n",
    "    materiasReprobadas = kardex.query('promediofinal < 7')['clave'].unique()\n",
    "    materiasReprobadasFinal = []\n",
    "    for clave in materiasReprobadas:\n",
    "        aprobado = len(kardex.query('clave == \"' + clave + '\" and promediofinal >= 7'))\n",
    "        if aprobado == 0:\n",
    "            materiasReprobadasFinal.append(clave)\n",
    "    return materiasReprobadasFinal"
   ]
  },
  {
   "cell_type": "code",
   "execution_count": 17,
   "id": "3a2e830e",
   "metadata": {},
   "outputs": [],
   "source": [
    "def UpMR(kardex,solucion,ofertaUtil):\n",
    "    materiasReprobadas = obtenerMateriasReprobadas(kardex)\n",
    "    if len(materiasReprobadas) == 0:\n",
    "        return 1\n",
    "    datosCarga = obtenerDatosCarga(solucion)\n",
    "    utilidadTotal = 0\n",
    "    \n",
    "    for clave in materiasReprobadas:\n",
    "        cargado = len(datosCarga.query('clave == \"' + clave + '\"'))\n",
    "        if cargado == 1:\n",
    "            utilidadTotal += 1\n",
    "            \n",
    "    \n",
    "    #Normalización\n",
    "    utilidad = (utilidadTotal)/(len(materiasReprobadas))\n",
    "    return utilidad"
   ]
  },
  {
   "cell_type": "markdown",
   "id": "3385911a",
   "metadata": {},
   "source": [
    "## Utilidad de carga académica con base en el cierre de ciclos"
   ]
  },
  {
   "cell_type": "code",
   "execution_count": 18,
   "id": "b311b785",
   "metadata": {},
   "outputs": [],
   "source": [
    "def UpCC(solucion,ofertaUtil):\n",
    "    base = 3\n",
    "    utilidad = [base**3,base**2,base,1]\n",
    "    utilidadTotal = 0\n",
    "    \n",
    "    menorCiclo = min(ofertaUtil['ciclos']) - 1\n",
    "    \n",
    "    datosCarga = obtenerDatosCarga(solucion)\n",
    "    \n",
    "    claves = datosCarga['clave'].unique()\n",
    "    for i in range(len(claves)):\n",
    "        if claves[i][0:2] == 'AD'or claves[i][0:2] == 'TA' or claves[i][0:2] == 'LI' or claves[i][0:2] == 'PI':\n",
    "            continue\n",
    "            \n",
    "        ciclo = int(plan.query('clave == \"' + claves[i] + '\"')['ciclos']) - 1\n",
    "        utilidadTotal += utilidad[ciclo - menorCiclo]\n",
    "    \n",
    "    utilidadMaxima = 0\n",
    "    cantidadMateriasCiclo1 = len(ofertaUtil.query('ciclos == ' + str(menorCiclo+1))['clave'].unique())\n",
    "    cantidadMateriasCiclo2 = len(ofertaUtil.query('ciclos == ' + str(menorCiclo+2))['clave'].unique())\n",
    "    cantidadMateriasCiclo3 = len(ofertaUtil.query('ciclos == ' + str(menorCiclo+3))['clave'].unique())\n",
    "    cantidadMateriasCiclo4 = len(ofertaUtil.query('ciclos == ' + str(menorCiclo+4))['clave'].unique())\n",
    "    cantidadMateriasMaxima = 9\n",
    "    \n",
    "    m1 = m2 = m3 = m4 = 0\n",
    "    \n",
    "    if (cantidadMateriasMaxima - cantidadMateriasCiclo1) >= 0:\n",
    "        m1 = cantidadMateriasCiclo1\n",
    "        cantidadMateriasMaxima -= cantidadMateriasCiclo1\n",
    "    else:\n",
    "        m1 = 9\n",
    "        cantidadMateriasMaxima = 0\n",
    "    if (cantidadMateriasMaxima - cantidadMateriasCiclo2) >= 0:\n",
    "        m2 = cantidadMateriasCiclo2\n",
    "        cantidadMateriasMaxima -= cantidadMateriasCiclo2\n",
    "    elif cantidadMateriasMaxima > 0:\n",
    "        m2 = cantidadMateriasMaxima\n",
    "        cantidadMateriasMaxima = 0\n",
    "    if (cantidadMateriasMaxima - cantidadMateriasCiclo3) >= 0:\n",
    "        m3 = cantidadMateriasCiclo3\n",
    "        cantidadMateriasMaxima -= cantidadMateriasCiclo3\n",
    "    elif cantidadMateriasMaxima > 0:\n",
    "        m3 = cantidadMateriasMaxima\n",
    "        cantidadMateriasMaxima = 0\n",
    "    if (cantidadMateriasMaxima - cantidadMateriasCiclo4) >= 0:\n",
    "        m4 = cantidadMateriasCiclo4\n",
    "        cantidadMateriasMaxima -= cantidadMateriasCiclo4\n",
    "    elif cantidadMateriasMaxima > 0:\n",
    "        m4 = cantidadMateriasMaxima\n",
    "        cantidadMateriasMaxima = 0\n",
    "        \n",
    "    \n",
    "    utilidadMaxima = m1*utilidad[0] + m2*utilidad[1] + m3*utilidad[2] + m4*utilidad[3]\n",
    " \n",
    "    #Normalización\n",
    "    utilidadNorm = (utilidadTotal)/(utilidadMaxima)\n",
    "    return utilidadNorm"
   ]
  },
  {
   "cell_type": "markdown",
   "id": "1316cc72",
   "metadata": {},
   "source": [
    "## Costo por amplitud de horario"
   ]
  },
  {
   "cell_type": "code",
   "execution_count": 19,
   "id": "2c8a9845",
   "metadata": {},
   "outputs": [],
   "source": [
    "def CpAH(solucion):\n",
    "    amplitudAceptable = 7\n",
    "    \n",
    "    datosCarga = obtenerDatosCarga(solucion)\n",
    "    dias = ['Lunes','Martes','Miercoles','Jueves','Viernes']\n",
    "    horaMin = 21\n",
    "    horaMax = 7\n",
    "    \n",
    "    for dia in dias:\n",
    "        for hora in datosCarga[dia]:\n",
    "            if hora == '-':\n",
    "                continue\n",
    "            horaMin = min(int(hora[0:2]),horaMin)\n",
    "            horaMax = max(int(hora[6:8]),horaMax)\n",
    "            \n",
    "    amplitud = (horaMax - horaMin)\n",
    "    if amplitud <= amplitudAceptable:\n",
    "        return 0\n",
    "    amplitud -= amplitudAceptable\n",
    "    \n",
    "    return amplitud / (15 - amplitudAceptable)"
   ]
  },
  {
   "cell_type": "markdown",
   "id": "3055acdc",
   "metadata": {},
   "source": [
    "## Costo de carga académica con base en las horas libres"
   ]
  },
  {
   "cell_type": "markdown",
   "id": "8e3c3124",
   "metadata": {},
   "source": [
    "#### NOTA: Tomar en cuenta las horas libres por día"
   ]
  },
  {
   "cell_type": "code",
   "execution_count": 20,
   "id": "de37cf1b",
   "metadata": {},
   "outputs": [],
   "source": [
    "    def CpHL(solucion,ofertaUtil):\n",
    "        dias = ['Lunes','Martes','Miercoles','Jueves','Viernes']\n",
    "        costoTotal = 0\n",
    "        hlMax = 0\n",
    "\n",
    "        datosCarga = obtenerDatosCarga(solucion)\n",
    "\n",
    "        for dia in dias:\n",
    "            datosCarga = datosCarga.sort_values(dia)\n",
    "            if datosCarga[dia].iloc[len(datosCarga)-2] == '-':\n",
    "                continue\n",
    "\n",
    "            ultimaHoraFin = 0\n",
    "            for i in range(len(datosCarga)):\n",
    "                if datosCarga.iloc[i][dia] == '-':\n",
    "                    continue\n",
    "                if ultimaHoraFin == 0:\n",
    "                    ultimaHoraFin = int(datosCarga.iloc[i][dia][6:8])\n",
    "                    primeraHoraDia = int(datosCarga.iloc[i][dia][0:2])\n",
    "                    continue\n",
    "                horaInicio = int(datosCarga.iloc[i][dia][0:2])\n",
    "                costoTotal += (horaInicio - ultimaHoraFin)\n",
    "                ultimaHoraFin = int(datosCarga.iloc[i][dia][6:8])\n",
    "            hlMax += (ultimaHoraFin - primeraHoraDia - 2)\n",
    "\n",
    "        if hlMax == 0:\n",
    "            return 0\n",
    "        #Normalización\n",
    "        costo = (costoTotal)/(hlMax)\n",
    "        return costo"
   ]
  },
  {
   "cell_type": "markdown",
   "id": "25015bdb",
   "metadata": {},
   "source": [
    "## Costo de carga académica con base en la disponibilidad de horario del estudiante"
   ]
  },
  {
   "cell_type": "markdown",
   "id": "73d999ec",
   "metadata": {},
   "source": [
    "Creamos 4 casos diferentes donde los estudiantes trabajan. Guardamos el horario de ocupación de los estudiantes en un dataframe por cada estudiante."
   ]
  },
  {
   "cell_type": "code",
   "execution_count": 21,
   "id": "709995e9",
   "metadata": {},
   "outputs": [],
   "source": [
    "# El estudiante trabaja por las mañanas tiempo completo\n",
    "disp_est_1 = pd.DataFrame({\n",
    "    \"hora\": [7,8,9,10,11,12,13,14,15,16,17,18,19,20,21],\n",
    "    \"Lunes\": [False,False,False,False,False,False,False,False,False,True,True,True,True,True,True],\n",
    "    \"Martes\": [False,False,False,False,False,False,False,False,False,True,True,True,True,True,True],\n",
    "    \"Miercoles\": [False,False,False,False,False,False,False,False,False,True,True,True,True,True,True],\n",
    "    \"Jueves\": [False,False,False,False,False,False,False,False,False,True,True,True,True,True,True],\n",
    "    \"Viernes\": [False,False,False,False,False,False,False,False,False,True,True,True,True,True,True],\n",
    "})\n",
    "\n",
    "\n",
    "# El estudiante trabaja por las tardes tiempo completo\n",
    "disp_est_2 = pd.DataFrame({\n",
    "    \"hora\": [7,8,9,10,11,12,13,14,15,16,17,18,19,20,21],\n",
    "    \"Lunes\": [True,True,True,True,True,True,False,False,False,False,False,False,False,False,False],\n",
    "    \"Martes\": [True,True,True,True,True,True,False,False,False,False,False,False,False,False,False],\n",
    "    \"Miercoles\": [True,True,True,True,True,True,False,False,False,False,False,False,False,False,False],\n",
    "    \"Jueves\": [True,True,True,True,True,True,False,False,False,False,False,False,False,False,False],\n",
    "    \"Viernes\": [True,True,True,True,True,True,False,False,False,False,False,False,False,False,False],\n",
    "})\n",
    "\n",
    "# El estudiante trabaja por las mañanas medio tiempo\n",
    "disp_est_3 = pd.DataFrame({\n",
    "    \"hora\": [7,8,9,10,11,12,13,14,15,16,17,18,19,20,21],\n",
    "    \"Lunes\": [True,False,False,False,False,False,True,True,True,True,True,True,True,False,False],\n",
    "    \"Martes\": [True,False,False,False,False,False,True,True,True,True,True,True,True,False,False],\n",
    "    \"Miercoles\": [True,False,False,False,False,False,True,True,True,True,True,True,True,False,False],\n",
    "    \"Jueves\": [True,False,False,False,False,False,True,True,True,True,True,True,True,False,False],\n",
    "    \"Viernes\": [True,False,False,False,False,False,True,True,True,True,True,True,True,False,False],\n",
    "})\n",
    "# El estudiante trabaja por las tardes medio tiempo\n",
    "disp_est_4 = pd.DataFrame({\n",
    "    \"hora\": [7,8,9,10,11,12,13,14,15,16,17,18,19,20,21],\n",
    "    \"Lunes\": [True,True,True,True,True,False,False,False,False,False,True,True,True,True,True],\n",
    "    \"Martes\": [True,True,True,True,True,False,False,False,False,False,True,True,True,True,True],\n",
    "    \"Miercoles\": [True,True,True,True,True,False,False,False,False,False,True,True,True,True,True],\n",
    "    \"Jueves\": [True,True,True,True,True,False,False,False,False,False,True,True,True,True,True],\n",
    "    \"Viernes\": [True,True,True,True,True,False,False,False,False,False,True,True,True,True,True],\n",
    "})\n",
    "disp_est_5 = pd.DataFrame({\n",
    "    \"hora\": [7,8,9,10,11,12,13,14,15,16,17,18,19,20,21],\n",
    "    \"Lunes\": [True,True,True,True,True,True,True,True,True,True,True,True,True,True,True],\n",
    "    \"Martes\": [True,True,True,True,True,True,True,True,True,True,True,True,True,True,True],\n",
    "    \"Miercoles\": [True,True,True,True,True,True,True,True,True,True,True,True,True,True,True],\n",
    "    \"Jueves\": [True,True,True,True,True,True,True,True,True,True,True,True,True,True,True],\n",
    "    \"Viernes\": [True,True,True,True,True,True,True,True,True,True,True,True,True,True,True],\n",
    "})"
   ]
  },
  {
   "cell_type": "code",
   "execution_count": 22,
   "id": "7137d3f9",
   "metadata": {
    "scrolled": false
   },
   "outputs": [],
   "source": [
    "disponibilidadArr = [disp_est_1,disp_est_2,disp_est_3,disp_est_4,disp_est_5]"
   ]
  },
  {
   "cell_type": "code",
   "execution_count": 23,
   "id": "7e1f73fd",
   "metadata": {},
   "outputs": [],
   "source": [
    "def CpDH(solucion,ofertaUtil,disponibilidad):\n",
    "    disponibilidadTotal = sum(disponibilidad['Lunes']) + sum(disponibilidad['Martes']) + sum(disponibilidad['Miercoles']) + sum(disponibilidad['Jueves']) + sum(disponibilidad['Viernes'])\n",
    "    if disponibilidadTotal == 75:\n",
    "        return 0\n",
    "    \n",
    "    dias = ['Lunes','Martes','Miercoles','Jueves','Viernes']\n",
    "    datosCarga = obtenerDatosCarga(solucion)\n",
    "    costoTotal = 0\n",
    "\n",
    "    for dia in dias:\n",
    "        for i in range(len(datosCarga)):\n",
    "            if datosCarga[dia].iloc[i] == '-':\n",
    "                continue\n",
    "\n",
    "            horaInicio = int(datosCarga.iloc[i][dia][0:2])\n",
    "            horaFin = int(datosCarga.iloc[i][dia][6:8])\n",
    "\n",
    "            for hora in range(horaInicio,horaFin):\n",
    "                if not(disponibilidad.query('hora == ' + str(hora))[dia].values[0]):\n",
    "                    costoTotal += 1\n",
    "                    \n",
    "    #Normalización\n",
    "    costo = (costoTotal)/(75 - disponibilidadTotal)\n",
    "    return costo"
   ]
  },
  {
   "cell_type": "markdown",
   "id": "16e07217",
   "metadata": {},
   "source": [
    "# Definición de la función de desempeño"
   ]
  },
  {
   "cell_type": "code",
   "execution_count": 24,
   "id": "b8466a64",
   "metadata": {},
   "outputs": [],
   "source": [
    "def obtenerDesempeno(solucion):\n",
    "    if not(esValido(solucion,ofertaUtil)):\n",
    "        return 0\n",
    "    \n",
    "    upcc = UpCC(solucion,ofertaUtil)\n",
    "    upmr = UpMR(kardex,solucion,ofertaUtil)\n",
    "    upcm = UpCM(solucion)\n",
    "    cpdh = CpDH(solucion,ofertaUtil,disponibilidad)\n",
    "    cpah = CpAH(solucion)\n",
    "    \n",
    "    utilidades = {\n",
    "        \"upcc\": (upcc * pesos[\"upcc\"]),\n",
    "        \"upmr\": (upmr * pesos[\"upmr\"]),\n",
    "        \"upcm\": (upcm * pesos[\"upcm\"]),\n",
    "        \"cpdh\": pesos[\"cpdh\"] - (cpdh * pesos[\"cpdh\"]),\n",
    "        \"cpah\": pesos[\"cpah\"] - (cpah * pesos[\"cpah\"]),\n",
    "    }\n",
    "    \n",
    "    return sum(utilidades.values())"
   ]
  },
  {
   "cell_type": "code",
   "execution_count": 25,
   "id": "36164559",
   "metadata": {},
   "outputs": [],
   "source": [
    "def evaluarSolucion(solucion):\n",
    "    upcc = UpCC(solucion,ofertaUtil)\n",
    "    upmr = UpMR(kardex,solucion,ofertaUtil)\n",
    "    upcm = UpCM(solucion)\n",
    "    cpdh = CpDH(solucion,ofertaUtil,disponibilidad)\n",
    "    cpah = CpAH(solucion)\n",
    "    \n",
    "    print(\"La carga evaluada tiene:\")\n",
    "    print(\"\\t\" + str(round(100*upcc,2)) + \"% de utilidad por las materias de primeros ciclos llevadas.\")\n",
    "    print(\"\\t\" + str(round(100*upmr,2)) + \"% del total de las materias reprobadas del estudiante.\") \n",
    "    print(\"\\t\" + str(round(100*upcm,2)) + \"% de utilidad por cantidad ideal de materias del estudiante.\") \n",
    "    print(\"\\t\" + str(round(100*cpdh,2)) + \"% de costo por sobreposición con las horas donde el estudiante no está disponible.\")\n",
    "    print(\"\\t\" + str(round(100*cpah,2)) + \"% de costo por el total de amplitud de horario.\")"
   ]
  },
  {
   "cell_type": "code",
   "execution_count": 26,
   "id": "600603e9",
   "metadata": {},
   "outputs": [],
   "source": [
    "def on_generation(ga_instance):\n",
    "    print(\"Generación: \" + str(ga_instance.generations_completed))"
   ]
  },
  {
   "cell_type": "code",
   "execution_count": 27,
   "id": "1d1a7890",
   "metadata": {},
   "outputs": [],
   "source": [
    "def obtenerClase():\n",
    "    gen = np.random.randint(-1,len(ofertaUtil))\n",
    "    if gen == -1:\n",
    "        clase = -1\n",
    "    else:\n",
    "        clase = ofertaUtil.index[gen]\n",
    "        \n",
    "    return clase"
   ]
  },
  {
   "cell_type": "code",
   "execution_count": 28,
   "id": "9b8d1b93",
   "metadata": {},
   "outputs": [],
   "source": [
    "def mutacionUniforme(solucion,prob):\n",
    "    for i in range(len(solucion)):\n",
    "        if random.random() < prob:\n",
    "            solucion[i] = toolbox.obtenerClase()"
   ]
  },
  {
   "cell_type": "markdown",
   "id": "7b1c4c9c",
   "metadata": {},
   "source": [
    "# DEAP"
   ]
  },
  {
   "cell_type": "code",
   "execution_count": 30,
   "id": "671f9643",
   "metadata": {
    "scrolled": true
   },
   "outputs": [],
   "source": [
    "#pesos[\"upcc\"],pesos[\"upmr\"],pesos[\"upcm\"],-pesos[\"cpdh\"],-pesos[\"cpah\"]\n",
    "creator.create(\"desempenoTotal\", base.Fitness, weights=(1.0,))\n",
    "creator.create(\"carga\", list, fitness=creator.desempenoTotal)"
   ]
  },
  {
   "cell_type": "code",
   "execution_count": 492,
   "id": "3a4ae6ba",
   "metadata": {},
   "outputs": [],
   "source": [
    "pesos = {\n",
    "    \"upcc\": 2,    #Utilidad por cerrar ciclos\n",
    "    \"upmr\": 1,    #Utilidad por materias reprobadas\n",
    "    \"upcm\": 1,    #Utilidad por cantidad ideal de materias\n",
    "    \"cpdh\": 2.5,  #Costo por disponibilidad de horario\n",
    "    \"cpah\": 1.5,  #Costo por amplitud de horario\n",
    "    \"cphl\": 1     #Costo por horas libres (no se está utilizando actualmente)\n",
    "}\n",
    "\n",
    "disponibilidadComoRestriccion = False\n",
    "disponibilidad = disponibilidadArr[4] #Disponibilidad completa de horario\n",
    "plan = plan_2016\n",
    "\n",
    "kardex = obtenerKardex(190311499).query('periodo < 202201')\n",
    "ofertaUtil = obtenerOfertaUtil(kardex,oferta)\n",
    "cantidadMateriasIdeal = 7"
   ]
  },
  {
   "cell_type": "code",
   "execution_count": 32,
   "id": "51af12fb",
   "metadata": {},
   "outputs": [],
   "source": [
    "toolbox = base.Toolbox()\n",
    "toolbox.register(\"obtenerClase\", obtenerClase)\n",
    "toolbox.register(\"crearCarga\", tools.initRepeat, creator.carga,\n",
    "                 toolbox.obtenerClase, n=9)\n",
    "toolbox.register(\"population\", tools.initRepeat, list, toolbox.crearCarga)"
   ]
  },
  {
   "cell_type": "code",
   "execution_count": 519,
   "id": "6ac1caf6",
   "metadata": {},
   "outputs": [],
   "source": [
    "toolbox.register(\"mate\", tools.cxUniform,indpb=0.5)\n",
    "toolbox.register(\"mutate\", mutacionUniforme,prob=0.15)\n",
    "toolbox.register(\"select\", tools.selBest)\n",
    "toolbox.register(\"evaluate\", obtenerDesempeno)"
   ]
  },
  {
   "cell_type": "markdown",
   "id": "b1e915cb",
   "metadata": {},
   "source": [
    "## Ejecución del algoritmo"
   ]
  },
  {
   "cell_type": "code",
   "execution_count": 520,
   "id": "0a4a8ab9",
   "metadata": {
    "scrolled": true
   },
   "outputs": [],
   "source": [
    "n_gen = 20\n",
    "pop = toolbox.population(n=500)\n",
    "n_parents = 2\n",
    "saturation_threshold = 15\n",
    "num_offspring = 498"
   ]
  },
  {
   "cell_type": "code",
   "execution_count": 521,
   "id": "b847a619",
   "metadata": {
    "scrolled": true
   },
   "outputs": [
    {
     "name": "stdout",
     "output_type": "stream",
     "text": [
      "0\n",
      "1\n",
      "2\n",
      "3\n",
      "4\n",
      "5\n",
      "6\n",
      "7\n",
      "8\n",
      "9\n",
      "10\n",
      "11\n",
      "12\n",
      "13\n",
      "14\n",
      "15\n",
      "16\n",
      "17\n",
      "18\n",
      "19\n",
      "Proceso terminado en 177.26936721801758\n"
     ]
    }
   ],
   "source": [
    "solution_fitness = 0\n",
    "generation_solution_fitness = []\n",
    "prev_fitness = 0\n",
    "saturation = 0\n",
    "\n",
    "#Evaluacion de la poblacion\n",
    "fitnesses = map(toolbox.evaluate, pop)\n",
    "for ind, fit in zip(pop, fitnesses):\n",
    "    solution_fitness = max(solution_fitness,fit)\n",
    "    ind.fitness.values = [fit]\n",
    "\n",
    "start_time = time.time()\n",
    "for gen in range(n_gen):\n",
    "    \n",
    "    #Selección de padres (Elitismo)\n",
    "    parents = toolbox.select(pop, n_parents)\n",
    "    parents = toolbox.clone(parents)\n",
    "    offspring = []\n",
    "    \n",
    "    #Cruzamiento\n",
    "    while len(offspring) < num_offspring:\n",
    "        for p1,p2 in zip(parents[::2],parents[1::2]):\n",
    "            child1, child2 = toolbox.mate(p1,p2)\n",
    "            offspring.append(creator.carga(child1.copy()))\n",
    "            offspring.append(creator.carga(child2.copy()))\n",
    "        \n",
    "    #Mutacion\n",
    "    for i in range(len(offspring)):\n",
    "        toolbox.mutate(offspring[i])\n",
    "        \n",
    "    #Remplazamiento\n",
    "    '''repPop = tools.selWorst(pop,k=num_offspring)\n",
    "    indexes = []\n",
    "    for r in repPop:\n",
    "        indexes.append(pop.index(r))\n",
    "    for i,o in zip(indexes,offspring):\n",
    "        pop[i] = o'''\n",
    "    pop = offspring + parents\n",
    "    pop = pop.copy()\n",
    "    \n",
    "    \n",
    "    #Evaluacion\n",
    "    fitnesses = map(toolbox.evaluate, pop)\n",
    "    for ind, fit in zip(pop, fitnesses):\n",
    "        solution_fitness = max(solution_fitness,fit)\n",
    "        ind.fitness.values = [fit]\n",
    "    generation_solution_fitness.append(solution_fitness)\n",
    "                       \n",
    "    '''if(solution_fitness == prev_fitness):\n",
    "        saturation += 1\n",
    "    else:\n",
    "        prev_fitness = solution_fitness\n",
    "        saturation = 0'''\n",
    "    print(gen)\n",
    "    \n",
    "tiempoejecucion = time.time() - start_time\n",
    "print('Proceso terminado en ' + str(tiempoejecucion))"
   ]
  },
  {
   "cell_type": "code",
   "execution_count": 522,
   "id": "3a6c2d47",
   "metadata": {},
   "outputs": [
    {
     "data": {
      "text/plain": [
       "[<matplotlib.lines.Line2D at 0x259d5f57fa0>]"
      ]
     },
     "execution_count": 522,
     "metadata": {},
     "output_type": "execute_result"
    },
    {
     "data": {
      "image/png": "[encoded data removed]",
      "text/plain": [
       "<Figure size 432x288 with 1 Axes>"
      ]
     },
     "metadata": {
      "needs_background": "light"
     },
     "output_type": "display_data"
    }
   ],
   "source": [
    "plt.plot(range(0,n_gen),generation_solution_fitness)"
   ]
  },
  {
   "cell_type": "code",
   "execution_count": 523,
   "id": "e1d9cb99",
   "metadata": {
    "scrolled": true
   },
   "outputs": [
    {
     "data": {
      "text/plain": [
       "7.619047619047619"
      ]
     },
     "execution_count": 523,
     "metadata": {},
     "output_type": "execute_result"
    }
   ],
   "source": [
    "generation_solution_fitness[-1]"
   ]
  },
  {
   "cell_type": "code",
   "execution_count": 524,
   "id": "94e7bfb5",
   "metadata": {},
   "outputs": [],
   "source": [
    "mejor = 0\n",
    "for p in pop:\n",
    "    if(p.fitness.values[0] >= mejor):\n",
    "        solution = p\n",
    "        mejor = p.fitness.values[0]"
   ]
  },
  {
   "cell_type": "code",
   "execution_count": 525,
   "id": "b4572c42",
   "metadata": {},
   "outputs": [
    {
     "name": "stdout",
     "output_type": "stream",
     "text": [
      "La carga evaluada tiene:\n",
      "\t80.95% de utilidad por las materias de primeros ciclos llevadas.\n",
      "\t100% del total de las materias reprobadas del estudiante.\n",
      "\t100.0% de utilidad por cantidad ideal de materias del estudiante.\n",
      "\t0% de costo por sobreposición con las horas donde el estudiante no está disponible.\n",
      "\t0% de costo por el total de amplitud de horario.\n"
     ]
    }
   ],
   "source": [
    "evaluarSolucion(solution)"
   ]
  },
  {
   "cell_type": "code",
   "execution_count": 526,
   "id": "0e579577",
   "metadata": {},
   "outputs": [
    {
     "data": {
      "text/html": [
       "<div>\n",
       "<style scoped>\n",
       "    .dataframe tbody tr th:only-of-type {\n",
       "        vertical-align: middle;\n",
       "    }\n",
       "\n",
       "    .dataframe tbody tr th {\n",
       "        vertical-align: top;\n",
       "    }\n",
       "\n",
       "    .dataframe thead th {\n",
       "        text-align: right;\n",
       "    }\n",
       "</style>\n",
       "<table border=\"1\" class=\"dataframe\">\n",
       "  <thead>\n",
       "    <tr style=\"text-align: right;\">\n",
       "      <th></th>\n",
       "      <th>clave</th>\n",
       "      <th>ciclos</th>\n",
       "      <th>Nombre</th>\n",
       "      <th>Maestro</th>\n",
       "      <th>Lunes</th>\n",
       "      <th>Martes</th>\n",
       "      <th>Miercoles</th>\n",
       "      <th>Jueves</th>\n",
       "      <th>Viernes</th>\n",
       "    </tr>\n",
       "  </thead>\n",
       "  <tbody>\n",
       "    <tr>\n",
       "      <th>14</th>\n",
       "      <td>ID0307</td>\n",
       "      <td>3</td>\n",
       "      <td>Ingeniería de software</td>\n",
       "      <td>Aguas García / Nancy</td>\n",
       "      <td>-</td>\n",
       "      <td>16:00-18:00</td>\n",
       "      <td>-</td>\n",
       "      <td>16:00-17:00</td>\n",
       "      <td>-</td>\n",
       "    </tr>\n",
       "    <tr>\n",
       "      <th>15</th>\n",
       "      <td>ID0310</td>\n",
       "      <td>3</td>\n",
       "      <td>Minería de datos</td>\n",
       "      <td>Gómez García / Hector Fernando</td>\n",
       "      <td>-</td>\n",
       "      <td>-</td>\n",
       "      <td>16:00-18:00</td>\n",
       "      <td>-</td>\n",
       "      <td>16:00-18:00</td>\n",
       "    </tr>\n",
       "    <tr>\n",
       "      <th>16</th>\n",
       "      <td>ID3422</td>\n",
       "      <td>3</td>\n",
       "      <td>Negocios digitales</td>\n",
       "      <td>Rodríguez Santiago / Juan Manuel</td>\n",
       "      <td>-</td>\n",
       "      <td>18:00-20:00</td>\n",
       "      <td>-</td>\n",
       "      <td>18:00-19:00</td>\n",
       "      <td>-</td>\n",
       "    </tr>\n",
       "    <tr>\n",
       "      <th>19</th>\n",
       "      <td>IT0263</td>\n",
       "      <td>3</td>\n",
       "      <td>Electrónica analógica</td>\n",
       "      <td>Márquez Chacón / Wilberth</td>\n",
       "      <td>-</td>\n",
       "      <td>-</td>\n",
       "      <td>18:00-20:00</td>\n",
       "      <td>-</td>\n",
       "      <td>18:00-19:00</td>\n",
       "    </tr>\n",
       "    <tr>\n",
       "      <th>27</th>\n",
       "      <td>IT0423</td>\n",
       "      <td>4</td>\n",
       "      <td>Administración de proyectos de desarrollo de s...</td>\n",
       "      <td>Galvan Herrera / Maria Fernanda</td>\n",
       "      <td>19:00-21:00</td>\n",
       "      <td>-</td>\n",
       "      <td>-</td>\n",
       "      <td>20:00-21:00</td>\n",
       "      <td>-</td>\n",
       "    </tr>\n",
       "    <tr>\n",
       "      <th>30</th>\n",
       "      <td>DP0498</td>\n",
       "      <td>3</td>\n",
       "      <td>Problemas de México</td>\n",
       "      <td>Díaz Molina / Libertad Fidelina</td>\n",
       "      <td>-</td>\n",
       "      <td>14:00-16:00</td>\n",
       "      <td>-</td>\n",
       "      <td>15:00-16:00</td>\n",
       "      <td>-</td>\n",
       "    </tr>\n",
       "    <tr>\n",
       "      <th>31</th>\n",
       "      <td>DP0499</td>\n",
       "      <td>4</td>\n",
       "      <td>Seminario de investigación</td>\n",
       "      <td>Barragan Garcia / Marco Antonio</td>\n",
       "      <td>16:00-19:00</td>\n",
       "      <td>-</td>\n",
       "      <td>-</td>\n",
       "      <td>-</td>\n",
       "      <td>-</td>\n",
       "    </tr>\n",
       "  </tbody>\n",
       "</table>\n",
       "</div>"
      ],
      "text/plain": [
       "     clave  ciclos                                             Nombre  \\\n",
       "14  ID0307       3                             Ingeniería de software   \n",
       "15  ID0310       3                                   Minería de datos   \n",
       "16  ID3422       3                                 Negocios digitales   \n",
       "19  IT0263       3                              Electrónica analógica   \n",
       "27  IT0423       4  Administración de proyectos de desarrollo de s...   \n",
       "30  DP0498       3                                Problemas de México   \n",
       "31  DP0499       4                         Seminario de investigación   \n",
       "\n",
       "                             Maestro        Lunes       Martes    Miercoles  \\\n",
       "14              Aguas García / Nancy            -  16:00-18:00            -   \n",
       "15    Gómez García / Hector Fernando            -            -  16:00-18:00   \n",
       "16  Rodríguez Santiago / Juan Manuel            -  18:00-20:00            -   \n",
       "19         Márquez Chacón / Wilberth            -            -  18:00-20:00   \n",
       "27   Galvan Herrera / Maria Fernanda  19:00-21:00            -            -   \n",
       "30   Díaz Molina / Libertad Fidelina            -  14:00-16:00            -   \n",
       "31   Barragan Garcia / Marco Antonio  16:00-19:00            -            -   \n",
       "\n",
       "         Jueves      Viernes  \n",
       "14  16:00-17:00            -  \n",
       "15            -  16:00-18:00  \n",
       "16  18:00-19:00            -  \n",
       "19            -  18:00-19:00  \n",
       "27  20:00-21:00            -  \n",
       "30  15:00-16:00            -  \n",
       "31            -            -  "
      ]
     },
     "execution_count": 526,
     "metadata": {},
     "output_type": "execute_result"
    }
   ],
   "source": [
    "obtenerDatosCarga(solution)"
   ]
  },
  {
   "cell_type": "markdown",
   "id": "67eac9bf",
   "metadata": {},
   "source": [
    "## ========"
   ]
  },
  {
   "cell_type": "code",
   "execution_count": 474,
   "id": "1241df8e",
   "metadata": {},
   "outputs": [
    {
     "name": "stderr",
     "output_type": "stream",
     "text": [
      "C:\\Users\\eddie\\anaconda3\\lib\\site-packages\\numpy\\lib\\arraysetops.py:270: VisibleDeprecationWarning: Creating an ndarray from ragged nested sequences (which is a list-or-tuple of lists-or-tuples-or ndarrays with different lengths or shapes) is deprecated. If you meant to do this, you must specify 'dtype=object' when creating the ndarray.\n",
      "  ar = np.asanyarray(ar)\n"
     ]
    }
   ],
   "source": [
    "recomendaciones = obtenerRecomendacionesUnicas(offspring,0)"
   ]
  },
  {
   "cell_type": "code",
   "execution_count": 475,
   "id": "62b6d4ef",
   "metadata": {},
   "outputs": [
    {
     "data": {
      "text/plain": [
       "191"
      ]
     },
     "execution_count": 475,
     "metadata": {},
     "output_type": "execute_result"
    }
   ],
   "source": [
    "len(recomendaciones)"
   ]
  },
  {
   "cell_type": "code",
   "execution_count": 476,
   "id": "b1017e18",
   "metadata": {},
   "outputs": [
    {
     "data": {
      "text/plain": [
       "7.428571428571429"
      ]
     },
     "execution_count": 476,
     "metadata": {},
     "output_type": "execute_result"
    }
   ],
   "source": [
    "obtenerDesempeno(recomendaciones[0])"
   ]
  },
  {
   "cell_type": "code",
   "execution_count": 477,
   "id": "be4a5149",
   "metadata": {},
   "outputs": [
    {
     "name": "stdout",
     "output_type": "stream",
     "text": [
      "La carga evaluada tiene:\n",
      "\t71.43% de utilidad por las materias de primeros ciclos llevadas.\n",
      "\t100% del total de las materias reprobadas del estudiante.\n",
      "\t100.0% de utilidad por cantidad ideal de materias del estudiante.\n",
      "\t0% de costo por sobreposición con las horas donde el estudiante no está disponible.\n",
      "\t0% de costo por el total de amplitud de horario.\n"
     ]
    }
   ],
   "source": [
    "evaluarSolucion(recomendaciones[0])"
   ]
  },
  {
   "cell_type": "code",
   "execution_count": 478,
   "id": "26bc57d7",
   "metadata": {},
   "outputs": [
    {
     "data": {
      "text/html": [
       "<div>\n",
       "<style scoped>\n",
       "    .dataframe tbody tr th:only-of-type {\n",
       "        vertical-align: middle;\n",
       "    }\n",
       "\n",
       "    .dataframe tbody tr th {\n",
       "        vertical-align: top;\n",
       "    }\n",
       "\n",
       "    .dataframe thead th {\n",
       "        text-align: right;\n",
       "    }\n",
       "</style>\n",
       "<table border=\"1\" class=\"dataframe\">\n",
       "  <thead>\n",
       "    <tr style=\"text-align: right;\">\n",
       "      <th></th>\n",
       "      <th>clave</th>\n",
       "      <th>ciclos</th>\n",
       "      <th>Nombre</th>\n",
       "      <th>Maestro</th>\n",
       "      <th>Lunes</th>\n",
       "      <th>Martes</th>\n",
       "      <th>Miercoles</th>\n",
       "      <th>Jueves</th>\n",
       "      <th>Viernes</th>\n",
       "    </tr>\n",
       "  </thead>\n",
       "  <tbody>\n",
       "    <tr>\n",
       "      <th>3</th>\n",
       "      <td>IL3422</td>\n",
       "      <td>4</td>\n",
       "      <td>Liderazgo y equipos de trabajo</td>\n",
       "      <td>García Rivera / Miriam Angelica</td>\n",
       "      <td>-</td>\n",
       "      <td>-</td>\n",
       "      <td>15:00-16:00</td>\n",
       "      <td>-</td>\n",
       "      <td>14:00-16:00</td>\n",
       "    </tr>\n",
       "    <tr>\n",
       "      <th>14</th>\n",
       "      <td>ID0307</td>\n",
       "      <td>3</td>\n",
       "      <td>Ingeniería de software</td>\n",
       "      <td>Aguas García / Nancy</td>\n",
       "      <td>-</td>\n",
       "      <td>16:00-18:00</td>\n",
       "      <td>-</td>\n",
       "      <td>16:00-17:00</td>\n",
       "      <td>-</td>\n",
       "    </tr>\n",
       "    <tr>\n",
       "      <th>15</th>\n",
       "      <td>ID0310</td>\n",
       "      <td>3</td>\n",
       "      <td>Minería de datos</td>\n",
       "      <td>Gómez García / Hector Fernando</td>\n",
       "      <td>-</td>\n",
       "      <td>-</td>\n",
       "      <td>16:00-18:00</td>\n",
       "      <td>-</td>\n",
       "      <td>16:00-18:00</td>\n",
       "    </tr>\n",
       "    <tr>\n",
       "      <th>16</th>\n",
       "      <td>ID3422</td>\n",
       "      <td>3</td>\n",
       "      <td>Negocios digitales</td>\n",
       "      <td>Rodríguez Santiago / Juan Manuel</td>\n",
       "      <td>-</td>\n",
       "      <td>18:00-20:00</td>\n",
       "      <td>-</td>\n",
       "      <td>18:00-19:00</td>\n",
       "      <td>-</td>\n",
       "    </tr>\n",
       "    <tr>\n",
       "      <th>17</th>\n",
       "      <td>ID3468</td>\n",
       "      <td>4</td>\n",
       "      <td>Herramientas para la gestión de grandes volúme...</td>\n",
       "      <td>Mendiola Fuentes / Jessica Carmin</td>\n",
       "      <td>18:00-20:00</td>\n",
       "      <td>-</td>\n",
       "      <td>-</td>\n",
       "      <td>19:00-20:00</td>\n",
       "      <td>-</td>\n",
       "    </tr>\n",
       "    <tr>\n",
       "      <th>25</th>\n",
       "      <td>ID3420</td>\n",
       "      <td>4</td>\n",
       "      <td>Analítica para la inteligencia de negocios</td>\n",
       "      <td>Gómez García / Hector Fernando</td>\n",
       "      <td>-</td>\n",
       "      <td>-</td>\n",
       "      <td>18:00-20:00</td>\n",
       "      <td>-</td>\n",
       "      <td>18:00-19:00</td>\n",
       "    </tr>\n",
       "    <tr>\n",
       "      <th>30</th>\n",
       "      <td>DP0498</td>\n",
       "      <td>3</td>\n",
       "      <td>Problemas de México</td>\n",
       "      <td>Díaz Molina / Libertad Fidelina</td>\n",
       "      <td>-</td>\n",
       "      <td>14:00-16:00</td>\n",
       "      <td>-</td>\n",
       "      <td>15:00-16:00</td>\n",
       "      <td>-</td>\n",
       "    </tr>\n",
       "  </tbody>\n",
       "</table>\n",
       "</div>"
      ],
      "text/plain": [
       "     clave  ciclos                                             Nombre  \\\n",
       "3   IL3422       4                     Liderazgo y equipos de trabajo   \n",
       "14  ID0307       3                             Ingeniería de software   \n",
       "15  ID0310       3                                   Minería de datos   \n",
       "16  ID3422       3                                 Negocios digitales   \n",
       "17  ID3468       4  Herramientas para la gestión de grandes volúme...   \n",
       "25  ID3420       4         Analítica para la inteligencia de negocios   \n",
       "30  DP0498       3                                Problemas de México   \n",
       "\n",
       "                              Maestro        Lunes       Martes    Miercoles  \\\n",
       "3     García Rivera / Miriam Angelica            -            -  15:00-16:00   \n",
       "14               Aguas García / Nancy            -  16:00-18:00            -   \n",
       "15     Gómez García / Hector Fernando            -            -  16:00-18:00   \n",
       "16   Rodríguez Santiago / Juan Manuel            -  18:00-20:00            -   \n",
       "17  Mendiola Fuentes / Jessica Carmin  18:00-20:00            -            -   \n",
       "25     Gómez García / Hector Fernando            -            -  18:00-20:00   \n",
       "30    Díaz Molina / Libertad Fidelina            -  14:00-16:00            -   \n",
       "\n",
       "         Jueves      Viernes  \n",
       "3             -  14:00-16:00  \n",
       "14  16:00-17:00            -  \n",
       "15            -  16:00-18:00  \n",
       "16  18:00-19:00            -  \n",
       "17  19:00-20:00            -  \n",
       "25            -  18:00-19:00  \n",
       "30  15:00-16:00            -  "
      ]
     },
     "execution_count": 478,
     "metadata": {},
     "output_type": "execute_result"
    }
   ],
   "source": [
    "obtenerDatosCarga(recomendaciones[0])"
   ]
  },
  {
   "cell_type": "code",
   "execution_count": 491,
   "id": "0b14559c",
   "metadata": {
    "scrolled": true
   },
   "outputs": [
    {
     "data": {
      "text/html": [
       "<div>\n",
       "<style scoped>\n",
       "    .dataframe tbody tr th:only-of-type {\n",
       "        vertical-align: middle;\n",
       "    }\n",
       "\n",
       "    .dataframe tbody tr th {\n",
       "        vertical-align: top;\n",
       "    }\n",
       "\n",
       "    .dataframe thead th {\n",
       "        text-align: right;\n",
       "    }\n",
       "</style>\n",
       "<table border=\"1\" class=\"dataframe\">\n",
       "  <thead>\n",
       "    <tr style=\"text-align: right;\">\n",
       "      <th></th>\n",
       "      <th>clave</th>\n",
       "      <th>ciclos</th>\n",
       "      <th>Nombre</th>\n",
       "      <th>Maestro</th>\n",
       "      <th>Lunes</th>\n",
       "      <th>Martes</th>\n",
       "      <th>Miercoles</th>\n",
       "      <th>Jueves</th>\n",
       "      <th>Viernes</th>\n",
       "    </tr>\n",
       "  </thead>\n",
       "  <tbody>\n",
       "    <tr>\n",
       "      <th>14</th>\n",
       "      <td>ID0307</td>\n",
       "      <td>3</td>\n",
       "      <td>Ingeniería de software</td>\n",
       "      <td>Aguas García / Nancy</td>\n",
       "      <td>-</td>\n",
       "      <td>16:00-18:00</td>\n",
       "      <td>-</td>\n",
       "      <td>16:00-17:00</td>\n",
       "      <td>-</td>\n",
       "    </tr>\n",
       "    <tr>\n",
       "      <th>15</th>\n",
       "      <td>ID0310</td>\n",
       "      <td>3</td>\n",
       "      <td>Minería de datos</td>\n",
       "      <td>Gómez García / Hector Fernando</td>\n",
       "      <td>-</td>\n",
       "      <td>-</td>\n",
       "      <td>16:00-18:00</td>\n",
       "      <td>-</td>\n",
       "      <td>16:00-18:00</td>\n",
       "    </tr>\n",
       "    <tr>\n",
       "      <th>16</th>\n",
       "      <td>ID3422</td>\n",
       "      <td>3</td>\n",
       "      <td>Negocios digitales</td>\n",
       "      <td>Rodríguez Santiago / Juan Manuel</td>\n",
       "      <td>-</td>\n",
       "      <td>18:00-20:00</td>\n",
       "      <td>-</td>\n",
       "      <td>18:00-19:00</td>\n",
       "      <td>-</td>\n",
       "    </tr>\n",
       "    <tr>\n",
       "      <th>18</th>\n",
       "      <td>II0422</td>\n",
       "      <td>4</td>\n",
       "      <td>Taller de emprendedores</td>\n",
       "      <td>García Rivera / Miriam Angelica</td>\n",
       "      <td>16:00-18:00</td>\n",
       "      <td>-</td>\n",
       "      <td>-</td>\n",
       "      <td>17:00-18:00</td>\n",
       "      <td>-</td>\n",
       "    </tr>\n",
       "    <tr>\n",
       "      <th>19</th>\n",
       "      <td>IT0263</td>\n",
       "      <td>3</td>\n",
       "      <td>Electrónica analógica</td>\n",
       "      <td>Márquez Chacón / Wilberth</td>\n",
       "      <td>-</td>\n",
       "      <td>-</td>\n",
       "      <td>18:00-20:00</td>\n",
       "      <td>-</td>\n",
       "      <td>18:00-19:00</td>\n",
       "    </tr>\n",
       "    <tr>\n",
       "      <th>30</th>\n",
       "      <td>DP0498</td>\n",
       "      <td>3</td>\n",
       "      <td>Problemas de México</td>\n",
       "      <td>Díaz Molina / Libertad Fidelina</td>\n",
       "      <td>-</td>\n",
       "      <td>14:00-16:00</td>\n",
       "      <td>-</td>\n",
       "      <td>15:00-16:00</td>\n",
       "      <td>-</td>\n",
       "    </tr>\n",
       "    <tr>\n",
       "      <th>38</th>\n",
       "      <td>DP0499</td>\n",
       "      <td>4</td>\n",
       "      <td>Seminario de investigación</td>\n",
       "      <td>Reyes Miranda / José Felipe</td>\n",
       "      <td>14:00-16:00</td>\n",
       "      <td>-</td>\n",
       "      <td>14:00-15:00</td>\n",
       "      <td>-</td>\n",
       "      <td>-</td>\n",
       "    </tr>\n",
       "  </tbody>\n",
       "</table>\n",
       "</div>"
      ],
      "text/plain": [
       "     clave  ciclos                      Nombre  \\\n",
       "14  ID0307       3      Ingeniería de software   \n",
       "15  ID0310       3            Minería de datos   \n",
       "16  ID3422       3          Negocios digitales   \n",
       "18  II0422       4     Taller de emprendedores   \n",
       "19  IT0263       3       Electrónica analógica   \n",
       "30  DP0498       3         Problemas de México   \n",
       "38  DP0499       4  Seminario de investigación   \n",
       "\n",
       "                             Maestro        Lunes       Martes    Miercoles  \\\n",
       "14              Aguas García / Nancy            -  16:00-18:00            -   \n",
       "15    Gómez García / Hector Fernando            -            -  16:00-18:00   \n",
       "16  Rodríguez Santiago / Juan Manuel            -  18:00-20:00            -   \n",
       "18   García Rivera / Miriam Angelica  16:00-18:00            -            -   \n",
       "19         Márquez Chacón / Wilberth            -            -  18:00-20:00   \n",
       "30   Díaz Molina / Libertad Fidelina            -  14:00-16:00            -   \n",
       "38       Reyes Miranda / José Felipe  14:00-16:00            -  14:00-15:00   \n",
       "\n",
       "         Jueves      Viernes  \n",
       "14  16:00-17:00            -  \n",
       "15            -  16:00-18:00  \n",
       "16  18:00-19:00            -  \n",
       "18  17:00-18:00            -  \n",
       "19            -  18:00-19:00  \n",
       "30  15:00-16:00            -  \n",
       "38            -            -  "
      ]
     },
     "execution_count": 491,
     "metadata": {},
     "output_type": "execute_result"
    }
   ],
   "source": [
    "obtenerDatosCarga([14,15,16,18,19,30,38])"
   ]
  },
  {
   "cell_type": "code",
   "execution_count": 490,
   "id": "88d94363",
   "metadata": {},
   "outputs": [
    {
     "data": {
      "text/html": [
       "<div>\n",
       "<style scoped>\n",
       "    .dataframe tbody tr th:only-of-type {\n",
       "        vertical-align: middle;\n",
       "    }\n",
       "\n",
       "    .dataframe tbody tr th {\n",
       "        vertical-align: top;\n",
       "    }\n",
       "\n",
       "    .dataframe thead th {\n",
       "        text-align: right;\n",
       "    }\n",
       "</style>\n",
       "<table border=\"1\" class=\"dataframe\">\n",
       "  <thead>\n",
       "    <tr style=\"text-align: right;\">\n",
       "      <th></th>\n",
       "      <th>clave</th>\n",
       "      <th>ciclos</th>\n",
       "      <th>Nombre</th>\n",
       "      <th>Maestro</th>\n",
       "      <th>Lunes</th>\n",
       "      <th>Martes</th>\n",
       "      <th>Miercoles</th>\n",
       "      <th>Jueves</th>\n",
       "      <th>Viernes</th>\n",
       "    </tr>\n",
       "  </thead>\n",
       "  <tbody>\n",
       "    <tr>\n",
       "      <th>6</th>\n",
       "      <td>DP0498</td>\n",
       "      <td>3</td>\n",
       "      <td>Problemas de México</td>\n",
       "      <td>Cervera León / José Samuel</td>\n",
       "      <td>-</td>\n",
       "      <td>09:00-11:00</td>\n",
       "      <td>-</td>\n",
       "      <td>-</td>\n",
       "      <td>10:00-11:00</td>\n",
       "    </tr>\n",
       "    <tr>\n",
       "      <th>7</th>\n",
       "      <td>ID0307</td>\n",
       "      <td>3</td>\n",
       "      <td>Ingeniería de software</td>\n",
       "      <td>Morales Saavedra / Emmanuel</td>\n",
       "      <td>11:00-13:00</td>\n",
       "      <td>-</td>\n",
       "      <td>12:00-13:00</td>\n",
       "      <td>-</td>\n",
       "      <td>-</td>\n",
       "    </tr>\n",
       "    <tr>\n",
       "      <th>8</th>\n",
       "      <td>ID0310</td>\n",
       "      <td>3</td>\n",
       "      <td>Minería de datos</td>\n",
       "      <td>Gómez García / Hector Fernando</td>\n",
       "      <td>-</td>\n",
       "      <td>-</td>\n",
       "      <td>08:00-10:00</td>\n",
       "      <td>-</td>\n",
       "      <td>08:00-10:00</td>\n",
       "    </tr>\n",
       "    <tr>\n",
       "      <th>9</th>\n",
       "      <td>ID3416</td>\n",
       "      <td>3</td>\n",
       "      <td>Diseño multimedia</td>\n",
       "      <td>Landeros Alvarado / Aurea</td>\n",
       "      <td>-</td>\n",
       "      <td>08:00-09:00</td>\n",
       "      <td>-</td>\n",
       "      <td>09:00-11:00</td>\n",
       "      <td>-</td>\n",
       "    </tr>\n",
       "    <tr>\n",
       "      <th>10</th>\n",
       "      <td>ID3468</td>\n",
       "      <td>4</td>\n",
       "      <td>Herramientas para la gestión de grandes volúme...</td>\n",
       "      <td>Mendiola Fuentes / Jessica Carmin</td>\n",
       "      <td>09:00-11:00</td>\n",
       "      <td>-</td>\n",
       "      <td>-</td>\n",
       "      <td>13:00-14:00</td>\n",
       "      <td>-</td>\n",
       "    </tr>\n",
       "    <tr>\n",
       "      <th>12</th>\n",
       "      <td>IT0263</td>\n",
       "      <td>3</td>\n",
       "      <td>Electrónica analógica</td>\n",
       "      <td>Casas De La Cruz / Rosa Guadalupe</td>\n",
       "      <td>13:00-14:00</td>\n",
       "      <td>-</td>\n",
       "      <td>10:00-12:00</td>\n",
       "      <td>-</td>\n",
       "      <td>-</td>\n",
       "    </tr>\n",
       "    <tr>\n",
       "      <th>38</th>\n",
       "      <td>DP0499</td>\n",
       "      <td>4</td>\n",
       "      <td>Seminario de investigación</td>\n",
       "      <td>Reyes Miranda / José Felipe</td>\n",
       "      <td>14:00-16:00</td>\n",
       "      <td>-</td>\n",
       "      <td>14:00-15:00</td>\n",
       "      <td>-</td>\n",
       "      <td>-</td>\n",
       "    </tr>\n",
       "  </tbody>\n",
       "</table>\n",
       "</div>"
      ],
      "text/plain": [
       "     clave  ciclos                                             Nombre  \\\n",
       "6   DP0498       3                                Problemas de México   \n",
       "7   ID0307       3                             Ingeniería de software   \n",
       "8   ID0310       3                                   Minería de datos   \n",
       "9   ID3416       3                                  Diseño multimedia   \n",
       "10  ID3468       4  Herramientas para la gestión de grandes volúme...   \n",
       "12  IT0263       3                              Electrónica analógica   \n",
       "38  DP0499       4                         Seminario de investigación   \n",
       "\n",
       "                              Maestro        Lunes       Martes    Miercoles  \\\n",
       "6          Cervera León / José Samuel            -  09:00-11:00            -   \n",
       "7         Morales Saavedra / Emmanuel  11:00-13:00            -  12:00-13:00   \n",
       "8      Gómez García / Hector Fernando            -            -  08:00-10:00   \n",
       "9           Landeros Alvarado / Aurea            -  08:00-09:00            -   \n",
       "10  Mendiola Fuentes / Jessica Carmin  09:00-11:00            -            -   \n",
       "12  Casas De La Cruz / Rosa Guadalupe  13:00-14:00            -  10:00-12:00   \n",
       "38        Reyes Miranda / José Felipe  14:00-16:00            -  14:00-15:00   \n",
       "\n",
       "         Jueves      Viernes  \n",
       "6             -  10:00-11:00  \n",
       "7             -            -  \n",
       "8             -  08:00-10:00  \n",
       "9   09:00-11:00            -  \n",
       "10  13:00-14:00            -  \n",
       "12            -            -  \n",
       "38            -            -  "
      ]
     },
     "execution_count": 490,
     "metadata": {},
     "output_type": "execute_result"
    }
   ],
   "source": [
    "obtenerDatosCarga(solution)"
   ]
  },
  {
   "cell_type": "code",
   "execution_count": 43,
   "id": "115eabb9",
   "metadata": {},
   "outputs": [
    {
     "data": {
      "text/plain": [
       "[<matplotlib.lines.Line2D at 0x259cc7dce20>]"
      ]
     },
     "execution_count": 43,
     "metadata": {},
     "output_type": "execute_result"
    },
    {
     "data": {
      "image/png": "[encoded data removed]",
      "text/plain": [
       "<Figure size 432x288 with 1 Axes>"
      ]
     },
     "metadata": {
      "needs_background": "light"
     },
     "output_type": "display_data"
    }
   ],
   "source": [
    "plt.plot([1,2,3,4,5,6,7,8,9,10],[1,2,3,4,5,6,7,8,9,10])"
   ]
  },
  {
   "cell_type": "code",
   "execution_count": 481,
   "id": "c9a56590",
   "metadata": {},
   "outputs": [
    {
     "data": {
      "text/plain": [
       "[<matplotlib.lines.Line2D at 0x259d75a2e80>]"
      ]
     },
     "execution_count": 481,
     "metadata": {},
     "output_type": "execute_result"
    },
    {
     "data": {
      "image/png": "[encoded data removed]",
      "text/plain": [
       "<Figure size 432x288 with 1 Axes>"
      ]
     },
     "metadata": {
      "needs_background": "light"
     },
     "output_type": "display_data"
    }
   ],
   "source": [
    "exp = 3\n",
    "plt.plot([1,2,3,4,5,6,7,8,9,10],[1**exp,2**exp,3**exp,4**exp,5**exp,6**exp,7**exp,8**exp,9**exp,10**exp])"
   ]
  },
  {
   "cell_type": "code",
   "execution_count": null,
   "id": "5d0d37ac",
   "metadata": {},
   "outputs": [],
   "source": []
  }
 ],
 "metadata": {
  "kernelspec": {
   "display_name": "Python 3 (ipykernel)",
   "language": "python",
   "name": "python3"
  },
  "language_info": {
   "codemirror_mode": {
    "name": "ipython",
    "version": 3
   },
   "file_extension": ".py",
   "mimetype": "text/x-python",
   "name": "python",
   "nbconvert_exporter": "python",
   "pygments_lexer": "ipython3",
   "version": "3.9.12"
  }
 },
 "nbformat": 4,
 "nbformat_minor": 5
}
