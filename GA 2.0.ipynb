{
 "cells": [
  {
   "cell_type": "markdown",
   "id": "f7dec84a",
   "metadata": {},
   "source": [
    "##### Por hacer:"
   ]
  },
  {
   "cell_type": "markdown",
   "id": "ab0197fe",
   "metadata": {},
   "source": [
    "1.- Encontrar mejor combinación"
   ]
  },
  {
   "cell_type": "markdown",
   "id": "3142da79",
   "metadata": {},
   "source": [
    "2.- Encontrar número máximo de generaciones"
   ]
  },
  {
   "cell_type": "markdown",
   "id": "3654c891",
   "metadata": {},
   "source": [
    "-Utilidad por cerrar ciclos tiene muy poco peso en los últimos semestres"
   ]
  },
  {
   "cell_type": "markdown",
   "id": "e389eff9",
   "metadata": {},
   "source": [
    "##### Notas"
   ]
  },
  {
   "cell_type": "markdown",
   "id": "a4ebb075",
   "metadata": {},
   "source": [
    "Se debería añadir utilidad al llevar materias básicas sobre las de elección libre?"
   ]
  },
  {
   "cell_type": "markdown",
   "id": "6c435a1d",
   "metadata": {},
   "source": [
    "-Al darle un peso mayor a la utilidad de cerrar ciclos, ¿mejorarán los resultados?"
   ]
  },
  {
   "cell_type": "markdown",
   "id": "fefa2174",
   "metadata": {},
   "source": [
    "-¿Por qué el mejor resultado teórico es mejor que el resultado práctico a pesar de tener mejor desempeno?"
   ]
  },
  {
   "cell_type": "markdown",
   "id": "01c2c5e2",
   "metadata": {},
   "source": [
    "El desempeño de la poblacion siempre se estanca porque terminan habiendo muchas cargas inválidas"
   ]
  },
  {
   "cell_type": "markdown",
   "id": "557cdd08",
   "metadata": {},
   "source": [
    "La utilidad de cerrar ciclos no tiene suficiente relevancia sobre las otras funciones debido a la naturaleza de su cálculo."
   ]
  },
  {
   "cell_type": "markdown",
   "id": "1652471c",
   "metadata": {},
   "source": [
    "##### Cambios:"
   ]
  },
  {
   "cell_type": "markdown",
   "id": "a79e845e",
   "metadata": {},
   "source": [
    "-Se modificó \"obtenerOfertaUtil\" para excluir materias de elección libre ya aprobadas de primeros 4 semestres."
   ]
  },
  {
   "cell_type": "markdown",
   "id": "12d6d3f0",
   "metadata": {},
   "source": [
    "-Se cambio función de utilidad disponibilidad de horario"
   ]
  },
  {
   "cell_type": "markdown",
   "id": "52838d33",
   "metadata": {},
   "source": [
    "-Error en \"RespetaSeriacion\", si la materia necesaria ya había sido aprobada retornaba false"
   ]
  },
  {
   "cell_type": "markdown",
   "id": "16c93851",
   "metadata": {},
   "source": []
  },
  {
   "cell_type": "code",
   "execution_count": null,
   "id": "aaed8d4c",
   "metadata": {},
   "outputs": [],
   "source": [
    "import pandas as pd\n",
    "import numpy as np\n",
    "import pygad as pg\n",
    "import time"
   ]
  },
  {
   "cell_type": "markdown",
   "id": "f12237a9",
   "metadata": {},
   "source": [
    "# Limpieza y preparación de los datos"
   ]
  },
  {
   "cell_type": "markdown",
   "id": "2e6f04ef",
   "metadata": {},
   "source": [
    "## Lectura de datos"
   ]
  },
  {
   "cell_type": "code",
   "execution_count": null,
   "id": "5628e655",
   "metadata": {},
   "outputs": [],
   "source": [
    "d16 = pd.read_csv('./datos/datos_2016.csv')\n",
    "d17 = pd.read_csv('./datos/datos_2017.csv')\n",
    "d18 = pd.read_csv('./datos/datos_2018.csv')\n",
    "d19 = pd.read_csv('./datos/datos_2019.csv')\n",
    "d2021 = pd.read_csv('./datos/2020_2021.csv')"
   ]
  },
  {
   "cell_type": "code",
   "execution_count": null,
   "id": "b24a593a",
   "metadata": {},
   "outputs": [],
   "source": [
    "asignaturas = pd.read_csv('asignaturas2.csv',encoding = 'ISO-8859-1')"
   ]
  },
  {
   "cell_type": "code",
   "execution_count": null,
   "id": "6aeaecee",
   "metadata": {},
   "outputs": [],
   "source": [
    "plan_2016 = asignaturas.query('plan == \"IDP2016\"')"
   ]
  },
  {
   "cell_type": "code",
   "execution_count": null,
   "id": "fdebc6aa",
   "metadata": {},
   "outputs": [],
   "source": [
    "oferta = pd.read_csv('oferta_ideio.csv',encoding = 'ISO-8859-1')"
   ]
  },
  {
   "cell_type": "code",
   "execution_count": null,
   "id": "80f9af9b",
   "metadata": {},
   "outputs": [],
   "source": [
    "seriaciones = pd.read_csv('seriacion.csv')"
   ]
  },
  {
   "cell_type": "markdown",
   "id": "a2775745",
   "metadata": {},
   "source": [
    "## Visualización de datos"
   ]
  },
  {
   "cell_type": "code",
   "execution_count": null,
   "id": "6a3468fc",
   "metadata": {},
   "outputs": [],
   "source": [
    "d16.head()"
   ]
  },
  {
   "cell_type": "code",
   "execution_count": null,
   "id": "83b94bec",
   "metadata": {},
   "outputs": [],
   "source": [
    "d2021.head()"
   ]
  },
  {
   "cell_type": "code",
   "execution_count": null,
   "id": "620bc9da",
   "metadata": {},
   "outputs": [],
   "source": [
    "asignaturas.head()"
   ]
  },
  {
   "cell_type": "code",
   "execution_count": null,
   "id": "d7592332",
   "metadata": {},
   "outputs": [],
   "source": [
    "plan_2016.head()"
   ]
  },
  {
   "cell_type": "code",
   "execution_count": null,
   "id": "56dfe1db",
   "metadata": {},
   "outputs": [],
   "source": [
    "oferta.head()"
   ]
  },
  {
   "cell_type": "code",
   "execution_count": null,
   "id": "43714bb4",
   "metadata": {},
   "outputs": [],
   "source": [
    "seriaciones.head()"
   ]
  },
  {
   "cell_type": "markdown",
   "id": "bfd69931",
   "metadata": {},
   "source": [
    "## Limpieza de datos"
   ]
  },
  {
   "cell_type": "code",
   "execution_count": null,
   "id": "df8e39c4",
   "metadata": {},
   "outputs": [],
   "source": [
    "cargas16_19 = pd.concat([d16,d17,d18,d19])\n",
    "cargas20_21 = d2021"
   ]
  },
  {
   "cell_type": "code",
   "execution_count": null,
   "id": "4ae45e39",
   "metadata": {},
   "outputs": [],
   "source": [
    "cargas16_19 = cargas16_19.query('carrera == \"Ingeniería en Datos e Inteligencia Organizacional\"')"
   ]
  },
  {
   "cell_type": "code",
   "execution_count": null,
   "id": "d39831e8",
   "metadata": {},
   "outputs": [],
   "source": [
    "cargas16_19 = cargas16_19[['Unnamed: 0', 'carrera', 'periodo', 'clave', 'asignatura',\n",
    "       'promediofinal', 'docente', 'ceveval_global', 'ceneval_analitico',\n",
    "       'ceneval_matematico', 'ceneval_lengua', 'ceneval_esp',\n",
    "       'n_matricula']]"
   ]
  },
  {
   "cell_type": "code",
   "execution_count": null,
   "id": "7cc3c245",
   "metadata": {},
   "outputs": [],
   "source": [
    "matriculas16 = cargas16_19.query('n_matricula > 160000000 and n_matricula < 170000000')['n_matricula'].unique()\n",
    "matriculas17 = cargas16_19.query('n_matricula > 170000000 and n_matricula < 180000000')['n_matricula'].unique()\n",
    "matriculas18 = cargas16_19.query('n_matricula > 180000000 and n_matricula < 190000000')['n_matricula'].unique()\n",
    "matriculas19 = cargas16_19.query('n_matricula > 190000000 and n_matricula < 200000000')['n_matricula'].unique()\n",
    "matriculas20 = cargas20_21.query('n_matricula > 200000000 and n_matricula < 210000000')['n_matricula'].unique()\n",
    "matriculas21 = cargas20_21.query('n_matricula > 210000000 and n_matricula < 220000000')['n_matricula'].unique()"
   ]
  },
  {
   "cell_type": "code",
   "execution_count": null,
   "id": "d73ab148",
   "metadata": {},
   "outputs": [],
   "source": [
    "matriculas = np.concatenate((matriculas16, matriculas17,matriculas18,matriculas19,matriculas20,matriculas21))"
   ]
  },
  {
   "cell_type": "code",
   "execution_count": null,
   "id": "ef8cdacc",
   "metadata": {},
   "outputs": [],
   "source": [
    "cargas20_21 = cargas20_21.rename(columns={'programa': 'carrera'})"
   ]
  },
  {
   "cell_type": "code",
   "execution_count": null,
   "id": "44964db8",
   "metadata": {},
   "outputs": [],
   "source": [
    "formato_cargas20_21 = cargas20_21[['carrera', 'periodo', 'clave', 'asignatura','docente','n_matricula','promediofinal']]\n",
    "formato_cargas16_19 = cargas16_19[['carrera', 'periodo', 'clave', 'asignatura','docente','n_matricula','promediofinal']]\n",
    "\n",
    "formato_cargas = pd.concat([formato_cargas16_19,formato_cargas20_21])"
   ]
  },
  {
   "cell_type": "code",
   "execution_count": null,
   "id": "633c5c03",
   "metadata": {},
   "outputs": [],
   "source": [
    "oferta = oferta[['Clave','Nombre', 'Maestro', 'Lunes','Martes', 'Miercoles', 'Jueves', 'Viernes', 'Sabado']]"
   ]
  },
  {
   "cell_type": "code",
   "execution_count": null,
   "id": "ccdf4d3c",
   "metadata": {},
   "outputs": [],
   "source": [
    "oferta['Lunes'].unique()"
   ]
  },
  {
   "cell_type": "code",
   "execution_count": null,
   "id": "e66bb055",
   "metadata": {},
   "outputs": [],
   "source": [
    "oferta['Martes'].unique()"
   ]
  },
  {
   "cell_type": "code",
   "execution_count": null,
   "id": "95d37d10",
   "metadata": {},
   "outputs": [],
   "source": [
    "oferta['Miercoles'].unique()"
   ]
  },
  {
   "cell_type": "code",
   "execution_count": null,
   "id": "4012117e",
   "metadata": {},
   "outputs": [],
   "source": [
    "oferta['Jueves'].unique()"
   ]
  },
  {
   "cell_type": "code",
   "execution_count": null,
   "id": "f49a2152",
   "metadata": {},
   "outputs": [],
   "source": [
    "oferta['Viernes'].unique()"
   ]
  },
  {
   "cell_type": "code",
   "execution_count": null,
   "id": "45eecfeb",
   "metadata": {},
   "outputs": [],
   "source": [
    "oferta.loc[36,'Miercoles'] = '13:00-15:00'"
   ]
  },
  {
   "cell_type": "code",
   "execution_count": null,
   "id": "ef6278f8",
   "metadata": {},
   "outputs": [],
   "source": [
    "oferta['Miercoles'].unique()"
   ]
  },
  {
   "cell_type": "code",
   "execution_count": null,
   "id": "733f2c7d",
   "metadata": {},
   "outputs": [],
   "source": [
    "def formatoHora(hora):\n",
    "    if len(hora) == 11:\n",
    "        return hora\n",
    "    elif len(hora) == 10:\n",
    "        return '0' + hora\n",
    "    elif len(hora) == 9:\n",
    "        return '0' + hora[0:5] + '0' + hora[5:]\n",
    "    elif len(hora) == 1:\n",
    "        return '-'"
   ]
  },
  {
   "cell_type": "code",
   "execution_count": null,
   "id": "cbbef837",
   "metadata": {},
   "outputs": [],
   "source": [
    "oferta['Lunes'] = oferta['Lunes'].apply(lambda horas: formatoHora(horas))\n",
    "oferta['Martes'] = oferta['Martes'].apply(lambda horas: formatoHora(horas))\n",
    "oferta['Miercoles'] = oferta['Miercoles'].apply(lambda horas: formatoHora(horas))\n",
    "oferta['Jueves'] = oferta['Jueves'].apply(lambda horas: formatoHora(horas))\n",
    "oferta['Viernes'] = oferta['Viernes'].apply(lambda horas: formatoHora(horas))"
   ]
  },
  {
   "cell_type": "markdown",
   "id": "e270f83a",
   "metadata": {},
   "source": [
    "# Definición de funciones útiles"
   ]
  },
  {
   "cell_type": "markdown",
   "id": "650e1224",
   "metadata": {},
   "source": [
    "## Función para obtener un Kardex aleatorio"
   ]
  },
  {
   "cell_type": "code",
   "execution_count": null,
   "id": "a693ee2c",
   "metadata": {},
   "outputs": [],
   "source": [
    "def obtenerKardex(mat = -1):\n",
    "    if(mat == -1):\n",
    "        mat = np.random.choice(matriculas)\n",
    "    return formato_cargas.query('n_matricula == ' + str(mat)).sort_values('periodo')"
   ]
  },
  {
   "cell_type": "code",
   "execution_count": null,
   "id": "ec725b61",
   "metadata": {},
   "outputs": [],
   "source": [
    "def obtenerCreditos(kardex):\n",
    "    claves = kardex.query('promediofinal >= 7')['clave'].unique()\n",
    "    totalCreditos = 0\n",
    "    for clave in claves:\n",
    "        if(clave[0:2] == 'LI' or clave[0:2] == 'TA' or clave[0:2] == 'AD'):\n",
    "            continue\n",
    "        totalCreditos += plan_2016.query('clave == \"' + clave + '\"')['creditos'].values[0]\n",
    "    return totalCreditos"
   ]
  },
  {
   "cell_type": "markdown",
   "id": "6bdec6b6",
   "metadata": {},
   "source": [
    "## Obtención de oferta útil"
   ]
  },
  {
   "cell_type": "markdown",
   "id": "405891da",
   "metadata": {},
   "source": [
    "En este sección se crea la función \"obtenerOfertaUtil\" la cual filtra la oferta académica para eliminar las materias que no cumplen con la restricción de llevar materias aprobadas y la restricción de llevar materias que no respeten la seriación."
   ]
  },
  {
   "cell_type": "code",
   "execution_count": null,
   "id": "1c9e8089",
   "metadata": {},
   "outputs": [],
   "source": [
    "def materiaHaSidoAprobada(kardex,clave):\n",
    "    if len(kardex.query('clave == \"' + clave + '\" and promediofinal >= 7')) == 0:\n",
    "        return False\n",
    "    else:\n",
    "        return True"
   ]
  },
  {
   "cell_type": "code",
   "execution_count": null,
   "id": "53bcefea",
   "metadata": {},
   "outputs": [],
   "source": [
    "def respetaSeriacion(clave,kardex):\n",
    "    if len(seriaciones.query('ser2 == \"' + clave + '\"')) == 0:\n",
    "        return True\n",
    "    else:\n",
    "        #Se guarda en necesarias la lista de asignaturas necesarias para llevar la asignura \"clave\"\n",
    "        necesarias = seriaciones.query('ser2 == \"' + clave + '\"')['ser1'].unique()\n",
    "        \n",
    "        #Se recorre la lista para comprobar si el estudiante ya pasó las asignaturas necesarias, en caso de que le falte \n",
    "        #al menos una, entonces no se respeta la seriación.\n",
    "        for necesaria in necesarias:\n",
    "            if not(materiaHaSidoAprobada(kardex,necesaria)):\n",
    "                return False\n",
    "        return True"
   ]
  },
  {
   "cell_type": "code",
   "execution_count": null,
   "id": "636cba1b",
   "metadata": {},
   "outputs": [],
   "source": [
    "#Filtra las materias que no cumplen las restricciones 1 y 2\n",
    "\n",
    "def obtenerOfertaUtil(kardex,oferta):\n",
    "    #Se eliminan las materias en la oferta que ya han sido aprobadas\n",
    "    aprobadas = kardex.query('promediofinal >= 7')['clave'].unique()\n",
    "    for clave in aprobadas:\n",
    "        oferta = oferta.query('Clave != \"' + clave + '\"')\n",
    "        \n",
    "    #Se eliminan las materias que el alumno no puede llevar por la seriación\n",
    "    ofertaUtilIndex = set(oferta.index.values)\n",
    "    for idx in oferta.index:\n",
    "        if not(respetaSeriacion(oferta.loc[idx]['Clave'],kardex)):\n",
    "            ofertaUtilIndex.remove(idx)\n",
    "            \n",
    "    #Se eliminan prácticas profesionales y proyecto terminal\n",
    "    for i in range(len(oferta['Clave'].values)):\n",
    "        clave = oferta['Clave'].values[i]\n",
    "        if clave[0:3] == 'PID' or clave == 'IT0427':\n",
    "            try:\n",
    "                ofertaUtilIndex.remove(oferta.index.values[i])\n",
    "            except:\n",
    "                continue\n",
    "    ofertaUtil = oferta.loc[list(ofertaUtilIndex)]\n",
    "    \n",
    "    #Se eliminan materias de elección libre de primer y segundo ciclo\n",
    "    if(materiaHaSidoAprobada(kardex,'IL0102')):\n",
    "        ofertaUtil = ofertaUtil.query('Clave != \"ID0160\"')\n",
    "    if(materiaHaSidoAprobada(kardex,'ID0160')):\n",
    "        ofertaUtil = ofertaUtil.query('Clave != \"IL0102\"')\n",
    "    \n",
    "    if(materiaHaSidoAprobada(kardex,'IT0103')):\n",
    "        ofertaUtil = ofertaUtil.query('Clave != \"ID0161\"')\n",
    "    if(materiaHaSidoAprobada(kardex,'ID0161')):\n",
    "        ofertaUtil = ofertaUtil.query('Clave != \"IT0103\"')\n",
    "        \n",
    "    if(materiaHaSidoAprobada(kardex,'ID0264')):\n",
    "        ofertaUtil = ofertaUtil.query('Clave != \"ID0262\"')\n",
    "    if(materiaHaSidoAprobada(kardex,'ID0262')):\n",
    "        ofertaUtil = ofertaUtil.query('Clave != \"ID0264\"')\n",
    "        \n",
    "    if(materiaHaSidoAprobada(kardex,'ID0263')):\n",
    "        ofertaUtil = ofertaUtil.query('Clave != \"ID0265\"')\n",
    "    if(materiaHaSidoAprobada(kardex,'ID0265')):\n",
    "        ofertaUtil = ofertaUtil.query('Clave != \"ID0263\"')\n",
    "        \n",
    "    \n",
    "    return ofertaUtil"
   ]
  },
  {
   "cell_type": "code",
   "execution_count": null,
   "id": "05157063",
   "metadata": {},
   "outputs": [],
   "source": [
    "oferta.query('Clave != \"ID0161\"')"
   ]
  },
  {
   "cell_type": "markdown",
   "id": "7c1c3848",
   "metadata": {},
   "source": [
    "## Generación de carga aleatoria válida"
   ]
  },
  {
   "cell_type": "markdown",
   "id": "26e2a14b",
   "metadata": {},
   "source": [
    "#### NOTA: Tomar en cuenta materias repetidas y por ahora descartar talleres deportivos, artísticos, lengua inglesa y prácticas profesionales"
   ]
  },
  {
   "cell_type": "markdown",
   "id": "a66d78f1",
   "metadata": {},
   "source": [
    "En esta sección creamos las funciones \"generarCargaValida\" la cual retorna una string de bits representando una carga académica con base a la oferta útil. También se crea la función \"obtenerDatosCarga\" que nos ayuda a obtener los datos de una carga académica con base a la oferta útil y a una string de bits que denominamos \"bits de carga\""
   ]
  },
  {
   "cell_type": "code",
   "execution_count": null,
   "id": "5e238cf9",
   "metadata": {},
   "outputs": [],
   "source": [
    "def generarSolucionAleatoria(ofertaUtil):\n",
    "    solucion = [-1] * 9\n",
    "    for i in range(9):\n",
    "        gen = np.random.randint(-1,len(ofertaUtil))\n",
    "        if gen == -1:\n",
    "            solucion[i] = -1\n",
    "        else:\n",
    "            solucion[i] = ofertaUtil.index[gen]\n",
    "    return solucion"
   ]
  },
  {
   "cell_type": "code",
   "execution_count": null,
   "id": "136e15f5",
   "metadata": {},
   "outputs": [],
   "source": [
    "def obtenerDatosCarga(solucion,ofertaUtil):\n",
    "    solucionU = np.array(solucion)\n",
    "    solucionU = np.unique(solucionU)\n",
    "    solucionU = solucionU[solucionU >= 0]\n",
    "    \n",
    "    return ofertaUtil.loc[solucionU]"
   ]
  },
  {
   "cell_type": "code",
   "execution_count": null,
   "id": "d49e48ef",
   "metadata": {},
   "outputs": [],
   "source": [
    "def comprobarTraslapacion(solucion,ofertaUtil):\n",
    "    datosCarga = obtenerDatosCarga(solucion,ofertaUtil)\n",
    "    dias = ['Lunes','Martes','Miercoles','Jueves','Viernes','Sabado']\n",
    "    \n",
    "    for dia in dias:\n",
    "        horarioDia = datosCarga.sort_values(dia)[dia].values\n",
    "        for i in range(len(horarioDia)):\n",
    "            if horarioDia[i] == '-':\n",
    "                continue\n",
    "            horaInicioI = int(horarioDia[i][0:2])\n",
    "            horaFinI = int(horarioDia[i][6:8])\n",
    "            \n",
    "            for j in range(i+1,len(horarioDia)):\n",
    "                horaInicioJ = int(horarioDia[j][0:2])\n",
    "                horaFinJ = int(horarioDia[j][6:8])\n",
    "                \n",
    "                if not(horaFinJ  <= horaInicioI or horaInicioJ >= horaFinI):\n",
    "                    return True\n",
    "    return False"
   ]
  },
  {
   "cell_type": "code",
   "execution_count": null,
   "id": "584ec5ea",
   "metadata": {},
   "outputs": [],
   "source": [
    "def esValido(solucion,ofertaUtil):\n",
    "    #Si se repite una materia es inválido\n",
    "    datosCarga = obtenerDatosCarga(solucion,ofertaUtil)\n",
    "    if len(datosCarga['Clave'].unique()) < len(datosCarga):\n",
    "        return False\n",
    "    #Si se traslapan dos materias es inválido\n",
    "    if comprobarTraslapacion(solucion,ofertaUtil):\n",
    "        return False\n",
    "    return True"
   ]
  },
  {
   "cell_type": "code",
   "execution_count": null,
   "id": "b37d67d9",
   "metadata": {},
   "outputs": [],
   "source": [
    "def generarSolucionValida(ofertaUtil):\n",
    "    bitsDeCarga = generarSolucionAleatoria(ofertaUtil)\n",
    "    \n",
    "    while not(esValido(bitsDeCarga,ofertaUtil)):\n",
    "        bitsDeCarga = generarSolucionAleatoria(ofertaUtil)\n",
    "    \n",
    "    return bitsDeCarga"
   ]
  },
  {
   "cell_type": "code",
   "execution_count": null,
   "id": "2dda725e",
   "metadata": {},
   "outputs": [],
   "source": [
    "def obtenerHorario(carga,ofertaUtil):\n",
    "    primeraHoraMinima = 24\n",
    "    ultimaHoraMaxima = 0\n",
    "    datosCarga = obtenerDatosCarga(carga,ofertaUtil)\n",
    "    horario = pd.DataFrame({\n",
    "        'Hora': ['7:00-8:00','8:00-9:00','9:00-10:00','10:00-11:00','11:00-12:00','12:00-13:00','13:00-14:00','14:00-15:00','15:00-16:00','16:00-17:00','17:00-18:00','18:00-19:00','19:00-20:00','20:00-21:00','21:00-22:00'],\n",
    "        'Lunes': ['-','-','-','-','-','-','-','-','-','-','-','-','-','-','-'],\n",
    "        'Martes': ['-','-','-','-','-','-','-','-','-','-','-','-','-','-','-'],\n",
    "        'Miercoles': ['-','-','-','-','-','-','-','-','-','-','-','-','-','-','-'],\n",
    "        'Jueves': ['-','-','-','-','-','-','-','-','-','-','-','-','-','-','-'],\n",
    "        'Viernes': ['-','-','-','-','-','-','-','-','-','-','-','-','-','-','-'],\n",
    "        'Sabado': ['-','-','-','-','-','-','-','-','-','-','-','-','-','-','-'],\n",
    "    })\n",
    "    dias = ['Lunes','Martes','Miercoles','Jueves','Viernes','Sabado']\n",
    "    for dia in dias:\n",
    "        for i in range(len(datosCarga)):\n",
    "            if datosCarga[dia].iloc[i] == '-':\n",
    "                continue\n",
    "\n",
    "            horaInicio = int(datosCarga.iloc[i][dia][0:2])\n",
    "            horaFin = int(datosCarga.iloc[i][dia][6:8])\n",
    "            \n",
    "            primeraHoraMinima = min(primeraHoraMinima,horaInicio)\n",
    "            ultimaHoraMaxima = max(ultimaHoraMaxima,horaFin)\n",
    "            \n",
    "            nombre = datosCarga.iloc[i]['Nombre']\n",
    "\n",
    "            for hora in range(horaInicio,horaFin):\n",
    "                horario.loc[hora-7,dia]=nombre\n",
    "    return horario[(primeraHoraMinima-7):(ultimaHoraMaxima-6)]"
   ]
  },
  {
   "cell_type": "markdown",
   "id": "ce892328",
   "metadata": {},
   "source": [
    "# Definición de funciones de utilidad y de costo"
   ]
  },
  {
   "cell_type": "markdown",
   "id": "3b187491",
   "metadata": {},
   "source": [
    "## Utilidad de carga académica con base en las materias reprobadas"
   ]
  },
  {
   "cell_type": "code",
   "execution_count": null,
   "id": "65b92edf",
   "metadata": {},
   "outputs": [],
   "source": [
    "def obtenerMateriasReprobadas(kardex):\n",
    "    materiasReprobadas = kardex.query('promediofinal < 7')['clave'].unique()\n",
    "    materiasReprobadasFinal = []\n",
    "    for clave in materiasReprobadas:\n",
    "        aprobado = len(kardex.query('clave == \"' + clave + '\" and promediofinal >= 7'))\n",
    "        if aprobado == 0:\n",
    "            materiasReprobadasFinal.append(clave)\n",
    "    return materiasReprobadasFinal"
   ]
  },
  {
   "cell_type": "code",
   "execution_count": null,
   "id": "3a2e830e",
   "metadata": {},
   "outputs": [],
   "source": [
    "def UpMR(kardex,solucion,ofertaUtil):\n",
    "    materiasReprobadas = obtenerMateriasReprobadas(kardex)\n",
    "    if len(materiasReprobadas) == 0:\n",
    "        return 0\n",
    "    datosCarga = obtenerDatosCarga(solucion,ofertaUtil)\n",
    "    utilidadTotal = 0\n",
    "    \n",
    "    for clave in materiasReprobadas:\n",
    "        cargado = len(datosCarga.query('Clave == \"' + clave + '\"'))\n",
    "        if cargado == 1:\n",
    "            utilidadTotal += 1\n",
    "            \n",
    "    \n",
    "    #Normalización\n",
    "    utilidad = (utilidadTotal)/(len(materiasReprobadas))\n",
    "    return utilidad"
   ]
  },
  {
   "cell_type": "markdown",
   "id": "3385911a",
   "metadata": {},
   "source": [
    "## Utilidad de carga académica con base en el cierre de ciclos"
   ]
  },
  {
   "cell_type": "code",
   "execution_count": null,
   "id": "b311b785",
   "metadata": {},
   "outputs": [],
   "source": [
    "def UpCC(solucion,ofertaUtil):\n",
    "    alpha = 3\n",
    "    utilidad = [alpha**3,alpha**2,alpha,1]\n",
    "    utilidadTotal = 0\n",
    "    \n",
    "    datosCarga = obtenerDatosCarga(solucion,ofertaUtil)\n",
    "    \n",
    "    claves = datosCarga['Clave'].unique()\n",
    "    for i in range(len(claves)):\n",
    "        if claves[i][0:2] == 'AD'or claves[i][0:2] == 'TA' or claves[i][0:2] == 'LI' or claves[i][0:2] == 'PI':\n",
    "            continue\n",
    "            \n",
    "        ciclo = int(plan_2016.query('clave == \"' + claves[i] + '\"')['ciclos'])\n",
    "        utilidadTotal += utilidad[ciclo-1]\n",
    "    \n",
    "    #Normalización\n",
    "    utilidadNorm = (utilidadTotal)/(utilidad[0]*9)\n",
    "    return utilidadNorm"
   ]
  },
  {
   "cell_type": "markdown",
   "id": "3055acdc",
   "metadata": {},
   "source": [
    "## Costo de carga académica con base en las horas libres"
   ]
  },
  {
   "cell_type": "markdown",
   "id": "8e3c3124",
   "metadata": {},
   "source": [
    "#### NOTA: Tomar en cuenta las horas libres por día"
   ]
  },
  {
   "cell_type": "code",
   "execution_count": null,
   "id": "de37cf1b",
   "metadata": {},
   "outputs": [],
   "source": [
    "def CpHL(solucion,ofertaUtil):\n",
    "    dias = ['Lunes','Martes','Miercoles','Jueves','Viernes','Sabado']\n",
    "    costoTotal = 0\n",
    "    hlMax = 0\n",
    "    \n",
    "    datosCarga = obtenerDatosCarga(solucion,ofertaUtil)\n",
    "    \n",
    "    for dia in dias:\n",
    "        datosCarga = datosCarga.sort_values(dia)\n",
    "        if datosCarga[dia].iloc[len(datosCarga)-2] == '-':\n",
    "            continue\n",
    "        \n",
    "        ultimaHoraFin = 0\n",
    "        for i in range(len(datosCarga)):\n",
    "            if datosCarga.iloc[i][dia] == '-':\n",
    "                continue\n",
    "            if ultimaHoraFin == 0:\n",
    "                ultimaHoraFin = int(datosCarga.iloc[i][dia][6:8])\n",
    "                primeraHoraDia = int(datosCarga.iloc[i][dia][0:2])\n",
    "                continue\n",
    "            horaInicio = int(datosCarga.iloc[i][dia][0:2])\n",
    "            costoTotal += (horaInicio - ultimaHoraFin)\n",
    "            ultimaHoraFin = int(datosCarga.iloc[i][dia][6:8])\n",
    "        hlMax += (ultimaHoraFin - primeraHoraDia - 2)\n",
    "    \n",
    "    if hlMax == 0:\n",
    "        return 0\n",
    "    #Normalización\n",
    "    costo = (costoTotal)/(hlMax)\n",
    "    return costo"
   ]
  },
  {
   "cell_type": "markdown",
   "id": "25015bdb",
   "metadata": {},
   "source": [
    "## Costo de carga académica con base en la disponibilidad de horario del estudiante"
   ]
  },
  {
   "cell_type": "markdown",
   "id": "73d999ec",
   "metadata": {},
   "source": [
    "Creamos 4 casos diferentes donde los estudiantes trabajan. Guardamos el horario de ocupación de los estudiantes en un dataframe por cada estudiante."
   ]
  },
  {
   "cell_type": "code",
   "execution_count": null,
   "id": "709995e9",
   "metadata": {},
   "outputs": [],
   "source": [
    "# El estudiante trabaja por las mañanas tiempo completo\n",
    "disp_est_1 = pd.DataFrame({\n",
    "    \"hora\": [7,8,9,10,11,12,13,14,15,16,17,18,19,20,21],\n",
    "    \"Lunes\": [False,False,False,False,False,False,False,False,False,True,True,True,True,True,True],\n",
    "    \"Martes\": [False,False,False,False,False,False,False,False,False,True,True,True,True,True,True],\n",
    "    \"Miercoles\": [False,False,False,False,False,False,False,False,False,True,True,True,True,True,True],\n",
    "    \"Jueves\": [False,False,False,False,False,False,False,False,False,True,True,True,True,True,True],\n",
    "    \"Viernes\": [False,False,False,False,False,False,False,False,False,True,True,True,True,True,True],\n",
    "    \"Sabado\": [False,False,False,False,False,False,False,False,False,True,True,True,True,True,True]\n",
    "})\n",
    "\n",
    "\n",
    "# El estudiante trabaja por las tardes tiempo completo\n",
    "disp_est_2 = pd.DataFrame({\n",
    "    \"hora\": [7,8,9,10,11,12,13,14,15,16,17,18,19,20,21],\n",
    "    \"Lunes\": [True,True,True,True,True,True,False,False,False,False,False,False,False,False,False],\n",
    "    \"Martes\": [True,True,True,True,True,True,False,False,False,False,False,False,False,False,False],\n",
    "    \"Miercoles\": [True,True,True,True,True,True,False,False,False,False,False,False,False,False,False],\n",
    "    \"Jueves\": [True,True,True,True,True,True,False,False,False,False,False,False,False,False,False],\n",
    "    \"Viernes\": [True,True,True,True,True,True,False,False,False,False,False,False,False,False,False],\n",
    "    \"Sabado\": [True,True,True,True,True,True,False,False,False,False,False,False,False,False,False]\n",
    "})\n",
    "\n",
    "# El estudiante trabaja por las mañanas medio tiempo\n",
    "disp_est_3 = pd.DataFrame({\n",
    "    \"hora\": [7,8,9,10,11,12,13,14,15,16,17,18,19,20,21],\n",
    "    \"Lunes\": [True,False,False,False,False,False,True,True,True,True,True,True,True,False,False],\n",
    "    \"Martes\": [True,False,False,False,False,False,True,True,True,True,True,True,True,False,False],\n",
    "    \"Miercoles\": [True,False,False,False,False,False,True,True,True,True,True,True,True,False,False],\n",
    "    \"Jueves\": [True,False,False,False,False,False,True,True,True,True,True,True,True,False,False],\n",
    "    \"Viernes\": [True,False,False,False,False,False,True,True,True,True,True,True,True,False,False],\n",
    "    \"Sabado\": [True,False,False,False,False,False,True,True,True,True,True,True,True,False,False]\n",
    "})\n",
    "# El estudiante trabaja por las tardes medio tiempo\n",
    "disp_est_4 = pd.DataFrame({\n",
    "    \"hora\": [7,8,9,10,11,12,13,14,15,16,17,18,19,20,21],\n",
    "    \"Lunes\": [True,True,True,True,True,False,False,False,False,False,True,True,True,True,True],\n",
    "    \"Martes\": [True,True,True,True,True,False,False,False,False,False,True,True,True,True,True],\n",
    "    \"Miercoles\": [True,True,True,True,True,False,False,False,False,False,True,True,True,True,True],\n",
    "    \"Jueves\": [True,True,True,True,True,False,False,False,False,False,True,True,True,True,True],\n",
    "    \"Viernes\": [True,True,True,True,True,False,False,False,False,False,True,True,True,True,True],\n",
    "    \"Sabado\": [True,True,True,True,True,False,False,False,False,False,True,True,True,True,True]\n",
    "})\n",
    "disp_est_5 = pd.DataFrame({\n",
    "    \"hora\": [7,8,9,10,11,12,13,14,15,16,17,18,19,20,21],\n",
    "    \"Lunes\": [True,True,True,True,True,True,True,True,True,True,True,True,True,True,True],\n",
    "    \"Martes\": [True,True,True,True,True,True,True,True,True,True,True,True,True,True,True],\n",
    "    \"Miercoles\": [True,True,True,True,True,True,True,True,True,True,True,True,True,True,True],\n",
    "    \"Jueves\": [True,True,True,True,True,True,True,True,True,True,True,True,True,True,True],\n",
    "    \"Viernes\": [True,True,True,True,True,True,True,True,True,True,True,True,True,True,True],\n",
    "    \"Sabado\": [True,True,True,True,True,True,True,True,True,True,True,True,True,True,True]\n",
    "})"
   ]
  },
  {
   "cell_type": "code",
   "execution_count": null,
   "id": "7137d3f9",
   "metadata": {
    "scrolled": false
   },
   "outputs": [],
   "source": [
    "disponibilidadArr = [disp_est_1,disp_est_2,disp_est_3,disp_est_4,disp_est_5]"
   ]
  },
  {
   "cell_type": "code",
   "execution_count": null,
   "id": "7e1f73fd",
   "metadata": {},
   "outputs": [],
   "source": [
    "def CpDH(solucion,ofertaUtil,disponibilidad):\n",
    "    disponibilidadTotal = sum(disponibilidad['Lunes']) + sum(disponibilidad['Martes']) + sum(disponibilidad['Miercoles']) + sum(disponibilidad['Jueves']) + sum(disponibilidad['Viernes']) + sum(disponibilidad['Sabado'])\n",
    "    if disponibilidadTotal == 90:\n",
    "        return 0\n",
    "    \n",
    "    dias = ['Lunes','Martes','Miercoles','Jueves','Viernes','Sabado']\n",
    "    datosCarga = obtenerDatosCarga(solucion,ofertaUtil)\n",
    "    costoTotal = 0\n",
    "\n",
    "    for dia in dias:\n",
    "        for i in range(len(datosCarga)):\n",
    "            if datosCarga[dia].iloc[i] == '-':\n",
    "                continue\n",
    "\n",
    "            horaInicio = int(datosCarga.iloc[i][dia][0:2])\n",
    "            horaFin = int(datosCarga.iloc[i][dia][6:8])\n",
    "\n",
    "            for hora in range(horaInicio,horaFin):\n",
    "                if not(disponibilidad.query('hora == ' + str(hora))[dia].values[0]):\n",
    "                    costoTotal += 1\n",
    "                    \n",
    "    #Normalización\n",
    "    costo = (costoTotal)/(90 - disponibilidadTotal)\n",
    "    return costo"
   ]
  },
  {
   "cell_type": "markdown",
   "id": "16e07217",
   "metadata": {},
   "source": [
    "# Definición de la función de desempeño"
   ]
  },
  {
   "cell_type": "code",
   "execution_count": null,
   "id": "b8466a64",
   "metadata": {},
   "outputs": [],
   "source": [
    "def obtenerDesempeno(solucion,cromosomaIndice):\n",
    "    if not(esValido(solucion,ofertaUtil)):\n",
    "        return 0\n",
    "    pesos = np.array([1,1,1,1])   \n",
    "    \n",
    "    upcc = UpCC(solucion,ofertaUtil)\n",
    "    upmr = UpMR(kardex,solucion,ofertaUtil)\n",
    "    cpdh = CpDH(solucion,ofertaUtil,disponibilidad)\n",
    "    cphl = CpHL(solucion,ofertaUtil)\n",
    "    \n",
    "    x = np.array([upcc,upmr,cpdh,cphl])\n",
    "    x = x*pesos\n",
    "    \n",
    "    x[2] =  pesos[2]- x[2]\n",
    "    x[3] = pesos[3] - x[3]\n",
    "    \n",
    "    return sum(x)"
   ]
  },
  {
   "cell_type": "code",
   "execution_count": null,
   "id": "36164559",
   "metadata": {},
   "outputs": [],
   "source": [
    "def evaluarSolucion(solucion):\n",
    "    pesos = np.array([1,1,1,1])   \n",
    "    \n",
    "    upcc = UpCC(solucion,ofertaUtil)\n",
    "    upmr = UpMR(kardex,solucion,ofertaUtil)\n",
    "    cpdh = CpDH(solucion,ofertaUtil,disponibilidad)\n",
    "    cphl = CpHL(solucion,ofertaUtil)\n",
    "    \n",
    "    print(\"La carga evaluada tiene:\")\n",
    "    print(\"\\t\" + str(round(100*upcc,2)) + \"% de utilidad por las materias de primeros ciclos llevadas.\")\n",
    "    print(\"\\t\" + str(round(100*upmr,2)) + \"% del total de las materias reprobadas del estudiante.\") \n",
    "    print(\"\\t\" + str(round(100*cpdh,2)) + \"% de costo por sobreposición con las horas donde el estudiante no está disponible.\")\n",
    "    print(\"\\t\" + str(round(100*cphl,2)) + \"% de costo por el total de horas libres por día.\")"
   ]
  },
  {
   "cell_type": "markdown",
   "id": "ec4b7fb5",
   "metadata": {},
   "source": [
    "### Problemas a solucionar:"
   ]
  },
  {
   "cell_type": "markdown",
   "id": "ca4b80dd",
   "metadata": {},
   "source": [
    "-Función de horas libres no toma en cuenta el promedio de horas libres por día (Hacer otra función?)"
   ]
  },
  {
   "cell_type": "markdown",
   "id": "2652041b",
   "metadata": {},
   "source": [
    "-¿La función objetivo de regresar un promedio o una suma de las demás funciones?"
   ]
  },
  {
   "cell_type": "markdown",
   "id": "4497b314",
   "metadata": {},
   "source": [
    "-Arreglar costo por horas libres, regresa valores negativos"
   ]
  },
  {
   "cell_type": "markdown",
   "id": "ab148add",
   "metadata": {},
   "source": [
    "# Algoritmos evolutivos"
   ]
  },
  {
   "cell_type": "markdown",
   "id": "ec38cdca",
   "metadata": {},
   "source": [
    "## Prueba #1"
   ]
  },
  {
   "cell_type": "code",
   "execution_count": null,
   "id": "2e68cc8f",
   "metadata": {},
   "outputs": [],
   "source": [
    "#Matricula Eddie = 190311499"
   ]
  },
  {
   "cell_type": "code",
   "execution_count": null,
   "id": "dfc8387f",
   "metadata": {},
   "outputs": [],
   "source": [
    "kardex = obtenerKardex(190311499).query('periodo < 202201')\n",
    "disponibilidad = disponibilidadArr[4] #Disponibilidad completa de horario\n",
    "ofertaUtil = obtenerOfertaUtil(kardex,oferta)"
   ]
  },
  {
   "cell_type": "code",
   "execution_count": null,
   "id": "de9f799a",
   "metadata": {},
   "outputs": [],
   "source": [
    "#Obtener un kardex con al menos la mitad de creditos y al menos 3 materias reprobadas\n",
    "#kardex = obtenerKardex()\n",
    "#while obtenerCreditos(kardex) < 200 or len(obtenerMateriasReprobadas(kardex))  <= 2:\n",
    "#    kardex = obtenerKardex()\n",
    "#ofertaUtil = obtenerOfertaUtil(kardex,oferta)"
   ]
  },
  {
   "cell_type": "code",
   "execution_count": null,
   "id": "3c098b59",
   "metadata": {},
   "outputs": [],
   "source": [
    "obtenerCreditos(kardex)"
   ]
  },
  {
   "cell_type": "code",
   "execution_count": null,
   "id": "63f1a448",
   "metadata": {
    "scrolled": true
   },
   "outputs": [],
   "source": [
    "obtenerMateriasReprobadas(kardex)"
   ]
  },
  {
   "cell_type": "code",
   "execution_count": null,
   "id": "d48607b9",
   "metadata": {
    "scrolled": true
   },
   "outputs": [],
   "source": [
    "ofertaUtil"
   ]
  },
  {
   "cell_type": "code",
   "execution_count": null,
   "id": "31ea1365",
   "metadata": {},
   "outputs": [],
   "source": [
    "fitness_function = obtenerDesempeno\n",
    "\n",
    "num_generations = 30      #Número de generaciones\n",
    "num_parents_mating = 2    #Número de padres por hijo\n",
    "\n",
    "sol_per_pop = 500        #Tamaño de la poblacion\n",
    "num_genes = 9             #Tamaño del cromosoma\n",
    "\n",
    "gene_type = int           #Tipo de dato de los genes del cromosoma\n",
    "\n",
    "parent_selection_type = \"tournament\"\n",
    "keep_parents = 1          #Mantener a los padres vivos (La poblacion crece)\n",
    "\n",
    "crossover_type = \"two_points\"\n",
    "\n",
    "mutation_type = \"random\"\n",
    "mutation_percent_genes = 15\n",
    "\n",
    "gene_space = np.append(ofertaUtil.index.values,[-1])     #Valores que pueden tomar los genes"
   ]
  },
  {
   "cell_type": "code",
   "execution_count": null,
   "id": "32752ed9",
   "metadata": {},
   "outputs": [],
   "source": [
    "def on_generation(ga_instance):\n",
    "    if ga_instance.num_generations > 100:\n",
    "        if ga_instance.generations_completed % (ga_instance.num_generations / 100) == 0:\n",
    "            print(str(ga_instance.generations_completed / (ga_instance.num_generations / 100)) + \"%\")\n",
    "    else:\n",
    "        print(\"Generación: \" + str(ga_instance.generations_completed))"
   ]
  },
  {
   "cell_type": "code",
   "execution_count": null,
   "id": "9820f9a3",
   "metadata": {},
   "outputs": [],
   "source": [
    "ga_instance = pg.GA(num_generations=num_generations,\n",
    "                       num_parents_mating=num_parents_mating,\n",
    "                       fitness_func=fitness_function,\n",
    "                       sol_per_pop=sol_per_pop,\n",
    "                       num_genes=num_genes,\n",
    "                       parent_selection_type=parent_selection_type,\n",
    "                       keep_parents=keep_parents,\n",
    "                       crossover_type=crossover_type,\n",
    "                       mutation_type=mutation_type,\n",
    "                       mutation_percent_genes=mutation_percent_genes,\n",
    "                       gene_type=gene_type,\n",
    "                       gene_space=gene_space,\n",
    "                       on_generation=on_generation)"
   ]
  },
  {
   "cell_type": "code",
   "execution_count": null,
   "id": "d24511cd",
   "metadata": {
    "scrolled": true
   },
   "outputs": [],
   "source": [
    "start_time = time.time()\n",
    "ga_instance.run()\n",
    "print(\"--- Proceso terminado en: %s segundos---\" % (time.time() - start_time))"
   ]
  },
  {
   "cell_type": "code",
   "execution_count": null,
   "id": "0a88f63b",
   "metadata": {},
   "outputs": [],
   "source": [
    "solution, solution_fitness, solution_idx = ga_instance.best_solution()"
   ]
  },
  {
   "cell_type": "code",
   "execution_count": null,
   "id": "e6b046b2",
   "metadata": {},
   "outputs": [],
   "source": [
    "solution_fitness"
   ]
  },
  {
   "cell_type": "code",
   "execution_count": null,
   "id": "8eeb625f",
   "metadata": {},
   "outputs": [],
   "source": [
    "ga_instance.plot_fitness()"
   ]
  },
  {
   "cell_type": "markdown",
   "id": "8166cac9",
   "metadata": {},
   "source": [
    "**Nota:** Esta carga tiene un mejor resultado práctico que el resultado ideal."
   ]
  },
  {
   "cell_type": "code",
   "execution_count": null,
   "id": "ada0bb3c",
   "metadata": {},
   "outputs": [],
   "source": [
    "obtenerDatosCarga(solution,ofertaUtil)"
   ]
  },
  {
   "cell_type": "code",
   "execution_count": null,
   "id": "d409a526",
   "metadata": {},
   "outputs": [],
   "source": [
    "desempeno = ga_instance.last_generation_fitness\n",
    "desempeno.sort()"
   ]
  },
  {
   "cell_type": "code",
   "execution_count": null,
   "id": "5fc11dad",
   "metadata": {
    "scrolled": true
   },
   "outputs": [],
   "source": [
    "for a in desempeno:\n",
    "    print(a)"
   ]
  },
  {
   "cell_type": "code",
   "execution_count": null,
   "id": "6ca13679",
   "metadata": {},
   "outputs": [],
   "source": [
    "solution"
   ]
  },
  {
   "cell_type": "code",
   "execution_count": null,
   "id": "46cf170e",
   "metadata": {},
   "outputs": [],
   "source": [
    "obtenerDesempeno([66,67,68,72,69,71,-1,-1,-1],0)"
   ]
  },
  {
   "cell_type": "code",
   "execution_count": null,
   "id": "a32d39ac",
   "metadata": {},
   "outputs": [],
   "source": [
    "claves = obtenerDatosCarga(solution,ofertaUtil)['Clave'].values\n",
    "for clave in claves:\n",
    "    print(plan_2016.query('clave == \"' + clave + '\"')['ciclos'].values)"
   ]
  },
  {
   "cell_type": "code",
   "execution_count": null,
   "id": "f97f02cf",
   "metadata": {},
   "outputs": [],
   "source": [
    "evaluarSolucion(solution) #Solucion del algoritmo"
   ]
  },
  {
   "cell_type": "code",
   "execution_count": null,
   "id": "e155d187",
   "metadata": {},
   "outputs": [],
   "source": [
    "9/243"
   ]
  },
  {
   "cell_type": "markdown",
   "id": "f0ec7bc3",
   "metadata": {},
   "source": [
    "#### Solución ideal:"
   ]
  },
  {
   "cell_type": "code",
   "execution_count": null,
   "id": "2fe3996e",
   "metadata": {},
   "outputs": [],
   "source": [
    "obtenerDatosCarga([66,67,68,72,69,71,-1,-1,-1],ofertaUtil)"
   ]
  },
  {
   "cell_type": "code",
   "execution_count": null,
   "id": "5615ca9c",
   "metadata": {},
   "outputs": [],
   "source": [
    "evaluarSolucion([66,67,68,72,69,71,-1,-1,-1]) #Solución ideal"
   ]
  },
  {
   "cell_type": "code",
   "execution_count": null,
   "id": "0d292bfb",
   "metadata": {},
   "outputs": [],
   "source": [
    "claves = obtenerDatosCarga([66,67,68,72,69,71,-1,-1,-1],ofertaUtil)['Clave'].values\n",
    "for clave in claves:\n",
    "    print(plan_2016.query('clave == \"' + clave + '\"')['ciclos'].values)"
   ]
  },
  {
   "cell_type": "markdown",
   "id": "bea4326e",
   "metadata": {},
   "source": [
    "**Resultado:** Por dos horas libres se obtuvo el inverso del costo del 82%. Se está castigando mucho las horas libres, tal vez hay que hacer la función de costo por horas libres una función cuadrática."
   ]
  },
  {
   "cell_type": "markdown",
   "id": "c4c4862b",
   "metadata": {},
   "source": [
    "Las materias de elección libre no deberían añadir un valor sobre la utilidad de cierre de ciclos a menos que aún no se hayan cursado las 2 materias de elib de primer y segundo ciclo."
   ]
  },
  {
   "cell_type": "markdown",
   "id": "98e7939a",
   "metadata": {},
   "source": [
    "Probar resultado ajustando el peso de cada objetivo: Disponibilidad(3), cerrar ciclos (2), materias reprobadas (2), horas libres(1)"
   ]
  },
  {
   "cell_type": "markdown",
   "id": "706636aa",
   "metadata": {},
   "source": [
    "## Prueba #2"
   ]
  },
  {
   "cell_type": "markdown",
   "id": "2143c090",
   "metadata": {},
   "source": [
    "Se quitaron las materias de elección libre de los primeros 4 semestres."
   ]
  },
  {
   "cell_type": "code",
   "execution_count": null,
   "id": "04c26c16",
   "metadata": {},
   "outputs": [],
   "source": [
    "kardex = obtenerKardex(190311499).query('periodo < 202201')\n",
    "disponibilidad = disponibilidadArr[4] #Disponibilidad completa de horario\n",
    "ofertaUtil = obtenerOfertaUtil(kardex,oferta)"
   ]
  },
  {
   "cell_type": "code",
   "execution_count": null,
   "id": "cc39fe9f",
   "metadata": {},
   "outputs": [],
   "source": [
    "obtenerCreditos(kardex)"
   ]
  },
  {
   "cell_type": "code",
   "execution_count": null,
   "id": "815faa8e",
   "metadata": {},
   "outputs": [],
   "source": [
    "obtenerMateriasReprobadas(kardex)"
   ]
  },
  {
   "cell_type": "code",
   "execution_count": null,
   "id": "b133c4a5",
   "metadata": {},
   "outputs": [],
   "source": [
    "fitness_function = obtenerDesempeno\n",
    "\n",
    "num_generations = 30      #Número de generaciones\n",
    "num_parents_mating = 2    #Número de padres por hijo\n",
    "\n",
    "sol_per_pop = 500        #Tamaño de la poblacion\n",
    "num_genes = 9             #Tamaño del cromosoma\n",
    "\n",
    "gene_type = int           #Tipo de dato de los genes del cromosoma\n",
    "\n",
    "parent_selection_type = \"tournament\"\n",
    "keep_parents = 1          #Mantener a los padres vivos (La poblacion crece)\n",
    "\n",
    "crossover_type = \"two_points\"\n",
    "\n",
    "mutation_type = \"random\"\n",
    "mutation_percent_genes = 15\n",
    "\n",
    "gene_space = np.append(ofertaUtil.index.values,[-1])     #Valores que pueden tomar los genes"
   ]
  },
  {
   "cell_type": "code",
   "execution_count": null,
   "id": "7b7c5f0e",
   "metadata": {},
   "outputs": [],
   "source": [
    "ga_instance = pg.GA(num_generations=num_generations,\n",
    "                       num_parents_mating=num_parents_mating,\n",
    "                       fitness_func=fitness_function,\n",
    "                       sol_per_pop=sol_per_pop,\n",
    "                       num_genes=num_genes,\n",
    "                       parent_selection_type=parent_selection_type,\n",
    "                       keep_parents=keep_parents,\n",
    "                       crossover_type=crossover_type,\n",
    "                       mutation_type=mutation_type,\n",
    "                       mutation_percent_genes=mutation_percent_genes,\n",
    "                       gene_type=gene_type,\n",
    "                       gene_space=gene_space,\n",
    "                       on_generation=on_generation)"
   ]
  },
  {
   "cell_type": "code",
   "execution_count": null,
   "id": "2272d5a3",
   "metadata": {
    "scrolled": true
   },
   "outputs": [],
   "source": [
    "start_time = time.time()\n",
    "ga_instance.run()\n",
    "print(\"--- Proceso terminado en: %s segundos---\" % (time.time() - start_time))"
   ]
  },
  {
   "cell_type": "code",
   "execution_count": null,
   "id": "b03db067",
   "metadata": {},
   "outputs": [],
   "source": [
    "solution, solution_fitness, solution_idx = ga_instance.best_solution()\n",
    "print(solution_fitness)"
   ]
  },
  {
   "cell_type": "code",
   "execution_count": null,
   "id": "acb45938",
   "metadata": {},
   "outputs": [],
   "source": [
    "ga_instance.plot_fitness()"
   ]
  },
  {
   "cell_type": "code",
   "execution_count": null,
   "id": "d8b4d613",
   "metadata": {},
   "outputs": [],
   "source": [
    "obtenerDatosCarga(solution,ofertaUtil)"
   ]
  },
  {
   "cell_type": "code",
   "execution_count": null,
   "id": "1bf9c29d",
   "metadata": {},
   "outputs": [],
   "source": [
    "desempeno = ga_instance.last_generation_fitness\n",
    "desempeno.sort()\n",
    "for a in desempeno:\n",
    "    print(a)"
   ]
  },
  {
   "cell_type": "code",
   "execution_count": null,
   "id": "e6be41ca",
   "metadata": {},
   "outputs": [],
   "source": [
    "claves = obtenerDatosCarga(solution,ofertaUtil)['Clave'].values\n",
    "for clave in claves:\n",
    "    print(plan_2016.query('clave == \"' + clave + '\"')['ciclos'].values)"
   ]
  },
  {
   "cell_type": "markdown",
   "id": "0ee34245",
   "metadata": {},
   "source": [
    "## Prueba #3"
   ]
  },
  {
   "cell_type": "markdown",
   "id": "1d354996",
   "metadata": {},
   "source": [
    "keep_parents = False"
   ]
  },
  {
   "cell_type": "code",
   "execution_count": null,
   "id": "82d43595",
   "metadata": {},
   "outputs": [],
   "source": [
    "kardex = obtenerKardex(190311499).query('periodo < 202201')\n",
    "disponibilidad = disponibilidadArr[4] #Disponibilidad completa de horario\n",
    "ofertaUtil = obtenerOfertaUtil(kardex,oferta)"
   ]
  },
  {
   "cell_type": "code",
   "execution_count": null,
   "id": "27d65e5e",
   "metadata": {},
   "outputs": [],
   "source": [
    "obtenerCreditos(kardex)"
   ]
  },
  {
   "cell_type": "code",
   "execution_count": null,
   "id": "d9efbed4",
   "metadata": {},
   "outputs": [],
   "source": [
    "obtenerMateriasReprobadas(kardex)"
   ]
  },
  {
   "cell_type": "code",
   "execution_count": null,
   "id": "66834bda",
   "metadata": {},
   "outputs": [],
   "source": [
    "fitness_function = obtenerDesempeno\n",
    "\n",
    "num_generations = 30      #Número de generaciones\n",
    "num_parents_mating = 2    #Número de padres por hijo\n",
    "\n",
    "sol_per_pop = 500        #Tamaño de la poblacion\n",
    "num_genes = 9             #Tamaño del cromosoma\n",
    "\n",
    "gene_type = int           #Tipo de dato de los genes del cromosoma\n",
    "\n",
    "parent_selection_type = \"tournament\"\n",
    "keep_parents = 0          #Mantener a los padres vivos (La poblacion crece)\n",
    "\n",
    "crossover_type = \"two_points\"\n",
    "\n",
    "mutation_type = \"random\"\n",
    "mutation_percent_genes = 15\n",
    "\n",
    "gene_space = np.append(ofertaUtil.index.values,[-1])     #Valores que pueden tomar los genes"
   ]
  },
  {
   "cell_type": "code",
   "execution_count": null,
   "id": "2db1c739",
   "metadata": {},
   "outputs": [],
   "source": [
    "ga_instance = pg.GA(num_generations=num_generations,\n",
    "                       num_parents_mating=num_parents_mating,\n",
    "                       fitness_func=fitness_function,\n",
    "                       sol_per_pop=sol_per_pop,\n",
    "                       num_genes=num_genes,\n",
    "                       parent_selection_type=parent_selection_type,\n",
    "                       keep_parents=keep_parents,\n",
    "                       crossover_type=crossover_type,\n",
    "                       mutation_type=mutation_type,\n",
    "                       mutation_percent_genes=mutation_percent_genes,\n",
    "                       gene_type=gene_type,\n",
    "                       gene_space=gene_space,\n",
    "                       on_generation=on_generation)"
   ]
  },
  {
   "cell_type": "code",
   "execution_count": null,
   "id": "9116c771",
   "metadata": {
    "scrolled": true
   },
   "outputs": [],
   "source": [
    "start_time = time.time()\n",
    "ga_instance.run()\n",
    "print(\"--- Proceso terminado en: %s segundos---\" % (time.time() - start_time))"
   ]
  },
  {
   "cell_type": "code",
   "execution_count": null,
   "id": "85adbf1b",
   "metadata": {},
   "outputs": [],
   "source": [
    "solution, solution_fitness, solution_idx = ga_instance.best_solution()\n",
    "print(solution_fitness)"
   ]
  },
  {
   "cell_type": "code",
   "execution_count": null,
   "id": "0562ad15",
   "metadata": {},
   "outputs": [],
   "source": [
    "ga_instance.plot_fitness()"
   ]
  },
  {
   "cell_type": "code",
   "execution_count": null,
   "id": "99d72241",
   "metadata": {},
   "outputs": [],
   "source": [
    "obtenerDatosCarga(solution,ofertaUtil)"
   ]
  },
  {
   "cell_type": "code",
   "execution_count": null,
   "id": "01eccb0e",
   "metadata": {},
   "outputs": [],
   "source": [
    "desempeno = ga_instance.last_generation_fitness\n",
    "desempeno.sort()\n",
    "for a in desempeno:\n",
    "    print(a)"
   ]
  },
  {
   "cell_type": "code",
   "execution_count": null,
   "id": "1be6fe80",
   "metadata": {},
   "outputs": [],
   "source": [
    "claves = obtenerDatosCarga(solution,ofertaUtil)['Clave'].values\n",
    "for clave in claves:\n",
    "    print(plan_2016.query('clave == \"' + clave + '\"')['ciclos'].values)"
   ]
  },
  {
   "cell_type": "code",
   "execution_count": null,
   "id": "8319e293",
   "metadata": {},
   "outputs": [],
   "source": [
    "evaluarSolucion(ga_instance.population[45])"
   ]
  },
  {
   "cell_type": "code",
   "execution_count": null,
   "id": "3a0dc372",
   "metadata": {},
   "outputs": [],
   "source": [
    "obtenerDesempeno(ga_instance.population[45],0)"
   ]
  },
  {
   "cell_type": "code",
   "execution_count": null,
   "id": "2b664afd",
   "metadata": {
    "scrolled": true
   },
   "outputs": [],
   "source": [
    "obtenerDatosCarga(ga_instance.population[25],ofertaUtil)"
   ]
  },
  {
   "cell_type": "markdown",
   "id": "03fec101",
   "metadata": {},
   "source": [
    "## Prueba #4"
   ]
  },
  {
   "cell_type": "markdown",
   "id": "1b4d9fc3",
   "metadata": {},
   "source": [
    "steady-state selection"
   ]
  },
  {
   "cell_type": "code",
   "execution_count": null,
   "id": "d31d71ec",
   "metadata": {},
   "outputs": [],
   "source": [
    "kardex = obtenerKardex(190311499).query('periodo < 202201')\n",
    "disponibilidad = disponibilidadArr[4] #Disponibilidad completa de horario\n",
    "ofertaUtil = obtenerOfertaUtil(kardex,oferta)"
   ]
  },
  {
   "cell_type": "code",
   "execution_count": null,
   "id": "d14d4411",
   "metadata": {},
   "outputs": [],
   "source": [
    "obtenerCreditos(kardex)"
   ]
  },
  {
   "cell_type": "code",
   "execution_count": null,
   "id": "16bd38a5",
   "metadata": {},
   "outputs": [],
   "source": [
    "obtenerMateriasReprobadas(kardex)"
   ]
  },
  {
   "cell_type": "code",
   "execution_count": null,
   "id": "bdb8b626",
   "metadata": {},
   "outputs": [],
   "source": [
    "fitness_function = obtenerDesempeno\n",
    "\n",
    "num_generations = 30      #Número de generaciones\n",
    "num_parents_mating = 2    #Número de padres por hijo\n",
    "\n",
    "sol_per_pop = 500        #Tamaño de la poblacion\n",
    "num_genes = 9             #Tamaño del cromosoma\n",
    "\n",
    "gene_type = int           #Tipo de dato de los genes del cromosoma\n",
    "\n",
    "parent_selection_type = \"sss\"\n",
    "keep_parents = 1          #Mantener a los padres vivos (La poblacion crece)\n",
    "\n",
    "crossover_type = \"two_points\"\n",
    "\n",
    "mutation_type = \"random\"\n",
    "mutation_percent_genes = 15\n",
    "\n",
    "gene_space = np.append(ofertaUtil.index.values,[-1])     #Valores que pueden tomar los genes"
   ]
  },
  {
   "cell_type": "code",
   "execution_count": null,
   "id": "701f1870",
   "metadata": {},
   "outputs": [],
   "source": [
    "ga_instance = pg.GA(num_generations=num_generations,\n",
    "                       num_parents_mating=num_parents_mating,\n",
    "                       fitness_func=fitness_function,\n",
    "                       sol_per_pop=sol_per_pop,\n",
    "                       num_genes=num_genes,\n",
    "                       parent_selection_type=parent_selection_type,\n",
    "                       keep_parents=keep_parents,\n",
    "                       crossover_type=crossover_type,\n",
    "                       mutation_type=mutation_type,\n",
    "                       mutation_percent_genes=mutation_percent_genes,\n",
    "                       gene_type=gene_type,\n",
    "                       gene_space=gene_space,\n",
    "                       on_generation=on_generation)"
   ]
  },
  {
   "cell_type": "code",
   "execution_count": null,
   "id": "c0c6105c",
   "metadata": {
    "scrolled": true
   },
   "outputs": [],
   "source": [
    "start_time = time.time()\n",
    "ga_instance.run()\n",
    "print(\"--- Proceso terminado en: %s segundos---\" % (time.time() - start_time))"
   ]
  },
  {
   "cell_type": "code",
   "execution_count": null,
   "id": "4092d9c6",
   "metadata": {},
   "outputs": [],
   "source": [
    "solution, solution_fitness, solution_idx = ga_instance.best_solution()\n",
    "print(solution_fitness)"
   ]
  },
  {
   "cell_type": "code",
   "execution_count": null,
   "id": "4d618cf4",
   "metadata": {},
   "outputs": [],
   "source": [
    "ga_instance.plot_fitness()"
   ]
  },
  {
   "cell_type": "code",
   "execution_count": null,
   "id": "b0219dd0",
   "metadata": {},
   "outputs": [],
   "source": [
    "obtenerDatosCarga(solution,ofertaUtil)"
   ]
  },
  {
   "cell_type": "code",
   "execution_count": null,
   "id": "3b955cf7",
   "metadata": {},
   "outputs": [],
   "source": [
    "desempeno = ga_instance.last_generation_fitness\n",
    "desempeno.sort()\n",
    "for a in desempeno:\n",
    "    print(a)"
   ]
  },
  {
   "cell_type": "code",
   "execution_count": null,
   "id": "51126cb8",
   "metadata": {},
   "outputs": [],
   "source": [
    "claves = obtenerDatosCarga(solution,ofertaUtil)['Clave'].values\n",
    "for clave in claves:\n",
    "    print(plan_2016.query('clave == \"' + clave + '\"')['ciclos'].values)"
   ]
  },
  {
   "cell_type": "code",
   "execution_count": null,
   "id": "c29b9dd0",
   "metadata": {
    "scrolled": true
   },
   "outputs": [],
   "source": [
    "evaluarSolucion(solution)"
   ]
  },
  {
   "cell_type": "markdown",
   "id": "b5de3866",
   "metadata": {},
   "source": [
    "## Prueba #5"
   ]
  },
  {
   "cell_type": "markdown",
   "id": "bdaf75e9",
   "metadata": {},
   "source": [
    "steady-state selection, uniform crossover"
   ]
  },
  {
   "cell_type": "code",
   "execution_count": null,
   "id": "2e052be5",
   "metadata": {},
   "outputs": [],
   "source": [
    "kardex = obtenerKardex(190311499).query('periodo < 202201')\n",
    "disponibilidad = disponibilidadArr[4] #Disponibilidad completa de horario\n",
    "ofertaUtil = obtenerOfertaUtil(kardex,oferta)"
   ]
  },
  {
   "cell_type": "code",
   "execution_count": null,
   "id": "ec345039",
   "metadata": {},
   "outputs": [],
   "source": [
    "obtenerCreditos(kardex)"
   ]
  },
  {
   "cell_type": "code",
   "execution_count": null,
   "id": "32ca7bac",
   "metadata": {},
   "outputs": [],
   "source": [
    "obtenerMateriasReprobadas(kardex)"
   ]
  },
  {
   "cell_type": "code",
   "execution_count": null,
   "id": "4daf5af8",
   "metadata": {},
   "outputs": [],
   "source": [
    "fitness_function = obtenerDesempeno\n",
    "\n",
    "num_generations = 30      #Número de generaciones\n",
    "num_parents_mating = 2    #Número de padres por hijo\n",
    "\n",
    "sol_per_pop = 500        #Tamaño de la poblacion\n",
    "num_genes = 9             #Tamaño del cromosoma\n",
    "\n",
    "gene_type = int           #Tipo de dato de los genes del cromosoma\n",
    "\n",
    "parent_selection_type = \"sss\"\n",
    "keep_parents = 1          #Mantener a los padres vivos (La poblacion crece)\n",
    "\n",
    "crossover_type = \"uniform\"\n",
    "\n",
    "mutation_type = \"random\"\n",
    "mutation_percent_genes = 15\n",
    "\n",
    "gene_space = np.append(ofertaUtil.index.values,[-1])     #Valores que pueden tomar los genes"
   ]
  },
  {
   "cell_type": "code",
   "execution_count": null,
   "id": "d9cfa880",
   "metadata": {},
   "outputs": [],
   "source": [
    "ga_instance = pg.GA(num_generations=num_generations,\n",
    "                       num_parents_mating=num_parents_mating,\n",
    "                       fitness_func=fitness_function,\n",
    "                       sol_per_pop=sol_per_pop,\n",
    "                       num_genes=num_genes,\n",
    "                       parent_selection_type=parent_selection_type,\n",
    "                       keep_parents=keep_parents,\n",
    "                       crossover_type=crossover_type,\n",
    "                       mutation_type=mutation_type,\n",
    "                       mutation_percent_genes=mutation_percent_genes,\n",
    "                       gene_type=gene_type,\n",
    "                       gene_space=gene_space,\n",
    "                       on_generation=on_generation)"
   ]
  },
  {
   "cell_type": "code",
   "execution_count": null,
   "id": "c3bf8cb6",
   "metadata": {
    "scrolled": true
   },
   "outputs": [],
   "source": [
    "start_time = time.time()\n",
    "ga_instance.run()\n",
    "print(\"--- Proceso terminado en: %s segundos---\" % (time.time() - start_time))"
   ]
  },
  {
   "cell_type": "code",
   "execution_count": null,
   "id": "693e8ef3",
   "metadata": {},
   "outputs": [],
   "source": [
    "solution, solution_fitness, solution_idx = ga_instance.best_solution()\n",
    "print(solution_fitness)"
   ]
  },
  {
   "cell_type": "code",
   "execution_count": null,
   "id": "a195ecdd",
   "metadata": {},
   "outputs": [],
   "source": [
    "ga_instance.plot_fitness()"
   ]
  },
  {
   "cell_type": "code",
   "execution_count": null,
   "id": "3be3c01a",
   "metadata": {},
   "outputs": [],
   "source": [
    "obtenerDatosCarga(solution,ofertaUtil)"
   ]
  },
  {
   "cell_type": "code",
   "execution_count": null,
   "id": "76dced98",
   "metadata": {},
   "outputs": [],
   "source": [
    "desempeno = ga_instance.last_generation_fitness\n",
    "desempeno.sort()\n",
    "for a in desempeno:\n",
    "    print(a)"
   ]
  },
  {
   "cell_type": "code",
   "execution_count": null,
   "id": "d6517616",
   "metadata": {},
   "outputs": [],
   "source": [
    "claves = obtenerDatosCarga(solution,ofertaUtil)['Clave'].values\n",
    "for clave in claves:\n",
    "    print(plan_2016.query('clave == \"' + clave + '\"')['ciclos'].values)"
   ]
  },
  {
   "cell_type": "code",
   "execution_count": null,
   "id": "5bd53bf1",
   "metadata": {
    "scrolled": false
   },
   "outputs": [],
   "source": [
    "evaluarSolucion(solution)"
   ]
  },
  {
   "cell_type": "markdown",
   "id": "3e9b690b",
   "metadata": {},
   "source": [
    "## Prueba #6"
   ]
  },
  {
   "cell_type": "markdown",
   "id": "124db474",
   "metadata": {},
   "source": [
    "steady-state selection, uniform crossover, adaptive mutation"
   ]
  },
  {
   "cell_type": "code",
   "execution_count": null,
   "id": "6185a051",
   "metadata": {},
   "outputs": [],
   "source": [
    "kardex = obtenerKardex(190311499).query('periodo < 202201')\n",
    "disponibilidad = disponibilidadArr[4] #Disponibilidad completa de horario\n",
    "ofertaUtil = obtenerOfertaUtil(kardex,oferta)"
   ]
  },
  {
   "cell_type": "code",
   "execution_count": null,
   "id": "2f50ffe7",
   "metadata": {},
   "outputs": [],
   "source": [
    "obtenerCreditos(kardex)"
   ]
  },
  {
   "cell_type": "code",
   "execution_count": null,
   "id": "b624555d",
   "metadata": {},
   "outputs": [],
   "source": [
    "obtenerMateriasReprobadas(kardex)"
   ]
  },
  {
   "cell_type": "code",
   "execution_count": null,
   "id": "b072a324",
   "metadata": {},
   "outputs": [],
   "source": [
    "fitness_function = obtenerDesempeno\n",
    "\n",
    "num_generations = 30      #Número de generaciones\n",
    "num_parents_mating = 2    #Número de padres por hijo\n",
    "\n",
    "sol_per_pop = 500        #Tamaño de la poblacion\n",
    "num_genes = 9             #Tamaño del cromosoma\n",
    "\n",
    "gene_type = int           #Tipo de dato de los genes del cromosoma\n",
    "\n",
    "parent_selection_type = \"sss\"\n",
    "keep_parents = 1          #Mantener a los padres vivos (La poblacion crece)\n",
    "\n",
    "crossover_type = \"uniform\"\n",
    "\n",
    "mutation_type = \"adaptive\"\n",
    "mutation_probability = [0.35,0.1]\n",
    "\n",
    "gene_space = np.append(ofertaUtil.index.values,[-1])     #Valores que pueden tomar los genes"
   ]
  },
  {
   "cell_type": "code",
   "execution_count": null,
   "id": "bd8607a9",
   "metadata": {},
   "outputs": [],
   "source": [
    "ga_instance = pg.GA(num_generations=num_generations,\n",
    "                       num_parents_mating=num_parents_mating,\n",
    "                       fitness_func=fitness_function,\n",
    "                       sol_per_pop=sol_per_pop,\n",
    "                       num_genes=num_genes,\n",
    "                       parent_selection_type=parent_selection_type,\n",
    "                       keep_parents=keep_parents,\n",
    "                       crossover_type=crossover_type,\n",
    "                       mutation_type=mutation_type,\n",
    "                       mutation_probability=mutation_probability,\n",
    "                       gene_type=gene_type,\n",
    "                       gene_space=gene_space,\n",
    "                       on_generation=on_generation)"
   ]
  },
  {
   "cell_type": "code",
   "execution_count": null,
   "id": "1069cac4",
   "metadata": {
    "scrolled": true
   },
   "outputs": [],
   "source": [
    "start_time = time.time()\n",
    "ga_instance.run()\n",
    "print(\"--- Proceso terminado en: %s segundos---\" % (time.time() - start_time))"
   ]
  },
  {
   "cell_type": "code",
   "execution_count": null,
   "id": "389479c0",
   "metadata": {},
   "outputs": [],
   "source": [
    "solution, solution_fitness, solution_idx = ga_instance.best_solution()\n",
    "print(solution_fitness)"
   ]
  },
  {
   "cell_type": "code",
   "execution_count": null,
   "id": "c533ab41",
   "metadata": {},
   "outputs": [],
   "source": [
    "ga_instance.plot_fitness()"
   ]
  },
  {
   "cell_type": "code",
   "execution_count": null,
   "id": "fbf4fad4",
   "metadata": {},
   "outputs": [],
   "source": [
    "obtenerDatosCarga(solution,ofertaUtil)"
   ]
  },
  {
   "cell_type": "code",
   "execution_count": null,
   "id": "eedbbfea",
   "metadata": {},
   "outputs": [],
   "source": [
    "desempeno = ga_instance.last_generation_fitness\n",
    "desempeno.sort()\n",
    "for a in desempeno:\n",
    "    print(a)"
   ]
  },
  {
   "cell_type": "code",
   "execution_count": null,
   "id": "d9d2629c",
   "metadata": {},
   "outputs": [],
   "source": [
    "claves = obtenerDatosCarga(solution,ofertaUtil)['Clave'].values\n",
    "for clave in claves:\n",
    "    print(plan_2016.query('clave == \"' + clave + '\"')['ciclos'].values)"
   ]
  },
  {
   "cell_type": "code",
   "execution_count": null,
   "id": "4c244e7e",
   "metadata": {
    "scrolled": false
   },
   "outputs": [],
   "source": [
    "evaluarSolucion(solution)"
   ]
  },
  {
   "cell_type": "markdown",
   "id": "fc879e62",
   "metadata": {},
   "source": [
    "**Resultados:** El algoritmo evolutivo parece encontrar sino un óptimo global, al menos un desempeño bastante bueno para la población en general en pocas generaciones. Solamente falta comprobar si la función de desempeño es adecuada, para hay que evaluar los \"mejores resultados\"."
   ]
  },
  {
   "cell_type": "markdown",
   "id": "41c43d57",
   "metadata": {},
   "source": [
    "## Prueba 7"
   ]
  },
  {
   "cell_type": "code",
   "execution_count": null,
   "id": "e3f9a3f2",
   "metadata": {},
   "outputs": [],
   "source": [
    "kardex = obtenerKardex(190311499).query('periodo < 202201')\n",
    "disponibilidad = disponibilidadArr[4] #Disponibilidad completa de horario\n",
    "ofertaUtil = obtenerOfertaUtil(kardex,oferta)"
   ]
  },
  {
   "cell_type": "code",
   "execution_count": null,
   "id": "54ee2c6e",
   "metadata": {},
   "outputs": [],
   "source": [
    "obtenerCreditos(kardex)"
   ]
  },
  {
   "cell_type": "code",
   "execution_count": null,
   "id": "90b7639d",
   "metadata": {},
   "outputs": [],
   "source": [
    "obtenerMateriasReprobadas(kardex)"
   ]
  },
  {
   "cell_type": "code",
   "execution_count": null,
   "id": "4cc19bfc",
   "metadata": {},
   "outputs": [],
   "source": [
    "fitness_function = obtenerDesempeno\n",
    "\n",
    "num_generations = 30      #Número de generaciones\n",
    "num_parents_mating = 2    #Número de padres por hijo\n",
    "\n",
    "sol_per_pop = 500        #Tamaño de la poblacion\n",
    "num_genes = 9             #Tamaño del cromosoma\n",
    "\n",
    "gene_type = int           #Tipo de dato de los genes del cromosoma\n",
    "\n",
    "parent_selection_type = \"sss\"\n",
    "keep_parents = 1          #Mantener a los padres vivos (La poblacion crece)\n",
    "\n",
    "crossover_type = \"single_point\"\n",
    "\n",
    "mutation_type = \"adaptive\"\n",
    "mutation_probability = [0.35,0.1]\n",
    "\n",
    "gene_space = np.append(ofertaUtil.index.values,[-1])     #Valores que pueden tomar los genes"
   ]
  },
  {
   "cell_type": "code",
   "execution_count": null,
   "id": "e0795b32",
   "metadata": {},
   "outputs": [],
   "source": [
    "ga_instance = pg.GA(num_generations=num_generations,\n",
    "                       num_parents_mating=num_parents_mating,\n",
    "                       fitness_func=fitness_function,\n",
    "                       sol_per_pop=sol_per_pop,\n",
    "                       num_genes=num_genes,\n",
    "                       parent_selection_type=parent_selection_type,\n",
    "                       keep_parents=keep_parents,\n",
    "                       crossover_type=crossover_type,\n",
    "                       mutation_type=mutation_type,\n",
    "                       mutation_probability=mutation_probability,\n",
    "                       gene_type=gene_type,\n",
    "                       gene_space=gene_space,\n",
    "                       on_generation=on_generation)"
   ]
  },
  {
   "cell_type": "code",
   "execution_count": null,
   "id": "ab53992e",
   "metadata": {
    "scrolled": true
   },
   "outputs": [],
   "source": [
    "start_time = time.time()\n",
    "ga_instance.run()\n",
    "print(\"--- Proceso terminado en: %s segundos---\" % (time.time() - start_time))"
   ]
  },
  {
   "cell_type": "code",
   "execution_count": null,
   "id": "869003e0",
   "metadata": {},
   "outputs": [],
   "source": [
    "solution, solution_fitness, solution_idx = ga_instance.best_solution()\n",
    "print(solution_fitness)"
   ]
  },
  {
   "cell_type": "code",
   "execution_count": null,
   "id": "baf49b72",
   "metadata": {},
   "outputs": [],
   "source": [
    "ga_instance.plot_fitness()"
   ]
  },
  {
   "cell_type": "code",
   "execution_count": null,
   "id": "8d932b19",
   "metadata": {},
   "outputs": [],
   "source": [
    "obtenerDatosCarga(solution,ofertaUtil)"
   ]
  },
  {
   "cell_type": "code",
   "execution_count": null,
   "id": "49f75aef",
   "metadata": {},
   "outputs": [],
   "source": [
    "desempeno = ga_instance.last_generation_fitness\n",
    "desempeno.sort()\n",
    "for a in desempeno:\n",
    "    print(a)"
   ]
  },
  {
   "cell_type": "code",
   "execution_count": null,
   "id": "1ee4beb3",
   "metadata": {},
   "outputs": [],
   "source": [
    "claves = obtenerDatosCarga(solution,ofertaUtil)['Clave'].values\n",
    "for clave in claves:\n",
    "    print(plan_2016.query('clave == \"' + clave + '\"')['ciclos'].values)"
   ]
  },
  {
   "cell_type": "code",
   "execution_count": null,
   "id": "78ecfdba",
   "metadata": {
    "scrolled": false
   },
   "outputs": [],
   "source": [
    "evaluarSolucion(solution)"
   ]
  },
  {
   "cell_type": "markdown",
   "id": "d7789b4d",
   "metadata": {},
   "source": [
    "# Selección de mejor algoritmo"
   ]
  },
  {
   "cell_type": "markdown",
   "id": "f29b4c39",
   "metadata": {},
   "source": [
    "Para encontrar el mejor algoritmo vamos a probar 100 kardex diferentes y aplicar cada algoritmo con un total de 20 generaciones. Posteriormente evaluaremos los mejores desempeños de cada algoritmo aplicado a cada kardex para identificar el que obtuvo mejores resultados en promedio."
   ]
  },
  {
   "cell_type": "code",
   "execution_count": null,
   "id": "cb8beeb0",
   "metadata": {},
   "outputs": [],
   "source": [
    "matriculas_set = set()\n",
    "while len(matriculas_set) < 1:\n",
    "    matriculas_set.add(np.random.choice(matriculas))"
   ]
  },
  {
   "cell_type": "code",
   "execution_count": null,
   "id": "490f94be",
   "metadata": {},
   "outputs": [],
   "source": [
    "kardexArr = []\n",
    "for matricula in matriculas_set:\n",
    "    kardexArr.append(obtenerKardex(matricula))"
   ]
  },
  {
   "cell_type": "code",
   "execution_count": null,
   "id": "4b9f824c",
   "metadata": {},
   "outputs": [],
   "source": [
    "type(kardexArr[2])"
   ]
  },
  {
   "cell_type": "code",
   "execution_count": null,
   "id": "e6b460da",
   "metadata": {},
   "outputs": [],
   "source": [
    "num_generations = 15\n",
    "\n",
    "\n",
    "\n",
    "'''\n",
    "instancia1 = pg.GA(num_generations=num_generations,\n",
    "                       num_parents_mating=2,\n",
    "                       fitness_func=obtenerDesempeno,\n",
    "                       sol_per_pop=500,\n",
    "                       num_genes=9,\n",
    "                       parent_selection_type=\"sss\",\n",
    "                       keep_parents=1,\n",
    "                       crossover_type='uniform',\n",
    "                       mutation_type='random',\n",
    "                       mutation_percent_genes=15,\n",
    "                       gene_type=int,\n",
    "                       gene_space=np.append(ofertaUtil.index.values,[-1]))\n",
    "\n",
    "instancia2 = pg.GA(num_generations=num_generations,\n",
    "                       num_parents_mating=2,\n",
    "                       fitness_func=obtenerDesempeno,\n",
    "                       sol_per_pop=500,\n",
    "                       num_genes=9,\n",
    "                       parent_selection_type=\"sss\",\n",
    "                       keep_parents=1,\n",
    "                       crossover_type='single_point',\n",
    "                       mutation_type='random',\n",
    "                       mutation_percent_genes=15,\n",
    "                       gene_type=int,\n",
    "                       gene_space=np.append(ofertaUtil.index.values,[-1]))\n",
    "\n",
    "instancia3 = pg.GA(num_generations=num_generations,\n",
    "                       num_parents_mating=2,\n",
    "                       fitness_func=obtenerDesempeno,\n",
    "                       sol_per_pop=500,\n",
    "                       num_genes=9,\n",
    "                       parent_selection_type=\"sss\",\n",
    "                       keep_parents=1,\n",
    "                       crossover_type='two_points',\n",
    "                       mutation_type='random',\n",
    "                       mutation_percent_genes=15,\n",
    "                       gene_type=int,\n",
    "                       gene_space=np.append(ofertaUtil.index.values,[-1]))\n",
    "\n",
    "instancia4 = pg.GA(num_generations=num_generations,\n",
    "                       num_parents_mating=2,\n",
    "                       fitness_func=obtenerDesempeno,\n",
    "                       sol_per_pop=500,\n",
    "                       num_genes=9,\n",
    "                       parent_selection_type=\"sss\",\n",
    "                       keep_parents=1,\n",
    "                       crossover_type='uniform',\n",
    "                       mutation_type = \"adaptive\",\n",
    "                       mutation_probability = [0.35,0.1],\n",
    "                       gene_type=int,\n",
    "                       gene_space=np.append(ofertaUtil.index.values,[-1]))\n",
    "\n",
    "instancia5 = pg.GA(num_generations=num_generations,\n",
    "                       num_parents_mating=2,\n",
    "                       fitness_func=obtenerDesempeno,\n",
    "                       sol_per_pop=500,\n",
    "                       num_genes=9,\n",
    "                       parent_selection_type=\"sss\",\n",
    "                       keep_parents=1,\n",
    "                       crossover_type='single_point',\n",
    "                       mutation_type = \"adaptive\",\n",
    "                       mutation_probability = [0.35,0.1],\n",
    "                       gene_type=int,\n",
    "                       gene_space=np.append(ofertaUtil.index.values,[-1]))\n",
    "\n",
    "instancia6 = pg.GA(num_generations=num_generations,\n",
    "                       num_parents_mating=2,\n",
    "                       fitness_func=obtenerDesempeno,\n",
    "                       sol_per_pop=500,\n",
    "                       num_genes=9,\n",
    "                       parent_selection_type=\"sss\",\n",
    "                       keep_parents=1,\n",
    "                       crossover_type='two_points',\n",
    "                       mutation_type = \"adaptive\",\n",
    "                       mutation_probability = [0.35,0.1],\n",
    "                       gene_type=int,\n",
    "                       gene_space=np.append(ofertaUtil.index.values,[-1]))\n",
    "'''\n",
    "\n",
    "soluciones1 = []\n",
    "desempenos1 = []\n",
    "generaciones1 = []\n",
    "tiempos1 = []\n",
    "\n",
    "soluciones2 = []\n",
    "desempenos2 = []\n",
    "tiempos2 = []\n",
    "generaciones2 = []\n",
    "\n",
    "soluciones3 = []\n",
    "desempenos3 = []\n",
    "generaciones3 = []\n",
    "tiempos3 = []\n",
    "\n",
    "soluciones4 = []\n",
    "desempenos4 = []\n",
    "tiempos4 = []\n",
    "generaciones4 = []\n",
    "\n",
    "soluciones5 = []\n",
    "desempenos5 = []\n",
    "generaciones5 = []\n",
    "tiempos5 = []\n",
    "\n",
    "soluciones6 = []\n",
    "desempenos6 = []\n",
    "generaciones6 = []\n",
    "tiempos6 = []\n",
    "\n",
    "for kardex in kardexArr:\n",
    "    print('Iniciando proceso de matricula: ' + str(kardex.iloc[0][\"n_matricula\"]))\n",
    "    disponibilidad = disponibilidadArr[4] #Disponibilidad completa de horario\n",
    "    ofertaUtil = obtenerOfertaUtil(kardex,oferta)\n",
    "\n",
    "    instancia1 = pg.GA(num_generations=num_generations,\n",
    "                       num_parents_mating=2,\n",
    "                       fitness_func=obtenerDesempeno,\n",
    "                       sol_per_pop=500,\n",
    "                       num_genes=9,\n",
    "                       parent_selection_type=\"sss\",\n",
    "                       keep_parents=1,\n",
    "                       crossover_type='uniform',\n",
    "                       mutation_type='random',\n",
    "                       mutation_percent_genes=15,\n",
    "                       gene_type=int,\n",
    "                       gene_space=np.append(ofertaUtil.index.values,[-1]))\n",
    "\n",
    "    start_time = time.time()\n",
    "    instancia1.run()\n",
    "    tiempoejecucion = time.time() - start_time\n",
    "    tiempos1.append(tiempoejecucion)\n",
    "    generacionDeMejorSolucion = instancia1.best_solution_generation\n",
    "    solution, solution_fitness, solution_idx = instancia1.best_solution()\n",
    "    soluciones1.append(solution)\n",
    "    desempenos1.append(solution_fitness)\n",
    "    generaciones1.append(generacionDeMejorSolucion)\n",
    "    print(\"--- Instancia 1 terminada en: %s segundos---\" % (tiempoejecucion))\n",
    "    print(\"Desempeño: \" + str(solution_fitness))\n",
    "    print(\"Solucion: \" + str(solution))\n",
    "    print(\"Mejor generacion: \"+ str(generacionDeMejorSolucion))\n",
    "\n",
    "    \n",
    "    disponibilidad = disponibilidadArr[4] #Disponibilidad completa de horario\n",
    "    ofertaUtil = obtenerOfertaUtil(kardex,oferta)\n",
    "\n",
    "    instancia2 = pg.GA(num_generations=num_generations,\n",
    "                       num_parents_mating=2,\n",
    "                       fitness_func=obtenerDesempeno,\n",
    "                       sol_per_pop=500,\n",
    "                       num_genes=9,\n",
    "                       parent_selection_type=\"sss\",\n",
    "                       keep_parents=1,\n",
    "                       crossover_type='single_point',\n",
    "                       mutation_type='random',\n",
    "                       mutation_percent_genes=15,\n",
    "                       gene_type=int,\n",
    "                       gene_space=np.append(ofertaUtil.index.values,[-1]))\n",
    "\n",
    "\n",
    "    start_time = time.time()\n",
    "    instancia2.run()\n",
    "    tiempoejecucion = time.time() - start_time\n",
    "    tiempos2.append(tiempoejecucion)\n",
    "\n",
    "    generacionDeMejorSolucion = instancia2.best_solution_generation\n",
    "    solution, solution_fitness, solution_idx = instancia2.best_solution()\n",
    "    soluciones2.append(solution)\n",
    "    desempenos2.append(solution_fitness)\n",
    "    generaciones2.append(generacionDeMejorSolucion)\n",
    "    print(\"--- Instancia 2 terminada en: %s segundos---\" % (tiempoejecucion))\n",
    "    print(\"Desempeño: \" + str(solution_fitness))\n",
    "    print(\"Solucion: \" + str(solution))\n",
    "    print(\"Mejor generacion: \" + str(generacionDeMejorSolucion))\n",
    "    \n",
    "    disponibilidad = disponibilidadArr[4] #Disponibilidad completa de horario\n",
    "    ofertaUtil = obtenerOfertaUtil(kardex,oferta)\n",
    "    \n",
    "    instancia3 = pg.GA(num_generations=num_generations,\n",
    "                       num_parents_mating=2,\n",
    "                       fitness_func=obtenerDesempeno,\n",
    "                       sol_per_pop=500,\n",
    "                       num_genes=9,\n",
    "                       parent_selection_type=\"sss\",\n",
    "                       keep_parents=1,\n",
    "                       crossover_type='two_points',\n",
    "                       mutation_type='random',\n",
    "                       mutation_percent_genes=15,\n",
    "                       gene_type=int,\n",
    "                       gene_space=np.append(ofertaUtil.index.values,[-1]))\n",
    "\n",
    "    start_time = time.time()\n",
    "    instancia3.run()\n",
    "    tiempoejecucion = time.time() - start_time\n",
    "    tiempos3.append(tiempoejecucion)\n",
    "\n",
    "    generacionDeMejorSolucion = instancia3.best_solution_generation\n",
    "    solution, solution_fitness, solution_idx = instancia3.best_solution()\n",
    "    soluciones3.append(solution)\n",
    "    desempenos3.append(solution_fitness)\n",
    "    generaciones3.append(generacionDeMejorSolucion)\n",
    "    print(\"--- Instancia 3 terminada en: %s segundos---\" % (tiempoejecucion))\n",
    "    print(\"Desempeño: \" + str(solution_fitness))\n",
    "    print(\"Solucion: \" + str(solution))\n",
    "    print(\"Mejor generacion: \" + str(generacionDeMejorSolucion))\n",
    "    \n",
    "\n",
    "    disponibilidad = disponibilidadArr[4] #Disponibilidad completa de horario\n",
    "    ofertaUtil = obtenerOfertaUtil(kardex,oferta)\n",
    "\n",
    "    instancia4 = pg.GA(num_generations=num_generations,\n",
    "                       num_parents_mating=2,\n",
    "                       fitness_func=obtenerDesempeno,\n",
    "                       sol_per_pop=500,\n",
    "                       num_genes=9,\n",
    "                       parent_selection_type=\"sss\",\n",
    "                       keep_parents=1,\n",
    "                       crossover_type='uniform',\n",
    "                       mutation_type = \"adaptive\",\n",
    "                       mutation_probability = [0.35,0.1],\n",
    "                       gene_type=int,\n",
    "                       gene_space=np.append(ofertaUtil.index.values,[-1]))\n",
    "\n",
    "    start_time = time.time()\n",
    "    instancia4.run()\n",
    "    tiempoejecucion = time.time() - start_time\n",
    "    tiempos4.append(tiempoejecucion)\n",
    "\n",
    "    generacionDeMejorSolucion = instancia4.best_solution_generation\n",
    "    solution, solution_fitness, solution_idx = instancia4.best_solution()\n",
    "    soluciones4.append(solution)\n",
    "    desempenos4.append(solution_fitness)\n",
    "    generaciones4.append(generacionDeMejorSolucion)\n",
    "    print(\"--- Instancia 4 terminada en: %s segundos---\" % (tiempoejecucion))\n",
    "    print(\"Desempeño: \" + str(solution_fitness))\n",
    "    print(\"Solucion: \" + str(solution))\n",
    "    print(\"Mejor generacion: \"+ str(generacionDeMejorSolucion))\n",
    "    \n",
    "\n",
    "    disponibilidad = disponibilidadArr[4] #Disponibilidad completa de horario\n",
    "    ofertaUtil = obtenerOfertaUtil(kardex,oferta)\n",
    "\n",
    "    instancia5 = pg.GA(num_generations=num_generations,\n",
    "                       num_parents_mating=2,\n",
    "                       fitness_func=obtenerDesempeno,\n",
    "                       sol_per_pop=500,\n",
    "                       num_genes=9,\n",
    "                       parent_selection_type=\"sss\",\n",
    "                       keep_parents=1,\n",
    "                       crossover_type='single_point',\n",
    "                       mutation_type = \"adaptive\",\n",
    "                       mutation_probability = [0.35,0.1],\n",
    "                       gene_type=int,\n",
    "                       gene_space=np.append(ofertaUtil.index.values,[-1]))\n",
    "\n",
    "    start_time = time.time()\n",
    "    instancia5.run()\n",
    "    tiempoejecucion = time.time() - start_time\n",
    "    tiempos5.append(tiempoejecucion)\n",
    "\n",
    "    generacionDeMejorSolucion = instancia5.best_solution_generation\n",
    "    solution, solution_fitness, solution_idx = instancia5.best_solution()\n",
    "    soluciones5.append(solution)\n",
    "    desempenos5.append(solution_fitness)\n",
    "    generaciones5.append(generacionDeMejorSolucion)\n",
    "    print(\"--- Instancia 5 terminada en: %s segundos---\" % (tiempoejecucion))\n",
    "    print(\"Desempeño: \" + str(solution_fitness))\n",
    "    print(\"Solucion: \" + str(solution))\n",
    "    print(\"Mejor generacion: \"+ str(generacionDeMejorSolucion))\n",
    "    \n",
    "\n",
    "    disponibilidad = disponibilidadArr[4] #Disponibilidad completa de horario\n",
    "    ofertaUtil = obtenerOfertaUtil(kardex,oferta)\n",
    "\n",
    "    instancia6 = pg.GA(num_generations=num_generations,\n",
    "                       num_parents_mating=2,\n",
    "                       fitness_func=obtenerDesempeno,\n",
    "                       sol_per_pop=500,\n",
    "                       num_genes=9,\n",
    "                       parent_selection_type=\"sss\",\n",
    "                       keep_parents=1,\n",
    "                       crossover_type='two_points',\n",
    "                       mutation_type = \"adaptive\",\n",
    "                       mutation_probability = [0.35,0.1],\n",
    "                       gene_type=int,\n",
    "                       gene_space=np.append(ofertaUtil.index.values,[-1]))\n",
    "\n",
    "    start_time = time.time()\n",
    "    instancia6.run()\n",
    "    tiempoejecucion = time.time() - start_time\n",
    "    tiempos6.append(tiempoejecucion)\n",
    "\n",
    "    generacionDeMejorSolucion = instancia6.best_solution_generation\n",
    "    solution, solution_fitness, solution_idx = instancia6.best_solution()\n",
    "    soluciones6.append(solution)\n",
    "    desempenos6.append(solution_fitness)\n",
    "    generaciones6.append(generacionDeMejorSolucion)\n",
    "    print(\"--- Instancia 6 terminada en: %s segundos---\" % (tiempoejecucion))\n",
    "    print(\"Desempeño: \" + str(solution_fitness))\n",
    "    print(\"Solucion: \" + str(solution))\n",
    "    print(\"Mejor generacion: \"+ str(generacionDeMejorSolucion))\n",
    "\n",
    "print(\"\\n\\nPROCESO DE MATRICULA TERMINADO EN \" + str(''))"
   ]
  },
  {
   "cell_type": "code",
   "execution_count": null,
   "id": "17b80c34",
   "metadata": {},
   "outputs": [],
   "source": [
    "solution, solution_fitness, solution_idx = instancia1.best_solution()"
   ]
  },
  {
   "cell_type": "code",
   "execution_count": null,
   "id": "e56be241",
   "metadata": {},
   "outputs": [],
   "source": [
    "solution"
   ]
  },
  {
   "cell_type": "code",
   "execution_count": null,
   "id": "cb4ee174",
   "metadata": {},
   "outputs": [],
   "source": [
    "solution_fitness"
   ]
  },
  {
   "cell_type": "code",
   "execution_count": null,
   "id": "3cb21d19",
   "metadata": {},
   "outputs": [],
   "source": [
    "instancia1.plot_fitness()"
   ]
  },
  {
   "cell_type": "code",
   "execution_count": null,
   "id": "85468372",
   "metadata": {},
   "outputs": [],
   "source": [
    "instancia2.plot_fitness()"
   ]
  },
  {
   "cell_type": "code",
   "execution_count": null,
   "id": "0fcf6217",
   "metadata": {},
   "outputs": [],
   "source": [
    "instancia3.plot_fitness()"
   ]
  },
  {
   "cell_type": "code",
   "execution_count": null,
   "id": "6710a291",
   "metadata": {},
   "outputs": [],
   "source": [
    "instancia4.plot_fitness()"
   ]
  },
  {
   "cell_type": "code",
   "execution_count": null,
   "id": "ed73d89e",
   "metadata": {},
   "outputs": [],
   "source": [
    "instancia5.plot_fitness()"
   ]
  },
  {
   "cell_type": "code",
   "execution_count": null,
   "id": "6756a1d7",
   "metadata": {},
   "outputs": [],
   "source": [
    "instancia6.plot_fitness()"
   ]
  }
 ],
 "metadata": {
  "kernelspec": {
   "display_name": "Python 3 (ipykernel)",
   "language": "python",
   "name": "python3"
  },
  "language_info": {
   "codemirror_mode": {
    "name": "ipython",
    "version": 3
   },
   "file_extension": ".py",
   "mimetype": "text/x-python",
   "name": "python",
   "nbconvert_exporter": "python",
   "pygments_lexer": "ipython3",
   "version": "3.9.13"
  }
 },
 "nbformat": 4,
 "nbformat_minor": 5
}
