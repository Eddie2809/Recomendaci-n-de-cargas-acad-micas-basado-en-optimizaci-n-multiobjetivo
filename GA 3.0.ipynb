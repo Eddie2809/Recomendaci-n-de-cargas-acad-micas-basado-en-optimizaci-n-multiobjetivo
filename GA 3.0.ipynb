{
 "cells": [
  {
   "cell_type": "markdown",
   "id": "f7dec84a",
   "metadata": {},
   "source": [
    "##### Por hacer:"
   ]
  },
  {
   "cell_type": "markdown",
   "id": "93298d53",
   "metadata": {},
   "source": [
    "Crear más instancias"
   ]
  },
  {
   "cell_type": "markdown",
   "id": "f1cbb0a6",
   "metadata": {},
   "source": [
    "Analizar qué datos serán necesarios guardar y correr las instancias"
   ]
  },
  {
   "cell_type": "markdown",
   "id": "998e11de",
   "metadata": {},
   "source": [
    "Reevaluar la función de cierre de ciclos"
   ]
  },
  {
   "cell_type": "markdown",
   "id": "f6fc318c",
   "metadata": {},
   "source": []
  },
  {
   "cell_type": "markdown",
   "id": "e389eff9",
   "metadata": {},
   "source": [
    "##### Notas"
   ]
  },
  {
   "cell_type": "markdown",
   "id": "a4ebb075",
   "metadata": {},
   "source": [
    "Se debería añadir utilidad al llevar materias básicas sobre las de elección libre?"
   ]
  },
  {
   "cell_type": "markdown",
   "id": "6c435a1d",
   "metadata": {},
   "source": [
    "-Al darle un peso mayor a la utilidad de cerrar ciclos, ¿mejorarán los resultados?"
   ]
  },
  {
   "cell_type": "markdown",
   "id": "fefa2174",
   "metadata": {},
   "source": [
    "-¿Por qué el mejor resultado teórico es mejor que el resultado práctico a pesar de tener mejor desempeno?"
   ]
  },
  {
   "cell_type": "markdown",
   "id": "01c2c5e2",
   "metadata": {},
   "source": [
    "El desempeño de la poblacion siempre se estanca porque terminan habiendo muchas cargas inválidas"
   ]
  },
  {
   "cell_type": "markdown",
   "id": "557cdd08",
   "metadata": {},
   "source": [
    "La utilidad de cerrar ciclos no tiene suficiente relevancia sobre las otras funciones debido a la naturaleza de su cálculo."
   ]
  },
  {
   "cell_type": "markdown",
   "id": "1652471c",
   "metadata": {},
   "source": [
    "##### Cambios:"
   ]
  },
  {
   "cell_type": "markdown",
   "id": "a79e845e",
   "metadata": {},
   "source": [
    "-Se modificó \"obtenerOfertaUtil\" para excluir materias de elección libre ya aprobadas de primeros 4 semestres."
   ]
  },
  {
   "cell_type": "markdown",
   "id": "12d6d3f0",
   "metadata": {},
   "source": [
    "-Se cambio función de utilidad disponibilidad de horario"
   ]
  },
  {
   "cell_type": "markdown",
   "id": "52838d33",
   "metadata": {},
   "source": [
    "-Error en \"RespetaSeriacion\", si la materia necesaria ya había sido aprobada retornaba false"
   ]
  },
  {
   "cell_type": "markdown",
   "id": "16c93851",
   "metadata": {},
   "source": []
  },
  {
   "cell_type": "code",
   "execution_count": 1,
   "id": "aaed8d4c",
   "metadata": {},
   "outputs": [],
   "source": [
    "import pandas as pd\n",
    "import numpy as np\n",
    "import pygad as pg\n",
    "import time\n",
    "import requests\n",
    "import matplotlib.pyplot as plt"
   ]
  },
  {
   "cell_type": "markdown",
   "id": "f12237a9",
   "metadata": {},
   "source": [
    "# Limpieza y preparación de los datos"
   ]
  },
  {
   "cell_type": "markdown",
   "id": "2e6f04ef",
   "metadata": {},
   "source": [
    "## Lectura de datos"
   ]
  },
  {
   "cell_type": "code",
   "execution_count": 2,
   "id": "5628e655",
   "metadata": {},
   "outputs": [],
   "source": [
    "d16 = pd.read_csv('./datos/datos_2016.csv')\n",
    "d17 = pd.read_csv('./datos/datos_2017.csv')\n",
    "d18 = pd.read_csv('./datos/datos_2018.csv')\n",
    "d19 = pd.read_csv('./datos/datos_2019.csv')\n",
    "d2021 = pd.read_csv('./datos/2020_2021.csv')"
   ]
  },
  {
   "cell_type": "code",
   "execution_count": 3,
   "id": "b24a593a",
   "metadata": {},
   "outputs": [],
   "source": [
    "asignaturas = pd.read_csv('asignaturas2.csv',encoding = 'ISO-8859-1')"
   ]
  },
  {
   "cell_type": "code",
   "execution_count": 4,
   "id": "6aeaecee",
   "metadata": {},
   "outputs": [],
   "source": [
    "plan_2016 = asignaturas.query('plan == \"IDP2016\"')"
   ]
  },
  {
   "cell_type": "code",
   "execution_count": 5,
   "id": "fdebc6aa",
   "metadata": {},
   "outputs": [],
   "source": [
    "oferta = pd.read_csv('oferta_ideio.csv',encoding = 'ISO-8859-1')"
   ]
  },
  {
   "cell_type": "code",
   "execution_count": 6,
   "id": "80f9af9b",
   "metadata": {},
   "outputs": [],
   "source": [
    "seriaciones = pd.read_csv('seriacion.csv')"
   ]
  },
  {
   "cell_type": "markdown",
   "id": "a2775745",
   "metadata": {},
   "source": [
    "## Visualización de datos"
   ]
  },
  {
   "cell_type": "code",
   "execution_count": 7,
   "id": "6a3468fc",
   "metadata": {},
   "outputs": [
    {
     "data": {
      "text/html": [
       "<div>\n",
       "<style scoped>\n",
       "    .dataframe tbody tr th:only-of-type {\n",
       "        vertical-align: middle;\n",
       "    }\n",
       "\n",
       "    .dataframe tbody tr th {\n",
       "        vertical-align: top;\n",
       "    }\n",
       "\n",
       "    .dataframe thead th {\n",
       "        text-align: right;\n",
       "    }\n",
       "</style>\n",
       "<table border=\"1\" class=\"dataframe\">\n",
       "  <thead>\n",
       "    <tr style=\"text-align: right;\">\n",
       "      <th></th>\n",
       "      <th>Unnamed: 0</th>\n",
       "      <th>carrera</th>\n",
       "      <th>periodo</th>\n",
       "      <th>clave</th>\n",
       "      <th>asignatura</th>\n",
       "      <th>promediofinal</th>\n",
       "      <th>docente</th>\n",
       "      <th>ceveval_global</th>\n",
       "      <th>ceneval_analitico</th>\n",
       "      <th>ceneval_matematico</th>\n",
       "      <th>...</th>\n",
       "      <th>r_modulo8</th>\n",
       "      <th>modulo9</th>\n",
       "      <th>r_modulo9</th>\n",
       "      <th>modulo10</th>\n",
       "      <th>r_modulo10</th>\n",
       "      <th>modulo11</th>\n",
       "      <th>r_modulo11</th>\n",
       "      <th>modulo12</th>\n",
       "      <th>r_modulo12</th>\n",
       "      <th>n_matricula</th>\n",
       "    </tr>\n",
       "  </thead>\n",
       "  <tbody>\n",
       "    <tr>\n",
       "      <th>0</th>\n",
       "      <td>0</td>\n",
       "      <td>Negocios Internacionales</td>\n",
       "      <td>201601</td>\n",
       "      <td>DP0295</td>\n",
       "      <td>Taller de formación en responsabilidad social ...</td>\n",
       "      <td>10.0</td>\n",
       "      <td>Maldonado Saldaña / Gisela</td>\n",
       "      <td>1150.0</td>\n",
       "      <td>1108.0</td>\n",
       "      <td>1228.0</td>\n",
       "      <td>...</td>\n",
       "      <td>-</td>\n",
       "      <td>Cálculo</td>\n",
       "      <td>-</td>\n",
       "      <td>Inglés</td>\n",
       "      <td>-</td>\n",
       "      <td>Administración</td>\n",
       "      <td>-</td>\n",
       "      <td>Informática y Computación</td>\n",
       "      <td>-</td>\n",
       "      <td>140311285</td>\n",
       "    </tr>\n",
       "    <tr>\n",
       "      <th>1</th>\n",
       "      <td>1</td>\n",
       "      <td>Negocios Internacionales</td>\n",
       "      <td>201601</td>\n",
       "      <td>NI0215</td>\n",
       "      <td>Taller de software para negocios internacionales</td>\n",
       "      <td>9.0</td>\n",
       "      <td>Villeda Cuellar / Víctor Hugo</td>\n",
       "      <td>1150.0</td>\n",
       "      <td>1108.0</td>\n",
       "      <td>1228.0</td>\n",
       "      <td>...</td>\n",
       "      <td>-</td>\n",
       "      <td>Cálculo</td>\n",
       "      <td>-</td>\n",
       "      <td>Inglés</td>\n",
       "      <td>-</td>\n",
       "      <td>Administración</td>\n",
       "      <td>-</td>\n",
       "      <td>Informática y Computación</td>\n",
       "      <td>-</td>\n",
       "      <td>140311285</td>\n",
       "    </tr>\n",
       "    <tr>\n",
       "      <th>2</th>\n",
       "      <td>2</td>\n",
       "      <td>Negocios Internacionales</td>\n",
       "      <td>201601</td>\n",
       "      <td>LI1104</td>\n",
       "      <td>Nivel 4 Inglés</td>\n",
       "      <td>10.0</td>\n",
       "      <td>Ross / Andrew Patrick Simon</td>\n",
       "      <td>1150.0</td>\n",
       "      <td>1108.0</td>\n",
       "      <td>1228.0</td>\n",
       "      <td>...</td>\n",
       "      <td>-</td>\n",
       "      <td>Cálculo</td>\n",
       "      <td>-</td>\n",
       "      <td>Inglés</td>\n",
       "      <td>-</td>\n",
       "      <td>Administración</td>\n",
       "      <td>-</td>\n",
       "      <td>Informática y Computación</td>\n",
       "      <td>-</td>\n",
       "      <td>140311285</td>\n",
       "    </tr>\n",
       "    <tr>\n",
       "      <th>3</th>\n",
       "      <td>3</td>\n",
       "      <td>Negocios Internacionales</td>\n",
       "      <td>201601</td>\n",
       "      <td>NI0209</td>\n",
       "      <td>Administración financiera</td>\n",
       "      <td>6.0</td>\n",
       "      <td>Vallejo Filoteo / Jorge</td>\n",
       "      <td>1150.0</td>\n",
       "      <td>1108.0</td>\n",
       "      <td>1228.0</td>\n",
       "      <td>...</td>\n",
       "      <td>-</td>\n",
       "      <td>Cálculo</td>\n",
       "      <td>-</td>\n",
       "      <td>Inglés</td>\n",
       "      <td>-</td>\n",
       "      <td>Administración</td>\n",
       "      <td>-</td>\n",
       "      <td>Informática y Computación</td>\n",
       "      <td>-</td>\n",
       "      <td>140311285</td>\n",
       "    </tr>\n",
       "    <tr>\n",
       "      <th>4</th>\n",
       "      <td>4</td>\n",
       "      <td>Negocios Internacionales</td>\n",
       "      <td>201601</td>\n",
       "      <td>NI0213</td>\n",
       "      <td>Transporte y logística en comercio exterior</td>\n",
       "      <td>9.0</td>\n",
       "      <td>Cañedo Magaña / Magdalena del Carmen</td>\n",
       "      <td>1150.0</td>\n",
       "      <td>1108.0</td>\n",
       "      <td>1228.0</td>\n",
       "      <td>...</td>\n",
       "      <td>-</td>\n",
       "      <td>Cálculo</td>\n",
       "      <td>-</td>\n",
       "      <td>Inglés</td>\n",
       "      <td>-</td>\n",
       "      <td>Administración</td>\n",
       "      <td>-</td>\n",
       "      <td>Informática y Computación</td>\n",
       "      <td>-</td>\n",
       "      <td>140311285</td>\n",
       "    </tr>\n",
       "  </tbody>\n",
       "</table>\n",
       "<p>5 rows × 37 columns</p>\n",
       "</div>"
      ],
      "text/plain": [
       "   Unnamed: 0                   carrera  periodo   clave  \\\n",
       "0           0  Negocios Internacionales   201601  DP0295   \n",
       "1           1  Negocios Internacionales   201601  NI0215   \n",
       "2           2  Negocios Internacionales   201601  LI1104   \n",
       "3           3  Negocios Internacionales   201601  NI0209   \n",
       "4           4  Negocios Internacionales   201601  NI0213   \n",
       "\n",
       "                                          asignatura  promediofinal  \\\n",
       "0  Taller de formación en responsabilidad social ...           10.0   \n",
       "1   Taller de software para negocios internacionales            9.0   \n",
       "2                                     Nivel 4 Inglés           10.0   \n",
       "3                          Administración financiera            6.0   \n",
       "4        Transporte y logística en comercio exterior            9.0   \n",
       "\n",
       "                                docente  ceveval_global  ceneval_analitico  \\\n",
       "0            Maldonado Saldaña / Gisela          1150.0             1108.0   \n",
       "1         Villeda Cuellar / Víctor Hugo          1150.0             1108.0   \n",
       "2           Ross / Andrew Patrick Simon          1150.0             1108.0   \n",
       "3               Vallejo Filoteo / Jorge          1150.0             1108.0   \n",
       "4  Cañedo Magaña / Magdalena del Carmen          1150.0             1108.0   \n",
       "\n",
       "   ceneval_matematico  ...  r_modulo8  modulo9 r_modulo9 modulo10 r_modulo10  \\\n",
       "0              1228.0  ...          -  Cálculo         -   Inglés          -   \n",
       "1              1228.0  ...          -  Cálculo         -   Inglés          -   \n",
       "2              1228.0  ...          -  Cálculo         -   Inglés          -   \n",
       "3              1228.0  ...          -  Cálculo         -   Inglés          -   \n",
       "4              1228.0  ...          -  Cálculo         -   Inglés          -   \n",
       "\n",
       "         modulo11 r_modulo11                   modulo12 r_modulo12 n_matricula  \n",
       "0  Administración          -  Informática y Computación          -   140311285  \n",
       "1  Administración          -  Informática y Computación          -   140311285  \n",
       "2  Administración          -  Informática y Computación          -   140311285  \n",
       "3  Administración          -  Informática y Computación          -   140311285  \n",
       "4  Administración          -  Informática y Computación          -   140311285  \n",
       "\n",
       "[5 rows x 37 columns]"
      ]
     },
     "execution_count": 7,
     "metadata": {},
     "output_type": "execute_result"
    }
   ],
   "source": [
    "d16.head()"
   ]
  },
  {
   "cell_type": "code",
   "execution_count": 8,
   "id": "83b94bec",
   "metadata": {},
   "outputs": [
    {
     "data": {
      "text/html": [
       "<div>\n",
       "<style scoped>\n",
       "    .dataframe tbody tr th:only-of-type {\n",
       "        vertical-align: middle;\n",
       "    }\n",
       "\n",
       "    .dataframe tbody tr th {\n",
       "        vertical-align: top;\n",
       "    }\n",
       "\n",
       "    .dataframe thead th {\n",
       "        text-align: right;\n",
       "    }\n",
       "</style>\n",
       "<table border=\"1\" class=\"dataframe\">\n",
       "  <thead>\n",
       "    <tr style=\"text-align: right;\">\n",
       "      <th></th>\n",
       "      <th>Unnamed: 0</th>\n",
       "      <th>Column1</th>\n",
       "      <th>programa</th>\n",
       "      <th>periodo</th>\n",
       "      <th>clave</th>\n",
       "      <th>asignatura</th>\n",
       "      <th>docente</th>\n",
       "      <th>promediofinal</th>\n",
       "      <th>ceveval_global</th>\n",
       "      <th>hrs_trabaja</th>\n",
       "      <th>n_matricula</th>\n",
       "    </tr>\n",
       "  </thead>\n",
       "  <tbody>\n",
       "    <tr>\n",
       "      <th>0</th>\n",
       "      <td>0</td>\n",
       "      <td>1</td>\n",
       "      <td>Ingeniería en Datos e Inteligencia Organizacional</td>\n",
       "      <td>202001</td>\n",
       "      <td>IL0414</td>\n",
       "      <td>Taller de argumentación y técnicas de negociación</td>\n",
       "      <td>Torres Pérez / Rubén Juan</td>\n",
       "      <td>7.0</td>\n",
       "      <td>952.0</td>\n",
       "      <td>De 5 a 10 horas</td>\n",
       "      <td>170311163</td>\n",
       "    </tr>\n",
       "    <tr>\n",
       "      <th>1</th>\n",
       "      <td>1</td>\n",
       "      <td>2</td>\n",
       "      <td>Ingeniería en Datos e Inteligencia Organizacional</td>\n",
       "      <td>202001</td>\n",
       "      <td>II0422</td>\n",
       "      <td>Taller de emprendedores</td>\n",
       "      <td>Zapata Solís / Zuemy De Lourdes</td>\n",
       "      <td>8.0</td>\n",
       "      <td>1048.0</td>\n",
       "      <td>No trabajaba</td>\n",
       "      <td>180311454</td>\n",
       "    </tr>\n",
       "    <tr>\n",
       "      <th>2</th>\n",
       "      <td>2</td>\n",
       "      <td>3</td>\n",
       "      <td>Ingeniería en Datos e Inteligencia Organizacional</td>\n",
       "      <td>202001</td>\n",
       "      <td>DP0498</td>\n",
       "      <td>Problemas de México</td>\n",
       "      <td>Díaz Molina / Libertad Fidelina</td>\n",
       "      <td>9.0</td>\n",
       "      <td>1144.0</td>\n",
       "      <td>De 5 a 10 horas</td>\n",
       "      <td>170311232</td>\n",
       "    </tr>\n",
       "    <tr>\n",
       "      <th>3</th>\n",
       "      <td>3</td>\n",
       "      <td>4</td>\n",
       "      <td>Ingeniería en Datos e Inteligencia Organizacional</td>\n",
       "      <td>202001</td>\n",
       "      <td>IT0264</td>\n",
       "      <td>Introducción a los sistemas de información</td>\n",
       "      <td>Olivares González / Oscar</td>\n",
       "      <td>10.0</td>\n",
       "      <td>1072.0</td>\n",
       "      <td>De 11 a 15 horas</td>\n",
       "      <td>190311813</td>\n",
       "    </tr>\n",
       "    <tr>\n",
       "      <th>4</th>\n",
       "      <td>4</td>\n",
       "      <td>5</td>\n",
       "      <td>Ingeniería en Datos e Inteligencia Organizacional</td>\n",
       "      <td>202001</td>\n",
       "      <td>II0215</td>\n",
       "      <td>Electricidad y magnetismo</td>\n",
       "      <td>Ramírez Carmona / Leslye Johanna</td>\n",
       "      <td>7.0</td>\n",
       "      <td>1018.0</td>\n",
       "      <td>Más de 20 horas</td>\n",
       "      <td>180311416</td>\n",
       "    </tr>\n",
       "  </tbody>\n",
       "</table>\n",
       "</div>"
      ],
      "text/plain": [
       "   Unnamed: 0  Column1                                           programa  \\\n",
       "0           0        1  Ingeniería en Datos e Inteligencia Organizacional   \n",
       "1           1        2  Ingeniería en Datos e Inteligencia Organizacional   \n",
       "2           2        3  Ingeniería en Datos e Inteligencia Organizacional   \n",
       "3           3        4  Ingeniería en Datos e Inteligencia Organizacional   \n",
       "4           4        5  Ingeniería en Datos e Inteligencia Organizacional   \n",
       "\n",
       "   periodo   clave                                         asignatura  \\\n",
       "0   202001  IL0414  Taller de argumentación y técnicas de negociación   \n",
       "1   202001  II0422                            Taller de emprendedores   \n",
       "2   202001  DP0498                                Problemas de México   \n",
       "3   202001  IT0264         Introducción a los sistemas de información   \n",
       "4   202001  II0215                          Electricidad y magnetismo   \n",
       "\n",
       "                            docente  promediofinal  ceveval_global  \\\n",
       "0         Torres Pérez / Rubén Juan            7.0           952.0   \n",
       "1   Zapata Solís / Zuemy De Lourdes            8.0          1048.0   \n",
       "2   Díaz Molina / Libertad Fidelina            9.0          1144.0   \n",
       "3         Olivares González / Oscar           10.0          1072.0   \n",
       "4  Ramírez Carmona / Leslye Johanna            7.0          1018.0   \n",
       "\n",
       "        hrs_trabaja  n_matricula  \n",
       "0   De 5 a 10 horas    170311163  \n",
       "1      No trabajaba    180311454  \n",
       "2   De 5 a 10 horas    170311232  \n",
       "3  De 11 a 15 horas    190311813  \n",
       "4   Más de 20 horas    180311416  "
      ]
     },
     "execution_count": 8,
     "metadata": {},
     "output_type": "execute_result"
    }
   ],
   "source": [
    "d2021.head()"
   ]
  },
  {
   "cell_type": "code",
   "execution_count": 9,
   "id": "620bc9da",
   "metadata": {},
   "outputs": [
    {
     "data": {
      "text/html": [
       "<div>\n",
       "<style scoped>\n",
       "    .dataframe tbody tr th:only-of-type {\n",
       "        vertical-align: middle;\n",
       "    }\n",
       "\n",
       "    .dataframe tbody tr th {\n",
       "        vertical-align: top;\n",
       "    }\n",
       "\n",
       "    .dataframe thead th {\n",
       "        text-align: right;\n",
       "    }\n",
       "</style>\n",
       "<table border=\"1\" class=\"dataframe\">\n",
       "  <thead>\n",
       "    <tr style=\"text-align: right;\">\n",
       "      <th></th>\n",
       "      <th>ciclos</th>\n",
       "      <th>clave</th>\n",
       "      <th>nombre</th>\n",
       "      <th>creditos</th>\n",
       "      <th>tipo</th>\n",
       "      <th>plan</th>\n",
       "      <th>preespecialidad</th>\n",
       "    </tr>\n",
       "  </thead>\n",
       "  <tbody>\n",
       "    <tr>\n",
       "      <th>0</th>\n",
       "      <td>1</td>\n",
       "      <td>II0106</td>\n",
       "      <td>Cálculo diferencial</td>\n",
       "      <td>8</td>\n",
       "      <td>Basica</td>\n",
       "      <td>IAP2019</td>\n",
       "      <td>NaN</td>\n",
       "    </tr>\n",
       "    <tr>\n",
       "      <th>1</th>\n",
       "      <td>1</td>\n",
       "      <td>II0209</td>\n",
       "      <td>Cálculo integral</td>\n",
       "      <td>6</td>\n",
       "      <td>Basica</td>\n",
       "      <td>IAP2019</td>\n",
       "      <td>NaN</td>\n",
       "    </tr>\n",
       "    <tr>\n",
       "      <th>2</th>\n",
       "      <td>1</td>\n",
       "      <td>DP0194</td>\n",
       "      <td>Desarrollo de habilidades del pensamiento</td>\n",
       "      <td>6</td>\n",
       "      <td>Basica</td>\n",
       "      <td>IAP2019</td>\n",
       "      <td>NaN</td>\n",
       "    </tr>\n",
       "    <tr>\n",
       "      <th>3</th>\n",
       "      <td>1</td>\n",
       "      <td>IA0106</td>\n",
       "      <td>Ecología</td>\n",
       "      <td>6</td>\n",
       "      <td>Basica</td>\n",
       "      <td>IAP2019</td>\n",
       "      <td>NaN</td>\n",
       "    </tr>\n",
       "    <tr>\n",
       "      <th>4</th>\n",
       "      <td>1</td>\n",
       "      <td>II0102</td>\n",
       "      <td>Física experimental</td>\n",
       "      <td>8</td>\n",
       "      <td>Basica</td>\n",
       "      <td>IAP2019</td>\n",
       "      <td>NaN</td>\n",
       "    </tr>\n",
       "  </tbody>\n",
       "</table>\n",
       "</div>"
      ],
      "text/plain": [
       "   ciclos   clave                                     nombre  creditos  \\\n",
       "0       1  II0106                        Cálculo diferencial         8   \n",
       "1       1  II0209                           Cálculo integral         6   \n",
       "2       1  DP0194  Desarrollo de habilidades del pensamiento         6   \n",
       "3       1  IA0106                                   Ecología         6   \n",
       "4       1  II0102                        Física experimental         8   \n",
       "\n",
       "     tipo     plan preespecialidad  \n",
       "0  Basica  IAP2019             NaN  \n",
       "1  Basica  IAP2019             NaN  \n",
       "2  Basica  IAP2019             NaN  \n",
       "3  Basica  IAP2019             NaN  \n",
       "4  Basica  IAP2019             NaN  "
      ]
     },
     "execution_count": 9,
     "metadata": {},
     "output_type": "execute_result"
    }
   ],
   "source": [
    "asignaturas.head()"
   ]
  },
  {
   "cell_type": "code",
   "execution_count": 10,
   "id": "d7592332",
   "metadata": {},
   "outputs": [
    {
     "data": {
      "text/html": [
       "<div>\n",
       "<style scoped>\n",
       "    .dataframe tbody tr th:only-of-type {\n",
       "        vertical-align: middle;\n",
       "    }\n",
       "\n",
       "    .dataframe tbody tr th {\n",
       "        vertical-align: top;\n",
       "    }\n",
       "\n",
       "    .dataframe thead th {\n",
       "        text-align: right;\n",
       "    }\n",
       "</style>\n",
       "<table border=\"1\" class=\"dataframe\">\n",
       "  <thead>\n",
       "    <tr style=\"text-align: right;\">\n",
       "      <th></th>\n",
       "      <th>ciclos</th>\n",
       "      <th>clave</th>\n",
       "      <th>nombre</th>\n",
       "      <th>creditos</th>\n",
       "      <th>tipo</th>\n",
       "      <th>plan</th>\n",
       "      <th>preespecialidad</th>\n",
       "    </tr>\n",
       "  </thead>\n",
       "  <tbody>\n",
       "    <tr>\n",
       "      <th>603</th>\n",
       "      <td>1</td>\n",
       "      <td>IT0101</td>\n",
       "      <td>Algoritmos y estructura de datos</td>\n",
       "      <td>6</td>\n",
       "      <td>Basica</td>\n",
       "      <td>IDP2016</td>\n",
       "      <td>NaN</td>\n",
       "    </tr>\n",
       "    <tr>\n",
       "      <th>604</th>\n",
       "      <td>1</td>\n",
       "      <td>II0106</td>\n",
       "      <td>Cálculo diferencial</td>\n",
       "      <td>8</td>\n",
       "      <td>Basica</td>\n",
       "      <td>IDP2016</td>\n",
       "      <td>NaN</td>\n",
       "    </tr>\n",
       "    <tr>\n",
       "      <th>605</th>\n",
       "      <td>1</td>\n",
       "      <td>II0209</td>\n",
       "      <td>Cálculo integral</td>\n",
       "      <td>6</td>\n",
       "      <td>Basica</td>\n",
       "      <td>IDP2016</td>\n",
       "      <td>NaN</td>\n",
       "    </tr>\n",
       "    <tr>\n",
       "      <th>606</th>\n",
       "      <td>1</td>\n",
       "      <td>DP0194</td>\n",
       "      <td>Desarrollo de habilidades del pensamiento</td>\n",
       "      <td>6</td>\n",
       "      <td>Basica</td>\n",
       "      <td>IDP2016</td>\n",
       "      <td>NaN</td>\n",
       "    </tr>\n",
       "    <tr>\n",
       "      <th>607</th>\n",
       "      <td>1</td>\n",
       "      <td>ID0101</td>\n",
       "      <td>Diseño de patrones para datos estructurados</td>\n",
       "      <td>6</td>\n",
       "      <td>Basica</td>\n",
       "      <td>IDP2016</td>\n",
       "      <td>NaN</td>\n",
       "    </tr>\n",
       "  </tbody>\n",
       "</table>\n",
       "</div>"
      ],
      "text/plain": [
       "     ciclos   clave                                       nombre  creditos  \\\n",
       "603       1  IT0101             Algoritmos y estructura de datos         6   \n",
       "604       1  II0106                          Cálculo diferencial         8   \n",
       "605       1  II0209                             Cálculo integral         6   \n",
       "606       1  DP0194    Desarrollo de habilidades del pensamiento         6   \n",
       "607       1  ID0101  Diseño de patrones para datos estructurados         6   \n",
       "\n",
       "       tipo     plan preespecialidad  \n",
       "603  Basica  IDP2016             NaN  \n",
       "604  Basica  IDP2016             NaN  \n",
       "605  Basica  IDP2016             NaN  \n",
       "606  Basica  IDP2016             NaN  \n",
       "607  Basica  IDP2016             NaN  "
      ]
     },
     "execution_count": 10,
     "metadata": {},
     "output_type": "execute_result"
    }
   ],
   "source": [
    "plan_2016.head()"
   ]
  },
  {
   "cell_type": "code",
   "execution_count": 11,
   "id": "56dfe1db",
   "metadata": {},
   "outputs": [
    {
     "data": {
      "text/html": [
       "<div>\n",
       "<style scoped>\n",
       "    .dataframe tbody tr th:only-of-type {\n",
       "        vertical-align: middle;\n",
       "    }\n",
       "\n",
       "    .dataframe tbody tr th {\n",
       "        vertical-align: top;\n",
       "    }\n",
       "\n",
       "    .dataframe thead th {\n",
       "        text-align: right;\n",
       "    }\n",
       "</style>\n",
       "<table border=\"1\" class=\"dataframe\">\n",
       "  <thead>\n",
       "    <tr style=\"text-align: right;\">\n",
       "      <th></th>\n",
       "      <th>Ciclo</th>\n",
       "      <th>Trayectoria</th>\n",
       "      <th>Tipo</th>\n",
       "      <th>Clave</th>\n",
       "      <th>Nombre</th>\n",
       "      <th>Maestro</th>\n",
       "      <th>Lunes</th>\n",
       "      <th>Martes</th>\n",
       "      <th>Miercoles</th>\n",
       "      <th>Jueves</th>\n",
       "      <th>Viernes</th>\n",
       "      <th>Sabado</th>\n",
       "    </tr>\n",
       "  </thead>\n",
       "  <tbody>\n",
       "    <tr>\n",
       "      <th>0</th>\n",
       "      <td>1</td>\n",
       "      <td>0</td>\n",
       "      <td>BAS</td>\n",
       "      <td>DP0193</td>\n",
       "      <td>Taller de redacción profesional</td>\n",
       "      <td>Alvarado Martínez / María Del Carmen</td>\n",
       "      <td>-</td>\n",
       "      <td>-</td>\n",
       "      <td>17:00-18:00</td>\n",
       "      <td>-</td>\n",
       "      <td>16:00-18:00</td>\n",
       "      <td>-</td>\n",
       "    </tr>\n",
       "    <tr>\n",
       "      <th>1</th>\n",
       "      <td>1</td>\n",
       "      <td>0</td>\n",
       "      <td>BAS</td>\n",
       "      <td>DP0191</td>\n",
       "      <td>Taller de interacción grupal y competencias co...</td>\n",
       "      <td>Diaz Barriga Cuevas / Claudia</td>\n",
       "      <td>-</td>\n",
       "      <td>-</td>\n",
       "      <td>-</td>\n",
       "      <td>15:00-17:00</td>\n",
       "      <td>17:00-18:00</td>\n",
       "      <td>-</td>\n",
       "    </tr>\n",
       "    <tr>\n",
       "      <th>2</th>\n",
       "      <td>1</td>\n",
       "      <td>0</td>\n",
       "      <td>BAS</td>\n",
       "      <td>DP0191</td>\n",
       "      <td>Taller de interacción grupal y competencias co...</td>\n",
       "      <td>Diaz Barriga Cuevas / Claudia</td>\n",
       "      <td>18:00-20:00</td>\n",
       "      <td>-</td>\n",
       "      <td>-</td>\n",
       "      <td>17:00-18:00</td>\n",
       "      <td>-</td>\n",
       "      <td>-</td>\n",
       "    </tr>\n",
       "    <tr>\n",
       "      <th>3</th>\n",
       "      <td>1</td>\n",
       "      <td>0</td>\n",
       "      <td>BAS</td>\n",
       "      <td>DP0193</td>\n",
       "      <td>Taller de redacción profesional</td>\n",
       "      <td>Parra Dorantes / Roberto</td>\n",
       "      <td>-</td>\n",
       "      <td>-</td>\n",
       "      <td>18:00-20:00</td>\n",
       "      <td>-</td>\n",
       "      <td>17:00-18:00</td>\n",
       "      <td>-</td>\n",
       "    </tr>\n",
       "    <tr>\n",
       "      <th>4</th>\n",
       "      <td>1</td>\n",
       "      <td>0</td>\n",
       "      <td>BAS</td>\n",
       "      <td>DP0194</td>\n",
       "      <td>Desarrollo de habilidades del pensamiento</td>\n",
       "      <td>Mendoza Luna / José Arturo</td>\n",
       "      <td>-</td>\n",
       "      <td>-</td>\n",
       "      <td>19:00-20:00</td>\n",
       "      <td>-</td>\n",
       "      <td>20:00-22:00</td>\n",
       "      <td>-</td>\n",
       "    </tr>\n",
       "  </tbody>\n",
       "</table>\n",
       "</div>"
      ],
      "text/plain": [
       "   Ciclo  Trayectoria Tipo   Clave  \\\n",
       "0      1            0  BAS  DP0193   \n",
       "1      1            0  BAS  DP0191   \n",
       "2      1            0  BAS  DP0191   \n",
       "3      1            0  BAS  DP0193   \n",
       "4      1            0  BAS  DP0194   \n",
       "\n",
       "                                              Nombre  \\\n",
       "0                    Taller de redacción profesional   \n",
       "1  Taller de interacción grupal y competencias co...   \n",
       "2  Taller de interacción grupal y competencias co...   \n",
       "3                    Taller de redacción profesional   \n",
       "4          Desarrollo de habilidades del pensamiento   \n",
       "\n",
       "                                Maestro        Lunes Martes    Miercoles  \\\n",
       "0  Alvarado Martínez / María Del Carmen            -      -  17:00-18:00   \n",
       "1         Diaz Barriga Cuevas / Claudia            -      -            -   \n",
       "2         Diaz Barriga Cuevas / Claudia  18:00-20:00      -            -   \n",
       "3              Parra Dorantes / Roberto            -      -  18:00-20:00   \n",
       "4            Mendoza Luna / José Arturo            -      -  19:00-20:00   \n",
       "\n",
       "        Jueves      Viernes Sabado  \n",
       "0            -  16:00-18:00      -  \n",
       "1  15:00-17:00  17:00-18:00      -  \n",
       "2  17:00-18:00            -      -  \n",
       "3            -  17:00-18:00      -  \n",
       "4            -  20:00-22:00      -  "
      ]
     },
     "execution_count": 11,
     "metadata": {},
     "output_type": "execute_result"
    }
   ],
   "source": [
    "oferta.head()"
   ]
  },
  {
   "cell_type": "code",
   "execution_count": 12,
   "id": "43714bb4",
   "metadata": {},
   "outputs": [
    {
     "data": {
      "text/html": [
       "<div>\n",
       "<style scoped>\n",
       "    .dataframe tbody tr th:only-of-type {\n",
       "        vertical-align: middle;\n",
       "    }\n",
       "\n",
       "    .dataframe tbody tr th {\n",
       "        vertical-align: top;\n",
       "    }\n",
       "\n",
       "    .dataframe thead th {\n",
       "        text-align: right;\n",
       "    }\n",
       "</style>\n",
       "<table border=\"1\" class=\"dataframe\">\n",
       "  <thead>\n",
       "    <tr style=\"text-align: right;\">\n",
       "      <th></th>\n",
       "      <th>plan</th>\n",
       "      <th>ser1</th>\n",
       "      <th>ser2</th>\n",
       "    </tr>\n",
       "  </thead>\n",
       "  <tbody>\n",
       "    <tr>\n",
       "      <th>0</th>\n",
       "      <td>IDP2016</td>\n",
       "      <td>II0106</td>\n",
       "      <td>II0209</td>\n",
       "    </tr>\n",
       "    <tr>\n",
       "      <th>1</th>\n",
       "      <td>IDP2016</td>\n",
       "      <td>ID0102</td>\n",
       "      <td>II0215</td>\n",
       "    </tr>\n",
       "    <tr>\n",
       "      <th>2</th>\n",
       "      <td>IDP2016</td>\n",
       "      <td>II0209</td>\n",
       "      <td>II0320</td>\n",
       "    </tr>\n",
       "    <tr>\n",
       "      <th>3</th>\n",
       "      <td>IDP2016</td>\n",
       "      <td>ID0103</td>\n",
       "      <td>IT0263</td>\n",
       "    </tr>\n",
       "    <tr>\n",
       "      <th>4</th>\n",
       "      <td>IDP2016</td>\n",
       "      <td>IT0264</td>\n",
       "      <td>ID0204</td>\n",
       "    </tr>\n",
       "  </tbody>\n",
       "</table>\n",
       "</div>"
      ],
      "text/plain": [
       "      plan    ser1    ser2\n",
       "0  IDP2016  II0106  II0209\n",
       "1  IDP2016  ID0102  II0215\n",
       "2  IDP2016  II0209  II0320\n",
       "3  IDP2016  ID0103  IT0263\n",
       "4  IDP2016  IT0264  ID0204"
      ]
     },
     "execution_count": 12,
     "metadata": {},
     "output_type": "execute_result"
    }
   ],
   "source": [
    "seriaciones.head()"
   ]
  },
  {
   "cell_type": "markdown",
   "id": "bfd69931",
   "metadata": {},
   "source": [
    "## Limpieza de datos"
   ]
  },
  {
   "cell_type": "code",
   "execution_count": 13,
   "id": "df8e39c4",
   "metadata": {},
   "outputs": [],
   "source": [
    "cargas16_19 = pd.concat([d16,d17,d18,d19])\n",
    "cargas20_21 = d2021"
   ]
  },
  {
   "cell_type": "code",
   "execution_count": 14,
   "id": "4ae45e39",
   "metadata": {},
   "outputs": [],
   "source": [
    "cargas16_19 = cargas16_19.query('carrera == \"Ingeniería en Datos e Inteligencia Organizacional\"')"
   ]
  },
  {
   "cell_type": "code",
   "execution_count": 15,
   "id": "d39831e8",
   "metadata": {},
   "outputs": [],
   "source": [
    "cargas16_19 = cargas16_19[['Unnamed: 0', 'carrera', 'periodo', 'clave', 'asignatura',\n",
    "       'promediofinal', 'docente', 'ceveval_global', 'ceneval_analitico',\n",
    "       'ceneval_matematico', 'ceneval_lengua', 'ceneval_esp',\n",
    "       'n_matricula']]"
   ]
  },
  {
   "cell_type": "code",
   "execution_count": 16,
   "id": "7cc3c245",
   "metadata": {},
   "outputs": [],
   "source": [
    "matriculas16 = cargas16_19.query('n_matricula > 160000000 and n_matricula < 170000000')['n_matricula'].unique()\n",
    "matriculas17 = cargas16_19.query('n_matricula > 170000000 and n_matricula < 180000000')['n_matricula'].unique()\n",
    "matriculas18 = cargas16_19.query('n_matricula > 180000000 and n_matricula < 190000000')['n_matricula'].unique()\n",
    "matriculas19 = cargas16_19.query('n_matricula > 190000000 and n_matricula < 200000000')['n_matricula'].unique()\n",
    "matriculas20 = cargas20_21.query('n_matricula > 200000000 and n_matricula < 210000000')['n_matricula'].unique()\n",
    "matriculas21 = cargas20_21.query('n_matricula > 210000000 and n_matricula < 220000000')['n_matricula'].unique()"
   ]
  },
  {
   "cell_type": "code",
   "execution_count": 17,
   "id": "d73ab148",
   "metadata": {},
   "outputs": [],
   "source": [
    "matriculas = np.concatenate((matriculas16, matriculas17,matriculas18,matriculas19,matriculas20,matriculas21))"
   ]
  },
  {
   "cell_type": "code",
   "execution_count": 18,
   "id": "ef8cdacc",
   "metadata": {},
   "outputs": [],
   "source": [
    "cargas20_21 = cargas20_21.rename(columns={'programa': 'carrera'})"
   ]
  },
  {
   "cell_type": "code",
   "execution_count": 19,
   "id": "44964db8",
   "metadata": {},
   "outputs": [],
   "source": [
    "formato_cargas20_21 = cargas20_21[['carrera', 'periodo', 'clave', 'asignatura','docente','n_matricula','promediofinal']]\n",
    "formato_cargas16_19 = cargas16_19[['carrera', 'periodo', 'clave', 'asignatura','docente','n_matricula','promediofinal']]\n",
    "\n",
    "formato_cargas = pd.concat([formato_cargas16_19,formato_cargas20_21])"
   ]
  },
  {
   "cell_type": "code",
   "execution_count": 20,
   "id": "633c5c03",
   "metadata": {},
   "outputs": [],
   "source": [
    "oferta = oferta[['Clave','Nombre', 'Maestro', 'Lunes','Martes', 'Miercoles', 'Jueves', 'Viernes', 'Sabado']]"
   ]
  },
  {
   "cell_type": "code",
   "execution_count": 21,
   "id": "7c117b7d",
   "metadata": {},
   "outputs": [],
   "source": [
    "oferta = oferta.drop_duplicates()"
   ]
  },
  {
   "cell_type": "code",
   "execution_count": 22,
   "id": "ccdf4d3c",
   "metadata": {},
   "outputs": [
    {
     "data": {
      "text/plain": [
       "array(['-', '18:00-20:00', '17:00-19:00', '20:00-22:00', '15:00-17:00',\n",
       "       '9:00-11:00', '19:00-21:00', '19:00-20:00', '7:00-9:00',\n",
       "       '11:00-13:00', '13:00-14:00', '16:00-18:00', '14:00-16:00',\n",
       "       '7:00-10:00', '7:00-8:00', '16:00-19:00', '21:00-22:00',\n",
       "       '16:00-17:00'], dtype=object)"
      ]
     },
     "execution_count": 22,
     "metadata": {},
     "output_type": "execute_result"
    }
   ],
   "source": [
    "oferta['Lunes'].unique()"
   ]
  },
  {
   "cell_type": "code",
   "execution_count": 23,
   "id": "e66bb055",
   "metadata": {},
   "outputs": [
    {
     "data": {
      "text/plain": [
       "array(['-', '15:00-17:00', '20:00-21:00', '20:00-22:00', '19:00-20:00',\n",
       "       '16:00-18:00', '18:00-19:00', '7:00-9:00', '9:00-11:00',\n",
       "       '18:00-20:00', '14:00-16:00', '13:00-15:00', '8:00-9:00'],\n",
       "      dtype=object)"
      ]
     },
     "execution_count": 23,
     "metadata": {},
     "output_type": "execute_result"
    }
   ],
   "source": [
    "oferta['Martes'].unique()"
   ]
  },
  {
   "cell_type": "code",
   "execution_count": 24,
   "id": "95d37d10",
   "metadata": {},
   "outputs": [
    {
     "data": {
      "text/plain": [
       "array(['17:00-18:00', '-', '18:00-20:00', '19:00-20:00', '16:00-17:00',\n",
       "       '15:00-17:00', '20:00-21:00', '20:00-22:00', '18:00-19:00',\n",
       "       '12:00-14:00', '7:00-9:00', '9:00-11:00', '11:00-12:00',\n",
       "       '11:00-13:00', '\\n13:00-15:00', '13:00-15:00', '17:00-19:00',\n",
       "       '19:00-21:00', '15:00-16:00', '12:00-13:00', '8:00-10:00',\n",
       "       '7:00-8:00', '10:00-12:00', '16:00-18:00', '14:00-15:00'],\n",
       "      dtype=object)"
      ]
     },
     "execution_count": 24,
     "metadata": {},
     "output_type": "execute_result"
    }
   ],
   "source": [
    "oferta['Miercoles'].unique()"
   ]
  },
  {
   "cell_type": "code",
   "execution_count": 25,
   "id": "4012117e",
   "metadata": {},
   "outputs": [
    {
     "data": {
      "text/plain": [
       "array(['-', '15:00-17:00', '17:00-18:00', '20:00-21:00', '16:00-17:00',\n",
       "       '9:00-10:00', '20:00-22:00', '18:00-20:00', '19:00-21:00',\n",
       "       '7:00-8:00', '13:00-14:00', '8:00-9:00', '9:00-11:00',\n",
       "       '16:00-18:00', '14:00-15:00', '13:00-15:00', '7:00-9:00',\n",
       "       '15:00-16:00', '18:00-19:00', '19:00-20:00', '21:00-22:00'],\n",
       "      dtype=object)"
      ]
     },
     "execution_count": 25,
     "metadata": {},
     "output_type": "execute_result"
    }
   ],
   "source": [
    "oferta['Jueves'].unique()"
   ]
  },
  {
   "cell_type": "code",
   "execution_count": 26,
   "id": "f49a2152",
   "metadata": {},
   "outputs": [
    {
     "data": {
      "text/plain": [
       "array(['16:00-18:00', '17:00-18:00', '-', '20:00-22:00', '15:00-17:00',\n",
       "       '14:00-15:00', '18:00-20:00', '20:00-21:00', '13:00-14:00',\n",
       "       '9:00-10:00', '7:00-9:00', '10:00-11:00', '16:00-17:00',\n",
       "       '14:00-16:00', '18:00-19:00', '8:00-10:00', '19:00-20:00',\n",
       "       '19:00-21:00'], dtype=object)"
      ]
     },
     "execution_count": 26,
     "metadata": {},
     "output_type": "execute_result"
    }
   ],
   "source": [
    "oferta['Viernes'].unique()"
   ]
  },
  {
   "cell_type": "code",
   "execution_count": 27,
   "id": "45eecfeb",
   "metadata": {},
   "outputs": [],
   "source": [
    "oferta.loc[36,'Miercoles'] = '13:00-15:00'"
   ]
  },
  {
   "cell_type": "code",
   "execution_count": 28,
   "id": "ef6278f8",
   "metadata": {},
   "outputs": [
    {
     "data": {
      "text/plain": [
       "array(['17:00-18:00', '-', '18:00-20:00', '19:00-20:00', '16:00-17:00',\n",
       "       '15:00-17:00', '20:00-21:00', '20:00-22:00', '18:00-19:00',\n",
       "       '12:00-14:00', '7:00-9:00', '9:00-11:00', '11:00-12:00',\n",
       "       '11:00-13:00', '13:00-15:00', '17:00-19:00', '19:00-21:00',\n",
       "       '15:00-16:00', '12:00-13:00', '8:00-10:00', '7:00-8:00',\n",
       "       '10:00-12:00', '16:00-18:00', '14:00-15:00'], dtype=object)"
      ]
     },
     "execution_count": 28,
     "metadata": {},
     "output_type": "execute_result"
    }
   ],
   "source": [
    "oferta['Miercoles'].unique()"
   ]
  },
  {
   "cell_type": "code",
   "execution_count": 29,
   "id": "733f2c7d",
   "metadata": {},
   "outputs": [],
   "source": [
    "def formatoHora(hora):\n",
    "    if len(hora) == 11:\n",
    "        return hora\n",
    "    elif len(hora) == 10:\n",
    "        return '0' + hora\n",
    "    elif len(hora) == 9:\n",
    "        return '0' + hora[0:5] + '0' + hora[5:]\n",
    "    elif len(hora) == 1:\n",
    "        return '-'"
   ]
  },
  {
   "cell_type": "code",
   "execution_count": 30,
   "id": "cbbef837",
   "metadata": {},
   "outputs": [],
   "source": [
    "oferta['Lunes'] = oferta['Lunes'].apply(lambda horas: formatoHora(horas))\n",
    "oferta['Martes'] = oferta['Martes'].apply(lambda horas: formatoHora(horas))\n",
    "oferta['Miercoles'] = oferta['Miercoles'].apply(lambda horas: formatoHora(horas))\n",
    "oferta['Jueves'] = oferta['Jueves'].apply(lambda horas: formatoHora(horas))\n",
    "oferta['Viernes'] = oferta['Viernes'].apply(lambda horas: formatoHora(horas))"
   ]
  },
  {
   "cell_type": "markdown",
   "id": "e270f83a",
   "metadata": {},
   "source": [
    "# Definición de funciones útiles"
   ]
  },
  {
   "cell_type": "markdown",
   "id": "650e1224",
   "metadata": {},
   "source": [
    "## Función para obtener un Kardex aleatorio"
   ]
  },
  {
   "cell_type": "code",
   "execution_count": 31,
   "id": "a693ee2c",
   "metadata": {},
   "outputs": [],
   "source": [
    "def obtenerKardex(mat = -1):\n",
    "    if(mat == -1):\n",
    "        mat = np.random.choice(matriculas)\n",
    "    return formato_cargas.query('n_matricula == ' + str(mat)).sort_values('periodo')"
   ]
  },
  {
   "cell_type": "code",
   "execution_count": 32,
   "id": "ec725b61",
   "metadata": {},
   "outputs": [],
   "source": [
    "def obtenerCreditos(kardex):\n",
    "    claves = kardex.query('promediofinal >= 7')['clave'].unique()\n",
    "    totalCreditos = 0\n",
    "    for clave in claves:\n",
    "        if(clave[0:2] == 'LI' or clave[0:2] == 'TA' or clave[0:2] == 'AD'):\n",
    "            continue\n",
    "        totalCreditos += plan_2016.query('clave == \"' + clave + '\"')['creditos'].values[0]\n",
    "    return totalCreditos"
   ]
  },
  {
   "cell_type": "markdown",
   "id": "6bdec6b6",
   "metadata": {},
   "source": [
    "## Obtención de oferta útil"
   ]
  },
  {
   "cell_type": "markdown",
   "id": "405891da",
   "metadata": {},
   "source": [
    "En este sección se crea la función \"obtenerOfertaUtil\" la cual filtra la oferta académica para eliminar las materias que no cumplen con la restricción de llevar materias aprobadas y la restricción de llevar materias que no respeten la seriación."
   ]
  },
  {
   "cell_type": "code",
   "execution_count": 33,
   "id": "1c9e8089",
   "metadata": {},
   "outputs": [],
   "source": [
    "def materiaHaSidoAprobada(kardex,clave):\n",
    "    if len(kardex.query('clave == \"' + clave + '\" and promediofinal >= 7')) == 0:\n",
    "        return False\n",
    "    else:\n",
    "        return True"
   ]
  },
  {
   "cell_type": "code",
   "execution_count": 34,
   "id": "53bcefea",
   "metadata": {},
   "outputs": [],
   "source": [
    "def respetaSeriacion(clave,kardex):\n",
    "    if len(seriaciones.query('ser2 == \"' + clave + '\"')) == 0:\n",
    "        return True\n",
    "    else:\n",
    "        #Se guarda en necesarias la lista de asignaturas necesarias para llevar la asignura \"clave\"\n",
    "        necesarias = seriaciones.query('ser2 == \"' + clave + '\"')['ser1'].unique()\n",
    "        \n",
    "        #Se recorre la lista para comprobar si el estudiante ya pasó las asignaturas necesarias, en caso de que le falte \n",
    "        #al menos una, entonces no se respeta la seriación.\n",
    "        for necesaria in necesarias:\n",
    "            if not(materiaHaSidoAprobada(kardex,necesaria)):\n",
    "                return False\n",
    "        return True"
   ]
  },
  {
   "cell_type": "code",
   "execution_count": 35,
   "id": "636cba1b",
   "metadata": {},
   "outputs": [],
   "source": [
    "#Filtra las materias que no cumplen las restricciones 1 y 2\n",
    "\n",
    "def obtenerOfertaUtil(kardex,oferta):\n",
    "    #Se eliminan las materias en la oferta que ya han sido aprobadas\n",
    "    aprobadas = kardex.query('promediofinal >= 7')['clave'].unique()\n",
    "    for clave in aprobadas:\n",
    "        oferta = oferta.query('Clave != \"' + clave + '\"')\n",
    "        \n",
    "    #Se eliminan las materias que el alumno no puede llevar por la seriación\n",
    "    ofertaUtilIndex = set(oferta.index.values)\n",
    "    for idx in oferta.index:\n",
    "        if not(respetaSeriacion(oferta.loc[idx]['Clave'],kardex)):\n",
    "            ofertaUtilIndex.remove(idx)\n",
    "            \n",
    "    #Se eliminan prácticas profesionales y proyecto terminal\n",
    "    for i in range(len(oferta['Clave'].values)):\n",
    "        clave = oferta['Clave'].values[i]\n",
    "        if clave[0:3] == 'PID' or clave == 'IT0427':\n",
    "            try:\n",
    "                ofertaUtilIndex.remove(oferta.index.values[i])\n",
    "            except:\n",
    "                continue\n",
    "    ofertaUtil = oferta.loc[list(ofertaUtilIndex)]\n",
    "    \n",
    "    #Se eliminan materias de elección libre de primer y segundo ciclo\n",
    "    if(materiaHaSidoAprobada(kardex,'IL0102')):\n",
    "        ofertaUtil = ofertaUtil.query('Clave != \"ID0160\"')\n",
    "    if(materiaHaSidoAprobada(kardex,'ID0160')):\n",
    "        ofertaUtil = ofertaUtil.query('Clave != \"IL0102\"')\n",
    "    \n",
    "    if(materiaHaSidoAprobada(kardex,'IT0103')):\n",
    "        ofertaUtil = ofertaUtil.query('Clave != \"ID0161\"')\n",
    "    if(materiaHaSidoAprobada(kardex,'ID0161')):\n",
    "        ofertaUtil = ofertaUtil.query('Clave != \"IT0103\"')\n",
    "        \n",
    "    if(materiaHaSidoAprobada(kardex,'ID0264')):\n",
    "        ofertaUtil = ofertaUtil.query('Clave != \"ID0262\"')\n",
    "    if(materiaHaSidoAprobada(kardex,'ID0262')):\n",
    "        ofertaUtil = ofertaUtil.query('Clave != \"ID0264\"')\n",
    "        \n",
    "    if(materiaHaSidoAprobada(kardex,'ID0263')):\n",
    "        ofertaUtil = ofertaUtil.query('Clave != \"ID0265\"')\n",
    "    if(materiaHaSidoAprobada(kardex,'ID0265')):\n",
    "        ofertaUtil = ofertaUtil.query('Clave != \"ID0263\"')\n",
    "        \n",
    "    \n",
    "    return ofertaUtil"
   ]
  },
  {
   "cell_type": "markdown",
   "id": "7c1c3848",
   "metadata": {},
   "source": [
    "## Generación de carga aleatoria válida"
   ]
  },
  {
   "cell_type": "markdown",
   "id": "26e2a14b",
   "metadata": {},
   "source": [
    "#### NOTA: Tomar en cuenta materias repetidas y por ahora descartar talleres deportivos, artísticos, lengua inglesa y prácticas profesionales"
   ]
  },
  {
   "cell_type": "markdown",
   "id": "a66d78f1",
   "metadata": {},
   "source": [
    "En esta sección creamos las funciones \"generarCargaValida\" la cual retorna una string de bits representando una carga académica con base a la oferta útil. También se crea la función \"obtenerDatosCarga\" que nos ayuda a obtener los datos de una carga académica con base a la oferta útil y a una string de bits que denominamos \"bits de carga\""
   ]
  },
  {
   "cell_type": "code",
   "execution_count": 36,
   "id": "5e238cf9",
   "metadata": {},
   "outputs": [],
   "source": [
    "def generarSolucionAleatoria(ofertaUtil):\n",
    "    solucion = [-1] * 9\n",
    "    for i in range(9):\n",
    "        gen = np.random.randint(-1,len(ofertaUtil))\n",
    "        if gen == -1:\n",
    "            solucion[i] = -1\n",
    "        else:\n",
    "            solucion[i] = ofertaUtil.index[gen]\n",
    "    return solucion"
   ]
  },
  {
   "cell_type": "code",
   "execution_count": 37,
   "id": "136e15f5",
   "metadata": {},
   "outputs": [],
   "source": [
    "def obtenerDatosCarga(solucion,ofertaUtil):\n",
    "    solucionU = np.array(solucion)\n",
    "    solucionU = np.unique(solucionU)\n",
    "    solucionU = solucionU[solucionU >= 0]\n",
    "    \n",
    "    return ofertaUtil.loc[solucionU]"
   ]
  },
  {
   "cell_type": "code",
   "execution_count": 38,
   "id": "d49e48ef",
   "metadata": {},
   "outputs": [],
   "source": [
    "def comprobarTraslapacion(solucion,ofertaUtil):\n",
    "    datosCarga = obtenerDatosCarga(solucion,ofertaUtil)\n",
    "    dias = ['Lunes','Martes','Miercoles','Jueves','Viernes','Sabado']\n",
    "    \n",
    "    for dia in dias:\n",
    "        horarioDia = datosCarga.sort_values(dia)[dia].values\n",
    "        for i in range(len(horarioDia)):\n",
    "            if horarioDia[i] == '-':\n",
    "                continue\n",
    "            horaInicioI = int(horarioDia[i][0:2])\n",
    "            horaFinI = int(horarioDia[i][6:8])\n",
    "            \n",
    "            for j in range(i+1,len(horarioDia)):\n",
    "                horaInicioJ = int(horarioDia[j][0:2])\n",
    "                horaFinJ = int(horarioDia[j][6:8])\n",
    "                \n",
    "                if not(horaFinJ  <= horaInicioI or horaInicioJ >= horaFinI):\n",
    "                    return True\n",
    "    return False"
   ]
  },
  {
   "cell_type": "code",
   "execution_count": 39,
   "id": "584ec5ea",
   "metadata": {},
   "outputs": [],
   "source": [
    "def esValido(solucion,ofertaUtil):\n",
    "    #Si se repite una materia es inválido\n",
    "    datosCarga = obtenerDatosCarga(solucion,ofertaUtil)\n",
    "    if len(datosCarga['Clave'].unique()) < len(datosCarga):\n",
    "        return False\n",
    "    #Si se traslapan dos materias es inválido\n",
    "    if comprobarTraslapacion(solucion,ofertaUtil):\n",
    "        return False\n",
    "    return True"
   ]
  },
  {
   "cell_type": "code",
   "execution_count": 40,
   "id": "b37d67d9",
   "metadata": {},
   "outputs": [],
   "source": [
    "def generarSolucionValida(ofertaUtil):\n",
    "    bitsDeCarga = generarSolucionAleatoria(ofertaUtil)\n",
    "    \n",
    "    while not(esValido(bitsDeCarga,ofertaUtil)):\n",
    "        bitsDeCarga = generarSolucionAleatoria(ofertaUtil)\n",
    "    \n",
    "    return bitsDeCarga"
   ]
  },
  {
   "cell_type": "code",
   "execution_count": 41,
   "id": "2dda725e",
   "metadata": {},
   "outputs": [],
   "source": [
    "def obtenerHorario(carga,ofertaUtil):\n",
    "    primeraHoraMinima = 24\n",
    "    ultimaHoraMaxima = 0\n",
    "    datosCarga = obtenerDatosCarga(carga,ofertaUtil)\n",
    "    horario = pd.DataFrame({\n",
    "        'Hora': ['7:00-8:00','8:00-9:00','9:00-10:00','10:00-11:00','11:00-12:00','12:00-13:00','13:00-14:00','14:00-15:00','15:00-16:00','16:00-17:00','17:00-18:00','18:00-19:00','19:00-20:00','20:00-21:00','21:00-22:00'],\n",
    "        'Lunes': ['-','-','-','-','-','-','-','-','-','-','-','-','-','-','-'],\n",
    "        'Martes': ['-','-','-','-','-','-','-','-','-','-','-','-','-','-','-'],\n",
    "        'Miercoles': ['-','-','-','-','-','-','-','-','-','-','-','-','-','-','-'],\n",
    "        'Jueves': ['-','-','-','-','-','-','-','-','-','-','-','-','-','-','-'],\n",
    "        'Viernes': ['-','-','-','-','-','-','-','-','-','-','-','-','-','-','-'],\n",
    "        'Sabado': ['-','-','-','-','-','-','-','-','-','-','-','-','-','-','-'],\n",
    "    })\n",
    "    dias = ['Lunes','Martes','Miercoles','Jueves','Viernes','Sabado']\n",
    "    for dia in dias:\n",
    "        for i in range(len(datosCarga)):\n",
    "            if datosCarga[dia].iloc[i] == '-':\n",
    "                continue\n",
    "\n",
    "            horaInicio = int(datosCarga.iloc[i][dia][0:2])\n",
    "            horaFin = int(datosCarga.iloc[i][dia][6:8])\n",
    "            \n",
    "            primeraHoraMinima = min(primeraHoraMinima,horaInicio)\n",
    "            ultimaHoraMaxima = max(ultimaHoraMaxima,horaFin)\n",
    "            \n",
    "            nombre = datosCarga.iloc[i]['Nombre']\n",
    "\n",
    "            for hora in range(horaInicio,horaFin):\n",
    "                horario.loc[hora-7,dia]=nombre\n",
    "    return horario[(primeraHoraMinima-7):(ultimaHoraMaxima-6)]"
   ]
  },
  {
   "cell_type": "markdown",
   "id": "ce892328",
   "metadata": {},
   "source": [
    "# Definición de funciones de utilidad y de costo"
   ]
  },
  {
   "cell_type": "markdown",
   "id": "3b187491",
   "metadata": {},
   "source": [
    "## Utilidad de carga académica con base en las materias reprobadas"
   ]
  },
  {
   "cell_type": "code",
   "execution_count": 42,
   "id": "65b92edf",
   "metadata": {},
   "outputs": [],
   "source": [
    "def obtenerMateriasReprobadas(kardex):\n",
    "    materiasReprobadas = kardex.query('promediofinal < 7')['clave'].unique()\n",
    "    materiasReprobadasFinal = []\n",
    "    for clave in materiasReprobadas:\n",
    "        aprobado = len(kardex.query('clave == \"' + clave + '\" and promediofinal >= 7'))\n",
    "        if aprobado == 0:\n",
    "            materiasReprobadasFinal.append(clave)\n",
    "    return materiasReprobadasFinal"
   ]
  },
  {
   "cell_type": "code",
   "execution_count": 43,
   "id": "3a2e830e",
   "metadata": {},
   "outputs": [],
   "source": [
    "def UpMR(kardex,solucion,ofertaUtil):\n",
    "    materiasReprobadas = obtenerMateriasReprobadas(kardex)\n",
    "    if len(materiasReprobadas) == 0:\n",
    "        return 0\n",
    "    datosCarga = obtenerDatosCarga(solucion,ofertaUtil)\n",
    "    utilidadTotal = 0\n",
    "    \n",
    "    for clave in materiasReprobadas:\n",
    "        cargado = len(datosCarga.query('Clave == \"' + clave + '\"'))\n",
    "        if cargado == 1:\n",
    "            utilidadTotal += 1\n",
    "            \n",
    "    \n",
    "    #Normalización\n",
    "    utilidad = (utilidadTotal)/(len(materiasReprobadas))\n",
    "    return utilidad"
   ]
  },
  {
   "cell_type": "markdown",
   "id": "3385911a",
   "metadata": {},
   "source": [
    "## Utilidad de carga académica con base en el cierre de ciclos"
   ]
  },
  {
   "cell_type": "code",
   "execution_count": 44,
   "id": "b311b785",
   "metadata": {},
   "outputs": [],
   "source": [
    "def UpCC(solucion,ofertaUtil):\n",
    "    alpha = 3\n",
    "    utilidad = [alpha**3,alpha**2,alpha,1]\n",
    "    utilidadTotal = 0\n",
    "    \n",
    "    datosCarga = obtenerDatosCarga(solucion,ofertaUtil)\n",
    "    \n",
    "    claves = datosCarga['Clave'].unique()\n",
    "    for i in range(len(claves)):\n",
    "        if claves[i][0:2] == 'AD'or claves[i][0:2] == 'TA' or claves[i][0:2] == 'LI' or claves[i][0:2] == 'PI':\n",
    "            continue\n",
    "            \n",
    "        ciclo = int(plan_2016.query('clave == \"' + claves[i] + '\"')['ciclos'])\n",
    "        utilidadTotal += utilidad[ciclo-1]\n",
    "    \n",
    "    #Normalización\n",
    "    utilidadNorm = (utilidadTotal)/(utilidad[0]*9)\n",
    "    return utilidadNorm"
   ]
  },
  {
   "cell_type": "markdown",
   "id": "3055acdc",
   "metadata": {},
   "source": [
    "## Costo de carga académica con base en las horas libres"
   ]
  },
  {
   "cell_type": "markdown",
   "id": "8e3c3124",
   "metadata": {},
   "source": [
    "#### NOTA: Tomar en cuenta las horas libres por día"
   ]
  },
  {
   "cell_type": "code",
   "execution_count": 45,
   "id": "de37cf1b",
   "metadata": {},
   "outputs": [],
   "source": [
    "    def CpHL(solucion,ofertaUtil):\n",
    "        dias = ['Lunes','Martes','Miercoles','Jueves','Viernes','Sabado']\n",
    "        costoTotal = 0\n",
    "        hlMax = 0\n",
    "\n",
    "        datosCarga = obtenerDatosCarga(solucion,ofertaUtil)\n",
    "\n",
    "        for dia in dias:\n",
    "            datosCarga = datosCarga.sort_values(dia)\n",
    "            if datosCarga[dia].iloc[len(datosCarga)-2] == '-':\n",
    "                continue\n",
    "\n",
    "            ultimaHoraFin = 0\n",
    "            for i in range(len(datosCarga)):\n",
    "                if datosCarga.iloc[i][dia] == '-':\n",
    "                    continue\n",
    "                if ultimaHoraFin == 0:\n",
    "                    ultimaHoraFin = int(datosCarga.iloc[i][dia][6:8])\n",
    "                    primeraHoraDia = int(datosCarga.iloc[i][dia][0:2])\n",
    "                    continue\n",
    "                horaInicio = int(datosCarga.iloc[i][dia][0:2])\n",
    "                costoTotal += (horaInicio - ultimaHoraFin)\n",
    "                ultimaHoraFin = int(datosCarga.iloc[i][dia][6:8])\n",
    "            hlMax += (ultimaHoraFin - primeraHoraDia - 2)\n",
    "\n",
    "        if hlMax == 0:\n",
    "            return 0\n",
    "        #Normalización\n",
    "        costo = (costoTotal)/(hlMax)\n",
    "        return costo"
   ]
  },
  {
   "cell_type": "markdown",
   "id": "25015bdb",
   "metadata": {},
   "source": [
    "## Costo de carga académica con base en la disponibilidad de horario del estudiante"
   ]
  },
  {
   "cell_type": "markdown",
   "id": "73d999ec",
   "metadata": {},
   "source": [
    "Creamos 4 casos diferentes donde los estudiantes trabajan. Guardamos el horario de ocupación de los estudiantes en un dataframe por cada estudiante."
   ]
  },
  {
   "cell_type": "code",
   "execution_count": 46,
   "id": "709995e9",
   "metadata": {},
   "outputs": [],
   "source": [
    "# El estudiante trabaja por las mañanas tiempo completo\n",
    "disp_est_1 = pd.DataFrame({\n",
    "    \"hora\": [7,8,9,10,11,12,13,14,15,16,17,18,19,20,21],\n",
    "    \"Lunes\": [False,False,False,False,False,False,False,False,False,True,True,True,True,True,True],\n",
    "    \"Martes\": [False,False,False,False,False,False,False,False,False,True,True,True,True,True,True],\n",
    "    \"Miercoles\": [False,False,False,False,False,False,False,False,False,True,True,True,True,True,True],\n",
    "    \"Jueves\": [False,False,False,False,False,False,False,False,False,True,True,True,True,True,True],\n",
    "    \"Viernes\": [False,False,False,False,False,False,False,False,False,True,True,True,True,True,True],\n",
    "    \"Sabado\": [False,False,False,False,False,False,False,False,False,True,True,True,True,True,True]\n",
    "})\n",
    "\n",
    "\n",
    "# El estudiante trabaja por las tardes tiempo completo\n",
    "disp_est_2 = pd.DataFrame({\n",
    "    \"hora\": [7,8,9,10,11,12,13,14,15,16,17,18,19,20,21],\n",
    "    \"Lunes\": [True,True,True,True,True,True,False,False,False,False,False,False,False,False,False],\n",
    "    \"Martes\": [True,True,True,True,True,True,False,False,False,False,False,False,False,False,False],\n",
    "    \"Miercoles\": [True,True,True,True,True,True,False,False,False,False,False,False,False,False,False],\n",
    "    \"Jueves\": [True,True,True,True,True,True,False,False,False,False,False,False,False,False,False],\n",
    "    \"Viernes\": [True,True,True,True,True,True,False,False,False,False,False,False,False,False,False],\n",
    "    \"Sabado\": [True,True,True,True,True,True,False,False,False,False,False,False,False,False,False]\n",
    "})\n",
    "\n",
    "# El estudiante trabaja por las mañanas medio tiempo\n",
    "disp_est_3 = pd.DataFrame({\n",
    "    \"hora\": [7,8,9,10,11,12,13,14,15,16,17,18,19,20,21],\n",
    "    \"Lunes\": [True,False,False,False,False,False,True,True,True,True,True,True,True,False,False],\n",
    "    \"Martes\": [True,False,False,False,False,False,True,True,True,True,True,True,True,False,False],\n",
    "    \"Miercoles\": [True,False,False,False,False,False,True,True,True,True,True,True,True,False,False],\n",
    "    \"Jueves\": [True,False,False,False,False,False,True,True,True,True,True,True,True,False,False],\n",
    "    \"Viernes\": [True,False,False,False,False,False,True,True,True,True,True,True,True,False,False],\n",
    "    \"Sabado\": [True,False,False,False,False,False,True,True,True,True,True,True,True,False,False]\n",
    "})\n",
    "# El estudiante trabaja por las tardes medio tiempo\n",
    "disp_est_4 = pd.DataFrame({\n",
    "    \"hora\": [7,8,9,10,11,12,13,14,15,16,17,18,19,20,21],\n",
    "    \"Lunes\": [True,True,True,True,True,False,False,False,False,False,True,True,True,True,True],\n",
    "    \"Martes\": [True,True,True,True,True,False,False,False,False,False,True,True,True,True,True],\n",
    "    \"Miercoles\": [True,True,True,True,True,False,False,False,False,False,True,True,True,True,True],\n",
    "    \"Jueves\": [True,True,True,True,True,False,False,False,False,False,True,True,True,True,True],\n",
    "    \"Viernes\": [True,True,True,True,True,False,False,False,False,False,True,True,True,True,True],\n",
    "    \"Sabado\": [True,True,True,True,True,False,False,False,False,False,True,True,True,True,True]\n",
    "})\n",
    "disp_est_5 = pd.DataFrame({\n",
    "    \"hora\": [7,8,9,10,11,12,13,14,15,16,17,18,19,20,21],\n",
    "    \"Lunes\": [True,True,True,True,True,True,True,True,True,True,True,True,True,True,True],\n",
    "    \"Martes\": [True,True,True,True,True,True,True,True,True,True,True,True,True,True,True],\n",
    "    \"Miercoles\": [True,True,True,True,True,True,True,True,True,True,True,True,True,True,True],\n",
    "    \"Jueves\": [True,True,True,True,True,True,True,True,True,True,True,True,True,True,True],\n",
    "    \"Viernes\": [True,True,True,True,True,True,True,True,True,True,True,True,True,True,True],\n",
    "    \"Sabado\": [True,True,True,True,True,True,True,True,True,True,True,True,True,True,True]\n",
    "})"
   ]
  },
  {
   "cell_type": "code",
   "execution_count": 47,
   "id": "7137d3f9",
   "metadata": {
    "scrolled": false
   },
   "outputs": [],
   "source": [
    "disponibilidadArr = [disp_est_1,disp_est_2,disp_est_3,disp_est_4,disp_est_5]"
   ]
  },
  {
   "cell_type": "code",
   "execution_count": 48,
   "id": "7e1f73fd",
   "metadata": {},
   "outputs": [],
   "source": [
    "def CpDH(solucion,ofertaUtil,disponibilidad):\n",
    "    disponibilidadTotal = sum(disponibilidad['Lunes']) + sum(disponibilidad['Martes']) + sum(disponibilidad['Miercoles']) + sum(disponibilidad['Jueves']) + sum(disponibilidad['Viernes']) + sum(disponibilidad['Sabado'])\n",
    "    if disponibilidadTotal == 90:\n",
    "        return 0\n",
    "    \n",
    "    dias = ['Lunes','Martes','Miercoles','Jueves','Viernes','Sabado']\n",
    "    datosCarga = obtenerDatosCarga(solucion,ofertaUtil)\n",
    "    costoTotal = 0\n",
    "\n",
    "    for dia in dias:\n",
    "        for i in range(len(datosCarga)):\n",
    "            if datosCarga[dia].iloc[i] == '-':\n",
    "                continue\n",
    "\n",
    "            horaInicio = int(datosCarga.iloc[i][dia][0:2])\n",
    "            horaFin = int(datosCarga.iloc[i][dia][6:8])\n",
    "\n",
    "            for hora in range(horaInicio,horaFin):\n",
    "                if not(disponibilidad.query('hora == ' + str(hora))[dia].values[0]):\n",
    "                    costoTotal += 1\n",
    "                    \n",
    "    #Normalización\n",
    "    costo = (costoTotal)/(90 - disponibilidadTotal)\n",
    "    return costo"
   ]
  },
  {
   "cell_type": "markdown",
   "id": "16e07217",
   "metadata": {},
   "source": [
    "# Definición de la función de desempeño"
   ]
  },
  {
   "cell_type": "code",
   "execution_count": 98,
   "id": "b8466a64",
   "metadata": {},
   "outputs": [],
   "source": [
    "def obtenerDesempeno(solucion,cromosomaIndice):\n",
    "    if not(esValido(solucion,ofertaUtil)):\n",
    "        return 0\n",
    "    pesos = np.array([2,1,1,1])   \n",
    "    \n",
    "    upcc = UpCC(solucion,ofertaUtil)\n",
    "    upmr = UpMR(kardex,solucion,ofertaUtil)\n",
    "    cpdh = CpDH(solucion,ofertaUtil,disponibilidad)\n",
    "    cphl = CpHL(solucion,ofertaUtil)\n",
    "    \n",
    "    x = np.array([upcc,upmr,cpdh,cphl])\n",
    "    x = x*pesos\n",
    "    \n",
    "    x[2] =  pesos[2]- x[2]\n",
    "    x[3] = pesos[3] - x[3]\n",
    "    \n",
    "    return sum(x)"
   ]
  },
  {
   "cell_type": "code",
   "execution_count": 50,
   "id": "36164559",
   "metadata": {},
   "outputs": [],
   "source": [
    "def evaluarSolucion(solucion):\n",
    "    pesos = np.array([1,1,1,1])   \n",
    "    \n",
    "    upcc = UpCC(solucion,ofertaUtil)\n",
    "    upmr = UpMR(kardex,solucion,ofertaUtil)\n",
    "    cpdh = CpDH(solucion,ofertaUtil,disponibilidad)\n",
    "    cphl = CpHL(solucion,ofertaUtil)\n",
    "    \n",
    "    print(\"La carga evaluada tiene:\")\n",
    "    print(\"\\t\" + str(round(100*upcc,2)) + \"% de utilidad por las materias de primeros ciclos llevadas.\")\n",
    "    print(\"\\t\" + str(round(100*upmr,2)) + \"% del total de las materias reprobadas del estudiante.\") \n",
    "    print(\"\\t\" + str(round(100*cpdh,2)) + \"% de costo por sobreposición con las horas donde el estudiante no está disponible.\")\n",
    "    print(\"\\t\" + str(round(100*cphl,2)) + \"% de costo por el total de horas libres por día.\")"
   ]
  },
  {
   "cell_type": "markdown",
   "id": "ec4b7fb5",
   "metadata": {},
   "source": [
    "### Problemas a solucionar:"
   ]
  },
  {
   "cell_type": "markdown",
   "id": "ca4b80dd",
   "metadata": {},
   "source": [
    "-Función de horas libres no toma en cuenta el promedio de horas libres por día (Hacer otra función?)"
   ]
  },
  {
   "cell_type": "markdown",
   "id": "2652041b",
   "metadata": {},
   "source": [
    "-¿La función objetivo de regresar un promedio o una suma de las demás funciones?"
   ]
  },
  {
   "cell_type": "markdown",
   "id": "4497b314",
   "metadata": {},
   "source": [
    "-Arreglar costo por horas libres, regresa valores negativos"
   ]
  },
  {
   "cell_type": "markdown",
   "id": "ab148add",
   "metadata": {},
   "source": [
    "# Algoritmos evolutivos"
   ]
  },
  {
   "cell_type": "markdown",
   "id": "091d19c0",
   "metadata": {},
   "source": [
    "## Análisis cualitativo"
   ]
  },
  {
   "cell_type": "markdown",
   "id": "f60334ec",
   "metadata": {},
   "source": [
    "### Rodrigo"
   ]
  },
  {
   "cell_type": "code",
   "execution_count": 51,
   "id": "ca7f9a62",
   "metadata": {},
   "outputs": [],
   "source": [
    "claves = [\"DP0191\",\"DP0194\",\"ID0102\",\"ID0160\",\"II0106\",\"IT0101\",\"IT0161\",\"DP0193\",\"ID0103\",\"ID0161\",\"II0106\",\"IT0104\",\"IT0264\",\"DP0295\",\"DP0396\",\"ID0102\",\"II0209\",\"II0319\",\"II0322\",\"IT0107\",\"DP0498\",\"ID0103\",\"ID0205\",\"ID0206\",\"ID0265\",\"II0320\",\"IL0204\",\"DP0497\",\"ID0101\",\"ID0264\",\"ID0308\",\"ID0309\",\"ID3466\",\"II0215\",\"IT0425\",\"ID0204\",\"ID0205\",\"ID0307\",\"ID0414\",\"ID3422\",\"II0422\",\"NI3431\",\"DP0499\",\"ID0413\",\"IL0414\",\"IT0210\",\"IT0322\"]\n",
    "periodos = [201903,201903,201903,201903,201903,201903,201903,202001,202001,202001,202001,202001,202001,202003,202003,202003,202003,202003,202003,202003,202101,202101,202101,202101,202101,202101,202101,202103,202103,202103,202103,202103,202103,202103,202103,202201,202201,202201,202201,202201,202201,202201,202203,202203,202203,202203,202203]\n",
    "promedios = [9,8,5,9,5,8,8,8,0,9,7,8,9,9,10,7,7,8,10,9,10,9,5,9,10,9,9,9,9,10,7,7,9,7,3,7,8,9,8,8,10,9,8,8,10,8,9]\n",
    "carrera = ['Ingeniería en Datos e Inteligencia Organizacional'] * len(claves)\n",
    "matricula = [190300432] * len(claves)"
   ]
  },
  {
   "cell_type": "code",
   "execution_count": 52,
   "id": "5be255f4",
   "metadata": {},
   "outputs": [],
   "source": [
    "kardex = pd.DataFrame({\n",
    "    'clave': claves,\n",
    "    'periodo': periodos,\n",
    "    'carrera': carrera,\n",
    "    'n_matricula': matricula,\n",
    "    'promediofinal': promedios\n",
    "})"
   ]
  },
  {
   "cell_type": "code",
   "execution_count": 67,
   "id": "8309bea0",
   "metadata": {},
   "outputs": [],
   "source": [
    "kardex = pd.read_csv('./kardex/OROPEZA_RODRIGO_KARDEX.csv')"
   ]
  },
  {
   "cell_type": "code",
   "execution_count": 68,
   "id": "5cf0e2d8",
   "metadata": {},
   "outputs": [
    {
     "name": "stdout",
     "output_type": "stream",
     "text": [
      "IT0425 Introducción a la inteligencia artificial\n"
     ]
    }
   ],
   "source": [
    "for clave in obtenerMateriasReprobadas(kardex):\n",
    "    print(clave,plan_2016.query('clave == \"' + clave + '\"')['nombre'].values[0])"
   ]
  },
  {
   "cell_type": "code",
   "execution_count": 69,
   "id": "b4547d53",
   "metadata": {},
   "outputs": [
    {
     "data": {
      "text/plain": [
       "272"
      ]
     },
     "execution_count": 69,
     "metadata": {},
     "output_type": "execute_result"
    }
   ],
   "source": [
    "obtenerCreditos(kardex)"
   ]
  },
  {
   "cell_type": "code",
   "execution_count": 70,
   "id": "e89a5424",
   "metadata": {},
   "outputs": [],
   "source": [
    "ofertaUtil = obtenerOfertaUtil(kardex,oferta)"
   ]
  },
  {
   "cell_type": "code",
   "execution_count": 56,
   "id": "2170b667",
   "metadata": {},
   "outputs": [],
   "source": [
    "disponibilidad = disponibilidadArr[4]"
   ]
  },
  {
   "cell_type": "code",
   "execution_count": 57,
   "id": "0e549bc8",
   "metadata": {},
   "outputs": [],
   "source": [
    "instancia1 = pg.GA(num_generations=20,\n",
    "                   num_parents_mating=2,\n",
    "                   fitness_func=obtenerDesempeno,\n",
    "                   sol_per_pop=500,\n",
    "                   num_genes=9,\n",
    "                   parent_selection_type=\"sss\",\n",
    "                   keep_parents=1,\n",
    "                   crossover_type='uniform',\n",
    "                   mutation_type='random',\n",
    "                   mutation_percent_genes=15,\n",
    "                   gene_type=int,\n",
    "                   gene_space=np.append(ofertaUtil.index.values,[-1]))"
   ]
  },
  {
   "cell_type": "code",
   "execution_count": 58,
   "id": "ec6f06c3",
   "metadata": {},
   "outputs": [
    {
     "name": "stdout",
     "output_type": "stream",
     "text": [
      "Proceso terminado en 232.25538897514343\n"
     ]
    }
   ],
   "source": [
    "start_time = time.time()\n",
    "instancia1.run()\n",
    "tiempoejecucion = time.time() - start_time\n",
    "print('Proceso terminado en ' + str(tiempoejecucion))"
   ]
  },
  {
   "cell_type": "code",
   "execution_count": 59,
   "id": "e2a6d7bd",
   "metadata": {},
   "outputs": [
    {
     "name": "stderr",
     "output_type": "stream",
     "text": [
      "C:\\Users\\eddie\\anaconda3\\lib\\site-packages\\numpy\\lib\\arraysetops.py:270: VisibleDeprecationWarning: Creating an ndarray from ragged nested sequences (which is a list-or-tuple of lists-or-tuples-or ndarrays with different lengths or shapes) is deprecated. If you meant to do this, you must specify 'dtype=object' when creating the ndarray.\n",
      "  ar = np.asanyarray(ar)\n"
     ]
    }
   ],
   "source": [
    "recomendaciones = instancia1.population[instancia1.last_generation_fitness != 0].copy()\n",
    "recomendacionesFinal = []\n",
    "for rec in recomendaciones:\n",
    "    recomendacionesFinal.append(list(set(rec)))\n",
    "recomendacionesFinal = list(np.unique(recomendacionesFinal))\n",
    "recomendacionesFinal.sort(key=lambda x: -obtenerDesempeno(x,0))"
   ]
  },
  {
   "cell_type": "markdown",
   "id": "0d6d71a7",
   "metadata": {},
   "source": [
    "#### Resultados"
   ]
  },
  {
   "cell_type": "markdown",
   "id": "439a1d62",
   "metadata": {},
   "source": [
    "##### #1"
   ]
  },
  {
   "cell_type": "code",
   "execution_count": 61,
   "id": "d7869b07",
   "metadata": {},
   "outputs": [
    {
     "data": {
      "text/html": [
       "<div>\n",
       "<style scoped>\n",
       "    .dataframe tbody tr th:only-of-type {\n",
       "        vertical-align: middle;\n",
       "    }\n",
       "\n",
       "    .dataframe tbody tr th {\n",
       "        vertical-align: top;\n",
       "    }\n",
       "\n",
       "    .dataframe thead th {\n",
       "        text-align: right;\n",
       "    }\n",
       "</style>\n",
       "<table border=\"1\" class=\"dataframe\">\n",
       "  <thead>\n",
       "    <tr style=\"text-align: right;\">\n",
       "      <th></th>\n",
       "      <th>Clave</th>\n",
       "      <th>Nombre</th>\n",
       "      <th>Maestro</th>\n",
       "      <th>Lunes</th>\n",
       "      <th>Martes</th>\n",
       "      <th>Miercoles</th>\n",
       "      <th>Jueves</th>\n",
       "      <th>Viernes</th>\n",
       "      <th>Sabado</th>\n",
       "    </tr>\n",
       "  </thead>\n",
       "  <tbody>\n",
       "    <tr>\n",
       "      <th>58</th>\n",
       "      <td>IL3422</td>\n",
       "      <td>Liderazgo y equipos de trabajo</td>\n",
       "      <td>García Rivera / Miriam Angelica</td>\n",
       "      <td>-</td>\n",
       "      <td>-</td>\n",
       "      <td>15:00-16:00</td>\n",
       "      <td>-</td>\n",
       "      <td>14:00-16:00</td>\n",
       "      <td>-</td>\n",
       "    </tr>\n",
       "    <tr>\n",
       "      <th>69</th>\n",
       "      <td>ID3416</td>\n",
       "      <td>Diseño multimedia</td>\n",
       "      <td>Landeros Alvarado / Aurea</td>\n",
       "      <td>-</td>\n",
       "      <td>08:00-09:00</td>\n",
       "      <td>-</td>\n",
       "      <td>09:00-11:00</td>\n",
       "      <td>-</td>\n",
       "      <td>-</td>\n",
       "    </tr>\n",
       "    <tr>\n",
       "      <th>75</th>\n",
       "      <td>ID0310</td>\n",
       "      <td>Minería de datos</td>\n",
       "      <td>Gómez García / Hector Fernando</td>\n",
       "      <td>-</td>\n",
       "      <td>-</td>\n",
       "      <td>16:00-18:00</td>\n",
       "      <td>-</td>\n",
       "      <td>16:00-18:00</td>\n",
       "      <td>-</td>\n",
       "    </tr>\n",
       "    <tr>\n",
       "      <th>79</th>\n",
       "      <td>IT0263</td>\n",
       "      <td>Electrónica analógica</td>\n",
       "      <td>Márquez Chacón / Wilberth</td>\n",
       "      <td>-</td>\n",
       "      <td>-</td>\n",
       "      <td>18:00-20:00</td>\n",
       "      <td>-</td>\n",
       "      <td>18:00-19:00</td>\n",
       "      <td>-</td>\n",
       "    </tr>\n",
       "    <tr>\n",
       "      <th>81</th>\n",
       "      <td>IT0425</td>\n",
       "      <td>Introducción a la inteligencia artificial</td>\n",
       "      <td>Sansores Pérez / Candelaria Elizabeth</td>\n",
       "      <td>14:00-16:00</td>\n",
       "      <td>-</td>\n",
       "      <td>14:00-15:00</td>\n",
       "      <td>-</td>\n",
       "      <td>-</td>\n",
       "      <td>-</td>\n",
       "    </tr>\n",
       "  </tbody>\n",
       "</table>\n",
       "</div>"
      ],
      "text/plain": [
       "     Clave                                     Nombre  \\\n",
       "58  IL3422             Liderazgo y equipos de trabajo   \n",
       "69  ID3416                          Diseño multimedia   \n",
       "75  ID0310                           Minería de datos   \n",
       "79  IT0263                      Electrónica analógica   \n",
       "81  IT0425  Introducción a la inteligencia artificial   \n",
       "\n",
       "                                  Maestro        Lunes       Martes  \\\n",
       "58        García Rivera / Miriam Angelica            -            -   \n",
       "69              Landeros Alvarado / Aurea            -  08:00-09:00   \n",
       "75         Gómez García / Hector Fernando            -            -   \n",
       "79              Márquez Chacón / Wilberth            -            -   \n",
       "81  Sansores Pérez / Candelaria Elizabeth  14:00-16:00            -   \n",
       "\n",
       "      Miercoles       Jueves      Viernes Sabado  \n",
       "58  15:00-16:00            -  14:00-16:00      -  \n",
       "69            -  09:00-11:00            -      -  \n",
       "75  16:00-18:00            -  16:00-18:00      -  \n",
       "79  18:00-20:00            -  18:00-19:00      -  \n",
       "81  14:00-15:00            -            -      -  "
      ]
     },
     "execution_count": 61,
     "metadata": {},
     "output_type": "execute_result"
    }
   ],
   "source": [
    "obtenerDatosCarga(recomendacionesFinal[0],ofertaUtil)"
   ]
  },
  {
   "cell_type": "code",
   "execution_count": 63,
   "id": "28d0f6e2",
   "metadata": {},
   "outputs": [
    {
     "data": {
      "text/html": [
       "<div>\n",
       "<style scoped>\n",
       "    .dataframe tbody tr th:only-of-type {\n",
       "        vertical-align: middle;\n",
       "    }\n",
       "\n",
       "    .dataframe tbody tr th {\n",
       "        vertical-align: top;\n",
       "    }\n",
       "\n",
       "    .dataframe thead th {\n",
       "        text-align: right;\n",
       "    }\n",
       "</style>\n",
       "<table border=\"1\" class=\"dataframe\">\n",
       "  <thead>\n",
       "    <tr style=\"text-align: right;\">\n",
       "      <th></th>\n",
       "      <th>Hora</th>\n",
       "      <th>Lunes</th>\n",
       "      <th>Martes</th>\n",
       "      <th>Miercoles</th>\n",
       "      <th>Jueves</th>\n",
       "      <th>Viernes</th>\n",
       "      <th>Sabado</th>\n",
       "    </tr>\n",
       "  </thead>\n",
       "  <tbody>\n",
       "    <tr>\n",
       "      <th>1</th>\n",
       "      <td>8:00-9:00</td>\n",
       "      <td>-</td>\n",
       "      <td>Diseño multimedia</td>\n",
       "      <td>-</td>\n",
       "      <td>-</td>\n",
       "      <td>-</td>\n",
       "      <td>-</td>\n",
       "    </tr>\n",
       "    <tr>\n",
       "      <th>2</th>\n",
       "      <td>9:00-10:00</td>\n",
       "      <td>-</td>\n",
       "      <td>-</td>\n",
       "      <td>-</td>\n",
       "      <td>Diseño multimedia</td>\n",
       "      <td>-</td>\n",
       "      <td>-</td>\n",
       "    </tr>\n",
       "    <tr>\n",
       "      <th>3</th>\n",
       "      <td>10:00-11:00</td>\n",
       "      <td>-</td>\n",
       "      <td>-</td>\n",
       "      <td>-</td>\n",
       "      <td>Diseño multimedia</td>\n",
       "      <td>-</td>\n",
       "      <td>-</td>\n",
       "    </tr>\n",
       "    <tr>\n",
       "      <th>4</th>\n",
       "      <td>11:00-12:00</td>\n",
       "      <td>-</td>\n",
       "      <td>-</td>\n",
       "      <td>-</td>\n",
       "      <td>-</td>\n",
       "      <td>-</td>\n",
       "      <td>-</td>\n",
       "    </tr>\n",
       "    <tr>\n",
       "      <th>5</th>\n",
       "      <td>12:00-13:00</td>\n",
       "      <td>-</td>\n",
       "      <td>-</td>\n",
       "      <td>-</td>\n",
       "      <td>-</td>\n",
       "      <td>-</td>\n",
       "      <td>-</td>\n",
       "    </tr>\n",
       "    <tr>\n",
       "      <th>6</th>\n",
       "      <td>13:00-14:00</td>\n",
       "      <td>-</td>\n",
       "      <td>-</td>\n",
       "      <td>-</td>\n",
       "      <td>-</td>\n",
       "      <td>-</td>\n",
       "      <td>-</td>\n",
       "    </tr>\n",
       "    <tr>\n",
       "      <th>7</th>\n",
       "      <td>14:00-15:00</td>\n",
       "      <td>Introducción a la inteligencia artificial</td>\n",
       "      <td>-</td>\n",
       "      <td>Introducción a la inteligencia artificial</td>\n",
       "      <td>-</td>\n",
       "      <td>Liderazgo y equipos de trabajo</td>\n",
       "      <td>-</td>\n",
       "    </tr>\n",
       "    <tr>\n",
       "      <th>8</th>\n",
       "      <td>15:00-16:00</td>\n",
       "      <td>Introducción a la inteligencia artificial</td>\n",
       "      <td>-</td>\n",
       "      <td>Liderazgo y equipos de trabajo</td>\n",
       "      <td>-</td>\n",
       "      <td>Liderazgo y equipos de trabajo</td>\n",
       "      <td>-</td>\n",
       "    </tr>\n",
       "    <tr>\n",
       "      <th>9</th>\n",
       "      <td>16:00-17:00</td>\n",
       "      <td>-</td>\n",
       "      <td>-</td>\n",
       "      <td>Minería de datos</td>\n",
       "      <td>-</td>\n",
       "      <td>Minería de datos</td>\n",
       "      <td>-</td>\n",
       "    </tr>\n",
       "    <tr>\n",
       "      <th>10</th>\n",
       "      <td>17:00-18:00</td>\n",
       "      <td>-</td>\n",
       "      <td>-</td>\n",
       "      <td>Minería de datos</td>\n",
       "      <td>-</td>\n",
       "      <td>Minería de datos</td>\n",
       "      <td>-</td>\n",
       "    </tr>\n",
       "    <tr>\n",
       "      <th>11</th>\n",
       "      <td>18:00-19:00</td>\n",
       "      <td>-</td>\n",
       "      <td>-</td>\n",
       "      <td>Electrónica analógica</td>\n",
       "      <td>-</td>\n",
       "      <td>Electrónica analógica</td>\n",
       "      <td>-</td>\n",
       "    </tr>\n",
       "    <tr>\n",
       "      <th>12</th>\n",
       "      <td>19:00-20:00</td>\n",
       "      <td>-</td>\n",
       "      <td>-</td>\n",
       "      <td>Electrónica analógica</td>\n",
       "      <td>-</td>\n",
       "      <td>-</td>\n",
       "      <td>-</td>\n",
       "    </tr>\n",
       "    <tr>\n",
       "      <th>13</th>\n",
       "      <td>20:00-21:00</td>\n",
       "      <td>-</td>\n",
       "      <td>-</td>\n",
       "      <td>-</td>\n",
       "      <td>-</td>\n",
       "      <td>-</td>\n",
       "      <td>-</td>\n",
       "    </tr>\n",
       "  </tbody>\n",
       "</table>\n",
       "</div>"
      ],
      "text/plain": [
       "           Hora                                      Lunes             Martes  \\\n",
       "1     8:00-9:00                                          -  Diseño multimedia   \n",
       "2    9:00-10:00                                          -                  -   \n",
       "3   10:00-11:00                                          -                  -   \n",
       "4   11:00-12:00                                          -                  -   \n",
       "5   12:00-13:00                                          -                  -   \n",
       "6   13:00-14:00                                          -                  -   \n",
       "7   14:00-15:00  Introducción a la inteligencia artificial                  -   \n",
       "8   15:00-16:00  Introducción a la inteligencia artificial                  -   \n",
       "9   16:00-17:00                                          -                  -   \n",
       "10  17:00-18:00                                          -                  -   \n",
       "11  18:00-19:00                                          -                  -   \n",
       "12  19:00-20:00                                          -                  -   \n",
       "13  20:00-21:00                                          -                  -   \n",
       "\n",
       "                                    Miercoles             Jueves  \\\n",
       "1                                           -                  -   \n",
       "2                                           -  Diseño multimedia   \n",
       "3                                           -  Diseño multimedia   \n",
       "4                                           -                  -   \n",
       "5                                           -                  -   \n",
       "6                                           -                  -   \n",
       "7   Introducción a la inteligencia artificial                  -   \n",
       "8              Liderazgo y equipos de trabajo                  -   \n",
       "9                            Minería de datos                  -   \n",
       "10                           Minería de datos                  -   \n",
       "11                      Electrónica analógica                  -   \n",
       "12                      Electrónica analógica                  -   \n",
       "13                                          -                  -   \n",
       "\n",
       "                           Viernes Sabado  \n",
       "1                                -      -  \n",
       "2                                -      -  \n",
       "3                                -      -  \n",
       "4                                -      -  \n",
       "5                                -      -  \n",
       "6                                -      -  \n",
       "7   Liderazgo y equipos de trabajo      -  \n",
       "8   Liderazgo y equipos de trabajo      -  \n",
       "9                 Minería de datos      -  \n",
       "10                Minería de datos      -  \n",
       "11           Electrónica analógica      -  \n",
       "12                               -      -  \n",
       "13                               -      -  "
      ]
     },
     "execution_count": 63,
     "metadata": {},
     "output_type": "execute_result"
    }
   ],
   "source": [
    "obtenerHorario(recomendacionesFinal[0],ofertaUtil)"
   ]
  },
  {
   "cell_type": "code",
   "execution_count": null,
   "id": "c2aa04b5",
   "metadata": {},
   "outputs": [],
   "source": [
    "evaluarSolucion(recomendacionesFinal[0])"
   ]
  },
  {
   "cell_type": "markdown",
   "id": "0e2240c7",
   "metadata": {},
   "source": [
    "### Dylan"
   ]
  },
  {
   "cell_type": "code",
   "execution_count": 99,
   "id": "c59f2f65",
   "metadata": {},
   "outputs": [],
   "source": [
    "kardex = pd.read_csv('./kardex/CHAN_DYLAN_KARDEX.csv')\n",
    "ofertaUtil = obtenerOfertaUtil(kardex,oferta)"
   ]
  },
  {
   "cell_type": "code",
   "execution_count": 100,
   "id": "b75f1be6",
   "metadata": {},
   "outputs": [
    {
     "name": "stdout",
     "output_type": "stream",
     "text": [
      "IT0208 Electrónica digital\n",
      "IT0425 Introducción a la inteligencia artificial\n",
      "\n",
      "Creditos: 214\n"
     ]
    }
   ],
   "source": [
    "for clave in obtenerMateriasReprobadas(kardex):\n",
    "    print(clave,plan_2016.query('clave == \"' + clave + '\"')['nombre'].values[0])\n",
    "print('\\nCreditos: ' + str(obtenerCreditos(kardex)))"
   ]
  },
  {
   "cell_type": "code",
   "execution_count": 101,
   "id": "f5bfbf2c",
   "metadata": {},
   "outputs": [],
   "source": [
    "disponibilidad = pd.DataFrame({\n",
    "    \"hora\": [7,8,9,10,11,12,13,14,15,16,17,18,19,20,21],\n",
    "    \"Lunes\": [False,False,False,False,False,False,False,False,False,True,True,True,True,True,True],\n",
    "    \"Martes\": [True,True,False,False,False,False,False,False,True,True,True,True,True,True,True],\n",
    "    \"Miercoles\": [True,False,False,False,False,False,True,True,True,True,True,True,True,True,True],\n",
    "    \"Jueves\": [True,False,False,False,False,False,False,False,True,True,True,True,True,True,True],\n",
    "    \"Viernes\": [True,False,False,False,False,True,True,True,True,True,True,True,True,True,True],\n",
    "    \"Sabado\": [True,True,True,True,True,True,True,True,True,True,True,True,True,True,True]\n",
    "})"
   ]
  },
  {
   "cell_type": "code",
   "execution_count": 102,
   "id": "55359332",
   "metadata": {},
   "outputs": [
    {
     "name": "stdout",
     "output_type": "stream",
     "text": [
      "Proceso terminado en 594.8886957168579\n"
     ]
    }
   ],
   "source": [
    "instancia1 = pg.GA(num_generations=20,\n",
    "                   num_parents_mating=2,\n",
    "                   fitness_func=obtenerDesempeno,\n",
    "                   sol_per_pop=500,\n",
    "                   num_genes=9,\n",
    "                   parent_selection_type=\"sss\",\n",
    "                   keep_parents=1,\n",
    "                   crossover_type='uniform',\n",
    "                   mutation_type='random',\n",
    "                   mutation_percent_genes=15,\n",
    "                   gene_type=int,\n",
    "                   gene_space=np.append(ofertaUtil.index.values,[-1]))\n",
    "start_time = time.time()\n",
    "instancia1.run()\n",
    "tiempoejecucion = time.time() - start_time\n",
    "print('Proceso terminado en ' + str(tiempoejecucion))\n",
    "solution, solution_fitness, solution_idx = instancia1.best_solution()"
   ]
  },
  {
   "cell_type": "code",
   "execution_count": 103,
   "id": "861be468",
   "metadata": {},
   "outputs": [
    {
     "data": {
      "text/html": [
       "<div>\n",
       "<style scoped>\n",
       "    .dataframe tbody tr th:only-of-type {\n",
       "        vertical-align: middle;\n",
       "    }\n",
       "\n",
       "    .dataframe tbody tr th {\n",
       "        vertical-align: top;\n",
       "    }\n",
       "\n",
       "    .dataframe thead th {\n",
       "        text-align: right;\n",
       "    }\n",
       "</style>\n",
       "<table border=\"1\" class=\"dataframe\">\n",
       "  <thead>\n",
       "    <tr style=\"text-align: right;\">\n",
       "      <th></th>\n",
       "      <th>Clave</th>\n",
       "      <th>Nombre</th>\n",
       "      <th>Maestro</th>\n",
       "      <th>Lunes</th>\n",
       "      <th>Martes</th>\n",
       "      <th>Miercoles</th>\n",
       "      <th>Jueves</th>\n",
       "      <th>Viernes</th>\n",
       "      <th>Sabado</th>\n",
       "    </tr>\n",
       "  </thead>\n",
       "  <tbody>\n",
       "    <tr>\n",
       "      <th>42</th>\n",
       "      <td>ID0205</td>\n",
       "      <td>Geometría computacional</td>\n",
       "      <td>Naredo García / Enrique</td>\n",
       "      <td>-</td>\n",
       "      <td>20:00-21:00</td>\n",
       "      <td>-</td>\n",
       "      <td>-</td>\n",
       "      <td>18:00-20:00</td>\n",
       "      <td>-</td>\n",
       "    </tr>\n",
       "    <tr>\n",
       "      <th>75</th>\n",
       "      <td>ID0310</td>\n",
       "      <td>Minería de datos</td>\n",
       "      <td>Gómez García / Hector Fernando</td>\n",
       "      <td>-</td>\n",
       "      <td>-</td>\n",
       "      <td>16:00-18:00</td>\n",
       "      <td>-</td>\n",
       "      <td>16:00-18:00</td>\n",
       "      <td>-</td>\n",
       "    </tr>\n",
       "    <tr>\n",
       "      <th>81</th>\n",
       "      <td>IT0425</td>\n",
       "      <td>Introducción a la inteligencia artificial</td>\n",
       "      <td>Sansores Pérez / Candelaria Elizabeth</td>\n",
       "      <td>14:00-16:00</td>\n",
       "      <td>-</td>\n",
       "      <td>14:00-15:00</td>\n",
       "      <td>-</td>\n",
       "      <td>-</td>\n",
       "      <td>-</td>\n",
       "    </tr>\n",
       "    <tr>\n",
       "      <th>83</th>\n",
       "      <td>IT0317</td>\n",
       "      <td>Diseño de interfaces humano-máquina</td>\n",
       "      <td>Morales Saavedra / Emmanuel</td>\n",
       "      <td>-</td>\n",
       "      <td>-</td>\n",
       "      <td>15:00-16:00</td>\n",
       "      <td>-</td>\n",
       "      <td>14:00-16:00</td>\n",
       "      <td>-</td>\n",
       "    </tr>\n",
       "    <tr>\n",
       "      <th>94</th>\n",
       "      <td>ID0414</td>\n",
       "      <td>Seguridad de datos</td>\n",
       "      <td>Aguilar Pérez / Jairo Cesar</td>\n",
       "      <td>-</td>\n",
       "      <td>18:00-20:00</td>\n",
       "      <td>-</td>\n",
       "      <td>18:00-20:00</td>\n",
       "      <td>-</td>\n",
       "      <td>-</td>\n",
       "    </tr>\n",
       "    <tr>\n",
       "      <th>97</th>\n",
       "      <td>ID3423</td>\n",
       "      <td>Sistemas de apoyo para la toma de decisiones</td>\n",
       "      <td>Mendiola Fuentes / Jessica Carmin</td>\n",
       "      <td>-</td>\n",
       "      <td>16:00-18:00</td>\n",
       "      <td>-</td>\n",
       "      <td>17:00-18:00</td>\n",
       "      <td>-</td>\n",
       "      <td>-</td>\n",
       "    </tr>\n",
       "  </tbody>\n",
       "</table>\n",
       "</div>"
      ],
      "text/plain": [
       "     Clave                                        Nombre  \\\n",
       "42  ID0205                       Geometría computacional   \n",
       "75  ID0310                              Minería de datos   \n",
       "81  IT0425     Introducción a la inteligencia artificial   \n",
       "83  IT0317           Diseño de interfaces humano-máquina   \n",
       "94  ID0414                            Seguridad de datos   \n",
       "97  ID3423  Sistemas de apoyo para la toma de decisiones   \n",
       "\n",
       "                                  Maestro        Lunes       Martes  \\\n",
       "42                Naredo García / Enrique            -  20:00-21:00   \n",
       "75         Gómez García / Hector Fernando            -            -   \n",
       "81  Sansores Pérez / Candelaria Elizabeth  14:00-16:00            -   \n",
       "83            Morales Saavedra / Emmanuel            -            -   \n",
       "94            Aguilar Pérez / Jairo Cesar            -  18:00-20:00   \n",
       "97      Mendiola Fuentes / Jessica Carmin            -  16:00-18:00   \n",
       "\n",
       "      Miercoles       Jueves      Viernes Sabado  \n",
       "42            -            -  18:00-20:00      -  \n",
       "75  16:00-18:00            -  16:00-18:00      -  \n",
       "81  14:00-15:00            -            -      -  \n",
       "83  15:00-16:00            -  14:00-16:00      -  \n",
       "94            -  18:00-20:00            -      -  \n",
       "97            -  17:00-18:00            -      -  "
      ]
     },
     "execution_count": 103,
     "metadata": {},
     "output_type": "execute_result"
    }
   ],
   "source": [
    "obtenerDatosCarga(solution,ofertaUtil)"
   ]
  },
  {
   "cell_type": "code",
   "execution_count": 105,
   "id": "4e0f8ab6",
   "metadata": {},
   "outputs": [
    {
     "name": "stdout",
     "output_type": "stream",
     "text": [
      "La carga evaluada tiene:\n",
      "\t7.41% de utilidad por las materias de primeros ciclos llevadas.\n",
      "\t50.0% del total de las materias reprobadas del estudiante.\n",
      "\t6.45% de costo por sobreposición con las horas donde el estudiante no está disponible.\n",
      "\t0.0% de costo por el total de horas libres por día.\n"
     ]
    }
   ],
   "source": [
    "evaluarSolucion(solution)"
   ]
  },
  {
   "cell_type": "code",
   "execution_count": 106,
   "id": "06a66611",
   "metadata": {},
   "outputs": [
    {
     "data": {
      "text/html": [
       "<div>\n",
       "<style scoped>\n",
       "    .dataframe tbody tr th:only-of-type {\n",
       "        vertical-align: middle;\n",
       "    }\n",
       "\n",
       "    .dataframe tbody tr th {\n",
       "        vertical-align: top;\n",
       "    }\n",
       "\n",
       "    .dataframe thead th {\n",
       "        text-align: right;\n",
       "    }\n",
       "</style>\n",
       "<table border=\"1\" class=\"dataframe\">\n",
       "  <thead>\n",
       "    <tr style=\"text-align: right;\">\n",
       "      <th></th>\n",
       "      <th>Hora</th>\n",
       "      <th>Lunes</th>\n",
       "      <th>Martes</th>\n",
       "      <th>Miercoles</th>\n",
       "      <th>Jueves</th>\n",
       "      <th>Viernes</th>\n",
       "      <th>Sabado</th>\n",
       "    </tr>\n",
       "  </thead>\n",
       "  <tbody>\n",
       "    <tr>\n",
       "      <th>7</th>\n",
       "      <td>14:00-15:00</td>\n",
       "      <td>Introducción a la inteligencia artificial</td>\n",
       "      <td>-</td>\n",
       "      <td>Introducción a la inteligencia artificial</td>\n",
       "      <td>-</td>\n",
       "      <td>Diseño de interfaces humano-máquina</td>\n",
       "      <td>-</td>\n",
       "    </tr>\n",
       "    <tr>\n",
       "      <th>8</th>\n",
       "      <td>15:00-16:00</td>\n",
       "      <td>Introducción a la inteligencia artificial</td>\n",
       "      <td>-</td>\n",
       "      <td>Diseño de interfaces humano-máquina</td>\n",
       "      <td>-</td>\n",
       "      <td>Diseño de interfaces humano-máquina</td>\n",
       "      <td>-</td>\n",
       "    </tr>\n",
       "    <tr>\n",
       "      <th>9</th>\n",
       "      <td>16:00-17:00</td>\n",
       "      <td>-</td>\n",
       "      <td>Sistemas de apoyo para la toma de decisiones</td>\n",
       "      <td>Minería de datos</td>\n",
       "      <td>-</td>\n",
       "      <td>Minería de datos</td>\n",
       "      <td>-</td>\n",
       "    </tr>\n",
       "    <tr>\n",
       "      <th>10</th>\n",
       "      <td>17:00-18:00</td>\n",
       "      <td>-</td>\n",
       "      <td>Sistemas de apoyo para la toma de decisiones</td>\n",
       "      <td>Minería de datos</td>\n",
       "      <td>Sistemas de apoyo para la toma de decisiones</td>\n",
       "      <td>Minería de datos</td>\n",
       "      <td>-</td>\n",
       "    </tr>\n",
       "    <tr>\n",
       "      <th>11</th>\n",
       "      <td>18:00-19:00</td>\n",
       "      <td>-</td>\n",
       "      <td>Seguridad de datos</td>\n",
       "      <td>-</td>\n",
       "      <td>Seguridad de datos</td>\n",
       "      <td>Geometría computacional</td>\n",
       "      <td>-</td>\n",
       "    </tr>\n",
       "    <tr>\n",
       "      <th>12</th>\n",
       "      <td>19:00-20:00</td>\n",
       "      <td>-</td>\n",
       "      <td>Seguridad de datos</td>\n",
       "      <td>-</td>\n",
       "      <td>Seguridad de datos</td>\n",
       "      <td>Geometría computacional</td>\n",
       "      <td>-</td>\n",
       "    </tr>\n",
       "    <tr>\n",
       "      <th>13</th>\n",
       "      <td>20:00-21:00</td>\n",
       "      <td>-</td>\n",
       "      <td>Geometría computacional</td>\n",
       "      <td>-</td>\n",
       "      <td>-</td>\n",
       "      <td>-</td>\n",
       "      <td>-</td>\n",
       "    </tr>\n",
       "    <tr>\n",
       "      <th>14</th>\n",
       "      <td>21:00-22:00</td>\n",
       "      <td>-</td>\n",
       "      <td>-</td>\n",
       "      <td>-</td>\n",
       "      <td>-</td>\n",
       "      <td>-</td>\n",
       "      <td>-</td>\n",
       "    </tr>\n",
       "  </tbody>\n",
       "</table>\n",
       "</div>"
      ],
      "text/plain": [
       "           Hora                                      Lunes  \\\n",
       "7   14:00-15:00  Introducción a la inteligencia artificial   \n",
       "8   15:00-16:00  Introducción a la inteligencia artificial   \n",
       "9   16:00-17:00                                          -   \n",
       "10  17:00-18:00                                          -   \n",
       "11  18:00-19:00                                          -   \n",
       "12  19:00-20:00                                          -   \n",
       "13  20:00-21:00                                          -   \n",
       "14  21:00-22:00                                          -   \n",
       "\n",
       "                                          Martes  \\\n",
       "7                                              -   \n",
       "8                                              -   \n",
       "9   Sistemas de apoyo para la toma de decisiones   \n",
       "10  Sistemas de apoyo para la toma de decisiones   \n",
       "11                            Seguridad de datos   \n",
       "12                            Seguridad de datos   \n",
       "13                       Geometría computacional   \n",
       "14                                             -   \n",
       "\n",
       "                                    Miercoles  \\\n",
       "7   Introducción a la inteligencia artificial   \n",
       "8         Diseño de interfaces humano-máquina   \n",
       "9                            Minería de datos   \n",
       "10                           Minería de datos   \n",
       "11                                          -   \n",
       "12                                          -   \n",
       "13                                          -   \n",
       "14                                          -   \n",
       "\n",
       "                                          Jueves  \\\n",
       "7                                              -   \n",
       "8                                              -   \n",
       "9                                              -   \n",
       "10  Sistemas de apoyo para la toma de decisiones   \n",
       "11                            Seguridad de datos   \n",
       "12                            Seguridad de datos   \n",
       "13                                             -   \n",
       "14                                             -   \n",
       "\n",
       "                                Viernes Sabado  \n",
       "7   Diseño de interfaces humano-máquina      -  \n",
       "8   Diseño de interfaces humano-máquina      -  \n",
       "9                      Minería de datos      -  \n",
       "10                     Minería de datos      -  \n",
       "11              Geometría computacional      -  \n",
       "12              Geometría computacional      -  \n",
       "13                                    -      -  \n",
       "14                                    -      -  "
      ]
     },
     "execution_count": 106,
     "metadata": {},
     "output_type": "execute_result"
    }
   ],
   "source": [
    "obtenerHorario(solution,ofertaUtil)"
   ]
  },
  {
   "cell_type": "code",
   "execution_count": null,
   "id": "b8cda775",
   "metadata": {},
   "outputs": [],
   "source": []
  }
 ],
 "metadata": {
  "kernelspec": {
   "display_name": "Python 3 (ipykernel)",
   "language": "python",
   "name": "python3"
  },
  "language_info": {
   "codemirror_mode": {
    "name": "ipython",
    "version": 3
   },
   "file_extension": ".py",
   "mimetype": "text/x-python",
   "name": "python",
   "nbconvert_exporter": "python",
   "pygments_lexer": "ipython3",
   "version": "3.9.12"
  }
 },
 "nbformat": 4,
 "nbformat_minor": 5
}
